{
 "cells": [
  {
   "cell_type": "markdown",
   "metadata": {},
   "source": [
    "# Оптимизация доходности: A/B-Анализ Гипотез для Интернет-Магазина"
   ]
  },
  {
   "cell_type": "markdown",
   "metadata": {},
   "source": [
    "В сотрудничестве с отделом маркетинга, наша команда разработала ряд перспективных гипотез, нацеленных на максимизацию выручки. Теперь наша задача - взять управление в свои руки, приоритизировать эти гипотезы, провести A/B-тестирование, и, наконец, проанализировать полученные результаты."
   ]
  },
  {
   "cell_type": "markdown",
   "metadata": {},
   "source": [
    "План работы:\n",
    "1. Предобработка данных\n",
    "2. Приоритизация гипотез\n",
    "3. Анализ A/B-теста\n",
    "4. Решение по результатам теста\n",
    "\n",
    "Оценка метрик А/В теста:\n",
    "1. Кумулятивная выручка по группам\n",
    "2. Кумулятивный средний чек по группам\n",
    "3. Относительное изменение кумулятивного среднего чека группы B к группе A\n",
    "4. Кумулятивное среднее количество заказов на посетителя по группам\n",
    "5. Относительное изменение кумулятивного среднего количества заказов на посетителя группы B к группе A\n",
    "6. Подсчет статистической значимости различий в среднем количестве заказов на посетителя между группами по «сырым» данным.\n",
    "7. Подсчет статистической значимости различий в среднем чеке заказа между группами по «сырым» данным.\n",
    "8. Подсчет статистической значимости различий в среднем количестве заказов на посетителя между группами по «очищенным» данным.\n",
    "9. Подсчет статистической значимости различий в среднем чеке заказа между группами по «очищенным» данным. "
   ]
  },
  {
   "cell_type": "markdown",
   "metadata": {},
   "source": [
    "Описание данных:\n",
    "1. Файл /datasets/hypothesis.csv\n",
    "    - Hypothesis — краткое описание гипотезы;\n",
    "    - Reach — охват пользователей по 10-балльной шкале;\n",
    "    - Impact — влияние на пользователей по 10-балльной шкале;\n",
    "    - Confidence — уверенность в гипотезе по 10-балльной шкале;\n",
    "    - Efforts — затраты ресурсов на проверку гипотезы по 10-балльной шкале. Чем больше значение Efforts, тем дороже проверка гипотезы.\n",
    "Данные для второй части\n",
    "2. Файл /datasets/orders.csv\n",
    "    - transactionId — идентификатор заказа;\n",
    "    - visitorId — идентификатор пользователя, совершившего заказ;\n",
    "    - date — дата, когда был совершён заказ;\n",
    "    - revenue — выручка заказа;\n",
    "    - group — группа A/B-теста, в которую попал заказ.\n",
    "3. Файл /datasets/visitors.csv\n",
    "    - date — дата;\n",
    "    - group — группа A/B-теста;\n",
    "    - visitors — количество пользователей в указанную дату в указанной группе A/B-теста"
   ]
  },
  {
   "cell_type": "code",
   "execution_count": 1,
   "metadata": {},
   "outputs": [],
   "source": [
    "import pandas as pd\n",
    "import matplotlib.pyplot as plt\n",
    "import numpy as np\n",
    "import scipy.stats as stats\n",
    "import datetime as dt"
   ]
  },
  {
   "cell_type": "markdown",
   "metadata": {},
   "source": [
    "## Приоритизация гипотез"
   ]
  },
  {
   "cell_type": "code",
   "execution_count": 2,
   "metadata": {},
   "outputs": [],
   "source": [
    "# Сохраним файл с гипотезами в переменную\n",
    "hypothesis = pd.read_csv('/datasets/hypothesis.csv')"
   ]
  },
  {
   "cell_type": "code",
   "execution_count": 3,
   "metadata": {},
   "outputs": [],
   "source": [
    "pd.options.display.max_colwidth = 100"
   ]
  },
  {
   "cell_type": "code",
   "execution_count": 4,
   "metadata": {
    "scrolled": true
   },
   "outputs": [
    {
     "data": {
      "text/html": [
       "<div>\n",
       "<style scoped>\n",
       "    .dataframe tbody tr th:only-of-type {\n",
       "        vertical-align: middle;\n",
       "    }\n",
       "\n",
       "    .dataframe tbody tr th {\n",
       "        vertical-align: top;\n",
       "    }\n",
       "\n",
       "    .dataframe thead th {\n",
       "        text-align: right;\n",
       "    }\n",
       "</style>\n",
       "<table border=\"1\" class=\"dataframe\">\n",
       "  <thead>\n",
       "    <tr style=\"text-align: right;\">\n",
       "      <th></th>\n",
       "      <th>Hypothesis</th>\n",
       "      <th>Reach</th>\n",
       "      <th>Impact</th>\n",
       "      <th>Confidence</th>\n",
       "      <th>Efforts</th>\n",
       "    </tr>\n",
       "  </thead>\n",
       "  <tbody>\n",
       "    <tr>\n",
       "      <th>0</th>\n",
       "      <td>Добавить два новых канала привлечения трафика, что позволит привлекать на 30% больше пользователей</td>\n",
       "      <td>3</td>\n",
       "      <td>10</td>\n",
       "      <td>8</td>\n",
       "      <td>6</td>\n",
       "    </tr>\n",
       "    <tr>\n",
       "      <th>1</th>\n",
       "      <td>Запустить собственную службу доставки, что сократит срок доставки заказов</td>\n",
       "      <td>2</td>\n",
       "      <td>5</td>\n",
       "      <td>4</td>\n",
       "      <td>10</td>\n",
       "    </tr>\n",
       "    <tr>\n",
       "      <th>2</th>\n",
       "      <td>Добавить блоки рекомендаций товаров на сайт интернет магазина, чтобы повысить конверсию и средни...</td>\n",
       "      <td>8</td>\n",
       "      <td>3</td>\n",
       "      <td>7</td>\n",
       "      <td>3</td>\n",
       "    </tr>\n",
       "    <tr>\n",
       "      <th>3</th>\n",
       "      <td>Изменить структура категорий, что увеличит конверсию, т.к. пользователи быстрее найдут нужный товар</td>\n",
       "      <td>8</td>\n",
       "      <td>3</td>\n",
       "      <td>3</td>\n",
       "      <td>8</td>\n",
       "    </tr>\n",
       "    <tr>\n",
       "      <th>4</th>\n",
       "      <td>Изменить цвет фона главной страницы, чтобы увеличить вовлеченность пользователей</td>\n",
       "      <td>3</td>\n",
       "      <td>1</td>\n",
       "      <td>1</td>\n",
       "      <td>1</td>\n",
       "    </tr>\n",
       "    <tr>\n",
       "      <th>5</th>\n",
       "      <td>Добавить страницу отзывов клиентов о магазине, что позволит увеличить количество заказов</td>\n",
       "      <td>3</td>\n",
       "      <td>2</td>\n",
       "      <td>2</td>\n",
       "      <td>3</td>\n",
       "    </tr>\n",
       "    <tr>\n",
       "      <th>6</th>\n",
       "      <td>Показать на главной странице баннеры с актуальными акциями и распродажами, чтобы увеличить конве...</td>\n",
       "      <td>5</td>\n",
       "      <td>3</td>\n",
       "      <td>8</td>\n",
       "      <td>3</td>\n",
       "    </tr>\n",
       "    <tr>\n",
       "      <th>7</th>\n",
       "      <td>Добавить форму подписки на все основные страницы, чтобы собрать базу клиентов для email-рассылок</td>\n",
       "      <td>10</td>\n",
       "      <td>7</td>\n",
       "      <td>8</td>\n",
       "      <td>5</td>\n",
       "    </tr>\n",
       "    <tr>\n",
       "      <th>8</th>\n",
       "      <td>Запустить акцию, дающую скидку на товар в день рождения</td>\n",
       "      <td>1</td>\n",
       "      <td>9</td>\n",
       "      <td>9</td>\n",
       "      <td>5</td>\n",
       "    </tr>\n",
       "  </tbody>\n",
       "</table>\n",
       "</div>"
      ],
      "text/plain": [
       "                                                                                            Hypothesis  \\\n",
       "0   Добавить два новых канала привлечения трафика, что позволит привлекать на 30% больше пользователей   \n",
       "1                            Запустить собственную службу доставки, что сократит срок доставки заказов   \n",
       "2  Добавить блоки рекомендаций товаров на сайт интернет магазина, чтобы повысить конверсию и средни...   \n",
       "3  Изменить структура категорий, что увеличит конверсию, т.к. пользователи быстрее найдут нужный товар   \n",
       "4                     Изменить цвет фона главной страницы, чтобы увеличить вовлеченность пользователей   \n",
       "5             Добавить страницу отзывов клиентов о магазине, что позволит увеличить количество заказов   \n",
       "6  Показать на главной странице баннеры с актуальными акциями и распродажами, чтобы увеличить конве...   \n",
       "7     Добавить форму подписки на все основные страницы, чтобы собрать базу клиентов для email-рассылок   \n",
       "8                                              Запустить акцию, дающую скидку на товар в день рождения   \n",
       "\n",
       "   Reach  Impact  Confidence  Efforts  \n",
       "0      3      10           8        6  \n",
       "1      2       5           4       10  \n",
       "2      8       3           7        3  \n",
       "3      8       3           3        8  \n",
       "4      3       1           1        1  \n",
       "5      3       2           2        3  \n",
       "6      5       3           8        3  \n",
       "7     10       7           8        5  \n",
       "8      1       9           9        5  "
      ]
     },
     "execution_count": 4,
     "metadata": {},
     "output_type": "execute_result"
    }
   ],
   "source": [
    "hypothesis"
   ]
  },
  {
   "cell_type": "code",
   "execution_count": 5,
   "metadata": {},
   "outputs": [],
   "source": [
    "# Приведем названия столбцов к нижнему регистру\n",
    "hypothesis.columns = hypothesis.columns.str.lower()"
   ]
  },
  {
   "cell_type": "code",
   "execution_count": 6,
   "metadata": {},
   "outputs": [
    {
     "data": {
      "text/plain": [
       "0"
      ]
     },
     "execution_count": 6,
     "metadata": {},
     "output_type": "execute_result"
    }
   ],
   "source": [
    "# Проверим, есть ли дупликаты\n",
    "hypothesis.duplicated().sum()"
   ]
  },
  {
   "cell_type": "code",
   "execution_count": 7,
   "metadata": {},
   "outputs": [
    {
     "data": {
      "text/html": [
       "<div>\n",
       "<style scoped>\n",
       "    .dataframe tbody tr th:only-of-type {\n",
       "        vertical-align: middle;\n",
       "    }\n",
       "\n",
       "    .dataframe tbody tr th {\n",
       "        vertical-align: top;\n",
       "    }\n",
       "\n",
       "    .dataframe thead th {\n",
       "        text-align: right;\n",
       "    }\n",
       "</style>\n",
       "<table border=\"1\" class=\"dataframe\">\n",
       "  <thead>\n",
       "    <tr style=\"text-align: right;\">\n",
       "      <th></th>\n",
       "      <th>hypothesis</th>\n",
       "      <th>ICE</th>\n",
       "    </tr>\n",
       "  </thead>\n",
       "  <tbody>\n",
       "    <tr>\n",
       "      <th>8</th>\n",
       "      <td>Запустить акцию, дающую скидку на товар в день рождения</td>\n",
       "      <td>16.20</td>\n",
       "    </tr>\n",
       "    <tr>\n",
       "      <th>0</th>\n",
       "      <td>Добавить два новых канала привлечения трафика, что позволит привлекать на 30% больше пользователей</td>\n",
       "      <td>13.33</td>\n",
       "    </tr>\n",
       "    <tr>\n",
       "      <th>7</th>\n",
       "      <td>Добавить форму подписки на все основные страницы, чтобы собрать базу клиентов для email-рассылок</td>\n",
       "      <td>11.20</td>\n",
       "    </tr>\n",
       "    <tr>\n",
       "      <th>6</th>\n",
       "      <td>Показать на главной странице баннеры с актуальными акциями и распродажами, чтобы увеличить конве...</td>\n",
       "      <td>8.00</td>\n",
       "    </tr>\n",
       "    <tr>\n",
       "      <th>2</th>\n",
       "      <td>Добавить блоки рекомендаций товаров на сайт интернет магазина, чтобы повысить конверсию и средни...</td>\n",
       "      <td>7.00</td>\n",
       "    </tr>\n",
       "    <tr>\n",
       "      <th>1</th>\n",
       "      <td>Запустить собственную службу доставки, что сократит срок доставки заказов</td>\n",
       "      <td>2.00</td>\n",
       "    </tr>\n",
       "    <tr>\n",
       "      <th>5</th>\n",
       "      <td>Добавить страницу отзывов клиентов о магазине, что позволит увеличить количество заказов</td>\n",
       "      <td>1.33</td>\n",
       "    </tr>\n",
       "    <tr>\n",
       "      <th>3</th>\n",
       "      <td>Изменить структура категорий, что увеличит конверсию, т.к. пользователи быстрее найдут нужный товар</td>\n",
       "      <td>1.12</td>\n",
       "    </tr>\n",
       "    <tr>\n",
       "      <th>4</th>\n",
       "      <td>Изменить цвет фона главной страницы, чтобы увеличить вовлеченность пользователей</td>\n",
       "      <td>1.00</td>\n",
       "    </tr>\n",
       "  </tbody>\n",
       "</table>\n",
       "</div>"
      ],
      "text/plain": [
       "                                                                                            hypothesis  \\\n",
       "8                                              Запустить акцию, дающую скидку на товар в день рождения   \n",
       "0   Добавить два новых канала привлечения трафика, что позволит привлекать на 30% больше пользователей   \n",
       "7     Добавить форму подписки на все основные страницы, чтобы собрать базу клиентов для email-рассылок   \n",
       "6  Показать на главной странице баннеры с актуальными акциями и распродажами, чтобы увеличить конве...   \n",
       "2  Добавить блоки рекомендаций товаров на сайт интернет магазина, чтобы повысить конверсию и средни...   \n",
       "1                            Запустить собственную службу доставки, что сократит срок доставки заказов   \n",
       "5             Добавить страницу отзывов клиентов о магазине, что позволит увеличить количество заказов   \n",
       "3  Изменить структура категорий, что увеличит конверсию, т.к. пользователи быстрее найдут нужный товар   \n",
       "4                     Изменить цвет фона главной страницы, чтобы увеличить вовлеченность пользователей   \n",
       "\n",
       "     ICE  \n",
       "8  16.20  \n",
       "0  13.33  \n",
       "7  11.20  \n",
       "6   8.00  \n",
       "2   7.00  \n",
       "1   2.00  \n",
       "5   1.33  \n",
       "3   1.12  \n",
       "4   1.00  "
      ]
     },
     "execution_count": 7,
     "metadata": {},
     "output_type": "execute_result"
    }
   ],
   "source": [
    "# Добавим столбец ICE для приоритизации гипотез и отсортируем их по убыванию приоритета.\n",
    "hypothesis['ICE'] = (hypothesis['impact'] * hypothesis['confidence'] / hypothesis['efforts']).round(2)\n",
    "\n",
    "hypothesis[['hypothesis', 'ICE']].sort_values('ICE', ascending=False)"
   ]
  },
  {
   "cell_type": "code",
   "execution_count": 8,
   "metadata": {},
   "outputs": [
    {
     "data": {
      "text/html": [
       "<div>\n",
       "<style scoped>\n",
       "    .dataframe tbody tr th:only-of-type {\n",
       "        vertical-align: middle;\n",
       "    }\n",
       "\n",
       "    .dataframe tbody tr th {\n",
       "        vertical-align: top;\n",
       "    }\n",
       "\n",
       "    .dataframe thead th {\n",
       "        text-align: right;\n",
       "    }\n",
       "</style>\n",
       "<table border=\"1\" class=\"dataframe\">\n",
       "  <thead>\n",
       "    <tr style=\"text-align: right;\">\n",
       "      <th></th>\n",
       "      <th>hypothesis</th>\n",
       "      <th>RICE</th>\n",
       "    </tr>\n",
       "  </thead>\n",
       "  <tbody>\n",
       "    <tr>\n",
       "      <th>7</th>\n",
       "      <td>Добавить форму подписки на все основные страницы, чтобы собрать базу клиентов для email-рассылок</td>\n",
       "      <td>112.0</td>\n",
       "    </tr>\n",
       "    <tr>\n",
       "      <th>2</th>\n",
       "      <td>Добавить блоки рекомендаций товаров на сайт интернет магазина, чтобы повысить конверсию и средни...</td>\n",
       "      <td>56.0</td>\n",
       "    </tr>\n",
       "    <tr>\n",
       "      <th>0</th>\n",
       "      <td>Добавить два новых канала привлечения трафика, что позволит привлекать на 30% больше пользователей</td>\n",
       "      <td>40.0</td>\n",
       "    </tr>\n",
       "    <tr>\n",
       "      <th>6</th>\n",
       "      <td>Показать на главной странице баннеры с актуальными акциями и распродажами, чтобы увеличить конве...</td>\n",
       "      <td>40.0</td>\n",
       "    </tr>\n",
       "    <tr>\n",
       "      <th>8</th>\n",
       "      <td>Запустить акцию, дающую скидку на товар в день рождения</td>\n",
       "      <td>16.2</td>\n",
       "    </tr>\n",
       "    <tr>\n",
       "      <th>3</th>\n",
       "      <td>Изменить структура категорий, что увеличит конверсию, т.к. пользователи быстрее найдут нужный товар</td>\n",
       "      <td>9.0</td>\n",
       "    </tr>\n",
       "    <tr>\n",
       "      <th>1</th>\n",
       "      <td>Запустить собственную службу доставки, что сократит срок доставки заказов</td>\n",
       "      <td>4.0</td>\n",
       "    </tr>\n",
       "    <tr>\n",
       "      <th>5</th>\n",
       "      <td>Добавить страницу отзывов клиентов о магазине, что позволит увеличить количество заказов</td>\n",
       "      <td>4.0</td>\n",
       "    </tr>\n",
       "    <tr>\n",
       "      <th>4</th>\n",
       "      <td>Изменить цвет фона главной страницы, чтобы увеличить вовлеченность пользователей</td>\n",
       "      <td>3.0</td>\n",
       "    </tr>\n",
       "  </tbody>\n",
       "</table>\n",
       "</div>"
      ],
      "text/plain": [
       "                                                                                            hypothesis  \\\n",
       "7     Добавить форму подписки на все основные страницы, чтобы собрать базу клиентов для email-рассылок   \n",
       "2  Добавить блоки рекомендаций товаров на сайт интернет магазина, чтобы повысить конверсию и средни...   \n",
       "0   Добавить два новых канала привлечения трафика, что позволит привлекать на 30% больше пользователей   \n",
       "6  Показать на главной странице баннеры с актуальными акциями и распродажами, чтобы увеличить конве...   \n",
       "8                                              Запустить акцию, дающую скидку на товар в день рождения   \n",
       "3  Изменить структура категорий, что увеличит конверсию, т.к. пользователи быстрее найдут нужный товар   \n",
       "1                            Запустить собственную службу доставки, что сократит срок доставки заказов   \n",
       "5             Добавить страницу отзывов клиентов о магазине, что позволит увеличить количество заказов   \n",
       "4                     Изменить цвет фона главной страницы, чтобы увеличить вовлеченность пользователей   \n",
       "\n",
       "    RICE  \n",
       "7  112.0  \n",
       "2   56.0  \n",
       "0   40.0  \n",
       "6   40.0  \n",
       "8   16.2  \n",
       "3    9.0  \n",
       "1    4.0  \n",
       "5    4.0  \n",
       "4    3.0  "
      ]
     },
     "execution_count": 8,
     "metadata": {},
     "output_type": "execute_result"
    }
   ],
   "source": [
    "# Добавим столбец RICE для приоритизации гипотез и отсортируем их по убыванию приоритета.\n",
    "hypothesis['RICE'] = hypothesis['reach'] * hypothesis['impact'] * hypothesis['confidence'] / hypothesis['efforts']\n",
    "\n",
    "hypothesis[['hypothesis', 'RICE']].sort_values('RICE', ascending=False)"
   ]
  },
  {
   "cell_type": "markdown",
   "metadata": {},
   "source": [
    "### Вывод по приоритизации гипотез\n",
    "- Показатель ICE наибольший у гипотез:\n",
    "    1. \"Запустить акцию, дающую скидку на товар в день рождения\"(16.2)\n",
    "    2. \"Добавить два новых канала привлечения трафика, что позволит привлекать на 30% больше пользователей\"(13.3)\n",
    "    3. \"Добавить форму подписки на все основные страницы, чтобы собрать базу клиентов для email-рассылок\"(11.2)\n",
    "    4. \"Показать на главной странице баннеры с актуальными акциями и распродажами, чтобы увеличить конверсию\"(8.0) \n",
    "- Показатель RICE наибольший у гипотез:\n",
    "    1. \"Добавить два новых канала привлечения трафика, что позволит привлекать на 30% больше пользователей\"(112.0)\n",
    "    2. \"Добавить блоки рекомендаций товаров на сайт интернет магазина, чтобы повысить конверсию и средний чек\"(56.0)\n",
    "    3. \"Добавить два новых канала привлечения трафика, что позволит привлекать на 30% больше пользователей\t\"(40.0)\n",
    "    4. \"Показать на главной странице баннеры с актуальными акциями и распродажами, чтобы увеличить конверсию\"(40.0)\n",
    "- Различия связаны с показателем reach(скольких пользователей затронет изменение). У 7 гипотезы (\"Добавить форму подписки на все основные страницы, чтобы собрать базу клиентов для email-рассылок\") данный показатель равен 10, в то время как у 8(\"Запустить акцию, дающую скидку на товар в день рождения\") - 1, а у 0(\"Добавить два новых канала привлечения трафика, что позволит привлекать на 30% больше пользователей\") - 3."
   ]
  },
  {
   "cell_type": "markdown",
   "metadata": {},
   "source": [
    "## Анализ A/B-теста"
   ]
  },
  {
   "cell_type": "code",
   "execution_count": 9,
   "metadata": {},
   "outputs": [],
   "source": [
    "# Сохраним данные о пользователях и заказах в файлы visitors и orders, сразу перевем дату в тип datetime64\n",
    "orders = pd.read_csv('/datasets/orders.csv', parse_dates=['date'])\n",
    "visitors = pd.read_csv('/datasets/visitors.csv', parse_dates=['date'])"
   ]
  },
  {
   "cell_type": "markdown",
   "metadata": {},
   "source": [
    "### Анализ датасета orders"
   ]
  },
  {
   "cell_type": "code",
   "execution_count": 10,
   "metadata": {
    "scrolled": true
   },
   "outputs": [
    {
     "name": "stdout",
     "output_type": "stream",
     "text": [
      "<class 'pandas.core.frame.DataFrame'>\n",
      "RangeIndex: 1197 entries, 0 to 1196\n",
      "Data columns (total 5 columns):\n",
      " #   Column         Non-Null Count  Dtype         \n",
      "---  ------         --------------  -----         \n",
      " 0   transactionId  1197 non-null   int64         \n",
      " 1   visitorId      1197 non-null   int64         \n",
      " 2   date           1197 non-null   datetime64[ns]\n",
      " 3   revenue        1197 non-null   int64         \n",
      " 4   group          1197 non-null   object        \n",
      "dtypes: datetime64[ns](1), int64(3), object(1)\n",
      "memory usage: 46.9+ KB\n"
     ]
    }
   ],
   "source": [
    "# Посмотрим информацию о датасете\n",
    "orders.info()"
   ]
  },
  {
   "cell_type": "code",
   "execution_count": 11,
   "metadata": {
    "scrolled": true
   },
   "outputs": [
    {
     "data": {
      "text/html": [
       "<div>\n",
       "<style scoped>\n",
       "    .dataframe tbody tr th:only-of-type {\n",
       "        vertical-align: middle;\n",
       "    }\n",
       "\n",
       "    .dataframe tbody tr th {\n",
       "        vertical-align: top;\n",
       "    }\n",
       "\n",
       "    .dataframe thead th {\n",
       "        text-align: right;\n",
       "    }\n",
       "</style>\n",
       "<table border=\"1\" class=\"dataframe\">\n",
       "  <thead>\n",
       "    <tr style=\"text-align: right;\">\n",
       "      <th></th>\n",
       "      <th>transactionId</th>\n",
       "      <th>visitorId</th>\n",
       "      <th>date</th>\n",
       "      <th>revenue</th>\n",
       "      <th>group</th>\n",
       "    </tr>\n",
       "  </thead>\n",
       "  <tbody>\n",
       "    <tr>\n",
       "      <th>0</th>\n",
       "      <td>3667963787</td>\n",
       "      <td>3312258926</td>\n",
       "      <td>2019-08-15</td>\n",
       "      <td>1650</td>\n",
       "      <td>B</td>\n",
       "    </tr>\n",
       "    <tr>\n",
       "      <th>1</th>\n",
       "      <td>2804400009</td>\n",
       "      <td>3642806036</td>\n",
       "      <td>2019-08-15</td>\n",
       "      <td>730</td>\n",
       "      <td>B</td>\n",
       "    </tr>\n",
       "    <tr>\n",
       "      <th>2</th>\n",
       "      <td>2961555356</td>\n",
       "      <td>4069496402</td>\n",
       "      <td>2019-08-15</td>\n",
       "      <td>400</td>\n",
       "      <td>A</td>\n",
       "    </tr>\n",
       "    <tr>\n",
       "      <th>3</th>\n",
       "      <td>3797467345</td>\n",
       "      <td>1196621759</td>\n",
       "      <td>2019-08-15</td>\n",
       "      <td>9759</td>\n",
       "      <td>B</td>\n",
       "    </tr>\n",
       "    <tr>\n",
       "      <th>4</th>\n",
       "      <td>2282983706</td>\n",
       "      <td>2322279887</td>\n",
       "      <td>2019-08-15</td>\n",
       "      <td>2308</td>\n",
       "      <td>B</td>\n",
       "    </tr>\n",
       "  </tbody>\n",
       "</table>\n",
       "</div>"
      ],
      "text/plain": [
       "   transactionId   visitorId       date  revenue group\n",
       "0     3667963787  3312258926 2019-08-15     1650     B\n",
       "1     2804400009  3642806036 2019-08-15      730     B\n",
       "2     2961555356  4069496402 2019-08-15      400     A\n",
       "3     3797467345  1196621759 2019-08-15     9759     B\n",
       "4     2282983706  2322279887 2019-08-15     2308     B"
      ]
     },
     "execution_count": 11,
     "metadata": {},
     "output_type": "execute_result"
    }
   ],
   "source": [
    "orders.head(5)"
   ]
  },
  {
   "cell_type": "code",
   "execution_count": 12,
   "metadata": {},
   "outputs": [
    {
     "data": {
      "text/plain": [
       "transactionId    0\n",
       "visitorId        0\n",
       "date             0\n",
       "revenue          0\n",
       "group            0\n",
       "dtype: int64"
      ]
     },
     "execution_count": 12,
     "metadata": {},
     "output_type": "execute_result"
    }
   ],
   "source": [
    "# Проверим на пропуски\n",
    "orders.isna().sum()"
   ]
  },
  {
   "cell_type": "code",
   "execution_count": 13,
   "metadata": {},
   "outputs": [
    {
     "data": {
      "text/plain": [
       "0"
      ]
     },
     "execution_count": 13,
     "metadata": {},
     "output_type": "execute_result"
    }
   ],
   "source": [
    "# Проверим на дубликаты\n",
    "orders.duplicated().sum()"
   ]
  },
  {
   "cell_type": "code",
   "execution_count": 14,
   "metadata": {},
   "outputs": [
    {
     "data": {
      "text/plain": [
       "Index(['transactionId', 'visitorId', 'date', 'revenue', 'group'], dtype='object')"
      ]
     },
     "execution_count": 14,
     "metadata": {},
     "output_type": "execute_result"
    }
   ],
   "source": [
    "# Проверим правильность написания столбцов\n",
    "orders.columns"
   ]
  },
  {
   "cell_type": "code",
   "execution_count": 15,
   "metadata": {},
   "outputs": [
    {
     "data": {
      "text/plain": [
       "array(['B', 'A'], dtype=object)"
      ]
     },
     "execution_count": 15,
     "metadata": {},
     "output_type": "execute_result"
    }
   ],
   "source": [
    "# Убедимся, что существует только 2 группы\n",
    "orders['group'].unique()"
   ]
  },
  {
   "cell_type": "code",
   "execution_count": 16,
   "metadata": {},
   "outputs": [
    {
     "name": "stdout",
     "output_type": "stream",
     "text": [
      "Тест проводился с 2019-08-01 00:00:00 по 2019-08-31 00:00:00\n"
     ]
    }
   ],
   "source": [
    "print(f'Тест проводился с {orders[\"date\"].min()} по {orders[\"date\"].max()}')"
   ]
  },
  {
   "cell_type": "code",
   "execution_count": 17,
   "metadata": {},
   "outputs": [
    {
     "data": {
      "text/plain": [
       "58"
      ]
     },
     "execution_count": 17,
     "metadata": {},
     "output_type": "execute_result"
    }
   ],
   "source": [
    "# Посмотрим, сколько пользователей попало в обе группы\n",
    "users_in_group_A = set(orders[orders['group'] == 'A']['visitorId'])\n",
    "users_in_group_B = set(orders[orders['group'] == 'B']['visitorId'])\n",
    "\n",
    "users_in_both_groups = users_in_group_A.intersection(users_in_group_B)\n",
    "\n",
    "# Теперь у вас есть множество пользователей, попавших в обе группы\n",
    "num_users_in_both_groups = len(users_in_both_groups)\n",
    "num_users_in_both_groups"
   ]
  },
  {
   "cell_type": "code",
   "execution_count": 18,
   "metadata": {},
   "outputs": [
    {
     "name": "stdout",
     "output_type": "stream",
     "text": [
      "Вероятность попадания пользователей в обе группы: 5.63%\n"
     ]
    }
   ],
   "source": [
    "total_users_in_both_groups = len(set(orders['visitorId']))\n",
    "probability_of_intersection = num_users_in_both_groups / total_users_in_both_groups\n",
    "print(f'Вероятность попадания пользователей в обе группы: {probability_of_intersection:.2%}')"
   ]
  },
  {
   "cell_type": "markdown",
   "metadata": {},
   "source": [
    "**Вывод:**\n",
    "- Тип данных в столбце date изменет с object на datetime64\n",
    "- Пропуски не обнаружены\n",
    "- Дубликаты не обнаружены\n",
    "- 2 группы теста: A и B\n",
    "- Тест проводился с 2019-08-01 по 2019-08-31\n",
    "- 58 пользователей попало в обе группы\n",
    "- Вероятность попадания пользователей в обе группы: 5.63%"
   ]
  },
  {
   "cell_type": "markdown",
   "metadata": {},
   "source": [
    "### Анализ датасета visitors"
   ]
  },
  {
   "cell_type": "code",
   "execution_count": 19,
   "metadata": {},
   "outputs": [
    {
     "name": "stdout",
     "output_type": "stream",
     "text": [
      "<class 'pandas.core.frame.DataFrame'>\n",
      "RangeIndex: 62 entries, 0 to 61\n",
      "Data columns (total 3 columns):\n",
      " #   Column    Non-Null Count  Dtype         \n",
      "---  ------    --------------  -----         \n",
      " 0   date      62 non-null     datetime64[ns]\n",
      " 1   group     62 non-null     object        \n",
      " 2   visitors  62 non-null     int64         \n",
      "dtypes: datetime64[ns](1), int64(1), object(1)\n",
      "memory usage: 1.6+ KB\n"
     ]
    }
   ],
   "source": [
    "# Посмотрим информацию о датасете\n",
    "visitors.info()"
   ]
  },
  {
   "cell_type": "code",
   "execution_count": 20,
   "metadata": {},
   "outputs": [
    {
     "data": {
      "text/html": [
       "<div>\n",
       "<style scoped>\n",
       "    .dataframe tbody tr th:only-of-type {\n",
       "        vertical-align: middle;\n",
       "    }\n",
       "\n",
       "    .dataframe tbody tr th {\n",
       "        vertical-align: top;\n",
       "    }\n",
       "\n",
       "    .dataframe thead th {\n",
       "        text-align: right;\n",
       "    }\n",
       "</style>\n",
       "<table border=\"1\" class=\"dataframe\">\n",
       "  <thead>\n",
       "    <tr style=\"text-align: right;\">\n",
       "      <th></th>\n",
       "      <th>date</th>\n",
       "      <th>group</th>\n",
       "      <th>visitors</th>\n",
       "    </tr>\n",
       "  </thead>\n",
       "  <tbody>\n",
       "    <tr>\n",
       "      <th>0</th>\n",
       "      <td>2019-08-01</td>\n",
       "      <td>A</td>\n",
       "      <td>719</td>\n",
       "    </tr>\n",
       "    <tr>\n",
       "      <th>1</th>\n",
       "      <td>2019-08-02</td>\n",
       "      <td>A</td>\n",
       "      <td>619</td>\n",
       "    </tr>\n",
       "    <tr>\n",
       "      <th>2</th>\n",
       "      <td>2019-08-03</td>\n",
       "      <td>A</td>\n",
       "      <td>507</td>\n",
       "    </tr>\n",
       "    <tr>\n",
       "      <th>3</th>\n",
       "      <td>2019-08-04</td>\n",
       "      <td>A</td>\n",
       "      <td>717</td>\n",
       "    </tr>\n",
       "    <tr>\n",
       "      <th>4</th>\n",
       "      <td>2019-08-05</td>\n",
       "      <td>A</td>\n",
       "      <td>756</td>\n",
       "    </tr>\n",
       "  </tbody>\n",
       "</table>\n",
       "</div>"
      ],
      "text/plain": [
       "        date group  visitors\n",
       "0 2019-08-01     A       719\n",
       "1 2019-08-02     A       619\n",
       "2 2019-08-03     A       507\n",
       "3 2019-08-04     A       717\n",
       "4 2019-08-05     A       756"
      ]
     },
     "execution_count": 20,
     "metadata": {},
     "output_type": "execute_result"
    }
   ],
   "source": [
    "visitors.head(5)"
   ]
  },
  {
   "cell_type": "code",
   "execution_count": 21,
   "metadata": {},
   "outputs": [
    {
     "data": {
      "text/plain": [
       "date        0\n",
       "group       0\n",
       "visitors    0\n",
       "dtype: int64"
      ]
     },
     "execution_count": 21,
     "metadata": {},
     "output_type": "execute_result"
    }
   ],
   "source": [
    "# Проверим на пропуски\n",
    "visitors.isna().sum()"
   ]
  },
  {
   "cell_type": "code",
   "execution_count": 22,
   "metadata": {},
   "outputs": [
    {
     "data": {
      "text/plain": [
       "0"
      ]
     },
     "execution_count": 22,
     "metadata": {},
     "output_type": "execute_result"
    }
   ],
   "source": [
    "# Проверим на дубликаты\n",
    "visitors.duplicated().sum()"
   ]
  },
  {
   "cell_type": "code",
   "execution_count": 23,
   "metadata": {},
   "outputs": [
    {
     "data": {
      "text/plain": [
       "Index(['date', 'group', 'visitors'], dtype='object')"
      ]
     },
     "execution_count": 23,
     "metadata": {},
     "output_type": "execute_result"
    }
   ],
   "source": [
    "# Проверим правильность написания столбцов\n",
    "visitors.columns"
   ]
  },
  {
   "cell_type": "code",
   "execution_count": 24,
   "metadata": {},
   "outputs": [
    {
     "data": {
      "text/plain": [
       "array(['A', 'B'], dtype=object)"
      ]
     },
     "execution_count": 24,
     "metadata": {},
     "output_type": "execute_result"
    }
   ],
   "source": [
    "# Убедимся, что существует только 2 группы\n",
    "visitors['group'].unique()"
   ]
  },
  {
   "cell_type": "code",
   "execution_count": 25,
   "metadata": {},
   "outputs": [
    {
     "name": "stdout",
     "output_type": "stream",
     "text": [
      "Тест проводился с 2019-08-01 00:00:00 по 2019-08-31 00:00:00\n"
     ]
    }
   ],
   "source": [
    "print(f'Тест проводился с {visitors[\"date\"].min()} по {visitors[\"date\"].max()}')"
   ]
  },
  {
   "cell_type": "markdown",
   "metadata": {},
   "source": [
    "**Вывод:**\n",
    "- Тип данных в столбце date изменет с object на datetime64\n",
    "- Пропуски не обнаружены\n",
    "- Дубликаты не обнаружены\n",
    "- 2 группы теста: A и B\n",
    "- Тест проводился с 2019-08-01 по 2019-08-31"
   ]
  },
  {
   "cell_type": "markdown",
   "metadata": {},
   "source": [
    "### Построение графика кумулятивной выручки по группам"
   ]
  },
  {
   "cell_type": "code",
   "execution_count": 26,
   "metadata": {
    "scrolled": true
   },
   "outputs": [
    {
     "data": {
      "text/html": [
       "<div>\n",
       "<style scoped>\n",
       "    .dataframe tbody tr th:only-of-type {\n",
       "        vertical-align: middle;\n",
       "    }\n",
       "\n",
       "    .dataframe tbody tr th {\n",
       "        vertical-align: top;\n",
       "    }\n",
       "\n",
       "    .dataframe thead th {\n",
       "        text-align: right;\n",
       "    }\n",
       "</style>\n",
       "<table border=\"1\" class=\"dataframe\">\n",
       "  <thead>\n",
       "    <tr style=\"text-align: right;\">\n",
       "      <th></th>\n",
       "      <th>date</th>\n",
       "      <th>group</th>\n",
       "    </tr>\n",
       "  </thead>\n",
       "  <tbody>\n",
       "    <tr>\n",
       "      <th>0</th>\n",
       "      <td>2019-08-15</td>\n",
       "      <td>B</td>\n",
       "    </tr>\n",
       "    <tr>\n",
       "      <th>2</th>\n",
       "      <td>2019-08-15</td>\n",
       "      <td>A</td>\n",
       "    </tr>\n",
       "    <tr>\n",
       "      <th>45</th>\n",
       "      <td>2019-08-16</td>\n",
       "      <td>A</td>\n",
       "    </tr>\n",
       "    <tr>\n",
       "      <th>47</th>\n",
       "      <td>2019-08-16</td>\n",
       "      <td>B</td>\n",
       "    </tr>\n",
       "    <tr>\n",
       "      <th>55</th>\n",
       "      <td>2019-08-01</td>\n",
       "      <td>A</td>\n",
       "    </tr>\n",
       "  </tbody>\n",
       "</table>\n",
       "</div>"
      ],
      "text/plain": [
       "         date group\n",
       "0  2019-08-15     B\n",
       "2  2019-08-15     A\n",
       "45 2019-08-16     A\n",
       "47 2019-08-16     B\n",
       "55 2019-08-01     A"
      ]
     },
     "execution_count": 26,
     "metadata": {},
     "output_type": "execute_result"
    }
   ],
   "source": [
    "# Создадим датафрейм datesGroups с уникальными парами значений 'date' и 'group', таблицы orders. Избавимся от дубликатов методом drop_duplicates()\n",
    "datesGroups = orders[['date', 'group']].drop_duplicates()\n",
    "datesGroups.head(5)"
   ]
  },
  {
   "cell_type": "markdown",
   "metadata": {},
   "source": [
    "Объявим переменную ordersAggregated, содержащую:\n",
    "- дату;\n",
    "- группу A/B-теста;\n",
    "- число уникальных заказов в группе теста по указанную дату включительно;\n",
    "- число уникальных пользователей, совершивших хотя бы 1 заказ в группе теста по указанную дату включительно;\n",
    "- суммарную выручку заказов в группе теста по указанную дату включительно."
   ]
  },
  {
   "cell_type": "code",
   "execution_count": 27,
   "metadata": {},
   "outputs": [
    {
     "data": {
      "text/html": [
       "<div>\n",
       "<style scoped>\n",
       "    .dataframe tbody tr th:only-of-type {\n",
       "        vertical-align: middle;\n",
       "    }\n",
       "\n",
       "    .dataframe tbody tr th {\n",
       "        vertical-align: top;\n",
       "    }\n",
       "\n",
       "    .dataframe thead th {\n",
       "        text-align: right;\n",
       "    }\n",
       "</style>\n",
       "<table border=\"1\" class=\"dataframe\">\n",
       "  <thead>\n",
       "    <tr style=\"text-align: right;\">\n",
       "      <th></th>\n",
       "      <th>date</th>\n",
       "      <th>group</th>\n",
       "      <th>transactionId</th>\n",
       "      <th>visitorId</th>\n",
       "      <th>revenue</th>\n",
       "    </tr>\n",
       "  </thead>\n",
       "  <tbody>\n",
       "    <tr>\n",
       "      <th>55</th>\n",
       "      <td>2019-08-01</td>\n",
       "      <td>A</td>\n",
       "      <td>24</td>\n",
       "      <td>20</td>\n",
       "      <td>148579</td>\n",
       "    </tr>\n",
       "    <tr>\n",
       "      <th>66</th>\n",
       "      <td>2019-08-01</td>\n",
       "      <td>B</td>\n",
       "      <td>21</td>\n",
       "      <td>20</td>\n",
       "      <td>101217</td>\n",
       "    </tr>\n",
       "    <tr>\n",
       "      <th>175</th>\n",
       "      <td>2019-08-02</td>\n",
       "      <td>A</td>\n",
       "      <td>44</td>\n",
       "      <td>38</td>\n",
       "      <td>242401</td>\n",
       "    </tr>\n",
       "    <tr>\n",
       "      <th>173</th>\n",
       "      <td>2019-08-02</td>\n",
       "      <td>B</td>\n",
       "      <td>45</td>\n",
       "      <td>43</td>\n",
       "      <td>266748</td>\n",
       "    </tr>\n",
       "    <tr>\n",
       "      <th>291</th>\n",
       "      <td>2019-08-03</td>\n",
       "      <td>A</td>\n",
       "      <td>68</td>\n",
       "      <td>62</td>\n",
       "      <td>354874</td>\n",
       "    </tr>\n",
       "  </tbody>\n",
       "</table>\n",
       "</div>"
      ],
      "text/plain": [
       "          date group  transactionId  visitorId  revenue\n",
       "55  2019-08-01     A             24         20   148579\n",
       "66  2019-08-01     B             21         20   101217\n",
       "175 2019-08-02     A             44         38   242401\n",
       "173 2019-08-02     B             45         43   266748\n",
       "291 2019-08-03     A             68         62   354874"
      ]
     },
     "execution_count": 27,
     "metadata": {},
     "output_type": "execute_result"
    }
   ],
   "source": [
    "ordersAggregated = datesGroups.apply(\n",
    "    lambda x: orders[\n",
    "        np.logical_and(\n",
    "            orders['date'] <= x['date'], orders['group'] == x['group']\n",
    "        )\n",
    "    ].agg(\n",
    "        {\n",
    "            'date' : 'max',\n",
    "            'group' : 'max',\n",
    "            'transactionId' : 'nunique',\n",
    "            'visitorId' : 'nunique',\n",
    "            'revenue' : 'sum'\n",
    "        }\n",
    "    ),\n",
    "    axis=1\n",
    ").sort_values(by=['date','group'])\n",
    "ordersAggregated.head(5)"
   ]
  },
  {
   "cell_type": "markdown",
   "metadata": {},
   "source": [
    "Объявим переменную visitorsAggregated, содержащую:\n",
    "- дату;\n",
    "- группу A/B-теста;\n",
    "- количество уникальных посетителей в группе теста по указанную дату включительно."
   ]
  },
  {
   "cell_type": "code",
   "execution_count": 28,
   "metadata": {},
   "outputs": [
    {
     "data": {
      "text/html": [
       "<div>\n",
       "<style scoped>\n",
       "    .dataframe tbody tr th:only-of-type {\n",
       "        vertical-align: middle;\n",
       "    }\n",
       "\n",
       "    .dataframe tbody tr th {\n",
       "        vertical-align: top;\n",
       "    }\n",
       "\n",
       "    .dataframe thead th {\n",
       "        text-align: right;\n",
       "    }\n",
       "</style>\n",
       "<table border=\"1\" class=\"dataframe\">\n",
       "  <thead>\n",
       "    <tr style=\"text-align: right;\">\n",
       "      <th></th>\n",
       "      <th>date</th>\n",
       "      <th>group</th>\n",
       "      <th>visitors</th>\n",
       "    </tr>\n",
       "  </thead>\n",
       "  <tbody>\n",
       "    <tr>\n",
       "      <th>55</th>\n",
       "      <td>2019-08-01</td>\n",
       "      <td>A</td>\n",
       "      <td>719</td>\n",
       "    </tr>\n",
       "    <tr>\n",
       "      <th>66</th>\n",
       "      <td>2019-08-01</td>\n",
       "      <td>B</td>\n",
       "      <td>713</td>\n",
       "    </tr>\n",
       "    <tr>\n",
       "      <th>175</th>\n",
       "      <td>2019-08-02</td>\n",
       "      <td>A</td>\n",
       "      <td>1338</td>\n",
       "    </tr>\n",
       "    <tr>\n",
       "      <th>173</th>\n",
       "      <td>2019-08-02</td>\n",
       "      <td>B</td>\n",
       "      <td>1294</td>\n",
       "    </tr>\n",
       "    <tr>\n",
       "      <th>291</th>\n",
       "      <td>2019-08-03</td>\n",
       "      <td>A</td>\n",
       "      <td>1845</td>\n",
       "    </tr>\n",
       "    <tr>\n",
       "      <th>...</th>\n",
       "      <td>...</td>\n",
       "      <td>...</td>\n",
       "      <td>...</td>\n",
       "    </tr>\n",
       "    <tr>\n",
       "      <th>496</th>\n",
       "      <td>2019-08-29</td>\n",
       "      <td>B</td>\n",
       "      <td>17708</td>\n",
       "    </tr>\n",
       "    <tr>\n",
       "      <th>730</th>\n",
       "      <td>2019-08-30</td>\n",
       "      <td>A</td>\n",
       "      <td>18037</td>\n",
       "    </tr>\n",
       "    <tr>\n",
       "      <th>690</th>\n",
       "      <td>2019-08-30</td>\n",
       "      <td>B</td>\n",
       "      <td>18198</td>\n",
       "    </tr>\n",
       "    <tr>\n",
       "      <th>958</th>\n",
       "      <td>2019-08-31</td>\n",
       "      <td>A</td>\n",
       "      <td>18736</td>\n",
       "    </tr>\n",
       "    <tr>\n",
       "      <th>930</th>\n",
       "      <td>2019-08-31</td>\n",
       "      <td>B</td>\n",
       "      <td>18916</td>\n",
       "    </tr>\n",
       "  </tbody>\n",
       "</table>\n",
       "<p>62 rows × 3 columns</p>\n",
       "</div>"
      ],
      "text/plain": [
       "          date group  visitors\n",
       "55  2019-08-01     A       719\n",
       "66  2019-08-01     B       713\n",
       "175 2019-08-02     A      1338\n",
       "173 2019-08-02     B      1294\n",
       "291 2019-08-03     A      1845\n",
       "..         ...   ...       ...\n",
       "496 2019-08-29     B     17708\n",
       "730 2019-08-30     A     18037\n",
       "690 2019-08-30     B     18198\n",
       "958 2019-08-31     A     18736\n",
       "930 2019-08-31     B     18916\n",
       "\n",
       "[62 rows x 3 columns]"
      ]
     },
     "execution_count": 28,
     "metadata": {},
     "output_type": "execute_result"
    }
   ],
   "source": [
    "visitorsAggregated = datesGroups.apply(\n",
    "    lambda x: visitors[\n",
    "        np.logical_and(\n",
    "            visitors['date'] <= x['date'], visitors['group'] == x['group']\n",
    "        )\n",
    "    ].agg(\n",
    "        {\n",
    "            'date' : 'max',\n",
    "            'group' : 'max',\n",
    "            'visitors' : 'sum'\n",
    "        }\n",
    "    ),\n",
    "    axis=1\n",
    ").sort_values(by=['date','group'])\n",
    "visitorsAggregated"
   ]
  },
  {
   "cell_type": "code",
   "execution_count": 29,
   "metadata": {},
   "outputs": [
    {
     "data": {
      "text/html": [
       "<div>\n",
       "<style scoped>\n",
       "    .dataframe tbody tr th:only-of-type {\n",
       "        vertical-align: middle;\n",
       "    }\n",
       "\n",
       "    .dataframe tbody tr th {\n",
       "        vertical-align: top;\n",
       "    }\n",
       "\n",
       "    .dataframe thead th {\n",
       "        text-align: right;\n",
       "    }\n",
       "</style>\n",
       "<table border=\"1\" class=\"dataframe\">\n",
       "  <thead>\n",
       "    <tr style=\"text-align: right;\">\n",
       "      <th></th>\n",
       "      <th>date</th>\n",
       "      <th>group</th>\n",
       "      <th>transactions</th>\n",
       "      <th>buyers</th>\n",
       "      <th>revenue</th>\n",
       "      <th>visitors</th>\n",
       "    </tr>\n",
       "  </thead>\n",
       "  <tbody>\n",
       "    <tr>\n",
       "      <th>0</th>\n",
       "      <td>2019-08-01</td>\n",
       "      <td>A</td>\n",
       "      <td>24</td>\n",
       "      <td>20</td>\n",
       "      <td>148579</td>\n",
       "      <td>719</td>\n",
       "    </tr>\n",
       "    <tr>\n",
       "      <th>1</th>\n",
       "      <td>2019-08-01</td>\n",
       "      <td>B</td>\n",
       "      <td>21</td>\n",
       "      <td>20</td>\n",
       "      <td>101217</td>\n",
       "      <td>713</td>\n",
       "    </tr>\n",
       "    <tr>\n",
       "      <th>2</th>\n",
       "      <td>2019-08-02</td>\n",
       "      <td>A</td>\n",
       "      <td>44</td>\n",
       "      <td>38</td>\n",
       "      <td>242401</td>\n",
       "      <td>1338</td>\n",
       "    </tr>\n",
       "    <tr>\n",
       "      <th>3</th>\n",
       "      <td>2019-08-02</td>\n",
       "      <td>B</td>\n",
       "      <td>45</td>\n",
       "      <td>43</td>\n",
       "      <td>266748</td>\n",
       "      <td>1294</td>\n",
       "    </tr>\n",
       "    <tr>\n",
       "      <th>4</th>\n",
       "      <td>2019-08-03</td>\n",
       "      <td>A</td>\n",
       "      <td>68</td>\n",
       "      <td>62</td>\n",
       "      <td>354874</td>\n",
       "      <td>1845</td>\n",
       "    </tr>\n",
       "  </tbody>\n",
       "</table>\n",
       "</div>"
      ],
      "text/plain": [
       "        date group  transactions  buyers  revenue  visitors\n",
       "0 2019-08-01     A            24      20   148579       719\n",
       "1 2019-08-01     B            21      20   101217       713\n",
       "2 2019-08-02     A            44      38   242401      1338\n",
       "3 2019-08-02     B            45      43   266748      1294\n",
       "4 2019-08-03     A            68      62   354874      1845"
      ]
     },
     "execution_count": 29,
     "metadata": {},
     "output_type": "execute_result"
    }
   ],
   "source": [
    "# Объявим переменную cumulativeData, , объединив ordersAggregated и visitorsAggregated по колонкам 'date', 'group'\n",
    "cumulativeData = ordersAggregated.merge(\n",
    "    visitorsAggregated, left_on=['date', 'group'], right_on=['date', 'group']\n",
    ")\n",
    "cumulativeData.columns = [\n",
    "    'date', \n",
    "    'group', \n",
    "    'transactions', \n",
    "    'buyers', \n",
    "    'revenue', \n",
    "    'visitors'\n",
    "]\n",
    "cumulativeData.head(5)"
   ]
  },
  {
   "cell_type": "code",
   "execution_count": 30,
   "metadata": {},
   "outputs": [
    {
     "name": "stdout",
     "output_type": "stream",
     "text": [
      "Тест проводился с 2019-08-01 00:00:00 по 2019-08-31 00:00:00\n"
     ]
    }
   ],
   "source": [
    "# Проверим, совпадают ли минимальная и максимальная даты в этом датафрейме с минимальной и максимальной датой в исходных данных\n",
    "print(f'Тест проводился с {cumulativeData[\"date\"].min()} по {cumulativeData[\"date\"].max()}')"
   ]
  },
  {
   "cell_type": "code",
   "execution_count": 31,
   "metadata": {},
   "outputs": [],
   "source": [
    "# Объявим переменные cumulativeRevenueA и cumulativeRevenueB, в которых сохраним данные о датах, выручке\n",
    "# и числе заказов в группах A и B.\n",
    "cumulativeRevenueA = cumulativeData[cumulativeData['group']=='A'][\n",
    "    ['date','revenue', 'transactions']\n",
    "]\n",
    "cumulativeRevenueB = cumulativeData[cumulativeData['group']=='B'][\n",
    "    ['date','revenue', 'transactions']\n",
    "]"
   ]
  },
  {
   "cell_type": "code",
   "execution_count": 32,
   "metadata": {},
   "outputs": [
    {
     "data": {
      "text/plain": [
       "<matplotlib.legend.Legend at 0x7f899f2d8d90>"
      ]
     },
     "execution_count": 32,
     "metadata": {},
     "output_type": "execute_result"
    },
    {
     "data": {
      "image/png": "[encoded data removed]",
      "text/plain": [
       "<Figure size 864x576 with 1 Axes>"
      ]
     },
     "metadata": {
      "needs_background": "light"
     },
     "output_type": "display_data"
    }
   ],
   "source": [
    "# Для каждой группы построим графики кумулятивной выручки по дням и группам\n",
    "plt.figure(figsize=(12, 8))\n",
    "# Строим график выручки группы А\n",
    "plt.plot(cumulativeRevenueA['date'], cumulativeRevenueA['revenue'], label='A')\n",
    "\n",
    "# Строим график выручки группы B\n",
    "plt.plot(cumulativeRevenueB['date'], cumulativeRevenueB['revenue'], label='B')\n",
    "plt.title('График кумулятивной выручки по дням и группам.', fontsize=18)\n",
    "plt.xlabel('Дата', fontsize=14)\n",
    "plt.ylabel('Выручка', fontsize=14)\n",
    "plt.legend() "
   ]
  },
  {
   "cell_type": "markdown",
   "metadata": {},
   "source": [
    "**Вывод:**\n",
    "- Выручка почти равномерно увеличивается в течение всего теста\n",
    "- Виден резкий рост в группе В в районе 19 числа. Это может сигнализировать о всплесках числа заказов, либо о появлении очень дорогих заказов в выборке."
   ]
  },
  {
   "cell_type": "markdown",
   "metadata": {},
   "source": [
    "### Построение графика кумулятивного среднего чека по группам"
   ]
  },
  {
   "cell_type": "code",
   "execution_count": 33,
   "metadata": {},
   "outputs": [
    {
     "data": {
      "text/plain": [
       "<matplotlib.legend.Legend at 0x7f8996a4d070>"
      ]
     },
     "execution_count": 33,
     "metadata": {},
     "output_type": "execute_result"
    },
    {
     "data": {
      "image/png": "[encoded data removed]",
      "text/plain": [
       "<Figure size 864x576 with 1 Axes>"
      ]
     },
     "metadata": {
      "needs_background": "light"
     },
     "output_type": "display_data"
    }
   ],
   "source": [
    "# Для каждой группы построим график кумулятивного среднего чека\n",
    "plt.figure(figsize=(12, 8))\n",
    "plt.plot(cumulativeRevenueA['date'], cumulativeRevenueA['revenue']/cumulativeRevenueA['transactions'], label='A')\n",
    "plt.plot(cumulativeRevenueB['date'], cumulativeRevenueB['revenue']/cumulativeRevenueB['transactions'], label='B')\n",
    "plt.title('График кумулятивного среднего чека по группам', fontsize=18)\n",
    "plt.xlabel('Дата', fontsize=14)\n",
    "plt.ylabel('Средний чек', fontsize=14)\n",
    "plt.legend() "
   ]
  },
  {
   "cell_type": "markdown",
   "metadata": {},
   "source": [
    "**Вывод:**\n",
    "- Средний чек становится равномерным ближе к концу теста. Для группы А параметр установился, для группы В падает.\n",
    "-  Возможно, в группу B в районе 19 числа попали крупные заказы (резкий всплеск на графике). "
   ]
  },
  {
   "cell_type": "markdown",
   "metadata": {},
   "source": [
    "### Построение графика относительного изменения кумулятивного среднего чека группы B к группе A"
   ]
  },
  {
   "cell_type": "code",
   "execution_count": 34,
   "metadata": {},
   "outputs": [
    {
     "data": {
      "text/plain": [
       "Text(0, 0.5, '(Средний чек В / Средний чек А) - 1')"
      ]
     },
     "execution_count": 34,
     "metadata": {},
     "output_type": "execute_result"
    },
    {
     "data": {
      "image/png": "[encoded data removed]",
      "text/plain": [
       "<Figure size 864x576 with 1 Axes>"
      ]
     },
     "metadata": {
      "needs_background": "light"
     },
     "output_type": "display_data"
    }
   ],
   "source": [
    "# Построение графика относительного изменения кумулятивного среднего чека группы B к группе A\n",
    "mergedCumulativeRevenue = cumulativeRevenueA.merge(cumulativeRevenueB, left_on='date', right_on='date', how='left', suffixes=['A', 'B'])\n",
    "# Строим отношение средних чеков\n",
    "plt.figure(figsize=(12, 8))\n",
    "plt.plot(mergedCumulativeRevenue['date'], (mergedCumulativeRevenue['revenueB']/mergedCumulativeRevenue['transactionsB'])/(mergedCumulativeRevenue['revenueA']/mergedCumulativeRevenue['transactionsA'])-1)\n",
    "\n",
    "# добавляем ось X\n",
    "plt.axhline(y=0, color='black', linestyle='--') \n",
    "plt.title('График относительного изменения кумулятивного среднего чека группы B к группе A', fontsize=18)\n",
    "plt.xlabel('Дата', fontsize=14)\n",
    "plt.ylabel('(Средний чек В / Средний чек А) - 1', fontsize=14)"
   ]
  },
  {
   "cell_type": "markdown",
   "metadata": {},
   "source": [
    "**Вывод:**\n",
    "- Заметны скачки графика в нескольких точках, что также сигнализирует нам о выбросах в виде крупных заказов."
   ]
  },
  {
   "cell_type": "markdown",
   "metadata": {},
   "source": [
    "### Построение графика кумулятивного среднего количества заказов на посетителя по группам"
   ]
  },
  {
   "cell_type": "code",
   "execution_count": 35,
   "metadata": {},
   "outputs": [],
   "source": [
    "# Объявим переменные cumulativeTransactionsA и cumulativeTransactionsB, в которых сохраним данные о датах, заказах\n",
    "# и числе посетителей в группах A и B.\n",
    "cumulativeTransactionsA = cumulativeData[cumulativeData['group']=='A'][\n",
    "    ['date','transactions', 'visitors']\n",
    "]\n",
    "cumulativeTransactionsB = cumulativeData[cumulativeData['group']=='B'][\n",
    "    ['date','transactions', 'visitors']\n",
    "]"
   ]
  },
  {
   "cell_type": "code",
   "execution_count": 36,
   "metadata": {},
   "outputs": [
    {
     "data": {
      "text/plain": [
       "<matplotlib.legend.Legend at 0x7f8996e3c070>"
      ]
     },
     "execution_count": 36,
     "metadata": {},
     "output_type": "execute_result"
    },
    {
     "data": {
      "image/png": "[encoded data removed]",
      "text/plain": [
       "<Figure size 864x576 with 1 Axes>"
      ]
     },
     "metadata": {
      "needs_background": "light"
     },
     "output_type": "display_data"
    }
   ],
   "source": [
    "# Для каждой группы построим график кумулятивного среднего количества заказов на посетителя\n",
    "plt.figure(figsize=(12, 8))\n",
    "plt.plot(cumulativeTransactionsA['date'], cumulativeTransactionsA['transactions']/cumulativeTransactionsA['visitors'], label='A')\n",
    "plt.plot(cumulativeTransactionsB['date'], cumulativeTransactionsB['transactions']/cumulativeTransactionsB['visitors'], label='B')\n",
    "plt.title('График кумулятивного среднего количества заказов на посетителя', fontsize=18)\n",
    "plt.xlabel('Дата', fontsize=14)\n",
    "plt.ylabel('Среднее количество заказов на посетителя', fontsize=14)\n",
    "plt.legend() "
   ]
  },
  {
   "cell_type": "markdown",
   "metadata": {},
   "source": [
    "**Вывод:**\n",
    "- К концу теста параметр для обеих групп почти зафиксировался, хотя и видны флуктационные изменения.\n",
    "- Среднее кол-во заказов для группы В значительно выше"
   ]
  },
  {
   "cell_type": "markdown",
   "metadata": {},
   "source": [
    "### Построение графика относительного изменения кумулятивного среднего количества заказов на посетителя группы B к группе A"
   ]
  },
  {
   "cell_type": "code",
   "execution_count": 37,
   "metadata": {},
   "outputs": [
    {
     "data": {
      "text/plain": [
       "Text(0, 0.5, 'Среднее количество заказов на посетителя В / Среднее количество заказов на посетителя A')"
      ]
     },
     "execution_count": 37,
     "metadata": {},
     "output_type": "execute_result"
    },
    {
     "data": {
      "image/png": "[encoded data removed]",
      "text/plain": [
       "<Figure size 864x576 with 1 Axes>"
      ]
     },
     "metadata": {
      "needs_background": "light"
     },
     "output_type": "display_data"
    }
   ],
   "source": [
    "# Построение графика относительного изменения кумулятивного среднего количества заказов на посетителя группы B к группе A\n",
    "mergedCumulativeTransactions = cumulativeTransactionsA.merge(cumulativeTransactionsB, left_on='date', right_on='date', how='left', suffixes=['A', 'B'])\n",
    "\n",
    "plt.figure(figsize=(12, 8))\n",
    "plt.plot(mergedCumulativeTransactions['date'], (mergedCumulativeTransactions['transactionsB']/mergedCumulativeTransactions['visitorsB'])/(mergedCumulativeTransactions['transactionsA']/mergedCumulativeTransactions['visitorsA'])-1)\n",
    "\n",
    "# добавляем ось X\n",
    "plt.axhline(y=0, color='black', linestyle='--') \n",
    "plt.title('График относительного изменения кумулятивного среднего количества заказов на посетителя группы B к группе A', fontsize=18)\n",
    "plt.xlabel('Дата', fontsize=14)\n",
    "plt.ylabel('Среднее количество заказов на посетителя В / Среднее количество заказов на посетителя A', fontsize=8)"
   ]
  },
  {
   "cell_type": "markdown",
   "metadata": {},
   "source": [
    "**Вывод:**\n",
    "- В самом начале теста группа В проигрывала группе А, затем вырвалась вперёд и в последнии дни демонстрирует относительный рост"
   ]
  },
  {
   "cell_type": "markdown",
   "metadata": {},
   "source": [
    "### Построение точечного графика количества заказов по пользователям"
   ]
  },
  {
   "cell_type": "code",
   "execution_count": 38,
   "metadata": {},
   "outputs": [
    {
     "data": {
      "text/html": [
       "<div>\n",
       "<style scoped>\n",
       "    .dataframe tbody tr th:only-of-type {\n",
       "        vertical-align: middle;\n",
       "    }\n",
       "\n",
       "    .dataframe tbody tr th {\n",
       "        vertical-align: top;\n",
       "    }\n",
       "\n",
       "    .dataframe thead th {\n",
       "        text-align: right;\n",
       "    }\n",
       "</style>\n",
       "<table border=\"1\" class=\"dataframe\">\n",
       "  <thead>\n",
       "    <tr style=\"text-align: right;\">\n",
       "      <th></th>\n",
       "      <th>visitorId</th>\n",
       "      <th>transactions</th>\n",
       "    </tr>\n",
       "  </thead>\n",
       "  <tbody>\n",
       "    <tr>\n",
       "      <th>0</th>\n",
       "      <td>5114589</td>\n",
       "      <td>1</td>\n",
       "    </tr>\n",
       "    <tr>\n",
       "      <th>1</th>\n",
       "      <td>6958315</td>\n",
       "      <td>1</td>\n",
       "    </tr>\n",
       "    <tr>\n",
       "      <th>2</th>\n",
       "      <td>8300375</td>\n",
       "      <td>2</td>\n",
       "    </tr>\n",
       "    <tr>\n",
       "      <th>3</th>\n",
       "      <td>11685486</td>\n",
       "      <td>1</td>\n",
       "    </tr>\n",
       "    <tr>\n",
       "      <th>4</th>\n",
       "      <td>39475350</td>\n",
       "      <td>1</td>\n",
       "    </tr>\n",
       "  </tbody>\n",
       "</table>\n",
       "</div>"
      ],
      "text/plain": [
       "   visitorId  transactions\n",
       "0    5114589             1\n",
       "1    6958315             1\n",
       "2    8300375             2\n",
       "3   11685486             1\n",
       "4   39475350             1"
      ]
     },
     "execution_count": 38,
     "metadata": {},
     "output_type": "execute_result"
    }
   ],
   "source": [
    "# Сохраним в переменную таблицу с пользователями и кол-вом заказов\n",
    "visitors_transactions = (\n",
    "    orders.groupby('visitorId', as_index=False)\n",
    "    .agg({'transactionId': 'nunique'})\n",
    ")\n",
    "visitors_transactions.columns = ['visitorId', 'transactions'] \n",
    "visitors_transactions.head(5)"
   ]
  },
  {
   "cell_type": "code",
   "execution_count": 39,
   "metadata": {},
   "outputs": [
    {
     "data": {
      "text/plain": [
       "Text(0.5, 0, 'Пользователи')"
      ]
     },
     "execution_count": 39,
     "metadata": {},
     "output_type": "execute_result"
    },
    {
     "data": {
      "image/png": "[encoded data removed]",
      "text/plain": [
       "<Figure size 864x576 with 1 Axes>"
      ]
     },
     "metadata": {
      "needs_background": "light"
     },
     "output_type": "display_data"
    }
   ],
   "source": [
    "# Построение точечного графика количества заказов по пользователям\n",
    "x_values = pd.Series(range(0, len(visitors_transactions['transactions'])))\n",
    "plt.figure(figsize=(12, 8))\n",
    "plt.scatter(x_values, visitors_transactions['transactions'])\n",
    "plt.title('Точечный график количества заказов по пользователям', fontsize=18)\n",
    "plt.ylabel('Число заказов', fontsize=14)\n",
    "plt.xlabel('Пользователи', fontsize=14) "
   ]
  },
  {
   "cell_type": "markdown",
   "metadata": {},
   "source": [
    "**Вывод:**\n",
    "- На графике видны аномальные пользователи, совершившие больше 3 заказов. Подавляющее большинство пользователей совершили до 2 заказов."
   ]
  },
  {
   "cell_type": "markdown",
   "metadata": {},
   "source": [
    "### Посчитаем 95-й и 99-й перцентили количества заказов на пользователя. Выберем границу для определения аномальных пользователей."
   ]
  },
  {
   "cell_type": "code",
   "execution_count": 40,
   "metadata": {},
   "outputs": [
    {
     "name": "stdout",
     "output_type": "stream",
     "text": [
      "[2. 4.]\n"
     ]
    }
   ],
   "source": [
    "print(np.percentile(visitors_transactions['transactions'],[95, 99]))"
   ]
  },
  {
   "cell_type": "markdown",
   "metadata": {},
   "source": [
    "**Вывод:**\n",
    "- Не более 5% пользователей совершили более 2 заказов и не более 1% больше 4 заказов.\n",
    "- Разумно выбрать 4 заказа на одного пользователя за верхнюю границу числа заказов, и отсеять аномальных пользователей по ней. "
   ]
  },
  {
   "cell_type": "markdown",
   "metadata": {},
   "source": [
    "### Построение точечного графика стоимостей заказов. "
   ]
  },
  {
   "cell_type": "code",
   "execution_count": 41,
   "metadata": {},
   "outputs": [
    {
     "data": {
      "text/plain": [
       "Text(0.5, 0, 'Пользователи')"
      ]
     },
     "execution_count": 41,
     "metadata": {},
     "output_type": "execute_result"
    },
    {
     "data": {
      "image/png": "[encoded data removed]",
      "text/plain": [
       "<Figure size 864x576 with 1 Axes>"
      ]
     },
     "metadata": {
      "needs_background": "light"
     },
     "output_type": "display_data"
    }
   ],
   "source": [
    "# Построение точечного графика стоимостей заказов\n",
    "x_values = pd.Series(range(0, len(orders['revenue'])))\n",
    "plt.figure(figsize=(12, 8))\n",
    "plt.scatter(x_values, orders['revenue'])\n",
    "plt.title('Точечный график стоимостей заказов', fontsize=18)\n",
    "plt.ylabel('Стоимость заказов', fontsize=14)\n",
    "plt.xlabel('Пользователи', fontsize=14) "
   ]
  },
  {
   "cell_type": "markdown",
   "metadata": {},
   "source": [
    "**Вывод:**\n",
    "- На графике видны пара заметных выбросов.\n",
    "- По большей части все заказы имеют похожую стоимость"
   ]
  },
  {
   "cell_type": "markdown",
   "metadata": {},
   "source": [
    "### Посчитаем 95-й и 99-й перцентили стоимости заказов. Выберем границу для определения аномальных заказов."
   ]
  },
  {
   "cell_type": "code",
   "execution_count": 42,
   "metadata": {},
   "outputs": [
    {
     "name": "stdout",
     "output_type": "stream",
     "text": [
      "[28000.  58233.2]\n"
     ]
    }
   ],
   "source": [
    "print(np.percentile(orders['revenue'],[95, 99]))"
   ]
  },
  {
   "cell_type": "markdown",
   "metadata": {},
   "source": [
    "**Вывод:**\n",
    "- Не более 5% заказов стоят больше 28000 и не более 1% больше 58233.2.\n",
    "- В данном случае выберем верхней границей стоимость заказа в 28000."
   ]
  },
  {
   "cell_type": "markdown",
   "metadata": {},
   "source": [
    "### Посчитаем статистическую значимость различий в среднем количестве заказов на посетителя между группами по «сырым» данным."
   ]
  },
  {
   "cell_type": "code",
   "execution_count": 43,
   "metadata": {},
   "outputs": [
    {
     "data": {
      "text/html": [
       "<div>\n",
       "<style scoped>\n",
       "    .dataframe tbody tr th:only-of-type {\n",
       "        vertical-align: middle;\n",
       "    }\n",
       "\n",
       "    .dataframe tbody tr th {\n",
       "        vertical-align: top;\n",
       "    }\n",
       "\n",
       "    .dataframe thead th {\n",
       "        text-align: right;\n",
       "    }\n",
       "</style>\n",
       "<table border=\"1\" class=\"dataframe\">\n",
       "  <thead>\n",
       "    <tr style=\"text-align: right;\">\n",
       "      <th></th>\n",
       "      <th>date</th>\n",
       "      <th>visitorsCummulativeA</th>\n",
       "    </tr>\n",
       "  </thead>\n",
       "  <tbody>\n",
       "    <tr>\n",
       "      <th>0</th>\n",
       "      <td>2019-08-01</td>\n",
       "      <td>719</td>\n",
       "    </tr>\n",
       "    <tr>\n",
       "      <th>1</th>\n",
       "      <td>2019-08-02</td>\n",
       "      <td>1338</td>\n",
       "    </tr>\n",
       "    <tr>\n",
       "      <th>2</th>\n",
       "      <td>2019-08-03</td>\n",
       "      <td>1845</td>\n",
       "    </tr>\n",
       "    <tr>\n",
       "      <th>3</th>\n",
       "      <td>2019-08-04</td>\n",
       "      <td>2562</td>\n",
       "    </tr>\n",
       "    <tr>\n",
       "      <th>4</th>\n",
       "      <td>2019-08-05</td>\n",
       "      <td>3318</td>\n",
       "    </tr>\n",
       "  </tbody>\n",
       "</table>\n",
       "</div>"
      ],
      "text/plain": [
       "        date  visitorsCummulativeA\n",
       "0 2019-08-01                   719\n",
       "1 2019-08-02                  1338\n",
       "2 2019-08-03                  1845\n",
       "3 2019-08-04                  2562\n",
       "4 2019-08-05                  3318"
      ]
     },
     "execution_count": 43,
     "metadata": {},
     "output_type": "execute_result"
    }
   ],
   "source": [
    "# Посчитаем количество пользователей в указанную дату в группе А \n",
    "visitorsADaily = visitors[visitors['group'] == 'A'][['date', 'visitors']]\n",
    "visitorsADaily.columns = ['date', 'visitorsPerDateA']\n",
    "# Посчитаем кумулятивное количество пользователей в указанную дату в группе А \n",
    "visitorsACummulative = visitorsADaily.apply(\n",
    "    lambda x: visitorsADaily[visitorsADaily['date'] <= x['date']].agg(\n",
    "        {'date': 'max', 'visitorsPerDateA': 'sum'}\n",
    "    ),\n",
    "    axis=1,\n",
    ")\n",
    "visitorsACummulative.columns = ['date', 'visitorsCummulativeA']\n",
    "visitorsACummulative.head(5)"
   ]
  },
  {
   "cell_type": "code",
   "execution_count": 44,
   "metadata": {},
   "outputs": [
    {
     "data": {
      "text/html": [
       "<div>\n",
       "<style scoped>\n",
       "    .dataframe tbody tr th:only-of-type {\n",
       "        vertical-align: middle;\n",
       "    }\n",
       "\n",
       "    .dataframe tbody tr th {\n",
       "        vertical-align: top;\n",
       "    }\n",
       "\n",
       "    .dataframe thead th {\n",
       "        text-align: right;\n",
       "    }\n",
       "</style>\n",
       "<table border=\"1\" class=\"dataframe\">\n",
       "  <thead>\n",
       "    <tr style=\"text-align: right;\">\n",
       "      <th></th>\n",
       "      <th>date</th>\n",
       "      <th>visitorsCummulativeB</th>\n",
       "    </tr>\n",
       "  </thead>\n",
       "  <tbody>\n",
       "    <tr>\n",
       "      <th>31</th>\n",
       "      <td>2019-08-01</td>\n",
       "      <td>713</td>\n",
       "    </tr>\n",
       "    <tr>\n",
       "      <th>32</th>\n",
       "      <td>2019-08-02</td>\n",
       "      <td>1294</td>\n",
       "    </tr>\n",
       "    <tr>\n",
       "      <th>33</th>\n",
       "      <td>2019-08-03</td>\n",
       "      <td>1803</td>\n",
       "    </tr>\n",
       "    <tr>\n",
       "      <th>34</th>\n",
       "      <td>2019-08-04</td>\n",
       "      <td>2573</td>\n",
       "    </tr>\n",
       "    <tr>\n",
       "      <th>35</th>\n",
       "      <td>2019-08-05</td>\n",
       "      <td>3280</td>\n",
       "    </tr>\n",
       "  </tbody>\n",
       "</table>\n",
       "</div>"
      ],
      "text/plain": [
       "         date  visitorsCummulativeB\n",
       "31 2019-08-01                   713\n",
       "32 2019-08-02                  1294\n",
       "33 2019-08-03                  1803\n",
       "34 2019-08-04                  2573\n",
       "35 2019-08-05                  3280"
      ]
     },
     "execution_count": 44,
     "metadata": {},
     "output_type": "execute_result"
    }
   ],
   "source": [
    "# Посчитаем количество пользователей в указанную дату в группе B\n",
    "visitorsBDaily = visitors[visitors['group'] == 'B'][['date', 'visitors']]\n",
    "visitorsBDaily.columns = ['date', 'visitorsPerDateB']\n",
    "# Посчитаем кумулятивное количество пользователей в указанную дату в группе B \n",
    "visitorsBCummulative = visitorsBDaily.apply(\n",
    "    lambda x: visitorsBDaily[visitorsBDaily['date'] <= x['date']].agg(\n",
    "        {'date': 'max', 'visitorsPerDateB': 'sum'}\n",
    "    ),\n",
    "    axis=1,\n",
    ")\n",
    "visitorsBCummulative.columns = ['date', 'visitorsCummulativeB']\n",
    "visitorsBCummulative.head(5)"
   ]
  },
  {
   "cell_type": "code",
   "execution_count": 45,
   "metadata": {},
   "outputs": [
    {
     "data": {
      "text/html": [
       "<div>\n",
       "<style scoped>\n",
       "    .dataframe tbody tr th:only-of-type {\n",
       "        vertical-align: middle;\n",
       "    }\n",
       "\n",
       "    .dataframe tbody tr th {\n",
       "        vertical-align: top;\n",
       "    }\n",
       "\n",
       "    .dataframe thead th {\n",
       "        text-align: right;\n",
       "    }\n",
       "</style>\n",
       "<table border=\"1\" class=\"dataframe\">\n",
       "  <thead>\n",
       "    <tr style=\"text-align: right;\">\n",
       "      <th></th>\n",
       "      <th>date</th>\n",
       "      <th>transactionsCummulativeA</th>\n",
       "      <th>revenueCummulativeA</th>\n",
       "    </tr>\n",
       "  </thead>\n",
       "  <tbody>\n",
       "    <tr>\n",
       "      <th>0</th>\n",
       "      <td>2019-08-01</td>\n",
       "      <td>24</td>\n",
       "      <td>148579</td>\n",
       "    </tr>\n",
       "    <tr>\n",
       "      <th>1</th>\n",
       "      <td>2019-08-02</td>\n",
       "      <td>44</td>\n",
       "      <td>242401</td>\n",
       "    </tr>\n",
       "    <tr>\n",
       "      <th>2</th>\n",
       "      <td>2019-08-03</td>\n",
       "      <td>68</td>\n",
       "      <td>354874</td>\n",
       "    </tr>\n",
       "    <tr>\n",
       "      <th>3</th>\n",
       "      <td>2019-08-04</td>\n",
       "      <td>84</td>\n",
       "      <td>425699</td>\n",
       "    </tr>\n",
       "    <tr>\n",
       "      <th>4</th>\n",
       "      <td>2019-08-05</td>\n",
       "      <td>109</td>\n",
       "      <td>549917</td>\n",
       "    </tr>\n",
       "  </tbody>\n",
       "</table>\n",
       "</div>"
      ],
      "text/plain": [
       "        date  transactionsCummulativeA  revenueCummulativeA\n",
       "0 2019-08-01                        24               148579\n",
       "1 2019-08-02                        44               242401\n",
       "2 2019-08-03                        68               354874\n",
       "3 2019-08-04                        84               425699\n",
       "4 2019-08-05                       109               549917"
      ]
     },
     "execution_count": 45,
     "metadata": {},
     "output_type": "execute_result"
    }
   ],
   "source": [
    "# Посчитаем кол-во заказов в группе А\n",
    "transactionsADaily = (\n",
    "    orders[orders['group'] == 'A'][['date', 'transactionId', 'visitorId', 'revenue']]\n",
    "    .groupby('date', as_index=False)\n",
    "    .agg({'transactionId': pd.Series.nunique, 'revenue': 'sum'})\n",
    ")\n",
    "transactionsADaily.columns = ['date', 'transactionsPerDateA', 'revenuePerDateA']\n",
    "# Посчитаем кумулятивное кол-во заказов в группе А\n",
    "transactionsACummulative = transactionsADaily.apply(\n",
    "    lambda x: transactionsADaily[transactionsADaily['date'] <= x['date']].agg(\n",
    "        {'date': 'max', 'transactionsPerDateA': 'sum', 'revenuePerDateA': 'sum'}\n",
    "    ),\n",
    "    axis=1,\n",
    ").sort_values(by=['date'])\n",
    "transactionsACummulative.columns = [\n",
    "    'date',\n",
    "    'transactionsCummulativeA',\n",
    "    'revenueCummulativeA',\n",
    "]\n",
    "transactionsACummulative.head(5)"
   ]
  },
  {
   "cell_type": "code",
   "execution_count": 46,
   "metadata": {},
   "outputs": [
    {
     "data": {
      "text/html": [
       "<div>\n",
       "<style scoped>\n",
       "    .dataframe tbody tr th:only-of-type {\n",
       "        vertical-align: middle;\n",
       "    }\n",
       "\n",
       "    .dataframe tbody tr th {\n",
       "        vertical-align: top;\n",
       "    }\n",
       "\n",
       "    .dataframe thead th {\n",
       "        text-align: right;\n",
       "    }\n",
       "</style>\n",
       "<table border=\"1\" class=\"dataframe\">\n",
       "  <thead>\n",
       "    <tr style=\"text-align: right;\">\n",
       "      <th></th>\n",
       "      <th>date</th>\n",
       "      <th>transactionsPerDateB</th>\n",
       "      <th>revenuePerDateB</th>\n",
       "    </tr>\n",
       "  </thead>\n",
       "  <tbody>\n",
       "    <tr>\n",
       "      <th>0</th>\n",
       "      <td>2019-08-01</td>\n",
       "      <td>21</td>\n",
       "      <td>101217</td>\n",
       "    </tr>\n",
       "    <tr>\n",
       "      <th>1</th>\n",
       "      <td>2019-08-02</td>\n",
       "      <td>24</td>\n",
       "      <td>165531</td>\n",
       "    </tr>\n",
       "    <tr>\n",
       "      <th>2</th>\n",
       "      <td>2019-08-03</td>\n",
       "      <td>16</td>\n",
       "      <td>114248</td>\n",
       "    </tr>\n",
       "    <tr>\n",
       "      <th>3</th>\n",
       "      <td>2019-08-04</td>\n",
       "      <td>17</td>\n",
       "      <td>108571</td>\n",
       "    </tr>\n",
       "    <tr>\n",
       "      <th>4</th>\n",
       "      <td>2019-08-05</td>\n",
       "      <td>23</td>\n",
       "      <td>92428</td>\n",
       "    </tr>\n",
       "  </tbody>\n",
       "</table>\n",
       "</div>"
      ],
      "text/plain": [
       "        date  transactionsPerDateB  revenuePerDateB\n",
       "0 2019-08-01                    21           101217\n",
       "1 2019-08-02                    24           165531\n",
       "2 2019-08-03                    16           114248\n",
       "3 2019-08-04                    17           108571\n",
       "4 2019-08-05                    23            92428"
      ]
     },
     "execution_count": 46,
     "metadata": {},
     "output_type": "execute_result"
    }
   ],
   "source": [
    "# Посчитаем кол-во заказов в группе В\n",
    "transactionsBDaily = (\n",
    "    orders[orders['group'] == 'B'][['date', 'transactionId', 'visitorId', 'revenue']]\n",
    "    .groupby('date', as_index=False)\n",
    "    .agg({'transactionId': pd.Series.nunique, 'revenue': 'sum'})\n",
    ")\n",
    "transactionsBDaily.columns = ['date', 'transactionsPerDateB', 'revenuePerDateB']\n",
    "# Посчитаем кумулятивное кол-во заказов в группе В\n",
    "transactionsBCummulative = transactionsBDaily.apply(\n",
    "    lambda x: transactionsBDaily[transactionsBDaily['date'] <= x['date']].agg(\n",
    "        {'date': 'max', 'transactionsPerDateB': 'sum', 'revenuePerDateB': 'sum'}\n",
    "    ),\n",
    "    axis=1,\n",
    ").sort_values(by=['date'])\n",
    "transactionsBCummulative.columns = [\n",
    "    'date',\n",
    "    'transactionsCummulativeB',\n",
    "    'revenueCummulativeB',\n",
    "]\n",
    "transactionsBDaily.head(5)"
   ]
  },
  {
   "cell_type": "code",
   "execution_count": 47,
   "metadata": {},
   "outputs": [
    {
     "data": {
      "text/html": [
       "<div>\n",
       "<style scoped>\n",
       "    .dataframe tbody tr th:only-of-type {\n",
       "        vertical-align: middle;\n",
       "    }\n",
       "\n",
       "    .dataframe tbody tr th {\n",
       "        vertical-align: top;\n",
       "    }\n",
       "\n",
       "    .dataframe thead th {\n",
       "        text-align: right;\n",
       "    }\n",
       "</style>\n",
       "<table border=\"1\" class=\"dataframe\">\n",
       "  <thead>\n",
       "    <tr style=\"text-align: right;\">\n",
       "      <th></th>\n",
       "      <th>date</th>\n",
       "      <th>transactionsPerDateA</th>\n",
       "      <th>revenuePerDateA</th>\n",
       "      <th>transactionsPerDateB</th>\n",
       "      <th>revenuePerDateB</th>\n",
       "      <th>transactionsCummulativeA</th>\n",
       "      <th>revenueCummulativeA</th>\n",
       "      <th>transactionsCummulativeB</th>\n",
       "      <th>revenueCummulativeB</th>\n",
       "      <th>visitorsPerDateA</th>\n",
       "      <th>visitorsPerDateB</th>\n",
       "      <th>visitorsCummulativeA</th>\n",
       "      <th>visitorsCummulativeB</th>\n",
       "    </tr>\n",
       "  </thead>\n",
       "  <tbody>\n",
       "    <tr>\n",
       "      <th>0</th>\n",
       "      <td>2019-08-01</td>\n",
       "      <td>24</td>\n",
       "      <td>148579</td>\n",
       "      <td>21</td>\n",
       "      <td>101217</td>\n",
       "      <td>24</td>\n",
       "      <td>148579</td>\n",
       "      <td>21</td>\n",
       "      <td>101217</td>\n",
       "      <td>719</td>\n",
       "      <td>713</td>\n",
       "      <td>719</td>\n",
       "      <td>713</td>\n",
       "    </tr>\n",
       "    <tr>\n",
       "      <th>1</th>\n",
       "      <td>2019-08-02</td>\n",
       "      <td>20</td>\n",
       "      <td>93822</td>\n",
       "      <td>24</td>\n",
       "      <td>165531</td>\n",
       "      <td>44</td>\n",
       "      <td>242401</td>\n",
       "      <td>45</td>\n",
       "      <td>266748</td>\n",
       "      <td>619</td>\n",
       "      <td>581</td>\n",
       "      <td>1338</td>\n",
       "      <td>1294</td>\n",
       "    </tr>\n",
       "    <tr>\n",
       "      <th>2</th>\n",
       "      <td>2019-08-03</td>\n",
       "      <td>24</td>\n",
       "      <td>112473</td>\n",
       "      <td>16</td>\n",
       "      <td>114248</td>\n",
       "      <td>68</td>\n",
       "      <td>354874</td>\n",
       "      <td>61</td>\n",
       "      <td>380996</td>\n",
       "      <td>507</td>\n",
       "      <td>509</td>\n",
       "      <td>1845</td>\n",
       "      <td>1803</td>\n",
       "    </tr>\n",
       "    <tr>\n",
       "      <th>3</th>\n",
       "      <td>2019-08-04</td>\n",
       "      <td>16</td>\n",
       "      <td>70825</td>\n",
       "      <td>17</td>\n",
       "      <td>108571</td>\n",
       "      <td>84</td>\n",
       "      <td>425699</td>\n",
       "      <td>78</td>\n",
       "      <td>489567</td>\n",
       "      <td>717</td>\n",
       "      <td>770</td>\n",
       "      <td>2562</td>\n",
       "      <td>2573</td>\n",
       "    </tr>\n",
       "    <tr>\n",
       "      <th>4</th>\n",
       "      <td>2019-08-05</td>\n",
       "      <td>25</td>\n",
       "      <td>124218</td>\n",
       "      <td>23</td>\n",
       "      <td>92428</td>\n",
       "      <td>109</td>\n",
       "      <td>549917</td>\n",
       "      <td>101</td>\n",
       "      <td>581995</td>\n",
       "      <td>756</td>\n",
       "      <td>707</td>\n",
       "      <td>3318</td>\n",
       "      <td>3280</td>\n",
       "    </tr>\n",
       "  </tbody>\n",
       "</table>\n",
       "</div>"
      ],
      "text/plain": [
       "        date  transactionsPerDateA  revenuePerDateA  transactionsPerDateB  \\\n",
       "0 2019-08-01                    24           148579                    21   \n",
       "1 2019-08-02                    20            93822                    24   \n",
       "2 2019-08-03                    24           112473                    16   \n",
       "3 2019-08-04                    16            70825                    17   \n",
       "4 2019-08-05                    25           124218                    23   \n",
       "\n",
       "   revenuePerDateB  transactionsCummulativeA  revenueCummulativeA  \\\n",
       "0           101217                        24               148579   \n",
       "1           165531                        44               242401   \n",
       "2           114248                        68               354874   \n",
       "3           108571                        84               425699   \n",
       "4            92428                       109               549917   \n",
       "\n",
       "   transactionsCummulativeB  revenueCummulativeB  visitorsPerDateA  \\\n",
       "0                        21               101217               719   \n",
       "1                        45               266748               619   \n",
       "2                        61               380996               507   \n",
       "3                        78               489567               717   \n",
       "4                       101               581995               756   \n",
       "\n",
       "   visitorsPerDateB  visitorsCummulativeA  visitorsCummulativeB  \n",
       "0               713                   719                   713  \n",
       "1               581                  1338                  1294  \n",
       "2               509                  1845                  1803  \n",
       "3               770                  2562                  2573  \n",
       "4               707                  3318                  3280  "
      ]
     },
     "execution_count": 47,
     "metadata": {},
     "output_type": "execute_result"
    }
   ],
   "source": [
    "# Составим общую таблицу из предыдущих\n",
    "data = (\n",
    "    transactionsADaily.merge(\n",
    "        transactionsBDaily, left_on='date', right_on='date', how='left'\n",
    "    )\n",
    "    .merge(transactionsACummulative, left_on='date', right_on='date', how='left')\n",
    "    .merge(transactionsBCummulative, left_on='date', right_on='date', how='left')\n",
    "    .merge(visitorsADaily, left_on='date', right_on='date', how='left')\n",
    "    .merge(visitorsBDaily, left_on='date', right_on='date', how='left')\n",
    "    .merge(visitorsACummulative, left_on='date', right_on='date', how='left')\n",
    "    .merge(visitorsBCummulative, left_on='date', right_on='date', how='left')\n",
    ")\n",
    "data.head(5)"
   ]
  },
  {
   "cell_type": "code",
   "execution_count": 48,
   "metadata": {},
   "outputs": [
    {
     "data": {
      "text/html": [
       "<div>\n",
       "<style scoped>\n",
       "    .dataframe tbody tr th:only-of-type {\n",
       "        vertical-align: middle;\n",
       "    }\n",
       "\n",
       "    .dataframe tbody tr th {\n",
       "        vertical-align: top;\n",
       "    }\n",
       "\n",
       "    .dataframe thead th {\n",
       "        text-align: right;\n",
       "    }\n",
       "</style>\n",
       "<table border=\"1\" class=\"dataframe\">\n",
       "  <thead>\n",
       "    <tr style=\"text-align: right;\">\n",
       "      <th></th>\n",
       "      <th>visitorId</th>\n",
       "      <th>transactions</th>\n",
       "    </tr>\n",
       "  </thead>\n",
       "  <tbody>\n",
       "    <tr>\n",
       "      <th>0</th>\n",
       "      <td>8300375</td>\n",
       "      <td>1</td>\n",
       "    </tr>\n",
       "    <tr>\n",
       "      <th>1</th>\n",
       "      <td>11685486</td>\n",
       "      <td>1</td>\n",
       "    </tr>\n",
       "    <tr>\n",
       "      <th>2</th>\n",
       "      <td>54447517</td>\n",
       "      <td>1</td>\n",
       "    </tr>\n",
       "    <tr>\n",
       "      <th>3</th>\n",
       "      <td>66685450</td>\n",
       "      <td>1</td>\n",
       "    </tr>\n",
       "    <tr>\n",
       "      <th>4</th>\n",
       "      <td>78758296</td>\n",
       "      <td>1</td>\n",
       "    </tr>\n",
       "  </tbody>\n",
       "</table>\n",
       "</div>"
      ],
      "text/plain": [
       "   visitorId  transactions\n",
       "0    8300375             1\n",
       "1   11685486             1\n",
       "2   54447517             1\n",
       "3   66685450             1\n",
       "4   78758296             1"
      ]
     },
     "execution_count": 48,
     "metadata": {},
     "output_type": "execute_result"
    }
   ],
   "source": [
    "# Посчитаем кол-во заказов каждого пользователя в группе А\n",
    "transactionsByUsersA = (\n",
    "    orders[orders['group'] == 'A']\n",
    "    .groupby('visitorId', as_index=False)\n",
    "    .agg({'transactionId': pd.Series.nunique})\n",
    ")\n",
    "transactionsByUsersA.columns = ['visitorId', 'transactions']\n",
    "transactionsByUsersA.head(5)                          "
   ]
  },
  {
   "cell_type": "code",
   "execution_count": 49,
   "metadata": {},
   "outputs": [
    {
     "data": {
      "text/html": [
       "<div>\n",
       "<style scoped>\n",
       "    .dataframe tbody tr th:only-of-type {\n",
       "        vertical-align: middle;\n",
       "    }\n",
       "\n",
       "    .dataframe tbody tr th {\n",
       "        vertical-align: top;\n",
       "    }\n",
       "\n",
       "    .dataframe thead th {\n",
       "        text-align: right;\n",
       "    }\n",
       "</style>\n",
       "<table border=\"1\" class=\"dataframe\">\n",
       "  <thead>\n",
       "    <tr style=\"text-align: right;\">\n",
       "      <th></th>\n",
       "      <th>visitorId</th>\n",
       "      <th>transactions</th>\n",
       "    </tr>\n",
       "  </thead>\n",
       "  <tbody>\n",
       "    <tr>\n",
       "      <th>0</th>\n",
       "      <td>5114589</td>\n",
       "      <td>1</td>\n",
       "    </tr>\n",
       "    <tr>\n",
       "      <th>1</th>\n",
       "      <td>6958315</td>\n",
       "      <td>1</td>\n",
       "    </tr>\n",
       "    <tr>\n",
       "      <th>2</th>\n",
       "      <td>8300375</td>\n",
       "      <td>1</td>\n",
       "    </tr>\n",
       "    <tr>\n",
       "      <th>3</th>\n",
       "      <td>39475350</td>\n",
       "      <td>1</td>\n",
       "    </tr>\n",
       "    <tr>\n",
       "      <th>4</th>\n",
       "      <td>47206413</td>\n",
       "      <td>1</td>\n",
       "    </tr>\n",
       "  </tbody>\n",
       "</table>\n",
       "</div>"
      ],
      "text/plain": [
       "   visitorId  transactions\n",
       "0    5114589             1\n",
       "1    6958315             1\n",
       "2    8300375             1\n",
       "3   39475350             1\n",
       "4   47206413             1"
      ]
     },
     "execution_count": 49,
     "metadata": {},
     "output_type": "execute_result"
    }
   ],
   "source": [
    "# Посчитаем кол-во заказов каждого пользователя в группе В\n",
    "transactionsByUsersB = (\n",
    "    orders[orders['group'] == 'B']\n",
    "    .groupby('visitorId', as_index=False)\n",
    "    .agg({'transactionId': pd.Series.nunique})\n",
    ")\n",
    "transactionsByUsersB.columns = ['visitorId', 'transactions']\n",
    "transactionsByUsersB.head(5)"
   ]
  },
  {
   "cell_type": "code",
   "execution_count": 50,
   "metadata": {},
   "outputs": [
    {
     "data": {
      "text/plain": [
       "0        1\n",
       "1        1\n",
       "2        1\n",
       "3        1\n",
       "4        1\n",
       "        ..\n",
       "18223    0\n",
       "18224    0\n",
       "18225    0\n",
       "18226    0\n",
       "18227    0\n",
       "Name: transactions, Length: 18731, dtype: int64"
      ]
     },
     "execution_count": 50,
     "metadata": {},
     "output_type": "execute_result"
    }
   ],
   "source": [
    "# Объявим переменную sampleA, в которую пользователям с заказами будет соответствовать число заказов пользователя.\n",
    "# А пользователям без заказов — нули. \n",
    "sampleA = pd.concat(\n",
    "    [\n",
    "        transactionsByUsersA['transactions'],\n",
    "        pd.Series(\n",
    "            0,\n",
    "            index=np.arange(\n",
    "                data['visitorsPerDateA'].sum() - len(transactionsByUsersA['transactions'])\n",
    "            ),\n",
    "            name='transactions',\n",
    "        ),\n",
    "    ],\n",
    "    axis=0,\n",
    ")\n",
    "sampleA.head(-5)"
   ]
  },
  {
   "cell_type": "code",
   "execution_count": 51,
   "metadata": {},
   "outputs": [
    {
     "data": {
      "text/plain": [
       "0        1\n",
       "1        1\n",
       "2        1\n",
       "3        1\n",
       "4        1\n",
       "        ..\n",
       "18320    0\n",
       "18321    0\n",
       "18322    0\n",
       "18323    0\n",
       "18324    0\n",
       "Name: transactions, Length: 18911, dtype: int64"
      ]
     },
     "execution_count": 51,
     "metadata": {},
     "output_type": "execute_result"
    }
   ],
   "source": [
    "# Объявим переменную sampleB, в которую пользователям с заказами будет соответствовать число заказов пользователя.\n",
    "# А пользователям без заказов — нули.\n",
    "sampleB = pd.concat(\n",
    "    [\n",
    "        transactionsByUsersB['transactions'],\n",
    "        pd.Series(\n",
    "            0,\n",
    "            index=np.arange(\n",
    "                data['visitorsPerDateB'].sum() - len(transactionsByUsersB['transactions'])\n",
    "            ),\n",
    "            name='transactions',\n",
    "        ),\n",
    "    ],\n",
    "    axis=0,\n",
    ")\n",
    "sampleB.head(-5)"
   ]
  },
  {
   "cell_type": "markdown",
   "metadata": {},
   "source": [
    "- Нулевая гипотеза : по «сырым» данным различий в среднем числе заказов групп A и B нет.\n",
    "- Альтернативная гипотеза : по «сырым» данным есть различие в среднем числе заказов групп A и B."
   ]
  },
  {
   "cell_type": "code",
   "execution_count": 52,
   "metadata": {
    "scrolled": true
   },
   "outputs": [
    {
     "name": "stdout",
     "output_type": "stream",
     "text": [
      "p-значение: 0.017\n",
      "Отвергаем нулевую гипотезу: : по «сырым» данным есть различие в среднем числе заказов групп A и B.\n",
      "0.138\n"
     ]
    }
   ],
   "source": [
    "alpha = 0.05  # критический уровень статистической значимости\n",
    "results = stats.mannwhitneyu(sampleA, sampleB)[1]\n",
    "print(\"p-значение: {0:.3f}\".format(results))\n",
    "if results < alpha:\n",
    "    print('Отвергаем нулевую гипотезу: : по «сырым» данным есть различие в среднем числе заказов групп A и B.')\n",
    "else:\n",
    "    print(\n",
    "        'Не получилось отвергнуть нулевую гипотезу, по «сырым» данным различий в среднем числе заказов групп A и B нет. '\n",
    "    ) \n",
    "#  Относительный прирост среднего числа заказов группы B\n",
    "\n",
    "print(\"{0:.3f}\".format(sampleB.mean() / sampleA.mean() - 1))"
   ]
  },
  {
   "cell_type": "markdown",
   "metadata": {},
   "source": [
    "**Вывод:**\n",
    "- p-значение: 0.017\n",
    "- Отвергаем нулевую гипотезу: : по «сырым» данным есть различие в среднем числе заказов групп A и B.\n",
    "- Относительный прирост среднего числа заказов группы B : 13,8%"
   ]
  },
  {
   "cell_type": "markdown",
   "metadata": {},
   "source": [
    "### Посчитаем статистическую значимость различий в среднем чеке заказа между группами по «сырым» данным."
   ]
  },
  {
   "cell_type": "markdown",
   "metadata": {},
   "source": [
    "- Нулевая гипотеза : по «сырым» данным различий в среднем чеке заказа между группами A и B нет.\n",
    "- Альтернативная гипотеза : по «сырым» данным есть различие в среднем чеке заказа между группами A и B."
   ]
  },
  {
   "cell_type": "code",
   "execution_count": 53,
   "metadata": {},
   "outputs": [
    {
     "name": "stdout",
     "output_type": "stream",
     "text": [
      "p-значение: 0.729\n",
      "Не получилось отвергнуть нулевую гипотезу, по «сырым» данным есть различие в среднем чеке заказа между группами A и B\n",
      "0.259\n"
     ]
    }
   ],
   "source": [
    "results = stats.mannwhitneyu(orders[orders['group']=='A']['revenue'], orders[orders['group']=='B']['revenue'])[1]\n",
    "print(\"p-значение: {0:.3f}\".format(results))\n",
    "if results < alpha:\n",
    "    print('Отвергаем нулевую гипотезу: : по «сырым» данным различий в среднем чеке заказа между группами A и B нет')\n",
    "else:\n",
    "    print(\n",
    "        'Не получилось отвергнуть нулевую гипотезу, по «сырым» данным есть различие в среднем чеке заказа между группами A и B'\n",
    "    ) \n",
    "\n",
    "print('{0:.3f}'.format(orders[orders['group']=='B']['revenue'].mean()/orders[orders['group']=='A']['revenue'].mean()-1))"
   ]
  },
  {
   "cell_type": "markdown",
   "metadata": {},
   "source": [
    "**Вывод:**\n",
    "- p-значение: 0.729\n",
    "- Не получилось отвергнуть нулевую гипотезу, по «сырым» данным различий в среднем чеке заказа между группами A и B нет.\n",
    "- Средний чек группы A значительно меньше, разница в 25,9%"
   ]
  },
  {
   "cell_type": "markdown",
   "metadata": {},
   "source": [
    "### Посчитаем статистическую значимость различий в среднем количестве заказов на посетителя между группами по «очищенным» данным. "
   ]
  },
  {
   "cell_type": "code",
   "execution_count": 54,
   "metadata": {},
   "outputs": [
    {
     "name": "stdout",
     "output_type": "stream",
     "text": [
      "Число аномальных пользователей =  60\n"
     ]
    }
   ],
   "source": [
    "# Сделаем срез пользователей с числом заказов больше 4\n",
    "usersWithManyOrders = pd.concat(\n",
    "    [\n",
    "        transactionsByUsersA[transactionsByUsersA['transactions'] > 4]['visitorId'],\n",
    "        transactionsByUsersB[transactionsByUsersB['transactions'] > 4]['visitorId'],\n",
    "    ],\n",
    "    axis=0,\n",
    ")\n",
    "# Сделаем срез пользователей, совершивших заказы дороже 28 000\n",
    "usersWithExpensiveOrders = orders[orders['revenue'] > 28000]['visitorId']\n",
    "# Объединим их в таблице abnormalUsers\n",
    "abnormalUsers = (\n",
    "    pd.concat([usersWithManyOrders, usersWithExpensiveOrders], axis=0)\n",
    "    .drop_duplicates()\n",
    "    .sort_values()\n",
    ")\n",
    "print('Число аномальных пользователей = ', usersWithExpensiveOrders.count())"
   ]
  },
  {
   "cell_type": "code",
   "execution_count": 55,
   "metadata": {},
   "outputs": [
    {
     "data": {
      "text/plain": [
       "0        1\n",
       "1        1\n",
       "2        1\n",
       "3        1\n",
       "4        1\n",
       "        ..\n",
       "18223    0\n",
       "18224    0\n",
       "18225    0\n",
       "18226    0\n",
       "18227    0\n",
       "Length: 18698, dtype: int64"
      ]
     },
     "execution_count": 55,
     "metadata": {},
     "output_type": "execute_result"
    }
   ],
   "source": [
    "# Cохраним очищенные данные о заказах, не включая аномальных пользователей группы А.\n",
    "sampleAFiltered = pd.concat(\n",
    "    [\n",
    "        transactionsByUsersA[\n",
    "            np.logical_not(transactionsByUsersA['visitorId'].isin(abnormalUsers))\n",
    "        ]['transactions'],\n",
    "        pd.Series(\n",
    "            0,\n",
    "            index=np.arange(\n",
    "                data['visitorsPerDateA'].sum() - len(transactionsByUsersA['transactions'])\n",
    "            ),\n",
    "            name='orders',\n",
    "        ),\n",
    "    ],\n",
    "    axis=0,\n",
    ")\n",
    "sampleAFiltered.head(-5)"
   ]
  },
  {
   "cell_type": "code",
   "execution_count": 56,
   "metadata": {},
   "outputs": [
    {
     "data": {
      "text/plain": [
       "0        1\n",
       "1        1\n",
       "2        1\n",
       "3        1\n",
       "4        1\n",
       "        ..\n",
       "18320    0\n",
       "18321    0\n",
       "18322    0\n",
       "18323    0\n",
       "18324    0\n",
       "Length: 18874, dtype: int64"
      ]
     },
     "execution_count": 56,
     "metadata": {},
     "output_type": "execute_result"
    }
   ],
   "source": [
    "# Cохраним очищенные данные о заказах, не включая аномальных пользователей группы В.\n",
    "sampleBFiltered = pd.concat(\n",
    "    [\n",
    "        transactionsByUsersB[\n",
    "            np.logical_not(transactionsByUsersB['visitorId'].isin(abnormalUsers))\n",
    "        ]['transactions'],\n",
    "        pd.Series(\n",
    "            0,\n",
    "            index=np.arange(\n",
    "                data['visitorsPerDateB'].sum() - len(transactionsByUsersB['transactions'])\n",
    "            ),\n",
    "            name='orders',\n",
    "        ),\n",
    "    ],\n",
    "    axis=0,\n",
    ")\n",
    "sampleBFiltered.head(-5)"
   ]
  },
  {
   "cell_type": "markdown",
   "metadata": {},
   "source": [
    "- Нулевая гипотеза : по «очищенным» данным различий в среднем числе заказов групп A и B нет.\n",
    "- Альтернативная гипотеза : по «очищенным» данным есть различие в среднем числе заказов групп A и B."
   ]
  },
  {
   "cell_type": "code",
   "execution_count": 57,
   "metadata": {},
   "outputs": [
    {
     "name": "stdout",
     "output_type": "stream",
     "text": [
      "p-значение: 0.018\n",
      "Отвергаем нулевую гипотезу: : по «очищенным» данным есть различие в среднем числе заказов групп A и B.\n",
      "0.145\n"
     ]
    }
   ],
   "source": [
    "results = stats.mannwhitneyu(sampleAFiltered, sampleBFiltered)[1]\n",
    "print(\"p-значение: {0:.3f}\".format(results))\n",
    "if results < alpha:\n",
    "    print('Отвергаем нулевую гипотезу: : по «очищенным» данным есть различие в среднем числе заказов групп A и B.')\n",
    "else:\n",
    "    print(\n",
    "        'Не получилось отвергнуть нулевую гипотезу, по «очищенным» данным различий в среднем числе заказов групп A и B нет. '\n",
    "    ) \n",
    "#  Относительный прирост среднего числа заказов группы B\n",
    "\n",
    "print(\"{0:.3f}\".format(sampleBFiltered.mean() / sampleAFiltered.mean() - 1))"
   ]
  },
  {
   "cell_type": "markdown",
   "metadata": {},
   "source": [
    "**Вывод:**\n",
    "- p-значение: 0.018\n",
    "- Отвергаем нулевую гипотезу: : по «очищенным» данным есть различие в среднем числе заказов групп A и B.\n",
    "- Относительный прирост среднего числа заказов группы B : 14,5%"
   ]
  },
  {
   "cell_type": "markdown",
   "metadata": {},
   "source": [
    "### Посчитаем статистическую значимость различий в среднем чеке заказа между группами по «очищенным» данным. "
   ]
  },
  {
   "cell_type": "markdown",
   "metadata": {},
   "source": [
    "- Нулевая гипотеза : по «очищенным» данным различий в среднем чеке заказа между группами A и B нет.\n",
    "- Альтернативная гипотеза : по «очищенным» данным есть различие в среднем чеке заказа между группами A и B."
   ]
  },
  {
   "cell_type": "code",
   "execution_count": 58,
   "metadata": {
    "scrolled": true
   },
   "outputs": [
    {
     "name": "stdout",
     "output_type": "stream",
     "text": [
      "p-значение: 0.961\n",
      "Не получилось отвергнуть нулевую гипотезу, по «очищенным» данным есть различие в среднем чеке заказа между группами A и B.\n",
      "-0.014\n"
     ]
    }
   ],
   "source": [
    "results = stats.mannwhitneyu(\n",
    "            orders[\n",
    "                np.logical_and(\n",
    "                    orders['group'] == 'A',\n",
    "                    np.logical_not(orders['visitorId'].isin(abnormalUsers)),\n",
    "                )\n",
    "            ]['revenue'],\n",
    "            orders[\n",
    "                np.logical_and(\n",
    "                    orders['group'] == 'B',\n",
    "                    np.logical_not(orders['visitorId'].isin(abnormalUsers)),\n",
    "                )\n",
    "            ]['revenue'],\n",
    "        )[1]\n",
    "print(\"p-значение: {0:.3f}\".format(results))\n",
    "if results < alpha:\n",
    "    print('Отвергаем нулевую гипотезу: : по «очищенным» данным различий в среднем чеке заказа между группами A и B нет.')\n",
    "else:\n",
    "    print(\n",
    "        'Не получилось отвергнуть нулевую гипотезу, по «очищенным» данным есть различие в среднем чеке заказа между группами A и B.'\n",
    "    ) \n",
    "\n",
    "print(\n",
    "    \"{0:.3f}\".format(\n",
    "        orders[\n",
    "            np.logical_and(\n",
    "                orders['group'] == 'B',\n",
    "                np.logical_not(orders['visitorId'].isin(abnormalUsers)),\n",
    "            )\n",
    "        ]['revenue'].mean()\n",
    "        / orders[\n",
    "            np.logical_and(\n",
    "                orders['group'] == 'A',\n",
    "                np.logical_not(orders['visitorId'].isin(abnormalUsers)),\n",
    "            )\n",
    "        ]['revenue'].mean()\n",
    "        - 1\n",
    "    )\n",
    ") "
   ]
  },
  {
   "cell_type": "markdown",
   "metadata": {},
   "source": [
    "**Вывод:**\n",
    "- p-значение: 0.961\n",
    "- Не получилось отвергнуть нулевую гипотезу, по «очищенным» данным различий в среднем чеке заказа между группами A и B нет.\n",
    "- Средний чек группы A не значительно больше, разница в 1,4%"
   ]
  },
  {
   "cell_type": "markdown",
   "metadata": {},
   "source": [
    "### Общий вывод по анализу A/B-теста"
   ]
  },
  {
   "cell_type": "markdown",
   "metadata": {},
   "source": [
    "1. Анализ датасета orders\n",
    "    - Тип данных в столбце date изменет с object на datetime64\n",
    "    - Пропуски не обнаружены\n",
    "    - Дубликаты не обнаружены\n",
    "    - 2 группы теста: A и B\n",
    "    - Тест проводился с 2019-08-01 по 2019-08-31\n",
    "    - 58 пользователей попало в обе группы\n",
    "    - Вероятность попадания пользователей в обе группы: 5.63%\n",
    "2. Анализ датасета visitors\n",
    "    - Тип данных в столбце date изменит с object на datetime64\n",
    "    - Пропуски не обнаружены\n",
    "    - Дубликаты не обнаружены\n",
    "    - 2 группы теста: A и B\n",
    "    - Тест проводился с 2019-08-01 по 2019-08-31\n",
    "3.  Построение графика кумулятивной выручки по группам\n",
    "    - Выручка почти равномерно увеличивается в течение всего теста\n",
    "    - Виден резкий рост в группе В в районе 19 числа. Это может сигнализировать о всплесках числа заказов, либо о появлении очень дорогих заказов в выборке.\n",
    "4. Построение графика кумулятивного среднего чека по группам\n",
    "    - Средний чек становится равномерным ближе к концу теста. Для группы А параметр установился, для группы В падает.\n",
    "    -  Возможно, в группу B в районе 19 числа попали крупные заказы (резкий всплеск на графике). \n",
    "5. Построение графика относительного изменения кумулятивного среднего чека группы B к группе A\n",
    "    - Заметны скачки графика в нескольких точках, что также сигнализирует нам о выбросах в виде крупных заказов.\n",
    "6. Построение графика кумулятивного среднего количества заказов на посетителя по группам\n",
    "    - К концу теста параметр для обеих групп почти зафиксировался, хотя и видны флуктационные изменения.\n",
    "    - Среднее кол-во заказов для группы В значительно выше\n",
    "7. Построение графика относительного изменения кумулятивного среднего количества заказов на посетителя группы B к группе A\n",
    "    - В самом начале теста группа В проигрывала группе А, затем вырвалась вперёд и в последние дни демонстрирует относительный рост\n",
    "8. Построение точечного графика количества заказов по пользователям\n",
    "    - На графике видны аномальные пользователи, совершившие больше 3 заказов. Подавляющее большинство пользователей совершили до 2 заказов.\n",
    "9.  Посчитаем 95-й и 99-й перцентили количества заказов на пользователя. Выберем границу для определения аномальных пользователей.\n",
    "    - Не более 5% пользователей совершили более 2 заказов и не более 1% больше 4 заказов.\n",
    "    - Разумно выбрать 4 заказа на одного пользователя за верхнюю границу числа заказов, и отсеять аномальных пользователей по ней.\n",
    "10. Построение точечного графика стоимостей заказов.\n",
    "    - На графике видны пара заметных выбросов.\n",
    "    - По большей части все заказы имеют похожую стоимость\n",
    "11. Посчитаем 95-й и 99-й перцентили стоимости заказов. Выберем границу для определения аномальных заказов.\n",
    "    - Не более 5% заказов стоят больше 28000 и не более 1% больше 58233.2.\n",
    "    - В данном случае выберем верхней границей стоимость заказа в 28000.\n",
    "12. Посчитаем статистическую значимость различий в среднем количестве заказов на посетителя между группами по «сырым» данным.\n",
    "    - p-значение: 0.017\n",
    "    - Отвергаем нулевую гипотезу: : по «сырым» данным есть различие в среднем числе заказов групп A и B.\n",
    "    - Относительный прирост среднего числа заказов группы B : 13,8%\n",
    "13. Посчитаем статистическую значимость различий в среднем чеке заказа между группами по «сырым» данным.\n",
    "    - p-значение: 0.729\n",
    "    - Не получилось отвергнуть нулевую гипотезу, по «сырым» данным различий в среднем чеке заказа между группами A и B нет.\n",
    "    - Средний чек группы A значительно меньше, разница в 25,9%\n",
    "14.  Посчитаем статистическую значимость различий в среднем количестве заказов на посетителя между группами по «очищенным» данным.\n",
    "    - p-значение: 0.018\n",
    "    - Отвергаем нулевую гипотезу: : по «очищенным» данным есть различие в среднем числе заказов групп A и B.\n",
    "    - Относительный прирост среднего числа заказов группы B : 14,5%\n",
    "    - Таким образом, даже после осеивания аномальных пользователей, по «очищенным» данным есть различие в среднем числе заказов групп A и B.\n",
    "15. Посчитаем статистическую значимость различий в среднем чеке заказа между группами по «очищенным» данным.\n",
    "    - p-значение: 0.961\n",
    "    - Не получилось отвергнуть нулевую гипотезу, по «очищенным» данным различий в среднем чеке заказа между группами A и B нет.\n",
    "    - Средний чек группы A не значительно больше, разница в 1,4%, хотя в сырых данных разница составляла 25,9%"
   ]
  },
  {
   "cell_type": "markdown",
   "metadata": {},
   "source": [
    "## Результаты"
   ]
  },
  {
   "cell_type": "markdown",
   "metadata": {},
   "source": [
    "1. Есть статистически значимое различие по числу заказов между группами как по сырым данным, так и после очистки аномалий.\n",
    "2. По сырым данным, как и после очистки, нет статистически значимого различия по среднему чеку между группами.\n",
    "3. График кумулятивной выручки по дням и группам сообщает, что результаты группы B лучше группы A: обе группы имеют тенденцию к росту, но группа В опережает.\n",
    "4. По графику относительного изменения кумулятивного среднего чека группы B к группе A нельзя сделать определенных выводов. Заметны скачки графика в нескольких точках, что сигнализирует нам о выбросах в виде крупных заказов.\n",
    "5. График относительного изменения кумулятивного среднего количества заказов на посетителя группы B к группе A, сообщает, что группа В демонстрирует лучшие результаты. Также видна небольшая тенденция к росту группы В.\n",
    "6. **Достигнута статистическая значимость: число заказов в группе В больше. Смысла продолжать тест нет.**"
   ]
  }
 ],
 "metadata": {
  "ExecuteTimeLog": [
   {
    "duration": 1288,
    "start_time": "2023-11-05T13:06:11.087Z"
   },
   {
    "duration": 59,
    "start_time": "2023-11-05T13:09:27.718Z"
   },
   {
    "duration": 15,
    "start_time": "2023-11-05T13:09:31.368Z"
   },
   {
    "duration": 48,
    "start_time": "2023-11-05T13:10:01.479Z"
   },
   {
    "duration": 8,
    "start_time": "2023-11-05T13:10:07.639Z"
   },
   {
    "duration": 5,
    "start_time": "2023-11-05T13:13:02.677Z"
   },
   {
    "duration": 4,
    "start_time": "2023-11-05T13:13:30.392Z"
   },
   {
    "duration": 6,
    "start_time": "2023-11-05T13:13:46.139Z"
   },
   {
    "duration": 7,
    "start_time": "2023-11-05T13:13:51.087Z"
   },
   {
    "duration": 1334,
    "start_time": "2023-11-05T13:15:16.467Z"
   },
   {
    "duration": 7,
    "start_time": "2023-11-05T13:15:45.927Z"
   },
   {
    "duration": 3,
    "start_time": "2023-11-05T13:16:11.970Z"
   },
   {
    "duration": 6,
    "start_time": "2023-11-05T13:16:13.198Z"
   },
   {
    "duration": 18,
    "start_time": "2023-11-05T13:16:13.706Z"
   },
   {
    "duration": 11,
    "start_time": "2023-11-05T13:16:19.882Z"
   },
   {
    "duration": 11,
    "start_time": "2023-11-05T13:17:07.512Z"
   },
   {
    "duration": 12,
    "start_time": "2023-11-05T13:19:54.966Z"
   },
   {
    "duration": 11,
    "start_time": "2023-11-05T13:19:59.963Z"
   },
   {
    "duration": 94,
    "start_time": "2023-11-05T13:30:16.317Z"
   },
   {
    "duration": 97,
    "start_time": "2023-11-05T13:31:29.121Z"
   },
   {
    "duration": 11,
    "start_time": "2023-11-05T13:31:41.080Z"
   },
   {
    "duration": 61,
    "start_time": "2023-11-05T13:31:43.002Z"
   },
   {
    "duration": 8,
    "start_time": "2023-11-05T13:31:43.368Z"
   },
   {
    "duration": 11,
    "start_time": "2023-11-05T13:31:47.488Z"
   },
   {
    "duration": 15,
    "start_time": "2023-11-05T13:33:21.883Z"
   },
   {
    "duration": 65,
    "start_time": "2023-11-05T13:34:01.574Z"
   },
   {
    "duration": 14,
    "start_time": "2023-11-05T13:34:02.197Z"
   },
   {
    "duration": 13,
    "start_time": "2023-11-05T13:34:07.945Z"
   },
   {
    "duration": 9,
    "start_time": "2023-11-05T13:34:37.181Z"
   },
   {
    "duration": 61,
    "start_time": "2023-11-05T13:34:46.647Z"
   },
   {
    "duration": 11,
    "start_time": "2023-11-05T13:34:47.434Z"
   },
   {
    "duration": 11,
    "start_time": "2023-11-05T13:34:47.633Z"
   },
   {
    "duration": 18,
    "start_time": "2023-11-05T13:34:50.014Z"
   },
   {
    "duration": 13,
    "start_time": "2023-11-05T13:34:57.234Z"
   },
   {
    "duration": 11,
    "start_time": "2023-11-05T13:36:02.428Z"
   },
   {
    "duration": 10,
    "start_time": "2023-11-05T13:36:09.912Z"
   },
   {
    "duration": 12,
    "start_time": "2023-11-05T13:36:17.153Z"
   },
   {
    "duration": 8,
    "start_time": "2023-11-05T13:36:21.800Z"
   },
   {
    "duration": 7,
    "start_time": "2023-11-05T13:38:22.886Z"
   },
   {
    "duration": 8,
    "start_time": "2023-11-05T13:38:33.787Z"
   },
   {
    "duration": 5,
    "start_time": "2023-11-05T13:38:37.568Z"
   },
   {
    "duration": 7,
    "start_time": "2023-11-05T13:39:49.452Z"
   },
   {
    "duration": 7,
    "start_time": "2023-11-05T13:40:34.235Z"
   },
   {
    "duration": 7,
    "start_time": "2023-11-05T13:40:58.048Z"
   },
   {
    "duration": 5,
    "start_time": "2023-11-05T13:41:28.556Z"
   },
   {
    "duration": 4,
    "start_time": "2023-11-05T13:41:46.491Z"
   },
   {
    "duration": 4,
    "start_time": "2023-11-05T13:41:58.005Z"
   },
   {
    "duration": 4,
    "start_time": "2023-11-05T13:42:21.478Z"
   },
   {
    "duration": 10,
    "start_time": "2023-11-05T14:46:47.769Z"
   },
   {
    "duration": 24,
    "start_time": "2023-11-05T14:48:52.278Z"
   },
   {
    "duration": 224,
    "start_time": "2023-11-05T14:49:41.889Z"
   },
   {
    "duration": 175,
    "start_time": "2023-11-05T14:51:37.668Z"
   },
   {
    "duration": 172,
    "start_time": "2023-11-05T14:51:43.391Z"
   },
   {
    "duration": 182,
    "start_time": "2023-11-05T14:51:53.133Z"
   },
   {
    "duration": 151,
    "start_time": "2023-11-05T14:58:13.915Z"
   },
   {
    "duration": 128,
    "start_time": "2023-11-05T15:02:06.065Z"
   },
   {
    "duration": 12,
    "start_time": "2023-11-05T15:03:36.527Z"
   },
   {
    "duration": 13,
    "start_time": "2023-11-05T15:04:36.624Z"
   },
   {
    "duration": 15,
    "start_time": "2023-11-05T15:13:56.940Z"
   },
   {
    "duration": 6,
    "start_time": "2023-11-05T15:14:10.712Z"
   },
   {
    "duration": 6,
    "start_time": "2023-11-05T15:14:59.757Z"
   },
   {
    "duration": 1995,
    "start_time": "2023-11-05T15:15:02.879Z"
   },
   {
    "duration": 281,
    "start_time": "2023-11-05T15:15:13.195Z"
   },
   {
    "duration": 10,
    "start_time": "2023-11-05T15:15:41.313Z"
   },
   {
    "duration": 197,
    "start_time": "2023-11-05T15:16:23.919Z"
   },
   {
    "duration": 204,
    "start_time": "2023-11-05T15:16:30.166Z"
   },
   {
    "duration": 276,
    "start_time": "2023-11-05T15:18:24.503Z"
   },
   {
    "duration": 3,
    "start_time": "2023-11-05T15:18:55.915Z"
   },
   {
    "duration": 221,
    "start_time": "2023-11-05T15:19:00.836Z"
   },
   {
    "duration": 196,
    "start_time": "2023-11-05T15:19:41.873Z"
   },
   {
    "duration": 279,
    "start_time": "2023-11-05T15:20:13.306Z"
   },
   {
    "duration": 230,
    "start_time": "2023-11-05T15:21:03.728Z"
   },
   {
    "duration": 184,
    "start_time": "2023-11-05T15:21:11.856Z"
   },
   {
    "duration": 202,
    "start_time": "2023-11-05T15:21:25.452Z"
   },
   {
    "duration": 199,
    "start_time": "2023-11-05T15:21:33.196Z"
   },
   {
    "duration": 218,
    "start_time": "2023-11-05T15:22:50.564Z"
   },
   {
    "duration": 212,
    "start_time": "2023-11-05T15:22:54.997Z"
   },
   {
    "duration": 230,
    "start_time": "2023-11-05T15:38:37.528Z"
   },
   {
    "duration": 228,
    "start_time": "2023-11-05T15:39:38.141Z"
   },
   {
    "duration": 204,
    "start_time": "2023-11-05T15:39:56.804Z"
   },
   {
    "duration": 251,
    "start_time": "2023-11-05T15:40:17.269Z"
   },
   {
    "duration": 233,
    "start_time": "2023-11-05T15:40:21.666Z"
   },
   {
    "duration": 570,
    "start_time": "2023-11-05T15:40:28.335Z"
   },
   {
    "duration": 244,
    "start_time": "2023-11-05T15:40:32.161Z"
   },
   {
    "duration": 239,
    "start_time": "2023-11-05T15:40:42.432Z"
   },
   {
    "duration": 261,
    "start_time": "2023-11-05T15:40:53.745Z"
   },
   {
    "duration": 220,
    "start_time": "2023-11-05T15:40:58.163Z"
   },
   {
    "duration": 265,
    "start_time": "2023-11-05T15:41:04.069Z"
   },
   {
    "duration": 272,
    "start_time": "2023-11-05T15:41:24.276Z"
   },
   {
    "duration": 254,
    "start_time": "2023-11-05T15:41:31.964Z"
   },
   {
    "duration": 1148,
    "start_time": "2023-11-05T15:42:40.028Z"
   },
   {
    "duration": 172,
    "start_time": "2023-11-05T15:42:55.197Z"
   },
   {
    "duration": 203,
    "start_time": "2023-11-05T15:43:40.029Z"
   },
   {
    "duration": 221,
    "start_time": "2023-11-05T15:44:34.104Z"
   },
   {
    "duration": 263,
    "start_time": "2023-11-05T15:45:47.021Z"
   },
   {
    "duration": 210,
    "start_time": "2023-11-05T15:47:11.759Z"
   },
   {
    "duration": 1272,
    "start_time": "2023-11-06T14:09:44.548Z"
   },
   {
    "duration": 62,
    "start_time": "2023-11-06T14:09:45.821Z"
   },
   {
    "duration": 11,
    "start_time": "2023-11-06T14:09:45.885Z"
   },
   {
    "duration": 2,
    "start_time": "2023-11-06T14:09:45.898Z"
   },
   {
    "duration": 6,
    "start_time": "2023-11-06T14:09:45.901Z"
   },
   {
    "duration": 13,
    "start_time": "2023-11-06T14:09:45.909Z"
   },
   {
    "duration": 11,
    "start_time": "2023-11-06T14:09:45.924Z"
   },
   {
    "duration": 137,
    "start_time": "2023-11-06T14:09:45.937Z"
   },
   {
    "duration": 12,
    "start_time": "2023-11-06T14:09:46.076Z"
   },
   {
    "duration": 16,
    "start_time": "2023-11-06T14:09:46.091Z"
   },
   {
    "duration": 6,
    "start_time": "2023-11-06T14:09:46.109Z"
   },
   {
    "duration": 5,
    "start_time": "2023-11-06T14:09:46.116Z"
   },
   {
    "duration": 4,
    "start_time": "2023-11-06T14:09:46.123Z"
   },
   {
    "duration": 9,
    "start_time": "2023-11-06T14:09:46.128Z"
   },
   {
    "duration": 11,
    "start_time": "2023-11-06T14:09:46.139Z"
   },
   {
    "duration": 8,
    "start_time": "2023-11-06T14:09:46.151Z"
   },
   {
    "duration": 20,
    "start_time": "2023-11-06T14:09:46.161Z"
   },
   {
    "duration": 6,
    "start_time": "2023-11-06T14:09:46.183Z"
   },
   {
    "duration": 12,
    "start_time": "2023-11-06T14:09:46.190Z"
   },
   {
    "duration": 81,
    "start_time": "2023-11-06T14:09:46.203Z"
   },
   {
    "duration": 0,
    "start_time": "2023-11-06T14:09:46.285Z"
   },
   {
    "duration": 0,
    "start_time": "2023-11-06T14:09:46.286Z"
   },
   {
    "duration": 0,
    "start_time": "2023-11-06T14:09:46.287Z"
   },
   {
    "duration": 0,
    "start_time": "2023-11-06T14:09:46.288Z"
   },
   {
    "duration": 0,
    "start_time": "2023-11-06T14:09:46.290Z"
   },
   {
    "duration": 0,
    "start_time": "2023-11-06T14:09:46.290Z"
   },
   {
    "duration": 1076,
    "start_time": "2023-11-06T14:11:37.419Z"
   },
   {
    "duration": 27,
    "start_time": "2023-11-06T14:11:38.496Z"
   },
   {
    "duration": 10,
    "start_time": "2023-11-06T14:11:38.525Z"
   },
   {
    "duration": 3,
    "start_time": "2023-11-06T14:11:38.536Z"
   },
   {
    "duration": 5,
    "start_time": "2023-11-06T14:11:38.541Z"
   },
   {
    "duration": 13,
    "start_time": "2023-11-06T14:11:38.548Z"
   },
   {
    "duration": 12,
    "start_time": "2023-11-06T14:11:38.563Z"
   },
   {
    "duration": 59,
    "start_time": "2023-11-06T14:11:38.576Z"
   },
   {
    "duration": 10,
    "start_time": "2023-11-06T14:11:38.637Z"
   },
   {
    "duration": 13,
    "start_time": "2023-11-06T14:11:38.648Z"
   },
   {
    "duration": 9,
    "start_time": "2023-11-06T14:11:38.662Z"
   },
   {
    "duration": 10,
    "start_time": "2023-11-06T14:11:38.672Z"
   },
   {
    "duration": 3,
    "start_time": "2023-11-06T14:11:38.683Z"
   },
   {
    "duration": 16,
    "start_time": "2023-11-06T14:11:38.688Z"
   },
   {
    "duration": 22,
    "start_time": "2023-11-06T14:11:38.705Z"
   },
   {
    "duration": 15,
    "start_time": "2023-11-06T14:11:38.728Z"
   },
   {
    "duration": 8,
    "start_time": "2023-11-06T14:11:38.744Z"
   },
   {
    "duration": 21,
    "start_time": "2023-11-06T14:11:38.753Z"
   },
   {
    "duration": 40,
    "start_time": "2023-11-06T14:11:38.775Z"
   },
   {
    "duration": 81,
    "start_time": "2023-11-06T14:11:38.817Z"
   },
   {
    "duration": 0,
    "start_time": "2023-11-06T14:11:38.899Z"
   },
   {
    "duration": 0,
    "start_time": "2023-11-06T14:11:38.900Z"
   },
   {
    "duration": 0,
    "start_time": "2023-11-06T14:11:38.901Z"
   },
   {
    "duration": 0,
    "start_time": "2023-11-06T14:11:38.902Z"
   },
   {
    "duration": 0,
    "start_time": "2023-11-06T14:11:38.903Z"
   },
   {
    "duration": 0,
    "start_time": "2023-11-06T14:11:38.904Z"
   },
   {
    "duration": 164,
    "start_time": "2023-11-06T14:12:13.737Z"
   },
   {
    "duration": 1106,
    "start_time": "2023-11-06T14:12:19.913Z"
   },
   {
    "duration": 28,
    "start_time": "2023-11-06T14:12:21.021Z"
   },
   {
    "duration": 11,
    "start_time": "2023-11-06T14:12:21.050Z"
   },
   {
    "duration": 4,
    "start_time": "2023-11-06T14:12:21.063Z"
   },
   {
    "duration": 6,
    "start_time": "2023-11-06T14:12:21.069Z"
   },
   {
    "duration": 10,
    "start_time": "2023-11-06T14:12:21.077Z"
   },
   {
    "duration": 14,
    "start_time": "2023-11-06T14:12:21.088Z"
   },
   {
    "duration": 58,
    "start_time": "2023-11-06T14:12:21.103Z"
   },
   {
    "duration": 13,
    "start_time": "2023-11-06T14:12:21.162Z"
   },
   {
    "duration": 11,
    "start_time": "2023-11-06T14:12:21.178Z"
   },
   {
    "duration": 12,
    "start_time": "2023-11-06T14:12:21.191Z"
   },
   {
    "duration": 6,
    "start_time": "2023-11-06T14:12:21.205Z"
   },
   {
    "duration": 8,
    "start_time": "2023-11-06T14:12:21.213Z"
   },
   {
    "duration": 14,
    "start_time": "2023-11-06T14:12:21.222Z"
   },
   {
    "duration": 7,
    "start_time": "2023-11-06T14:12:21.239Z"
   },
   {
    "duration": 6,
    "start_time": "2023-11-06T14:12:21.248Z"
   },
   {
    "duration": 20,
    "start_time": "2023-11-06T14:12:21.255Z"
   },
   {
    "duration": 4,
    "start_time": "2023-11-06T14:12:21.277Z"
   },
   {
    "duration": 19,
    "start_time": "2023-11-06T14:12:21.282Z"
   },
   {
    "duration": 175,
    "start_time": "2023-11-06T14:12:21.303Z"
   },
   {
    "duration": 128,
    "start_time": "2023-11-06T14:12:21.479Z"
   },
   {
    "duration": 12,
    "start_time": "2023-11-06T14:12:21.608Z"
   },
   {
    "duration": 29,
    "start_time": "2023-11-06T14:12:21.621Z"
   },
   {
    "duration": 284,
    "start_time": "2023-11-06T14:12:21.651Z"
   },
   {
    "duration": 210,
    "start_time": "2023-11-06T14:12:21.937Z"
   },
   {
    "duration": 1633,
    "start_time": "2023-11-06T14:12:22.148Z"
   },
   {
    "duration": 8,
    "start_time": "2023-11-06T14:13:43.772Z"
   },
   {
    "duration": 255,
    "start_time": "2023-11-06T14:14:08.356Z"
   },
   {
    "duration": 312,
    "start_time": "2023-11-06T14:14:48.204Z"
   },
   {
    "duration": 285,
    "start_time": "2023-11-06T14:15:18.976Z"
   },
   {
    "duration": 275,
    "start_time": "2023-11-06T14:15:26.875Z"
   },
   {
    "duration": 287,
    "start_time": "2023-11-06T14:15:47.001Z"
   },
   {
    "duration": 347,
    "start_time": "2023-11-06T14:17:16.428Z"
   },
   {
    "duration": 11,
    "start_time": "2023-11-06T14:20:22.218Z"
   },
   {
    "duration": 5,
    "start_time": "2023-11-06T14:21:31.291Z"
   },
   {
    "duration": 6,
    "start_time": "2023-11-06T14:22:35.138Z"
   },
   {
    "duration": 1114,
    "start_time": "2023-11-06T14:22:35.708Z"
   },
   {
    "duration": 239,
    "start_time": "2023-11-06T14:23:25.379Z"
   },
   {
    "duration": 245,
    "start_time": "2023-11-06T14:25:09.664Z"
   },
   {
    "duration": 14,
    "start_time": "2023-11-06T14:25:35.199Z"
   },
   {
    "duration": 221,
    "start_time": "2023-11-06T14:25:40.389Z"
   },
   {
    "duration": 376,
    "start_time": "2023-11-06T14:28:56.646Z"
   },
   {
    "duration": 387,
    "start_time": "2023-11-06T14:31:51.735Z"
   },
   {
    "duration": 369,
    "start_time": "2023-11-06T14:32:20.325Z"
   },
   {
    "duration": 313,
    "start_time": "2023-11-06T14:32:27.074Z"
   },
   {
    "duration": 13,
    "start_time": "2023-11-06T14:35:16.660Z"
   },
   {
    "duration": 16,
    "start_time": "2023-11-06T14:37:10.540Z"
   },
   {
    "duration": 10,
    "start_time": "2023-11-06T14:39:08.717Z"
   },
   {
    "duration": 4,
    "start_time": "2023-11-06T14:40:11.459Z"
   },
   {
    "duration": 9,
    "start_time": "2023-11-06T14:41:44.608Z"
   },
   {
    "duration": 9,
    "start_time": "2023-11-06T14:42:19.075Z"
   },
   {
    "duration": 9,
    "start_time": "2023-11-06T14:42:44.055Z"
   },
   {
    "duration": 8,
    "start_time": "2023-11-06T14:44:56.761Z"
   },
   {
    "duration": 7,
    "start_time": "2023-11-06T14:45:04.220Z"
   },
   {
    "duration": 4,
    "start_time": "2023-11-06T14:45:07.658Z"
   },
   {
    "duration": 101,
    "start_time": "2023-11-06T14:45:08.319Z"
   },
   {
    "duration": 113,
    "start_time": "2023-11-06T14:45:58.119Z"
   },
   {
    "duration": 8,
    "start_time": "2023-11-06T14:47:09.011Z"
   },
   {
    "duration": 5,
    "start_time": "2023-11-06T14:47:12.389Z"
   },
   {
    "duration": 120,
    "start_time": "2023-11-06T14:47:12.619Z"
   },
   {
    "duration": 162,
    "start_time": "2023-11-06T14:48:21.383Z"
   },
   {
    "duration": 136,
    "start_time": "2023-11-06T14:48:26.598Z"
   },
   {
    "duration": 7,
    "start_time": "2023-11-06T15:03:11.131Z"
   },
   {
    "duration": 221,
    "start_time": "2023-11-06T15:03:13.490Z"
   },
   {
    "duration": 12,
    "start_time": "2023-11-06T15:03:21.836Z"
   },
   {
    "duration": 9,
    "start_time": "2023-11-06T15:03:29.343Z"
   },
   {
    "duration": 9,
    "start_time": "2023-11-06T15:04:20.846Z"
   },
   {
    "duration": 142,
    "start_time": "2023-11-06T15:04:36.013Z"
   },
   {
    "duration": 4,
    "start_time": "2023-11-06T15:04:42.343Z"
   },
   {
    "duration": 5,
    "start_time": "2023-11-06T15:04:57.610Z"
   },
   {
    "duration": 159,
    "start_time": "2023-11-06T15:08:21.198Z"
   },
   {
    "duration": 4,
    "start_time": "2023-11-06T15:09:05.152Z"
   },
   {
    "duration": 305,
    "start_time": "2023-11-06T17:34:17.175Z"
   },
   {
    "duration": 304,
    "start_time": "2023-11-06T17:34:23.589Z"
   },
   {
    "duration": 4,
    "start_time": "2023-11-06T17:50:17.127Z"
   },
   {
    "duration": 1416,
    "start_time": "2023-11-07T20:18:27.919Z"
   },
   {
    "duration": 59,
    "start_time": "2023-11-07T20:18:29.337Z"
   },
   {
    "duration": 12,
    "start_time": "2023-11-07T20:18:29.398Z"
   },
   {
    "duration": 10,
    "start_time": "2023-11-07T20:18:29.412Z"
   },
   {
    "duration": 35,
    "start_time": "2023-11-07T20:18:29.423Z"
   },
   {
    "duration": 23,
    "start_time": "2023-11-07T20:18:29.459Z"
   },
   {
    "duration": 20,
    "start_time": "2023-11-07T20:18:29.484Z"
   },
   {
    "duration": 129,
    "start_time": "2023-11-07T20:18:29.506Z"
   },
   {
    "duration": 12,
    "start_time": "2023-11-07T20:18:29.638Z"
   },
   {
    "duration": 8,
    "start_time": "2023-11-07T20:18:29.653Z"
   },
   {
    "duration": 17,
    "start_time": "2023-11-07T20:18:29.663Z"
   },
   {
    "duration": 10,
    "start_time": "2023-11-07T20:18:29.682Z"
   },
   {
    "duration": 18,
    "start_time": "2023-11-07T20:18:29.694Z"
   },
   {
    "duration": 11,
    "start_time": "2023-11-07T20:18:29.714Z"
   },
   {
    "duration": 12,
    "start_time": "2023-11-07T20:18:29.727Z"
   },
   {
    "duration": 12,
    "start_time": "2023-11-07T20:18:29.742Z"
   },
   {
    "duration": 6,
    "start_time": "2023-11-07T20:18:29.757Z"
   },
   {
    "duration": 8,
    "start_time": "2023-11-07T20:18:29.765Z"
   },
   {
    "duration": 34,
    "start_time": "2023-11-07T20:18:29.774Z"
   },
   {
    "duration": 200,
    "start_time": "2023-11-07T20:18:29.810Z"
   },
   {
    "duration": 149,
    "start_time": "2023-11-07T20:18:30.012Z"
   },
   {
    "duration": 16,
    "start_time": "2023-11-07T20:18:30.163Z"
   },
   {
    "duration": 25,
    "start_time": "2023-11-07T20:18:30.181Z"
   },
   {
    "duration": 420,
    "start_time": "2023-11-07T20:18:30.208Z"
   },
   {
    "duration": 245,
    "start_time": "2023-11-07T20:18:30.630Z"
   },
   {
    "duration": 414,
    "start_time": "2023-11-07T20:18:30.877Z"
   },
   {
    "duration": 12,
    "start_time": "2023-11-07T20:18:31.293Z"
   },
   {
    "duration": 350,
    "start_time": "2023-11-07T20:18:31.309Z"
   },
   {
    "duration": 366,
    "start_time": "2023-11-07T20:18:31.661Z"
   },
   {
    "duration": 12,
    "start_time": "2023-11-07T20:18:32.029Z"
   },
   {
    "duration": 189,
    "start_time": "2023-11-07T20:18:32.043Z"
   },
   {
    "duration": 5,
    "start_time": "2023-11-07T20:18:32.234Z"
   },
   {
    "duration": 181,
    "start_time": "2023-11-07T20:18:32.241Z"
   },
   {
    "duration": 6,
    "start_time": "2023-11-07T20:18:32.424Z"
   },
   {
    "duration": 3,
    "start_time": "2023-11-07T20:19:32.667Z"
   },
   {
    "duration": 3,
    "start_time": "2023-11-07T20:19:40.647Z"
   },
   {
    "duration": 97,
    "start_time": "2023-11-07T20:21:25.391Z"
   },
   {
    "duration": 8,
    "start_time": "2023-11-07T20:23:50.434Z"
   },
   {
    "duration": 11,
    "start_time": "2023-11-07T20:24:18.303Z"
   },
   {
    "duration": 11,
    "start_time": "2023-11-07T20:24:52.627Z"
   },
   {
    "duration": 141,
    "start_time": "2023-11-07T20:24:57.700Z"
   },
   {
    "duration": 51,
    "start_time": "2023-11-07T20:25:03.648Z"
   },
   {
    "duration": 53,
    "start_time": "2023-11-07T20:25:41.042Z"
   },
   {
    "duration": 9,
    "start_time": "2023-11-07T20:28:29.122Z"
   },
   {
    "duration": 8,
    "start_time": "2023-11-07T20:37:23.876Z"
   },
   {
    "duration": 13,
    "start_time": "2023-11-07T20:38:32.807Z"
   },
   {
    "duration": 19,
    "start_time": "2023-11-07T20:38:57.201Z"
   },
   {
    "duration": 137,
    "start_time": "2023-11-07T20:39:23.865Z"
   },
   {
    "duration": 10,
    "start_time": "2023-11-07T20:41:40.626Z"
   },
   {
    "duration": 51,
    "start_time": "2023-11-07T20:42:13.744Z"
   },
   {
    "duration": 61,
    "start_time": "2023-11-07T20:42:23.264Z"
   },
   {
    "duration": 14,
    "start_time": "2023-11-07T20:42:31.499Z"
   },
   {
    "duration": 65,
    "start_time": "2023-11-07T20:43:33.352Z"
   },
   {
    "duration": 68,
    "start_time": "2023-11-07T20:44:26.149Z"
   },
   {
    "duration": 12,
    "start_time": "2023-11-07T20:46:00.600Z"
   },
   {
    "duration": 69,
    "start_time": "2023-11-07T20:46:11.692Z"
   },
   {
    "duration": 14,
    "start_time": "2023-11-07T20:46:12.458Z"
   },
   {
    "duration": 68,
    "start_time": "2023-11-07T20:46:17.622Z"
   },
   {
    "duration": 72,
    "start_time": "2023-11-07T20:46:18.744Z"
   },
   {
    "duration": 22,
    "start_time": "2023-11-07T20:46:18.955Z"
   },
   {
    "duration": 53,
    "start_time": "2023-11-07T20:46:23.485Z"
   },
   {
    "duration": 174,
    "start_time": "2023-11-07T20:46:39.613Z"
   },
   {
    "duration": 29,
    "start_time": "2023-11-07T20:47:14.938Z"
   },
   {
    "duration": 172,
    "start_time": "2023-11-07T20:48:46.998Z"
   },
   {
    "duration": 70,
    "start_time": "2023-11-07T20:50:02.904Z"
   },
   {
    "duration": 120,
    "start_time": "2023-11-07T20:50:27.986Z"
   },
   {
    "duration": 78,
    "start_time": "2023-11-07T20:50:42.319Z"
   },
   {
    "duration": 89,
    "start_time": "2023-11-07T20:50:42.573Z"
   },
   {
    "duration": 1212,
    "start_time": "2023-11-07T20:51:55.907Z"
   },
   {
    "duration": 7,
    "start_time": "2023-11-07T20:52:05.242Z"
   },
   {
    "duration": 15,
    "start_time": "2023-11-07T20:52:34.044Z"
   },
   {
    "duration": 8,
    "start_time": "2023-11-07T20:53:02.958Z"
   },
   {
    "duration": 1167,
    "start_time": "2023-11-07T20:53:17.626Z"
   },
   {
    "duration": 1205,
    "start_time": "2023-11-07T20:53:23.172Z"
   },
   {
    "duration": 8,
    "start_time": "2023-11-07T20:53:32.854Z"
   },
   {
    "duration": 28,
    "start_time": "2023-11-07T20:58:33.364Z"
   },
   {
    "duration": 25,
    "start_time": "2023-11-07T20:58:37.995Z"
   },
   {
    "duration": 31,
    "start_time": "2023-11-07T21:01:29.242Z"
   },
   {
    "duration": 31,
    "start_time": "2023-11-07T21:01:44.444Z"
   },
   {
    "duration": 31,
    "start_time": "2023-11-07T21:01:59.721Z"
   },
   {
    "duration": 33,
    "start_time": "2023-11-07T21:02:07.140Z"
   },
   {
    "duration": 39,
    "start_time": "2023-11-07T21:03:40.781Z"
   },
   {
    "duration": 26,
    "start_time": "2023-11-07T21:03:48.164Z"
   },
   {
    "duration": 27,
    "start_time": "2023-11-07T21:07:28.800Z"
   },
   {
    "duration": 14,
    "start_time": "2023-11-07T21:12:16.742Z"
   },
   {
    "duration": 14,
    "start_time": "2023-11-07T21:13:24.691Z"
   },
   {
    "duration": 10,
    "start_time": "2023-11-07T21:24:20.727Z"
   },
   {
    "duration": 10,
    "start_time": "2023-11-07T21:24:47.353Z"
   },
   {
    "duration": 9,
    "start_time": "2023-11-07T21:24:56.229Z"
   },
   {
    "duration": 1218,
    "start_time": "2023-11-07T21:25:48.067Z"
   },
   {
    "duration": 29,
    "start_time": "2023-11-07T21:25:49.287Z"
   },
   {
    "duration": 16,
    "start_time": "2023-11-07T21:25:49.318Z"
   },
   {
    "duration": 4,
    "start_time": "2023-11-07T21:25:49.337Z"
   },
   {
    "duration": 7,
    "start_time": "2023-11-07T21:25:49.344Z"
   },
   {
    "duration": 14,
    "start_time": "2023-11-07T21:25:49.352Z"
   },
   {
    "duration": 12,
    "start_time": "2023-11-07T21:25:49.367Z"
   },
   {
    "duration": 70,
    "start_time": "2023-11-07T21:25:49.381Z"
   },
   {
    "duration": 13,
    "start_time": "2023-11-07T21:25:49.452Z"
   },
   {
    "duration": 14,
    "start_time": "2023-11-07T21:25:49.466Z"
   },
   {
    "duration": 9,
    "start_time": "2023-11-07T21:25:49.482Z"
   },
   {
    "duration": 6,
    "start_time": "2023-11-07T21:25:49.493Z"
   },
   {
    "duration": 10,
    "start_time": "2023-11-07T21:25:49.501Z"
   },
   {
    "duration": 11,
    "start_time": "2023-11-07T21:25:49.514Z"
   },
   {
    "duration": 13,
    "start_time": "2023-11-07T21:25:49.527Z"
   },
   {
    "duration": 8,
    "start_time": "2023-11-07T21:25:49.541Z"
   },
   {
    "duration": 8,
    "start_time": "2023-11-07T21:25:49.550Z"
   },
   {
    "duration": 17,
    "start_time": "2023-11-07T21:25:49.560Z"
   },
   {
    "duration": 23,
    "start_time": "2023-11-07T21:25:49.580Z"
   },
   {
    "duration": 198,
    "start_time": "2023-11-07T21:25:49.606Z"
   },
   {
    "duration": 147,
    "start_time": "2023-11-07T21:25:49.806Z"
   },
   {
    "duration": 15,
    "start_time": "2023-11-07T21:25:49.955Z"
   },
   {
    "duration": 8,
    "start_time": "2023-11-07T21:25:49.971Z"
   },
   {
    "duration": 352,
    "start_time": "2023-11-07T21:25:49.981Z"
   },
   {
    "duration": 261,
    "start_time": "2023-11-07T21:25:50.335Z"
   },
   {
    "duration": 353,
    "start_time": "2023-11-07T21:25:50.602Z"
   },
   {
    "duration": 7,
    "start_time": "2023-11-07T21:25:50.957Z"
   },
   {
    "duration": 290,
    "start_time": "2023-11-07T21:25:50.965Z"
   },
   {
    "duration": 358,
    "start_time": "2023-11-07T21:25:51.257Z"
   },
   {
    "duration": 12,
    "start_time": "2023-11-07T21:25:51.617Z"
   },
   {
    "duration": 188,
    "start_time": "2023-11-07T21:25:51.630Z"
   },
   {
    "duration": 5,
    "start_time": "2023-11-07T21:25:51.820Z"
   },
   {
    "duration": 190,
    "start_time": "2023-11-07T21:25:51.826Z"
   },
   {
    "duration": 5,
    "start_time": "2023-11-07T21:25:52.018Z"
   },
   {
    "duration": 86,
    "start_time": "2023-11-07T21:25:52.025Z"
   },
   {
    "duration": 95,
    "start_time": "2023-11-07T21:25:52.113Z"
   },
   {
    "duration": 226,
    "start_time": "2023-11-07T21:25:52.210Z"
   },
   {
    "duration": 0,
    "start_time": "2023-11-07T21:25:52.438Z"
   },
   {
    "duration": 0,
    "start_time": "2023-11-07T21:25:52.440Z"
   },
   {
    "duration": 0,
    "start_time": "2023-11-07T21:25:52.441Z"
   },
   {
    "duration": 0,
    "start_time": "2023-11-07T21:25:52.442Z"
   },
   {
    "duration": 0,
    "start_time": "2023-11-07T21:25:52.443Z"
   },
   {
    "duration": 0,
    "start_time": "2023-11-07T21:25:52.444Z"
   },
   {
    "duration": 0,
    "start_time": "2023-11-07T21:25:52.444Z"
   },
   {
    "duration": 0,
    "start_time": "2023-11-07T21:25:52.446Z"
   },
   {
    "duration": 0,
    "start_time": "2023-11-07T21:25:52.447Z"
   },
   {
    "duration": 0,
    "start_time": "2023-11-07T21:25:52.448Z"
   },
   {
    "duration": 0,
    "start_time": "2023-11-07T21:25:52.449Z"
   },
   {
    "duration": 1265,
    "start_time": "2023-11-07T21:26:23.895Z"
   },
   {
    "duration": 27,
    "start_time": "2023-11-07T21:26:25.162Z"
   },
   {
    "duration": 15,
    "start_time": "2023-11-07T21:26:25.191Z"
   },
   {
    "duration": 23,
    "start_time": "2023-11-07T21:26:25.208Z"
   },
   {
    "duration": 22,
    "start_time": "2023-11-07T21:26:25.233Z"
   },
   {
    "duration": 20,
    "start_time": "2023-11-07T21:26:25.257Z"
   },
   {
    "duration": 28,
    "start_time": "2023-11-07T21:26:25.280Z"
   },
   {
    "duration": 79,
    "start_time": "2023-11-07T21:26:25.310Z"
   },
   {
    "duration": 12,
    "start_time": "2023-11-07T21:26:25.390Z"
   },
   {
    "duration": 21,
    "start_time": "2023-11-07T21:26:25.404Z"
   },
   {
    "duration": 44,
    "start_time": "2023-11-07T21:26:25.426Z"
   },
   {
    "duration": 41,
    "start_time": "2023-11-07T21:26:25.472Z"
   },
   {
    "duration": 19,
    "start_time": "2023-11-07T21:26:25.515Z"
   },
   {
    "duration": 15,
    "start_time": "2023-11-07T21:26:25.537Z"
   },
   {
    "duration": 44,
    "start_time": "2023-11-07T21:26:25.554Z"
   },
   {
    "duration": 9,
    "start_time": "2023-11-07T21:26:25.599Z"
   },
   {
    "duration": 20,
    "start_time": "2023-11-07T21:26:25.610Z"
   },
   {
    "duration": 28,
    "start_time": "2023-11-07T21:26:25.632Z"
   },
   {
    "duration": 24,
    "start_time": "2023-11-07T21:26:25.662Z"
   },
   {
    "duration": 190,
    "start_time": "2023-11-07T21:26:25.687Z"
   },
   {
    "duration": 165,
    "start_time": "2023-11-07T21:26:25.879Z"
   },
   {
    "duration": 12,
    "start_time": "2023-11-07T21:26:26.045Z"
   },
   {
    "duration": 15,
    "start_time": "2023-11-07T21:26:26.059Z"
   },
   {
    "duration": 327,
    "start_time": "2023-11-07T21:26:26.076Z"
   },
   {
    "duration": 269,
    "start_time": "2023-11-07T21:26:26.405Z"
   },
   {
    "duration": 368,
    "start_time": "2023-11-07T21:26:26.677Z"
   },
   {
    "duration": 7,
    "start_time": "2023-11-07T21:26:27.046Z"
   },
   {
    "duration": 304,
    "start_time": "2023-11-07T21:26:27.055Z"
   },
   {
    "duration": 363,
    "start_time": "2023-11-07T21:26:27.361Z"
   },
   {
    "duration": 11,
    "start_time": "2023-11-07T21:26:27.726Z"
   },
   {
    "duration": 171,
    "start_time": "2023-11-07T21:26:27.739Z"
   },
   {
    "duration": 5,
    "start_time": "2023-11-07T21:26:27.912Z"
   },
   {
    "duration": 201,
    "start_time": "2023-11-07T21:26:27.918Z"
   },
   {
    "duration": 5,
    "start_time": "2023-11-07T21:26:28.120Z"
   },
   {
    "duration": 56,
    "start_time": "2023-11-07T21:26:28.126Z"
   },
   {
    "duration": 74,
    "start_time": "2023-11-07T21:26:28.184Z"
   },
   {
    "duration": 92,
    "start_time": "2023-11-07T21:26:28.260Z"
   },
   {
    "duration": 79,
    "start_time": "2023-11-07T21:26:28.354Z"
   },
   {
    "duration": 108,
    "start_time": "2023-11-07T21:26:28.435Z"
   },
   {
    "duration": 0,
    "start_time": "2023-11-07T21:26:28.545Z"
   },
   {
    "duration": 0,
    "start_time": "2023-11-07T21:26:28.547Z"
   },
   {
    "duration": 0,
    "start_time": "2023-11-07T21:26:28.549Z"
   },
   {
    "duration": 0,
    "start_time": "2023-11-07T21:26:28.551Z"
   },
   {
    "duration": 0,
    "start_time": "2023-11-07T21:26:28.552Z"
   },
   {
    "duration": 0,
    "start_time": "2023-11-07T21:26:28.554Z"
   },
   {
    "duration": 0,
    "start_time": "2023-11-07T21:26:28.555Z"
   },
   {
    "duration": 0,
    "start_time": "2023-11-07T21:26:28.557Z"
   },
   {
    "duration": 0,
    "start_time": "2023-11-07T21:26:28.558Z"
   },
   {
    "duration": 37,
    "start_time": "2023-11-07T21:26:48.249Z"
   },
   {
    "duration": 76,
    "start_time": "2023-11-07T21:26:49.043Z"
   },
   {
    "duration": 83,
    "start_time": "2023-11-07T21:26:49.660Z"
   },
   {
    "duration": 8,
    "start_time": "2023-11-07T21:26:49.885Z"
   },
   {
    "duration": 9,
    "start_time": "2023-11-07T21:26:50.080Z"
   },
   {
    "duration": 27,
    "start_time": "2023-11-07T21:26:50.419Z"
   },
   {
    "duration": 11,
    "start_time": "2023-11-07T21:26:51.032Z"
   },
   {
    "duration": 10,
    "start_time": "2023-11-07T21:26:51.127Z"
   },
   {
    "duration": 8,
    "start_time": "2023-11-07T21:26:51.159Z"
   },
   {
    "duration": 10,
    "start_time": "2023-11-07T21:26:51.192Z"
   },
   {
    "duration": 11,
    "start_time": "2023-11-07T21:27:45.087Z"
   },
   {
    "duration": 10,
    "start_time": "2023-11-07T21:27:56.150Z"
   },
   {
    "duration": 90,
    "start_time": "2023-11-07T21:28:34.481Z"
   },
   {
    "duration": 9,
    "start_time": "2023-11-07T21:28:40.522Z"
   },
   {
    "duration": 2032,
    "start_time": "2023-11-07T21:30:04.229Z"
   },
   {
    "duration": 8,
    "start_time": "2023-11-07T21:30:19.807Z"
   },
   {
    "duration": 8,
    "start_time": "2023-11-07T21:30:43.681Z"
   },
   {
    "duration": 9,
    "start_time": "2023-11-07T21:31:45.567Z"
   },
   {
    "duration": 28,
    "start_time": "2023-11-07T21:34:17.727Z"
   },
   {
    "duration": 26,
    "start_time": "2023-11-07T21:34:36.498Z"
   },
   {
    "duration": 1205,
    "start_time": "2023-11-07T21:37:18.717Z"
   },
   {
    "duration": 13,
    "start_time": "2023-11-07T21:37:29.149Z"
   },
   {
    "duration": 18,
    "start_time": "2023-11-07T21:37:46.921Z"
   },
   {
    "duration": 16,
    "start_time": "2023-11-07T21:39:42.058Z"
   },
   {
    "duration": 51,
    "start_time": "2023-11-08T17:57:50.148Z"
   },
   {
    "duration": 1351,
    "start_time": "2023-11-08T17:57:57.770Z"
   },
   {
    "duration": 59,
    "start_time": "2023-11-08T17:57:59.123Z"
   },
   {
    "duration": 15,
    "start_time": "2023-11-08T17:57:59.184Z"
   },
   {
    "duration": 3,
    "start_time": "2023-11-08T17:57:59.200Z"
   },
   {
    "duration": 7,
    "start_time": "2023-11-08T17:57:59.205Z"
   },
   {
    "duration": 15,
    "start_time": "2023-11-08T17:57:59.214Z"
   },
   {
    "duration": 10,
    "start_time": "2023-11-08T17:57:59.231Z"
   },
   {
    "duration": 144,
    "start_time": "2023-11-08T17:57:59.242Z"
   },
   {
    "duration": 12,
    "start_time": "2023-11-08T17:57:59.388Z"
   },
   {
    "duration": 9,
    "start_time": "2023-11-08T17:57:59.401Z"
   },
   {
    "duration": 11,
    "start_time": "2023-11-08T17:57:59.412Z"
   },
   {
    "duration": 6,
    "start_time": "2023-11-08T17:57:59.425Z"
   },
   {
    "duration": 5,
    "start_time": "2023-11-08T17:57:59.432Z"
   },
   {
    "duration": 11,
    "start_time": "2023-11-08T17:57:59.441Z"
   },
   {
    "duration": 50,
    "start_time": "2023-11-08T17:57:59.454Z"
   },
   {
    "duration": 12,
    "start_time": "2023-11-08T17:57:59.506Z"
   },
   {
    "duration": 23,
    "start_time": "2023-11-08T17:57:59.520Z"
   },
   {
    "duration": 21,
    "start_time": "2023-11-08T17:57:59.545Z"
   },
   {
    "duration": 13,
    "start_time": "2023-11-08T17:57:59.568Z"
   },
   {
    "duration": 185,
    "start_time": "2023-11-08T17:57:59.583Z"
   },
   {
    "duration": 156,
    "start_time": "2023-11-08T17:57:59.770Z"
   },
   {
    "duration": 14,
    "start_time": "2023-11-08T17:57:59.928Z"
   },
   {
    "duration": 9,
    "start_time": "2023-11-08T17:57:59.944Z"
   },
   {
    "duration": 358,
    "start_time": "2023-11-08T17:57:59.955Z"
   },
   {
    "duration": 257,
    "start_time": "2023-11-08T17:58:00.315Z"
   },
   {
    "duration": 409,
    "start_time": "2023-11-08T17:58:00.574Z"
   },
   {
    "duration": 16,
    "start_time": "2023-11-08T17:58:00.985Z"
   },
   {
    "duration": 332,
    "start_time": "2023-11-08T17:58:01.003Z"
   },
   {
    "duration": 373,
    "start_time": "2023-11-08T17:58:01.338Z"
   },
   {
    "duration": 11,
    "start_time": "2023-11-08T17:58:01.713Z"
   },
   {
    "duration": 258,
    "start_time": "2023-11-08T17:58:01.726Z"
   },
   {
    "duration": 4,
    "start_time": "2023-11-08T17:58:01.987Z"
   },
   {
    "duration": 196,
    "start_time": "2023-11-08T17:58:01.993Z"
   },
   {
    "duration": 5,
    "start_time": "2023-11-08T17:58:02.191Z"
   },
   {
    "duration": 166,
    "start_time": "2023-11-08T17:58:02.201Z"
   },
   {
    "duration": 59,
    "start_time": "2023-11-08T17:58:02.369Z"
   },
   {
    "duration": 75,
    "start_time": "2023-11-08T17:58:02.430Z"
   },
   {
    "duration": 72,
    "start_time": "2023-11-08T17:58:02.507Z"
   },
   {
    "duration": 48,
    "start_time": "2023-11-08T17:58:02.581Z"
   },
   {
    "duration": 102,
    "start_time": "2023-11-08T17:58:02.631Z"
   },
   {
    "duration": 107,
    "start_time": "2023-11-08T17:58:02.737Z"
   },
   {
    "duration": 8,
    "start_time": "2023-11-08T17:58:02.846Z"
   },
   {
    "duration": 24,
    "start_time": "2023-11-08T17:58:02.856Z"
   },
   {
    "duration": 37,
    "start_time": "2023-11-08T17:58:02.882Z"
   },
   {
    "duration": 11,
    "start_time": "2023-11-08T17:58:02.921Z"
   },
   {
    "duration": 9,
    "start_time": "2023-11-08T17:58:02.934Z"
   },
   {
    "duration": 22,
    "start_time": "2023-11-08T17:58:02.944Z"
   },
   {
    "duration": 18,
    "start_time": "2023-11-08T17:58:02.968Z"
   },
   {
    "duration": 37,
    "start_time": "2023-11-08T17:58:02.988Z"
   },
   {
    "duration": 15,
    "start_time": "2023-11-08T17:58:03.028Z"
   },
   {
    "duration": 43,
    "start_time": "2023-11-08T17:59:18.514Z"
   },
   {
    "duration": 1197,
    "start_time": "2023-11-08T17:59:24.614Z"
   },
   {
    "duration": 27,
    "start_time": "2023-11-08T17:59:25.813Z"
   },
   {
    "duration": 14,
    "start_time": "2023-11-08T17:59:25.842Z"
   },
   {
    "duration": 21,
    "start_time": "2023-11-08T17:59:25.857Z"
   },
   {
    "duration": 16,
    "start_time": "2023-11-08T17:59:25.880Z"
   },
   {
    "duration": 26,
    "start_time": "2023-11-08T17:59:25.898Z"
   },
   {
    "duration": 24,
    "start_time": "2023-11-08T17:59:25.926Z"
   },
   {
    "duration": 59,
    "start_time": "2023-11-08T17:59:25.952Z"
   },
   {
    "duration": 13,
    "start_time": "2023-11-08T17:59:26.012Z"
   },
   {
    "duration": 8,
    "start_time": "2023-11-08T17:59:26.027Z"
   },
   {
    "duration": 8,
    "start_time": "2023-11-08T17:59:26.037Z"
   },
   {
    "duration": 15,
    "start_time": "2023-11-08T17:59:26.048Z"
   },
   {
    "duration": 9,
    "start_time": "2023-11-08T17:59:26.065Z"
   },
   {
    "duration": 24,
    "start_time": "2023-11-08T17:59:26.078Z"
   },
   {
    "duration": 20,
    "start_time": "2023-11-08T17:59:26.104Z"
   },
   {
    "duration": 14,
    "start_time": "2023-11-08T17:59:26.126Z"
   },
   {
    "duration": 10,
    "start_time": "2023-11-08T17:59:26.141Z"
   },
   {
    "duration": 6,
    "start_time": "2023-11-08T17:59:26.153Z"
   },
   {
    "duration": 12,
    "start_time": "2023-11-08T17:59:26.160Z"
   },
   {
    "duration": 249,
    "start_time": "2023-11-08T17:59:26.173Z"
   },
   {
    "duration": 157,
    "start_time": "2023-11-08T17:59:26.424Z"
   },
   {
    "duration": 28,
    "start_time": "2023-11-08T17:59:26.584Z"
   },
   {
    "duration": 6,
    "start_time": "2023-11-08T17:59:26.614Z"
   },
   {
    "duration": 329,
    "start_time": "2023-11-08T17:59:26.622Z"
   },
   {
    "duration": 251,
    "start_time": "2023-11-08T17:59:26.953Z"
   },
   {
    "duration": 363,
    "start_time": "2023-11-08T17:59:27.206Z"
   },
   {
    "duration": 6,
    "start_time": "2023-11-08T17:59:27.571Z"
   },
   {
    "duration": 292,
    "start_time": "2023-11-08T17:59:27.579Z"
   },
   {
    "duration": 419,
    "start_time": "2023-11-08T17:59:27.873Z"
   },
   {
    "duration": 17,
    "start_time": "2023-11-08T17:59:28.294Z"
   },
   {
    "duration": 180,
    "start_time": "2023-11-08T17:59:28.313Z"
   },
   {
    "duration": 5,
    "start_time": "2023-11-08T17:59:28.500Z"
   },
   {
    "duration": 208,
    "start_time": "2023-11-08T17:59:28.507Z"
   },
   {
    "duration": 6,
    "start_time": "2023-11-08T17:59:28.716Z"
   },
   {
    "duration": 54,
    "start_time": "2023-11-08T17:59:28.724Z"
   },
   {
    "duration": 74,
    "start_time": "2023-11-08T17:59:28.779Z"
   },
   {
    "duration": 84,
    "start_time": "2023-11-08T17:59:28.855Z"
   },
   {
    "duration": 82,
    "start_time": "2023-11-08T17:59:28.940Z"
   },
   {
    "duration": 28,
    "start_time": "2023-11-08T17:59:29.023Z"
   },
   {
    "duration": 97,
    "start_time": "2023-11-08T17:59:29.052Z"
   },
   {
    "duration": 119,
    "start_time": "2023-11-08T17:59:29.154Z"
   },
   {
    "duration": 25,
    "start_time": "2023-11-08T17:59:29.274Z"
   },
   {
    "duration": 11,
    "start_time": "2023-11-08T17:59:29.301Z"
   },
   {
    "duration": 28,
    "start_time": "2023-11-08T17:59:29.314Z"
   },
   {
    "duration": 13,
    "start_time": "2023-11-08T17:59:29.344Z"
   },
   {
    "duration": 9,
    "start_time": "2023-11-08T17:59:29.359Z"
   },
   {
    "duration": 40,
    "start_time": "2023-11-08T17:59:29.370Z"
   },
   {
    "duration": 12,
    "start_time": "2023-11-08T17:59:29.411Z"
   },
   {
    "duration": 26,
    "start_time": "2023-11-08T17:59:29.425Z"
   },
   {
    "duration": 48,
    "start_time": "2023-11-08T17:59:29.453Z"
   },
   {
    "duration": 1163,
    "start_time": "2023-11-08T18:07:08.424Z"
   },
   {
    "duration": 42,
    "start_time": "2023-11-08T18:07:09.589Z"
   },
   {
    "duration": 14,
    "start_time": "2023-11-08T18:07:09.632Z"
   },
   {
    "duration": 4,
    "start_time": "2023-11-08T18:07:09.647Z"
   },
   {
    "duration": 13,
    "start_time": "2023-11-08T18:07:09.653Z"
   },
   {
    "duration": 16,
    "start_time": "2023-11-08T18:07:09.668Z"
   },
   {
    "duration": 11,
    "start_time": "2023-11-08T18:07:09.685Z"
   },
   {
    "duration": 62,
    "start_time": "2023-11-08T18:07:09.698Z"
   },
   {
    "duration": 11,
    "start_time": "2023-11-08T18:07:09.762Z"
   },
   {
    "duration": 12,
    "start_time": "2023-11-08T18:07:09.775Z"
   },
   {
    "duration": 10,
    "start_time": "2023-11-08T18:07:09.788Z"
   },
   {
    "duration": 8,
    "start_time": "2023-11-08T18:07:09.800Z"
   },
   {
    "duration": 5,
    "start_time": "2023-11-08T18:07:09.810Z"
   },
   {
    "duration": 13,
    "start_time": "2023-11-08T18:07:09.818Z"
   },
   {
    "duration": 14,
    "start_time": "2023-11-08T18:07:09.832Z"
   },
   {
    "duration": 9,
    "start_time": "2023-11-08T18:07:09.848Z"
   },
   {
    "duration": 7,
    "start_time": "2023-11-08T18:07:09.858Z"
   },
   {
    "duration": 6,
    "start_time": "2023-11-08T18:07:09.866Z"
   },
   {
    "duration": 39,
    "start_time": "2023-11-08T18:07:09.873Z"
   },
   {
    "duration": 204,
    "start_time": "2023-11-08T18:07:09.914Z"
   },
   {
    "duration": 152,
    "start_time": "2023-11-08T18:07:10.120Z"
   },
   {
    "duration": 28,
    "start_time": "2023-11-08T18:07:10.274Z"
   },
   {
    "duration": 12,
    "start_time": "2023-11-08T18:07:10.305Z"
   },
   {
    "duration": 339,
    "start_time": "2023-11-08T18:07:10.319Z"
   },
   {
    "duration": 248,
    "start_time": "2023-11-08T18:07:10.660Z"
   },
   {
    "duration": 370,
    "start_time": "2023-11-08T18:07:10.913Z"
   },
   {
    "duration": 6,
    "start_time": "2023-11-08T18:07:11.285Z"
   },
   {
    "duration": 290,
    "start_time": "2023-11-08T18:07:11.293Z"
   },
   {
    "duration": 398,
    "start_time": "2023-11-08T18:07:11.584Z"
   },
   {
    "duration": 28,
    "start_time": "2023-11-08T18:07:11.984Z"
   },
   {
    "duration": 226,
    "start_time": "2023-11-08T18:07:12.017Z"
   },
   {
    "duration": 4,
    "start_time": "2023-11-08T18:07:12.245Z"
   },
   {
    "duration": 191,
    "start_time": "2023-11-08T18:07:12.251Z"
   },
   {
    "duration": 4,
    "start_time": "2023-11-08T18:07:12.444Z"
   },
   {
    "duration": 73,
    "start_time": "2023-11-08T18:07:12.451Z"
   },
   {
    "duration": 70,
    "start_time": "2023-11-08T18:07:12.526Z"
   },
   {
    "duration": 77,
    "start_time": "2023-11-08T18:07:12.601Z"
   },
   {
    "duration": 87,
    "start_time": "2023-11-08T18:07:12.680Z"
   },
   {
    "duration": 37,
    "start_time": "2023-11-08T18:07:12.769Z"
   },
   {
    "duration": 75,
    "start_time": "2023-11-08T18:07:12.807Z"
   },
   {
    "duration": 131,
    "start_time": "2023-11-08T18:07:12.887Z"
   },
   {
    "duration": 15,
    "start_time": "2023-11-08T18:07:13.020Z"
   },
   {
    "duration": 7,
    "start_time": "2023-11-08T18:07:13.037Z"
   },
   {
    "duration": 27,
    "start_time": "2023-11-08T18:07:13.047Z"
   },
   {
    "duration": 40,
    "start_time": "2023-11-08T18:07:13.076Z"
   },
   {
    "duration": 9,
    "start_time": "2023-11-08T18:07:13.118Z"
   },
   {
    "duration": 10,
    "start_time": "2023-11-08T18:07:13.129Z"
   },
   {
    "duration": 7,
    "start_time": "2023-11-08T18:07:13.141Z"
   },
   {
    "duration": 63,
    "start_time": "2023-11-08T18:07:13.150Z"
   },
   {
    "duration": 15,
    "start_time": "2023-11-08T18:07:13.216Z"
   },
   {
    "duration": 1208,
    "start_time": "2023-11-08T18:12:41.684Z"
   },
   {
    "duration": 27,
    "start_time": "2023-11-08T18:12:42.894Z"
   },
   {
    "duration": 15,
    "start_time": "2023-11-08T18:12:42.922Z"
   },
   {
    "duration": 5,
    "start_time": "2023-11-08T18:12:42.939Z"
   },
   {
    "duration": 19,
    "start_time": "2023-11-08T18:12:42.947Z"
   },
   {
    "duration": 19,
    "start_time": "2023-11-08T18:12:42.968Z"
   },
   {
    "duration": 23,
    "start_time": "2023-11-08T18:12:42.990Z"
   },
   {
    "duration": 68,
    "start_time": "2023-11-08T18:12:43.015Z"
   },
   {
    "duration": 13,
    "start_time": "2023-11-08T18:12:43.085Z"
   },
   {
    "duration": 25,
    "start_time": "2023-11-08T18:12:43.101Z"
   },
   {
    "duration": 16,
    "start_time": "2023-11-08T18:12:43.128Z"
   },
   {
    "duration": 9,
    "start_time": "2023-11-08T18:12:43.146Z"
   },
   {
    "duration": 35,
    "start_time": "2023-11-08T18:12:43.158Z"
   },
   {
    "duration": 19,
    "start_time": "2023-11-08T18:12:43.196Z"
   },
   {
    "duration": 36,
    "start_time": "2023-11-08T18:12:43.217Z"
   },
   {
    "duration": 54,
    "start_time": "2023-11-08T18:12:43.255Z"
   },
   {
    "duration": 29,
    "start_time": "2023-11-08T18:12:43.311Z"
   },
   {
    "duration": 7,
    "start_time": "2023-11-08T18:12:43.342Z"
   },
   {
    "duration": 12,
    "start_time": "2023-11-08T18:12:43.350Z"
   },
   {
    "duration": 201,
    "start_time": "2023-11-08T18:12:43.364Z"
   },
   {
    "duration": 166,
    "start_time": "2023-11-08T18:12:43.568Z"
   },
   {
    "duration": 16,
    "start_time": "2023-11-08T18:12:43.736Z"
   },
   {
    "duration": 11,
    "start_time": "2023-11-08T18:12:43.754Z"
   },
   {
    "duration": 381,
    "start_time": "2023-11-08T18:12:43.767Z"
   },
   {
    "duration": 267,
    "start_time": "2023-11-08T18:12:44.151Z"
   },
   {
    "duration": 436,
    "start_time": "2023-11-08T18:12:44.420Z"
   },
   {
    "duration": 10,
    "start_time": "2023-11-08T18:12:44.859Z"
   },
   {
    "duration": 312,
    "start_time": "2023-11-08T18:12:44.871Z"
   },
   {
    "duration": 419,
    "start_time": "2023-11-08T18:12:45.185Z"
   },
   {
    "duration": 11,
    "start_time": "2023-11-08T18:12:45.605Z"
   },
   {
    "duration": 186,
    "start_time": "2023-11-08T18:12:45.618Z"
   },
   {
    "duration": 5,
    "start_time": "2023-11-08T18:12:45.806Z"
   },
   {
    "duration": 237,
    "start_time": "2023-11-08T18:12:45.813Z"
   },
   {
    "duration": 6,
    "start_time": "2023-11-08T18:12:46.053Z"
   },
   {
    "duration": 117,
    "start_time": "2023-11-08T18:12:46.062Z"
   },
   {
    "duration": 111,
    "start_time": "2023-11-08T18:12:46.181Z"
   },
   {
    "duration": 105,
    "start_time": "2023-11-08T18:12:46.294Z"
   },
   {
    "duration": 80,
    "start_time": "2023-11-08T18:12:46.402Z"
   },
   {
    "duration": 69,
    "start_time": "2023-11-08T18:12:46.484Z"
   },
   {
    "duration": 102,
    "start_time": "2023-11-08T18:12:46.556Z"
   },
   {
    "duration": 98,
    "start_time": "2023-11-08T18:12:46.662Z"
   },
   {
    "duration": 11,
    "start_time": "2023-11-08T18:12:46.762Z"
   },
   {
    "duration": 28,
    "start_time": "2023-11-08T18:12:46.775Z"
   },
   {
    "duration": 43,
    "start_time": "2023-11-08T18:12:46.805Z"
   },
   {
    "duration": 13,
    "start_time": "2023-11-08T18:12:46.850Z"
   },
   {
    "duration": 42,
    "start_time": "2023-11-08T18:12:46.865Z"
   },
   {
    "duration": 13,
    "start_time": "2023-11-08T18:12:46.909Z"
   },
   {
    "duration": 10,
    "start_time": "2023-11-08T18:12:46.924Z"
   },
   {
    "duration": 48,
    "start_time": "2023-11-08T18:12:46.937Z"
   },
   {
    "duration": 37,
    "start_time": "2023-11-08T18:12:46.986Z"
   },
   {
    "duration": 88,
    "start_time": "2023-11-09T20:26:16.499Z"
   },
   {
    "duration": 47,
    "start_time": "2023-11-09T20:34:17.443Z"
   },
   {
    "duration": 1465,
    "start_time": "2023-11-09T20:34:24.454Z"
   },
   {
    "duration": 63,
    "start_time": "2023-11-09T20:34:25.922Z"
   },
   {
    "duration": 14,
    "start_time": "2023-11-09T20:34:25.987Z"
   },
   {
    "duration": 10,
    "start_time": "2023-11-09T20:34:26.004Z"
   },
   {
    "duration": 15,
    "start_time": "2023-11-09T20:34:26.021Z"
   },
   {
    "duration": 29,
    "start_time": "2023-11-09T20:34:26.039Z"
   },
   {
    "duration": 11,
    "start_time": "2023-11-09T20:34:26.070Z"
   },
   {
    "duration": 154,
    "start_time": "2023-11-09T20:34:26.083Z"
   },
   {
    "duration": 17,
    "start_time": "2023-11-09T20:34:26.239Z"
   },
   {
    "duration": 9,
    "start_time": "2023-11-09T20:34:26.259Z"
   },
   {
    "duration": 9,
    "start_time": "2023-11-09T20:34:26.271Z"
   },
   {
    "duration": 11,
    "start_time": "2023-11-09T20:34:26.282Z"
   },
   {
    "duration": 5,
    "start_time": "2023-11-09T20:34:26.295Z"
   },
   {
    "duration": 42,
    "start_time": "2023-11-09T20:34:26.302Z"
   },
   {
    "duration": 22,
    "start_time": "2023-11-09T20:34:26.346Z"
   },
   {
    "duration": 7,
    "start_time": "2023-11-09T20:34:26.369Z"
   },
   {
    "duration": 9,
    "start_time": "2023-11-09T20:34:26.378Z"
   },
   {
    "duration": 12,
    "start_time": "2023-11-09T20:34:26.389Z"
   },
   {
    "duration": 31,
    "start_time": "2023-11-09T20:34:26.403Z"
   },
   {
    "duration": 248,
    "start_time": "2023-11-09T20:34:26.436Z"
   },
   {
    "duration": 155,
    "start_time": "2023-11-09T20:34:26.686Z"
   },
   {
    "duration": 15,
    "start_time": "2023-11-09T20:34:26.843Z"
   },
   {
    "duration": 7,
    "start_time": "2023-11-09T20:34:26.859Z"
   },
   {
    "duration": 396,
    "start_time": "2023-11-09T20:34:26.868Z"
   },
   {
    "duration": 278,
    "start_time": "2023-11-09T20:34:27.266Z"
   },
   {
    "duration": 450,
    "start_time": "2023-11-09T20:34:27.548Z"
   },
   {
    "duration": 6,
    "start_time": "2023-11-09T20:34:28.000Z"
   },
   {
    "duration": 368,
    "start_time": "2023-11-09T20:34:28.017Z"
   },
   {
    "duration": 465,
    "start_time": "2023-11-09T20:34:28.387Z"
   },
   {
    "duration": 10,
    "start_time": "2023-11-09T20:34:28.854Z"
   },
   {
    "duration": 201,
    "start_time": "2023-11-09T20:34:28.866Z"
   },
   {
    "duration": 4,
    "start_time": "2023-11-09T20:34:29.069Z"
   },
   {
    "duration": 233,
    "start_time": "2023-11-09T20:34:29.075Z"
   },
   {
    "duration": 9,
    "start_time": "2023-11-09T20:34:29.314Z"
   },
   {
    "duration": 82,
    "start_time": "2023-11-09T20:34:29.325Z"
   },
   {
    "duration": 65,
    "start_time": "2023-11-09T20:34:29.409Z"
   },
   {
    "duration": 95,
    "start_time": "2023-11-09T20:34:29.475Z"
   },
   {
    "duration": 73,
    "start_time": "2023-11-09T20:34:29.572Z"
   },
   {
    "duration": 30,
    "start_time": "2023-11-09T20:34:29.647Z"
   },
   {
    "duration": 106,
    "start_time": "2023-11-09T20:34:29.678Z"
   },
   {
    "duration": 101,
    "start_time": "2023-11-09T20:34:29.786Z"
   },
   {
    "duration": 8,
    "start_time": "2023-11-09T20:34:29.888Z"
   },
   {
    "duration": 33,
    "start_time": "2023-11-09T20:34:29.914Z"
   },
   {
    "duration": 37,
    "start_time": "2023-11-09T20:34:29.949Z"
   },
   {
    "duration": 18,
    "start_time": "2023-11-09T20:34:29.988Z"
   },
   {
    "duration": 48,
    "start_time": "2023-11-09T20:34:30.008Z"
   },
   {
    "duration": 35,
    "start_time": "2023-11-09T20:34:30.057Z"
   },
   {
    "duration": 50,
    "start_time": "2023-11-09T20:34:30.093Z"
   },
   {
    "duration": 36,
    "start_time": "2023-11-09T20:34:30.145Z"
   },
   {
    "duration": 16,
    "start_time": "2023-11-09T20:34:30.183Z"
   },
   {
    "duration": 15,
    "start_time": "2023-11-09T20:34:41.734Z"
   },
   {
    "duration": 2,
    "start_time": "2023-11-09T20:35:06.970Z"
   },
   {
    "duration": 11,
    "start_time": "2023-11-09T20:35:07.696Z"
   },
   {
    "duration": 12,
    "start_time": "2023-11-09T20:39:55.289Z"
   },
   {
    "duration": 14,
    "start_time": "2023-11-09T20:40:37.116Z"
   },
   {
    "duration": 67,
    "start_time": "2023-11-09T20:49:08.670Z"
   },
   {
    "duration": 6,
    "start_time": "2023-11-09T20:50:28.039Z"
   },
   {
    "duration": 4,
    "start_time": "2023-11-09T20:50:54.595Z"
   },
   {
    "duration": 5,
    "start_time": "2023-11-09T20:51:05.564Z"
   },
   {
    "duration": 5,
    "start_time": "2023-11-09T20:51:42.394Z"
   },
   {
    "duration": 4,
    "start_time": "2023-11-09T20:52:09.908Z"
   },
   {
    "duration": 94,
    "start_time": "2023-11-09T20:52:56.863Z"
   },
   {
    "duration": 4,
    "start_time": "2023-11-09T20:53:43.887Z"
   },
   {
    "duration": 4,
    "start_time": "2023-11-09T20:54:03.634Z"
   },
   {
    "duration": 1428,
    "start_time": "2023-11-09T20:55:44.581Z"
   },
   {
    "duration": 1400,
    "start_time": "2023-11-09T20:56:01.755Z"
   },
   {
    "duration": 25,
    "start_time": "2023-11-09T20:56:29.237Z"
   },
   {
    "duration": 23,
    "start_time": "2023-11-09T20:56:41.008Z"
   },
   {
    "duration": 16,
    "start_time": "2023-11-09T20:56:45.046Z"
   },
   {
    "duration": 5,
    "start_time": "2023-11-09T20:56:55.795Z"
   },
   {
    "duration": 12,
    "start_time": "2023-11-09T20:57:10.744Z"
   },
   {
    "duration": 8,
    "start_time": "2023-11-09T21:02:23.956Z"
   },
   {
    "duration": 9,
    "start_time": "2023-11-09T21:02:34.421Z"
   },
   {
    "duration": 7,
    "start_time": "2023-11-09T21:02:46.786Z"
   },
   {
    "duration": 13,
    "start_time": "2023-11-09T21:02:53.529Z"
   },
   {
    "duration": 5,
    "start_time": "2023-11-09T21:03:04.084Z"
   },
   {
    "duration": 8,
    "start_time": "2023-11-09T21:03:29.778Z"
   },
   {
    "duration": 9,
    "start_time": "2023-11-09T21:03:37.493Z"
   },
   {
    "duration": 14,
    "start_time": "2023-11-09T21:04:01.436Z"
   },
   {
    "duration": 9,
    "start_time": "2023-11-09T21:04:29.585Z"
   },
   {
    "duration": 8,
    "start_time": "2023-11-09T21:05:26.357Z"
   },
   {
    "duration": 8,
    "start_time": "2023-11-09T21:06:09.339Z"
   },
   {
    "duration": 7,
    "start_time": "2023-11-09T21:08:57.505Z"
   },
   {
    "duration": 8,
    "start_time": "2023-11-09T21:09:06.361Z"
   },
   {
    "duration": 9,
    "start_time": "2023-11-09T21:09:59.988Z"
   },
   {
    "duration": 18,
    "start_time": "2023-11-09T21:10:07.925Z"
   },
   {
    "duration": 13,
    "start_time": "2023-11-09T21:10:16.137Z"
   },
   {
    "duration": 24,
    "start_time": "2023-11-09T21:12:09.409Z"
   },
   {
    "duration": 7,
    "start_time": "2023-11-09T21:12:30.705Z"
   },
   {
    "duration": 21,
    "start_time": "2023-11-09T21:12:45.140Z"
   },
   {
    "duration": 3,
    "start_time": "2023-11-09T21:13:18.107Z"
   },
   {
    "duration": 11,
    "start_time": "2023-11-09T21:13:23.312Z"
   },
   {
    "duration": 87,
    "start_time": "2023-11-09T21:14:17.526Z"
   },
   {
    "duration": 9,
    "start_time": "2023-11-09T21:14:38.437Z"
   },
   {
    "duration": 6,
    "start_time": "2023-11-09T21:15:27.133Z"
   },
   {
    "duration": 7,
    "start_time": "2023-11-09T21:16:01.801Z"
   },
   {
    "duration": 3,
    "start_time": "2023-11-09T21:16:07.468Z"
   },
   {
    "duration": 5,
    "start_time": "2023-11-09T21:19:01.773Z"
   },
   {
    "duration": 4,
    "start_time": "2023-11-09T21:19:37.055Z"
   },
   {
    "duration": 212,
    "start_time": "2023-11-09T21:24:01.160Z"
   },
   {
    "duration": 340,
    "start_time": "2023-11-09T21:24:14.330Z"
   },
   {
    "duration": 179,
    "start_time": "2023-11-09T21:24:20.648Z"
   },
   {
    "duration": 1327,
    "start_time": "2023-11-09T21:32:52.220Z"
   },
   {
    "duration": 28,
    "start_time": "2023-11-09T21:32:53.559Z"
   },
   {
    "duration": 2,
    "start_time": "2023-11-09T21:32:53.589Z"
   },
   {
    "duration": 17,
    "start_time": "2023-11-09T21:32:53.593Z"
   },
   {
    "duration": 19,
    "start_time": "2023-11-09T21:32:53.612Z"
   },
   {
    "duration": 18,
    "start_time": "2023-11-09T21:32:53.637Z"
   },
   {
    "duration": 14,
    "start_time": "2023-11-09T21:32:53.661Z"
   },
   {
    "duration": 12,
    "start_time": "2023-11-09T21:32:53.677Z"
   },
   {
    "duration": 68,
    "start_time": "2023-11-09T21:32:53.691Z"
   },
   {
    "duration": 11,
    "start_time": "2023-11-09T21:32:53.761Z"
   },
   {
    "duration": 23,
    "start_time": "2023-11-09T21:32:53.774Z"
   },
   {
    "duration": 24,
    "start_time": "2023-11-09T21:32:53.799Z"
   },
   {
    "duration": 16,
    "start_time": "2023-11-09T21:32:53.824Z"
   },
   {
    "duration": 6,
    "start_time": "2023-11-09T21:32:53.844Z"
   },
   {
    "duration": 15,
    "start_time": "2023-11-09T21:32:53.852Z"
   },
   {
    "duration": 5,
    "start_time": "2023-11-09T21:32:53.868Z"
   },
   {
    "duration": 10,
    "start_time": "2023-11-09T21:32:53.874Z"
   },
   {
    "duration": 4,
    "start_time": "2023-11-09T21:32:53.886Z"
   },
   {
    "duration": 32,
    "start_time": "2023-11-09T21:32:53.892Z"
   },
   {
    "duration": 12,
    "start_time": "2023-11-09T21:32:53.944Z"
   },
   {
    "duration": 8,
    "start_time": "2023-11-09T21:32:53.958Z"
   },
   {
    "duration": 5,
    "start_time": "2023-11-09T21:32:53.967Z"
   },
   {
    "duration": 6,
    "start_time": "2023-11-09T21:32:53.974Z"
   },
   {
    "duration": 5,
    "start_time": "2023-11-09T21:32:53.982Z"
   },
   {
    "duration": 4,
    "start_time": "2023-11-09T21:32:53.989Z"
   },
   {
    "duration": 32,
    "start_time": "2023-11-09T21:32:53.995Z"
   },
   {
    "duration": 229,
    "start_time": "2023-11-09T21:32:54.029Z"
   },
   {
    "duration": 186,
    "start_time": "2023-11-09T21:32:54.261Z"
   },
   {
    "duration": 17,
    "start_time": "2023-11-09T21:32:54.449Z"
   },
   {
    "duration": 6,
    "start_time": "2023-11-09T21:32:54.467Z"
   },
   {
    "duration": 7,
    "start_time": "2023-11-09T21:32:54.475Z"
   },
   {
    "duration": 445,
    "start_time": "2023-11-09T21:32:54.483Z"
   },
   {
    "duration": 298,
    "start_time": "2023-11-09T21:32:54.930Z"
   },
   {
    "duration": 425,
    "start_time": "2023-11-09T21:32:55.236Z"
   },
   {
    "duration": 9,
    "start_time": "2023-11-09T21:32:55.663Z"
   },
   {
    "duration": 335,
    "start_time": "2023-11-09T21:32:55.674Z"
   },
   {
    "duration": 412,
    "start_time": "2023-11-09T21:32:56.010Z"
   },
   {
    "duration": 24,
    "start_time": "2023-11-09T21:32:56.433Z"
   },
   {
    "duration": 204,
    "start_time": "2023-11-09T21:32:56.459Z"
   },
   {
    "duration": 5,
    "start_time": "2023-11-09T21:32:56.665Z"
   },
   {
    "duration": 214,
    "start_time": "2023-11-09T21:32:56.675Z"
   },
   {
    "duration": 4,
    "start_time": "2023-11-09T21:32:56.891Z"
   },
   {
    "duration": 76,
    "start_time": "2023-11-09T21:32:56.896Z"
   },
   {
    "duration": 78,
    "start_time": "2023-11-09T21:32:56.974Z"
   },
   {
    "duration": 82,
    "start_time": "2023-11-09T21:32:57.054Z"
   },
   {
    "duration": 96,
    "start_time": "2023-11-09T21:32:57.145Z"
   },
   {
    "duration": 35,
    "start_time": "2023-11-09T21:32:57.245Z"
   },
   {
    "duration": 89,
    "start_time": "2023-11-09T21:32:57.281Z"
   },
   {
    "duration": 125,
    "start_time": "2023-11-09T21:32:57.371Z"
   },
   {
    "duration": 9,
    "start_time": "2023-11-09T21:32:57.498Z"
   },
   {
    "duration": 26,
    "start_time": "2023-11-09T21:32:57.520Z"
   },
   {
    "duration": 32,
    "start_time": "2023-11-09T21:32:57.553Z"
   },
   {
    "duration": 13,
    "start_time": "2023-11-09T21:32:57.586Z"
   },
   {
    "duration": 25,
    "start_time": "2023-11-09T21:32:57.601Z"
   },
   {
    "duration": 14,
    "start_time": "2023-11-09T21:32:57.627Z"
   },
   {
    "duration": 17,
    "start_time": "2023-11-09T21:32:57.642Z"
   },
   {
    "duration": 34,
    "start_time": "2023-11-09T21:32:57.663Z"
   },
   {
    "duration": 33,
    "start_time": "2023-11-09T21:32:57.699Z"
   }
  ],
  "kernelspec": {
   "display_name": "Python 3 (ipykernel)",
   "language": "python",
   "name": "python3"
  },
  "language_info": {
   "codemirror_mode": {
    "name": "ipython",
    "version": 3
   },
   "file_extension": ".py",
   "mimetype": "text/x-python",
   "name": "python",
   "nbconvert_exporter": "python",
   "pygments_lexer": "ipython3",
   "version": "3.9.5"
  },
  "toc": {
   "base_numbering": 1,
   "nav_menu": {},
   "number_sections": true,
   "sideBar": true,
   "skip_h1_title": true,
   "title_cell": "Table of Contents",
   "title_sidebar": "Contents",
   "toc_cell": false,
   "toc_position": {},
   "toc_section_display": true,
   "toc_window_display": false
  }
 },
 "nbformat": 4,
 "nbformat_minor": 2
}
