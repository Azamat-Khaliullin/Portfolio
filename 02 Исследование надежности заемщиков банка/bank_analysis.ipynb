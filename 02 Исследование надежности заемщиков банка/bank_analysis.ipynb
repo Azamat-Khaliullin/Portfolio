{
 "cells": [
  {
   "cell_type": "markdown",
   "id": "386f2ae7",
   "metadata": {
    "deletable": false,
    "editable": false,
    "id": "386f2ae7"
   },
   "source": [
    "# Исследование надежности заемщиков\n"
   ]
  },
  {
   "cell_type": "markdown",
   "id": "ffe86f65",
   "metadata": {
    "deletable": false,
    "editable": false,
    "id": "ffe86f65"
   },
   "source": [
    "Во второй части проекта вы выполните шаги 3 и 4. Их вручную проверит ревьюер.\n",
    "Чтобы вам не пришлось писать код заново для шагов 1 и 2, мы добавили авторские решения в ячейки с кодом. \n",
    "\n"
   ]
  },
  {
   "cell_type": "markdown",
   "id": "26613308",
   "metadata": {
    "deletable": false,
    "editable": false,
    "id": "26613308"
   },
   "source": [
    "## Откройте таблицу и изучите общую информацию о данных"
   ]
  },
  {
   "cell_type": "markdown",
   "id": "3c9f838e",
   "metadata": {
    "deletable": false,
    "editable": false,
    "id": "3c9f838e"
   },
   "source": [
    "**Задание 1. Импортируйте библиотеку pandas. Считайте данные из csv-файла в датафрейм и сохраните в переменную `data`. Путь к файлу:**\n",
    "\n",
    "`/datasets/data.csv`"
   ]
  },
  {
   "cell_type": "code",
   "execution_count": 1,
   "id": "77a68a90",
   "metadata": {
    "deletable": false,
    "id": "77a68a90"
   },
   "outputs": [],
   "source": [
    "import pandas as pd\n",
    "\n",
    "try:\n",
    "    data = pd.read_csv('/datasets/data.csv')\n",
    "except:\n",
    "    data = pd.read_csv('https://code.s3.yandex.net/datasets/data.csv')"
   ]
  },
  {
   "cell_type": "markdown",
   "id": "45365635",
   "metadata": {
    "deletable": false,
    "editable": false,
    "id": "45365635"
   },
   "source": [
    "**Задание 2. Выведите первые 20 строчек датафрейма `data` на экран.**"
   ]
  },
  {
   "cell_type": "code",
   "execution_count": 2,
   "id": "b0451a9a",
   "metadata": {
    "deletable": false,
    "id": "b0451a9a",
    "outputId": "1a8f3ef2-d323-4ec2-ddf7-89670b5944c4"
   },
   "outputs": [
    {
     "data": {
      "text/html": [
       "<div>\n",
       "<style scoped>\n",
       "    .dataframe tbody tr th:only-of-type {\n",
       "        vertical-align: middle;\n",
       "    }\n",
       "\n",
       "    .dataframe tbody tr th {\n",
       "        vertical-align: top;\n",
       "    }\n",
       "\n",
       "    .dataframe thead th {\n",
       "        text-align: right;\n",
       "    }\n",
       "</style>\n",
       "<table border=\"1\" class=\"dataframe\">\n",
       "  <thead>\n",
       "    <tr style=\"text-align: right;\">\n",
       "      <th></th>\n",
       "      <th>children</th>\n",
       "      <th>days_employed</th>\n",
       "      <th>dob_years</th>\n",
       "      <th>education</th>\n",
       "      <th>education_id</th>\n",
       "      <th>family_status</th>\n",
       "      <th>family_status_id</th>\n",
       "      <th>gender</th>\n",
       "      <th>income_type</th>\n",
       "      <th>debt</th>\n",
       "      <th>total_income</th>\n",
       "      <th>purpose</th>\n",
       "    </tr>\n",
       "  </thead>\n",
       "  <tbody>\n",
       "    <tr>\n",
       "      <th>0</th>\n",
       "      <td>1</td>\n",
       "      <td>-8437.673028</td>\n",
       "      <td>42</td>\n",
       "      <td>высшее</td>\n",
       "      <td>0</td>\n",
       "      <td>женат / замужем</td>\n",
       "      <td>0</td>\n",
       "      <td>F</td>\n",
       "      <td>сотрудник</td>\n",
       "      <td>0</td>\n",
       "      <td>253875.639453</td>\n",
       "      <td>покупка жилья</td>\n",
       "    </tr>\n",
       "    <tr>\n",
       "      <th>1</th>\n",
       "      <td>1</td>\n",
       "      <td>-4024.803754</td>\n",
       "      <td>36</td>\n",
       "      <td>среднее</td>\n",
       "      <td>1</td>\n",
       "      <td>женат / замужем</td>\n",
       "      <td>0</td>\n",
       "      <td>F</td>\n",
       "      <td>сотрудник</td>\n",
       "      <td>0</td>\n",
       "      <td>112080.014102</td>\n",
       "      <td>приобретение автомобиля</td>\n",
       "    </tr>\n",
       "    <tr>\n",
       "      <th>2</th>\n",
       "      <td>0</td>\n",
       "      <td>-5623.422610</td>\n",
       "      <td>33</td>\n",
       "      <td>Среднее</td>\n",
       "      <td>1</td>\n",
       "      <td>женат / замужем</td>\n",
       "      <td>0</td>\n",
       "      <td>M</td>\n",
       "      <td>сотрудник</td>\n",
       "      <td>0</td>\n",
       "      <td>145885.952297</td>\n",
       "      <td>покупка жилья</td>\n",
       "    </tr>\n",
       "    <tr>\n",
       "      <th>3</th>\n",
       "      <td>3</td>\n",
       "      <td>-4124.747207</td>\n",
       "      <td>32</td>\n",
       "      <td>среднее</td>\n",
       "      <td>1</td>\n",
       "      <td>женат / замужем</td>\n",
       "      <td>0</td>\n",
       "      <td>M</td>\n",
       "      <td>сотрудник</td>\n",
       "      <td>0</td>\n",
       "      <td>267628.550329</td>\n",
       "      <td>дополнительное образование</td>\n",
       "    </tr>\n",
       "    <tr>\n",
       "      <th>4</th>\n",
       "      <td>0</td>\n",
       "      <td>340266.072047</td>\n",
       "      <td>53</td>\n",
       "      <td>среднее</td>\n",
       "      <td>1</td>\n",
       "      <td>гражданский брак</td>\n",
       "      <td>1</td>\n",
       "      <td>F</td>\n",
       "      <td>пенсионер</td>\n",
       "      <td>0</td>\n",
       "      <td>158616.077870</td>\n",
       "      <td>сыграть свадьбу</td>\n",
       "    </tr>\n",
       "    <tr>\n",
       "      <th>5</th>\n",
       "      <td>0</td>\n",
       "      <td>-926.185831</td>\n",
       "      <td>27</td>\n",
       "      <td>высшее</td>\n",
       "      <td>0</td>\n",
       "      <td>гражданский брак</td>\n",
       "      <td>1</td>\n",
       "      <td>M</td>\n",
       "      <td>компаньон</td>\n",
       "      <td>0</td>\n",
       "      <td>255763.565419</td>\n",
       "      <td>покупка жилья</td>\n",
       "    </tr>\n",
       "    <tr>\n",
       "      <th>6</th>\n",
       "      <td>0</td>\n",
       "      <td>-2879.202052</td>\n",
       "      <td>43</td>\n",
       "      <td>высшее</td>\n",
       "      <td>0</td>\n",
       "      <td>женат / замужем</td>\n",
       "      <td>0</td>\n",
       "      <td>F</td>\n",
       "      <td>компаньон</td>\n",
       "      <td>0</td>\n",
       "      <td>240525.971920</td>\n",
       "      <td>операции с жильем</td>\n",
       "    </tr>\n",
       "    <tr>\n",
       "      <th>7</th>\n",
       "      <td>0</td>\n",
       "      <td>-152.779569</td>\n",
       "      <td>50</td>\n",
       "      <td>СРЕДНЕЕ</td>\n",
       "      <td>1</td>\n",
       "      <td>женат / замужем</td>\n",
       "      <td>0</td>\n",
       "      <td>M</td>\n",
       "      <td>сотрудник</td>\n",
       "      <td>0</td>\n",
       "      <td>135823.934197</td>\n",
       "      <td>образование</td>\n",
       "    </tr>\n",
       "    <tr>\n",
       "      <th>8</th>\n",
       "      <td>2</td>\n",
       "      <td>-6929.865299</td>\n",
       "      <td>35</td>\n",
       "      <td>ВЫСШЕЕ</td>\n",
       "      <td>0</td>\n",
       "      <td>гражданский брак</td>\n",
       "      <td>1</td>\n",
       "      <td>F</td>\n",
       "      <td>сотрудник</td>\n",
       "      <td>0</td>\n",
       "      <td>95856.832424</td>\n",
       "      <td>на проведение свадьбы</td>\n",
       "    </tr>\n",
       "    <tr>\n",
       "      <th>9</th>\n",
       "      <td>0</td>\n",
       "      <td>-2188.756445</td>\n",
       "      <td>41</td>\n",
       "      <td>среднее</td>\n",
       "      <td>1</td>\n",
       "      <td>женат / замужем</td>\n",
       "      <td>0</td>\n",
       "      <td>M</td>\n",
       "      <td>сотрудник</td>\n",
       "      <td>0</td>\n",
       "      <td>144425.938277</td>\n",
       "      <td>покупка жилья для семьи</td>\n",
       "    </tr>\n",
       "    <tr>\n",
       "      <th>10</th>\n",
       "      <td>2</td>\n",
       "      <td>-4171.483647</td>\n",
       "      <td>36</td>\n",
       "      <td>высшее</td>\n",
       "      <td>0</td>\n",
       "      <td>женат / замужем</td>\n",
       "      <td>0</td>\n",
       "      <td>M</td>\n",
       "      <td>компаньон</td>\n",
       "      <td>0</td>\n",
       "      <td>113943.491460</td>\n",
       "      <td>покупка недвижимости</td>\n",
       "    </tr>\n",
       "    <tr>\n",
       "      <th>11</th>\n",
       "      <td>0</td>\n",
       "      <td>-792.701887</td>\n",
       "      <td>40</td>\n",
       "      <td>среднее</td>\n",
       "      <td>1</td>\n",
       "      <td>женат / замужем</td>\n",
       "      <td>0</td>\n",
       "      <td>F</td>\n",
       "      <td>сотрудник</td>\n",
       "      <td>0</td>\n",
       "      <td>77069.234271</td>\n",
       "      <td>покупка коммерческой недвижимости</td>\n",
       "    </tr>\n",
       "    <tr>\n",
       "      <th>12</th>\n",
       "      <td>0</td>\n",
       "      <td>NaN</td>\n",
       "      <td>65</td>\n",
       "      <td>среднее</td>\n",
       "      <td>1</td>\n",
       "      <td>гражданский брак</td>\n",
       "      <td>1</td>\n",
       "      <td>M</td>\n",
       "      <td>пенсионер</td>\n",
       "      <td>0</td>\n",
       "      <td>NaN</td>\n",
       "      <td>сыграть свадьбу</td>\n",
       "    </tr>\n",
       "    <tr>\n",
       "      <th>13</th>\n",
       "      <td>0</td>\n",
       "      <td>-1846.641941</td>\n",
       "      <td>54</td>\n",
       "      <td>неоконченное высшее</td>\n",
       "      <td>2</td>\n",
       "      <td>женат / замужем</td>\n",
       "      <td>0</td>\n",
       "      <td>F</td>\n",
       "      <td>сотрудник</td>\n",
       "      <td>0</td>\n",
       "      <td>130458.228857</td>\n",
       "      <td>приобретение автомобиля</td>\n",
       "    </tr>\n",
       "    <tr>\n",
       "      <th>14</th>\n",
       "      <td>0</td>\n",
       "      <td>-1844.956182</td>\n",
       "      <td>56</td>\n",
       "      <td>высшее</td>\n",
       "      <td>0</td>\n",
       "      <td>гражданский брак</td>\n",
       "      <td>1</td>\n",
       "      <td>F</td>\n",
       "      <td>компаньон</td>\n",
       "      <td>1</td>\n",
       "      <td>165127.911772</td>\n",
       "      <td>покупка жилой недвижимости</td>\n",
       "    </tr>\n",
       "    <tr>\n",
       "      <th>15</th>\n",
       "      <td>1</td>\n",
       "      <td>-972.364419</td>\n",
       "      <td>26</td>\n",
       "      <td>среднее</td>\n",
       "      <td>1</td>\n",
       "      <td>женат / замужем</td>\n",
       "      <td>0</td>\n",
       "      <td>F</td>\n",
       "      <td>сотрудник</td>\n",
       "      <td>0</td>\n",
       "      <td>116820.904450</td>\n",
       "      <td>строительство собственной недвижимости</td>\n",
       "    </tr>\n",
       "    <tr>\n",
       "      <th>16</th>\n",
       "      <td>0</td>\n",
       "      <td>-1719.934226</td>\n",
       "      <td>35</td>\n",
       "      <td>среднее</td>\n",
       "      <td>1</td>\n",
       "      <td>женат / замужем</td>\n",
       "      <td>0</td>\n",
       "      <td>F</td>\n",
       "      <td>сотрудник</td>\n",
       "      <td>0</td>\n",
       "      <td>289202.704229</td>\n",
       "      <td>недвижимость</td>\n",
       "    </tr>\n",
       "    <tr>\n",
       "      <th>17</th>\n",
       "      <td>0</td>\n",
       "      <td>-2369.999720</td>\n",
       "      <td>33</td>\n",
       "      <td>высшее</td>\n",
       "      <td>0</td>\n",
       "      <td>гражданский брак</td>\n",
       "      <td>1</td>\n",
       "      <td>M</td>\n",
       "      <td>сотрудник</td>\n",
       "      <td>0</td>\n",
       "      <td>90410.586745</td>\n",
       "      <td>строительство недвижимости</td>\n",
       "    </tr>\n",
       "    <tr>\n",
       "      <th>18</th>\n",
       "      <td>0</td>\n",
       "      <td>400281.136913</td>\n",
       "      <td>53</td>\n",
       "      <td>среднее</td>\n",
       "      <td>1</td>\n",
       "      <td>вдовец / вдова</td>\n",
       "      <td>2</td>\n",
       "      <td>F</td>\n",
       "      <td>пенсионер</td>\n",
       "      <td>0</td>\n",
       "      <td>56823.777243</td>\n",
       "      <td>на покупку подержанного автомобиля</td>\n",
       "    </tr>\n",
       "    <tr>\n",
       "      <th>19</th>\n",
       "      <td>0</td>\n",
       "      <td>-10038.818549</td>\n",
       "      <td>48</td>\n",
       "      <td>СРЕДНЕЕ</td>\n",
       "      <td>1</td>\n",
       "      <td>в разводе</td>\n",
       "      <td>3</td>\n",
       "      <td>F</td>\n",
       "      <td>сотрудник</td>\n",
       "      <td>0</td>\n",
       "      <td>242831.107982</td>\n",
       "      <td>на покупку своего автомобиля</td>\n",
       "    </tr>\n",
       "  </tbody>\n",
       "</table>\n",
       "</div>"
      ],
      "text/plain": [
       "    children  days_employed  dob_years            education  education_id  \\\n",
       "0          1   -8437.673028         42               высшее             0   \n",
       "1          1   -4024.803754         36              среднее             1   \n",
       "2          0   -5623.422610         33              Среднее             1   \n",
       "3          3   -4124.747207         32              среднее             1   \n",
       "4          0  340266.072047         53              среднее             1   \n",
       "5          0    -926.185831         27               высшее             0   \n",
       "6          0   -2879.202052         43               высшее             0   \n",
       "7          0    -152.779569         50              СРЕДНЕЕ             1   \n",
       "8          2   -6929.865299         35               ВЫСШЕЕ             0   \n",
       "9          0   -2188.756445         41              среднее             1   \n",
       "10         2   -4171.483647         36               высшее             0   \n",
       "11         0    -792.701887         40              среднее             1   \n",
       "12         0            NaN         65              среднее             1   \n",
       "13         0   -1846.641941         54  неоконченное высшее             2   \n",
       "14         0   -1844.956182         56               высшее             0   \n",
       "15         1    -972.364419         26              среднее             1   \n",
       "16         0   -1719.934226         35              среднее             1   \n",
       "17         0   -2369.999720         33               высшее             0   \n",
       "18         0  400281.136913         53              среднее             1   \n",
       "19         0  -10038.818549         48              СРЕДНЕЕ             1   \n",
       "\n",
       "       family_status  family_status_id gender income_type  debt  \\\n",
       "0    женат / замужем                 0      F   сотрудник     0   \n",
       "1    женат / замужем                 0      F   сотрудник     0   \n",
       "2    женат / замужем                 0      M   сотрудник     0   \n",
       "3    женат / замужем                 0      M   сотрудник     0   \n",
       "4   гражданский брак                 1      F   пенсионер     0   \n",
       "5   гражданский брак                 1      M   компаньон     0   \n",
       "6    женат / замужем                 0      F   компаньон     0   \n",
       "7    женат / замужем                 0      M   сотрудник     0   \n",
       "8   гражданский брак                 1      F   сотрудник     0   \n",
       "9    женат / замужем                 0      M   сотрудник     0   \n",
       "10   женат / замужем                 0      M   компаньон     0   \n",
       "11   женат / замужем                 0      F   сотрудник     0   \n",
       "12  гражданский брак                 1      M   пенсионер     0   \n",
       "13   женат / замужем                 0      F   сотрудник     0   \n",
       "14  гражданский брак                 1      F   компаньон     1   \n",
       "15   женат / замужем                 0      F   сотрудник     0   \n",
       "16   женат / замужем                 0      F   сотрудник     0   \n",
       "17  гражданский брак                 1      M   сотрудник     0   \n",
       "18    вдовец / вдова                 2      F   пенсионер     0   \n",
       "19         в разводе                 3      F   сотрудник     0   \n",
       "\n",
       "     total_income                                 purpose  \n",
       "0   253875.639453                           покупка жилья  \n",
       "1   112080.014102                 приобретение автомобиля  \n",
       "2   145885.952297                           покупка жилья  \n",
       "3   267628.550329              дополнительное образование  \n",
       "4   158616.077870                         сыграть свадьбу  \n",
       "5   255763.565419                           покупка жилья  \n",
       "6   240525.971920                       операции с жильем  \n",
       "7   135823.934197                             образование  \n",
       "8    95856.832424                   на проведение свадьбы  \n",
       "9   144425.938277                 покупка жилья для семьи  \n",
       "10  113943.491460                    покупка недвижимости  \n",
       "11   77069.234271       покупка коммерческой недвижимости  \n",
       "12            NaN                         сыграть свадьбу  \n",
       "13  130458.228857                 приобретение автомобиля  \n",
       "14  165127.911772              покупка жилой недвижимости  \n",
       "15  116820.904450  строительство собственной недвижимости  \n",
       "16  289202.704229                            недвижимость  \n",
       "17   90410.586745              строительство недвижимости  \n",
       "18   56823.777243      на покупку подержанного автомобиля  \n",
       "19  242831.107982            на покупку своего автомобиля  "
      ]
     },
     "execution_count": 2,
     "metadata": {},
     "output_type": "execute_result"
    }
   ],
   "source": [
    "data.head(20)"
   ]
  },
  {
   "cell_type": "markdown",
   "id": "0ed8f27f",
   "metadata": {
    "deletable": false,
    "editable": false,
    "id": "0ed8f27f"
   },
   "source": [
    "**Задание 3. Выведите основную информацию о датафрейме с помощью метода `info()`.**"
   ]
  },
  {
   "cell_type": "code",
   "execution_count": 3,
   "id": "ab3f863b",
   "metadata": {
    "deletable": false,
    "id": "ab3f863b",
    "outputId": "15376089-8dad-46c9-b520-c05248d43158"
   },
   "outputs": [
    {
     "name": "stdout",
     "output_type": "stream",
     "text": [
      "<class 'pandas.core.frame.DataFrame'>\n",
      "RangeIndex: 21525 entries, 0 to 21524\n",
      "Data columns (total 12 columns):\n",
      " #   Column            Non-Null Count  Dtype  \n",
      "---  ------            --------------  -----  \n",
      " 0   children          21525 non-null  int64  \n",
      " 1   days_employed     19351 non-null  float64\n",
      " 2   dob_years         21525 non-null  int64  \n",
      " 3   education         21525 non-null  object \n",
      " 4   education_id      21525 non-null  int64  \n",
      " 5   family_status     21525 non-null  object \n",
      " 6   family_status_id  21525 non-null  int64  \n",
      " 7   gender            21525 non-null  object \n",
      " 8   income_type       21525 non-null  object \n",
      " 9   debt              21525 non-null  int64  \n",
      " 10  total_income      19351 non-null  float64\n",
      " 11  purpose           21525 non-null  object \n",
      "dtypes: float64(2), int64(5), object(5)\n",
      "memory usage: 2.0+ MB\n"
     ]
    }
   ],
   "source": [
    "data.info()"
   ]
  },
  {
   "cell_type": "markdown",
   "id": "60e3e22d",
   "metadata": {
    "deletable": false,
    "editable": false,
    "id": "60e3e22d"
   },
   "source": [
    "## Предобработка данных"
   ]
  },
  {
   "cell_type": "markdown",
   "id": "03dc170c",
   "metadata": {
    "deletable": false,
    "editable": false,
    "id": "03dc170c"
   },
   "source": [
    "### Удаление пропусков"
   ]
  },
  {
   "cell_type": "markdown",
   "id": "a4f54eef",
   "metadata": {
    "deletable": false,
    "editable": false,
    "id": "a4f54eef"
   },
   "source": [
    "**Задание 4. Выведите количество пропущенных значений для каждого столбца. Используйте комбинацию двух методов.**"
   ]
  },
  {
   "cell_type": "code",
   "execution_count": 4,
   "id": "2dc372b2",
   "metadata": {
    "deletable": false,
    "id": "2dc372b2",
    "outputId": "81f4d817-781c-465c-ed15-91ce4446810d"
   },
   "outputs": [
    {
     "data": {
      "text/plain": [
       "children               0\n",
       "days_employed       2174\n",
       "dob_years              0\n",
       "education              0\n",
       "education_id           0\n",
       "family_status          0\n",
       "family_status_id       0\n",
       "gender                 0\n",
       "income_type            0\n",
       "debt                   0\n",
       "total_income        2174\n",
       "purpose                0\n",
       "dtype: int64"
      ]
     },
     "execution_count": 4,
     "metadata": {},
     "output_type": "execute_result"
    }
   ],
   "source": [
    "data.isna().sum()"
   ]
  },
  {
   "cell_type": "markdown",
   "id": "14f011b1",
   "metadata": {
    "deletable": false,
    "editable": false,
    "id": "14f011b1"
   },
   "source": [
    "**Задание 5. В двух столбцах есть пропущенные значения. Один из них — `days_employed`. Пропуски в этом столбце вы обработаете на следующем этапе. Другой столбец с пропущенными значениями — `total_income` — хранит данные о доходах. На сумму дохода сильнее всего влияет тип занятости, поэтому заполнить пропуски в этом столбце нужно медианным значением по каждому типу из столбца `income_type`. Например, у человека с типом занятости `сотрудник` пропуск в столбце `total_income` должен быть заполнен медианным доходом среди всех записей с тем же типом.**"
   ]
  },
  {
   "cell_type": "code",
   "execution_count": 5,
   "id": "bdabfb6e",
   "metadata": {
    "deletable": false,
    "id": "bdabfb6e"
   },
   "outputs": [],
   "source": [
    "for t in data['income_type'].unique():\n",
    "    data.loc[(data['income_type'] == t) & (data['total_income'].isna()), 'total_income'] = \\\n",
    "    data.loc[(data['income_type'] == t), 'total_income'].median()"
   ]
  },
  {
   "cell_type": "markdown",
   "id": "5be34059",
   "metadata": {
    "deletable": false,
    "editable": false,
    "id": "5be34059"
   },
   "source": [
    "### Обработка аномальных значений"
   ]
  },
  {
   "cell_type": "markdown",
   "id": "a87606cb",
   "metadata": {
    "deletable": false,
    "editable": false,
    "id": "a87606cb"
   },
   "source": [
    "**Задание 6. В данных могут встречаться артефакты (аномалии) — значения, которые не отражают действительность и появились по какой-то ошибке. таким артефактом будет отрицательное количество дней трудового стажа в столбце `days_employed`. Для реальных данных это нормально. Обработайте значения в этом столбце: замените все отрицательные значения положительными с помощью метода `abs()`.**"
   ]
  },
  {
   "cell_type": "code",
   "execution_count": 6,
   "id": "020c46cc",
   "metadata": {
    "deletable": false,
    "id": "020c46cc"
   },
   "outputs": [],
   "source": [
    "data['days_employed'] = data['days_employed'].abs()"
   ]
  },
  {
   "cell_type": "markdown",
   "id": "45538a3a",
   "metadata": {
    "deletable": false,
    "editable": false,
    "id": "45538a3a"
   },
   "source": [
    "**Задание 7. Для каждого типа занятости выведите медианное значение трудового стажа `days_employed` в днях.**"
   ]
  },
  {
   "cell_type": "code",
   "execution_count": 7,
   "id": "cd3e6328",
   "metadata": {
    "deletable": false,
    "id": "cd3e6328",
    "outputId": "801ef80e-522b-4668-f34e-565af7432bcf"
   },
   "outputs": [
    {
     "data": {
      "text/plain": [
       "income_type\n",
       "безработный        366413.652744\n",
       "в декрете            3296.759962\n",
       "госслужащий          2689.368353\n",
       "компаньон            1547.382223\n",
       "пенсионер          365213.306266\n",
       "предприниматель       520.848083\n",
       "сотрудник            1574.202821\n",
       "студент               578.751554\n",
       "Name: days_employed, dtype: float64"
      ]
     },
     "execution_count": 7,
     "metadata": {},
     "output_type": "execute_result"
    }
   ],
   "source": [
    "data.groupby('income_type')['days_employed'].agg('median')"
   ]
  },
  {
   "cell_type": "markdown",
   "id": "90c5f058",
   "metadata": {
    "deletable": false,
    "editable": false,
    "id": "90c5f058"
   },
   "source": [
    "У двух типов (безработные и пенсионеры) получатся аномально большие значения. Исправить такие значения сложно, поэтому оставьте их как есть."
   ]
  },
  {
   "cell_type": "markdown",
   "id": "9652e50d",
   "metadata": {
    "deletable": false,
    "editable": false,
    "id": "9652e50d"
   },
   "source": [
    "**Задание 8. Выведите перечень уникальных значений столбца `children`.**"
   ]
  },
  {
   "cell_type": "code",
   "execution_count": 8,
   "id": "dbb37b8e",
   "metadata": {
    "deletable": false,
    "id": "dbb37b8e",
    "outputId": "6975b15c-7f95-4697-d16d-a0c79b657b03"
   },
   "outputs": [
    {
     "data": {
      "text/plain": [
       "array([ 1,  0,  3,  2, -1,  4, 20,  5])"
      ]
     },
     "execution_count": 8,
     "metadata": {},
     "output_type": "execute_result"
    }
   ],
   "source": [
    "data['children'].unique()"
   ]
  },
  {
   "cell_type": "markdown",
   "id": "2b8b0715",
   "metadata": {
    "deletable": false,
    "editable": false,
    "id": "2b8b0715"
   },
   "source": [
    "**Задание 9. В столбце `children` есть два аномальных значения. Удалите строки, в которых встречаются такие аномальные значения из датафрейма `data`.**"
   ]
  },
  {
   "cell_type": "code",
   "execution_count": 9,
   "id": "20009df8",
   "metadata": {
    "deletable": false,
    "id": "20009df8"
   },
   "outputs": [],
   "source": [
    "data = data[(data['children'] != -1) & (data['children'] != 20)]"
   ]
  },
  {
   "cell_type": "markdown",
   "id": "8c6ac9f1",
   "metadata": {
    "deletable": false,
    "editable": false,
    "id": "8c6ac9f1"
   },
   "source": [
    "**Задание 10. Ещё раз выведите перечень уникальных значений столбца `children`, чтобы убедиться, что артефакты удалены.**"
   ]
  },
  {
   "cell_type": "code",
   "execution_count": 10,
   "id": "07337b81",
   "metadata": {
    "deletable": false,
    "id": "07337b81",
    "outputId": "b2097101-d49d-44d9-901b-32a65c9463d1"
   },
   "outputs": [
    {
     "data": {
      "text/plain": [
       "array([1, 0, 3, 2, 4, 5])"
      ]
     },
     "execution_count": 10,
     "metadata": {},
     "output_type": "execute_result"
    }
   ],
   "source": [
    "data['children'].unique()"
   ]
  },
  {
   "cell_type": "markdown",
   "id": "ee3f52d4",
   "metadata": {
    "deletable": false,
    "editable": false,
    "id": "ee3f52d4"
   },
   "source": [
    "### Удаление пропусков (продолжение)"
   ]
  },
  {
   "cell_type": "markdown",
   "id": "a700b0e4",
   "metadata": {
    "deletable": false,
    "editable": false,
    "id": "a700b0e4"
   },
   "source": [
    "**Задание 11. Заполните пропуски в столбце `days_employed` медианными значениями по каждого типа занятости `income_type`.**"
   ]
  },
  {
   "cell_type": "code",
   "execution_count": 11,
   "id": "61946b83",
   "metadata": {
    "deletable": false,
    "id": "61946b83"
   },
   "outputs": [],
   "source": [
    "for t in data['income_type'].unique():\n",
    "    data.loc[(data['income_type'] == t) & (data['days_employed'].isna()), 'days_employed'] = \\\n",
    "    data.loc[(data['income_type'] == t), 'days_employed'].median()"
   ]
  },
  {
   "cell_type": "markdown",
   "id": "550dcd9b",
   "metadata": {
    "deletable": false,
    "editable": false,
    "id": "550dcd9b"
   },
   "source": [
    "**Задание 12. Убедитесь, что все пропуски заполнены. Проверьте себя и ещё раз выведите количество пропущенных значений для каждого столбца с помощью двух методов.**"
   ]
  },
  {
   "cell_type": "code",
   "execution_count": 12,
   "id": "937c7014",
   "metadata": {
    "deletable": false,
    "id": "937c7014",
    "outputId": "8da1e4e1-358e-4e87-98c9-f261bce0a7b2"
   },
   "outputs": [
    {
     "data": {
      "text/plain": [
       "children            0\n",
       "days_employed       0\n",
       "dob_years           0\n",
       "education           0\n",
       "education_id        0\n",
       "family_status       0\n",
       "family_status_id    0\n",
       "gender              0\n",
       "income_type         0\n",
       "debt                0\n",
       "total_income        0\n",
       "purpose             0\n",
       "dtype: int64"
      ]
     },
     "execution_count": 12,
     "metadata": {},
     "output_type": "execute_result"
    }
   ],
   "source": [
    "data.isna().sum()"
   ]
  },
  {
   "cell_type": "markdown",
   "id": "d522e295",
   "metadata": {
    "deletable": false,
    "editable": false,
    "id": "d522e295"
   },
   "source": [
    "### Изменение типов данных"
   ]
  },
  {
   "cell_type": "markdown",
   "id": "c229c581",
   "metadata": {
    "deletable": false,
    "editable": false,
    "id": "c229c581"
   },
   "source": [
    "**Задание 13. Замените вещественный тип данных в столбце `total_income` на целочисленный с помощью метода `astype()`.**"
   ]
  },
  {
   "cell_type": "code",
   "execution_count": 13,
   "id": "31036462",
   "metadata": {
    "deletable": false,
    "id": "31036462"
   },
   "outputs": [],
   "source": [
    "data['total_income'] = data['total_income'].astype(int)"
   ]
  },
  {
   "cell_type": "markdown",
   "id": "b8e3d1d9",
   "metadata": {
    "deletable": false,
    "editable": false,
    "id": "b8e3d1d9"
   },
   "source": [
    "### Обработка дубликатов"
   ]
  },
  {
   "cell_type": "markdown",
   "id": "9be53c49",
   "metadata": {
    "deletable": false,
    "editable": false,
    "id": "9be53c49"
   },
   "source": [
    "**Задание 14. Обработайте неявные дубликаты в столбце `education`. В этом столбце есть одни и те же значения, но записанные по-разному: с использованием заглавных и строчных букв. Приведите их к нижнему регистру.**"
   ]
  },
  {
   "cell_type": "code",
   "execution_count": 14,
   "id": "d89e73e1",
   "metadata": {
    "deletable": false,
    "id": "d89e73e1"
   },
   "outputs": [],
   "source": [
    "data['education'] = data['education'].str.lower()"
   ]
  },
  {
   "cell_type": "markdown",
   "id": "01d4500e",
   "metadata": {
    "deletable": false,
    "editable": false,
    "id": "01d4500e"
   },
   "source": [
    "**Задание 15. Выведите на экран количество строк-дубликатов в данных. Если такие строки присутствуют, удалите их.**"
   ]
  },
  {
   "cell_type": "code",
   "execution_count": 15,
   "id": "e10efb23",
   "metadata": {
    "deletable": false,
    "id": "e10efb23",
    "outputId": "9684deba-1934-42d1-99e1-cda61740f822"
   },
   "outputs": [
    {
     "data": {
      "text/plain": [
       "71"
      ]
     },
     "execution_count": 15,
     "metadata": {},
     "output_type": "execute_result"
    }
   ],
   "source": [
    "data.duplicated().sum()"
   ]
  },
  {
   "cell_type": "code",
   "execution_count": 16,
   "id": "df853f20",
   "metadata": {
    "deletable": false,
    "id": "df853f20"
   },
   "outputs": [],
   "source": [
    "data = data.drop_duplicates()"
   ]
  },
  {
   "cell_type": "markdown",
   "id": "627be38f",
   "metadata": {
    "deletable": false,
    "editable": false,
    "id": "627be38f"
   },
   "source": [
    "### Категоризация данных"
   ]
  },
  {
   "cell_type": "markdown",
   "id": "4684c3e0",
   "metadata": {
    "deletable": false,
    "editable": false,
    "id": "4684c3e0"
   },
   "source": [
    "**Задание 16. На основании диапазонов, указанных ниже, создайте в датафрейме `data` столбец `total_income_category` с категориями:**\n",
    "\n",
    "- 0–30000 — `'E'`;\n",
    "- 30001–50000 — `'D'`;\n",
    "- 50001–200000 — `'C'`;\n",
    "- 200001–1000000 — `'B'`;\n",
    "- 1000001 и выше — `'A'`.\n",
    "\n",
    "\n",
    "**Например, кредитополучателю с доходом 25000 нужно назначить категорию `'E'`, а клиенту, получающему 235000, — `'B'`. Используйте собственную функцию с именем `categorize_income()` и метод `apply()`.**"
   ]
  },
  {
   "cell_type": "code",
   "execution_count": 17,
   "id": "78965238",
   "metadata": {
    "deletable": false,
    "id": "78965238"
   },
   "outputs": [],
   "source": [
    "def categorize_income(income):\n",
    "    try:\n",
    "        if 0 <= income <= 30000:\n",
    "            return 'E'\n",
    "        elif 30001 <= income <= 50000:\n",
    "            return 'D'\n",
    "        elif 50001 <= income <= 200000:\n",
    "            return 'C'\n",
    "        elif 200001 <= income <= 1000000:\n",
    "            return 'B'\n",
    "        elif income >= 1000001:\n",
    "            return 'A'\n",
    "    except:\n",
    "        pass"
   ]
  },
  {
   "cell_type": "code",
   "execution_count": 18,
   "id": "0980ada1",
   "metadata": {
    "deletable": false,
    "id": "0980ada1"
   },
   "outputs": [],
   "source": [
    "data['total_income_category'] = data['total_income'].apply(categorize_income)"
   ]
  },
  {
   "cell_type": "markdown",
   "id": "9917bba0",
   "metadata": {
    "deletable": false,
    "editable": false,
    "id": "9917bba0"
   },
   "source": [
    "**Задание 17. Выведите на экран перечень уникальных целей взятия кредита из столбца `purpose`.**"
   ]
  },
  {
   "cell_type": "code",
   "execution_count": 19,
   "id": "ee07b65e",
   "metadata": {
    "deletable": false,
    "id": "ee07b65e",
    "outputId": "673c12d9-7d7e-4ae0-9812-c622c89dd244"
   },
   "outputs": [
    {
     "data": {
      "text/plain": [
       "array(['покупка жилья', 'приобретение автомобиля',\n",
       "       'дополнительное образование', 'сыграть свадьбу',\n",
       "       'операции с жильем', 'образование', 'на проведение свадьбы',\n",
       "       'покупка жилья для семьи', 'покупка недвижимости',\n",
       "       'покупка коммерческой недвижимости', 'покупка жилой недвижимости',\n",
       "       'строительство собственной недвижимости', 'недвижимость',\n",
       "       'строительство недвижимости', 'на покупку подержанного автомобиля',\n",
       "       'на покупку своего автомобиля',\n",
       "       'операции с коммерческой недвижимостью',\n",
       "       'строительство жилой недвижимости', 'жилье',\n",
       "       'операции со своей недвижимостью', 'автомобили',\n",
       "       'заняться образованием', 'сделка с подержанным автомобилем',\n",
       "       'получение образования', 'автомобиль', 'свадьба',\n",
       "       'получение дополнительного образования', 'покупка своего жилья',\n",
       "       'операции с недвижимостью', 'получение высшего образования',\n",
       "       'свой автомобиль', 'сделка с автомобилем',\n",
       "       'профильное образование', 'высшее образование',\n",
       "       'покупка жилья для сдачи', 'на покупку автомобиля', 'ремонт жилью',\n",
       "       'заняться высшим образованием'], dtype=object)"
      ]
     },
     "execution_count": 19,
     "metadata": {},
     "output_type": "execute_result"
    }
   ],
   "source": [
    "data['purpose'].unique()"
   ]
  },
  {
   "cell_type": "markdown",
   "id": "52b79d56",
   "metadata": {
    "deletable": false,
    "editable": false,
    "id": "52b79d56"
   },
   "source": [
    "**Задание 18. Создайте функцию, которая на основании данных из столбца `purpose` сформирует новый столбец `purpose_category`, в который войдут следующие категории:**\n",
    "\n",
    "- `'операции с автомобилем'`,\n",
    "- `'операции с недвижимостью'`,\n",
    "- `'проведение свадьбы'`,\n",
    "- `'получение образования'`.\n",
    "\n",
    "**Например, если в столбце `purpose` находится подстрока `'на покупку автомобиля'`, то в столбце `purpose_category` должна появиться строка `'операции с автомобилем'`.**\n",
    "\n",
    "**Используйте собственную функцию с именем `categorize_purpose()` и метод `apply()`. Изучите данные в столбце `purpose` и определите, какие подстроки помогут вам правильно определить категорию.**"
   ]
  },
  {
   "cell_type": "code",
   "execution_count": 20,
   "id": "be41da5d",
   "metadata": {
    "deletable": false,
    "id": "be41da5d"
   },
   "outputs": [],
   "source": [
    "def categorize_purpose(row):\n",
    "    try:\n",
    "        if 'автом' in row:\n",
    "            return 'операции с автомобилем'\n",
    "        elif 'жил' in row or 'недвиж' in row:\n",
    "            return 'операции с недвижимостью'\n",
    "        elif 'свад' in row:\n",
    "            return 'проведение свадьбы'\n",
    "        elif 'образов' in row:\n",
    "            return 'получение образования'\n",
    "    except:\n",
    "        return 'нет категории'"
   ]
  },
  {
   "cell_type": "code",
   "execution_count": 21,
   "id": "94c4a19a",
   "metadata": {
    "deletable": false,
    "id": "94c4a19a"
   },
   "outputs": [],
   "source": [
    "data['purpose_category'] = data['purpose'].apply(categorize_purpose)"
   ]
  },
  {
   "cell_type": "markdown",
   "id": "3d596c34",
   "metadata": {
    "deletable": false,
    "editable": false,
    "id": "3d596c34"
   },
   "source": [
    "### Шаг 3. Исследуйте данные и ответьте на вопросы"
   ]
  },
  {
   "cell_type": "markdown",
   "id": "648db036",
   "metadata": {
    "deletable": false,
    "editable": false,
    "id": "648db036"
   },
   "source": [
    "#### 3.1 Есть ли зависимость между количеством детей и возвратом кредита в срок?"
   ]
  },
  {
   "cell_type": "code",
   "execution_count": 22,
   "id": "7fcff25e",
   "metadata": {
    "deletable": false,
    "id": "7fcff25e",
    "scrolled": true
   },
   "outputs": [
    {
     "data": {
      "text/html": [
       "<div>\n",
       "<style scoped>\n",
       "    .dataframe tbody tr th:only-of-type {\n",
       "        vertical-align: middle;\n",
       "    }\n",
       "\n",
       "    .dataframe tbody tr th {\n",
       "        vertical-align: top;\n",
       "    }\n",
       "\n",
       "    .dataframe thead th {\n",
       "        text-align: right;\n",
       "    }\n",
       "</style>\n",
       "<table border=\"1\" class=\"dataframe\">\n",
       "  <thead>\n",
       "    <tr style=\"text-align: right;\">\n",
       "      <th></th>\n",
       "      <th>Clients with Debt</th>\n",
       "      <th>Total Clients</th>\n",
       "      <th>Debt Percentage</th>\n",
       "    </tr>\n",
       "    <tr>\n",
       "      <th>children</th>\n",
       "      <th></th>\n",
       "      <th></th>\n",
       "      <th></th>\n",
       "    </tr>\n",
       "  </thead>\n",
       "  <tbody>\n",
       "    <tr>\n",
       "      <th>0</th>\n",
       "      <td>1063</td>\n",
       "      <td>14091</td>\n",
       "      <td>7.54%</td>\n",
       "    </tr>\n",
       "    <tr>\n",
       "      <th>1</th>\n",
       "      <td>444</td>\n",
       "      <td>4808</td>\n",
       "      <td>9.23%</td>\n",
       "    </tr>\n",
       "    <tr>\n",
       "      <th>2</th>\n",
       "      <td>194</td>\n",
       "      <td>2052</td>\n",
       "      <td>9.45%</td>\n",
       "    </tr>\n",
       "    <tr>\n",
       "      <th>3</th>\n",
       "      <td>27</td>\n",
       "      <td>330</td>\n",
       "      <td>8.18%</td>\n",
       "    </tr>\n",
       "    <tr>\n",
       "      <th>4</th>\n",
       "      <td>4</td>\n",
       "      <td>41</td>\n",
       "      <td>9.76%</td>\n",
       "    </tr>\n",
       "    <tr>\n",
       "      <th>5</th>\n",
       "      <td>0</td>\n",
       "      <td>9</td>\n",
       "      <td>0.00%</td>\n",
       "    </tr>\n",
       "  </tbody>\n",
       "</table>\n",
       "</div>"
      ],
      "text/plain": [
       "          Clients with Debt  Total Clients Debt Percentage\n",
       "children                                                  \n",
       "0                      1063          14091           7.54%\n",
       "1                       444           4808           9.23%\n",
       "2                       194           2052           9.45%\n",
       "3                        27            330           8.18%\n",
       "4                         4             41           9.76%\n",
       "5                         0              9           0.00%"
      ]
     },
     "execution_count": 22,
     "metadata": {},
     "output_type": "execute_result"
    }
   ],
   "source": [
    "#рассчитайем общее количество клиентов для каждого количества детей и общее количество клиентов,\n",
    "#имевших задолженность по кредиту, для каждого количества детей.\n",
    "debt_summary_by_children = pd.pivot_table(data, values='debt', index='children', aggfunc=['sum', 'count']) \n",
    "debt_summary_by_children.columns = ['Clients with Debt', 'Total Clients']\n",
    "#для наглядности результаты представим в виде сводной таблицы, данные выведем в виде процентов.\n",
    "debt_summary_by_children['Debt Percentage'] = ((debt_summary_by_children['Clients with Debt'] / debt_summary_by_children['Total Clients']) * 100).map('{:.2f}%'.format)\n",
    "debt_summary_by_children"
   ]
  },
  {
   "cell_type": "markdown",
   "id": "2eb9088e",
   "metadata": {
    "deletable": false,
    "id": "2eb9088e"
   },
   "source": [
    "**Вывод:** \n",
    "1. Категория без детей имеет наименьший процент клиентов с задолженностью - 7.54%, а категория с 4 детьми наибольший - 9.76%.\n",
    "2. Процент клиентов с задолженностью увеличивается с увеличением числа детей с 1 до 2 (от 9.23% до 9.45% соответственно).\n",
    "3. После этого, процент клиентов с задолженностью начинает снижаться с увеличением числа детей (8.18% для 3 детей). \n",
    "4. Однако стоит заметить, что количество данных для категорий с 4 и 5 детьми небольшое (41 и 9 клиентов соответственно), поэтому результаты для этих категорий могут быть менее репрезентативными."
   ]
  },
  {
   "cell_type": "markdown",
   "id": "74c9b3a7",
   "metadata": {
    "deletable": false,
    "editable": false,
    "id": "74c9b3a7"
   },
   "source": [
    "#### 3.2 Есть ли зависимость между семейным положением и возвратом кредита в срок?"
   ]
  },
  {
   "cell_type": "code",
   "execution_count": 23,
   "id": "8098ab3b",
   "metadata": {
    "deletable": false,
    "id": "8098ab3b"
   },
   "outputs": [
    {
     "data": {
      "text/plain": [
       "array(['женат / замужем', 'гражданский брак', 'вдовец / вдова',\n",
       "       'в разводе', 'Не женат / не замужем'], dtype=object)"
      ]
     },
     "execution_count": 23,
     "metadata": {},
     "output_type": "execute_result"
    }
   ],
   "source": [
    "#Проверим, есть ли неявные дупликаты в данных\n",
    "data['family_status'].unique()"
   ]
  },
  {
   "cell_type": "code",
   "execution_count": 24,
   "id": "4c533374",
   "metadata": {},
   "outputs": [
    {
     "data": {
      "text/html": [
       "<div>\n",
       "<style scoped>\n",
       "    .dataframe tbody tr th:only-of-type {\n",
       "        vertical-align: middle;\n",
       "    }\n",
       "\n",
       "    .dataframe tbody tr th {\n",
       "        vertical-align: top;\n",
       "    }\n",
       "\n",
       "    .dataframe thead th {\n",
       "        text-align: right;\n",
       "    }\n",
       "</style>\n",
       "<table border=\"1\" class=\"dataframe\">\n",
       "  <thead>\n",
       "    <tr style=\"text-align: right;\">\n",
       "      <th></th>\n",
       "      <th>Clients with Debt</th>\n",
       "      <th>Total Clients</th>\n",
       "      <th>Debt Percentage</th>\n",
       "    </tr>\n",
       "    <tr>\n",
       "      <th>family_status</th>\n",
       "      <th></th>\n",
       "      <th></th>\n",
       "      <th></th>\n",
       "    </tr>\n",
       "  </thead>\n",
       "  <tbody>\n",
       "    <tr>\n",
       "      <th>Не женат / не замужем</th>\n",
       "      <td>273</td>\n",
       "      <td>2796</td>\n",
       "      <td>9.76%</td>\n",
       "    </tr>\n",
       "    <tr>\n",
       "      <th>гражданский брак</th>\n",
       "      <td>385</td>\n",
       "      <td>4134</td>\n",
       "      <td>9.31%</td>\n",
       "    </tr>\n",
       "    <tr>\n",
       "      <th>женат / замужем</th>\n",
       "      <td>927</td>\n",
       "      <td>12261</td>\n",
       "      <td>7.56%</td>\n",
       "    </tr>\n",
       "    <tr>\n",
       "      <th>в разводе</th>\n",
       "      <td>84</td>\n",
       "      <td>1189</td>\n",
       "      <td>7.06%</td>\n",
       "    </tr>\n",
       "    <tr>\n",
       "      <th>вдовец / вдова</th>\n",
       "      <td>63</td>\n",
       "      <td>951</td>\n",
       "      <td>6.62%</td>\n",
       "    </tr>\n",
       "  </tbody>\n",
       "</table>\n",
       "</div>"
      ],
      "text/plain": [
       "                       Clients with Debt  Total Clients Debt Percentage\n",
       "family_status                                                          \n",
       "Не женат / не замужем                273           2796           9.76%\n",
       "гражданский брак                     385           4134           9.31%\n",
       "женат / замужем                      927          12261           7.56%\n",
       "в разводе                             84           1189           7.06%\n",
       "вдовец / вдова                        63            951           6.62%"
      ]
     },
     "execution_count": 24,
     "metadata": {},
     "output_type": "execute_result"
    }
   ],
   "source": [
    "#рассчитайем общее количество клиентов для каждого типа семейного положения и общее количество клиентов,\n",
    "#имевших задолженность по кредиту, для каждого типа семейного положения.\n",
    "debt_summary_by_family_status = pd.pivot_table(data, values='debt', index='family_status', aggfunc=['sum', 'count'])\n",
    "debt_summary_by_family_status.columns = ['Clients with Debt', 'Total Clients']\n",
    "#для наглядности результаты представим в виде сводной таблицы, данные выведем в виде процентов.\n",
    "debt_summary_by_family_status['Debt Percentage'] = ((debt_summary_by_family_status['Clients with Debt'] / debt_summary_by_family_status['Total Clients']) * 100).map('{:.2f}%'.format)\n",
    "debt_summary_by_family_status.sort_values(by='Debt Percentage', ascending=False)"
   ]
  },
  {
   "cell_type": "markdown",
   "id": "c389ca63",
   "metadata": {
    "deletable": false,
    "id": "c389ca63"
   },
   "source": [
    "**Вывод:** \n",
    "1. Наибольший процент клиентов с задолженностью (9.76%) наблюдается среди клиентов, которые не женаты или не замужем.\n",
    "2. Клиенты в гражданском браке также имеют высокий процент задолженности (9.31%).\n",
    "3. Семейное положение \"женат / замужем\" имеет более низкий процент задолженности (7.56%).\n",
    "4. Клиенты, находящиеся в разводе или являющиеся вдовцами / вдовами, имеют наименьший процент задолженности (7.06% и 6.62% соответственно).\n"
   ]
  },
  {
   "cell_type": "markdown",
   "id": "9529de68",
   "metadata": {
    "deletable": false,
    "editable": false,
    "id": "9529de68"
   },
   "source": [
    "#### 3.3 Есть ли зависимость между уровнем дохода и возвратом кредита в срок?"
   ]
  },
  {
   "cell_type": "code",
   "execution_count": 25,
   "id": "8787f44a",
   "metadata": {
    "deletable": false,
    "id": "8787f44a"
   },
   "outputs": [
    {
     "data": {
      "text/html": [
       "<div>\n",
       "<style scoped>\n",
       "    .dataframe tbody tr th:only-of-type {\n",
       "        vertical-align: middle;\n",
       "    }\n",
       "\n",
       "    .dataframe tbody tr th {\n",
       "        vertical-align: top;\n",
       "    }\n",
       "\n",
       "    .dataframe thead th {\n",
       "        text-align: right;\n",
       "    }\n",
       "</style>\n",
       "<table border=\"1\" class=\"dataframe\">\n",
       "  <thead>\n",
       "    <tr style=\"text-align: right;\">\n",
       "      <th></th>\n",
       "      <th>Clients with Debt</th>\n",
       "      <th>Total Clients</th>\n",
       "      <th>Debt Percentage</th>\n",
       "    </tr>\n",
       "    <tr>\n",
       "      <th>total_income_category</th>\n",
       "      <th></th>\n",
       "      <th></th>\n",
       "      <th></th>\n",
       "    </tr>\n",
       "  </thead>\n",
       "  <tbody>\n",
       "    <tr>\n",
       "      <th>E</th>\n",
       "      <td>2</td>\n",
       "      <td>22</td>\n",
       "      <td>9.09%</td>\n",
       "    </tr>\n",
       "    <tr>\n",
       "      <th>D</th>\n",
       "      <td>21</td>\n",
       "      <td>349</td>\n",
       "      <td>6.02%</td>\n",
       "    </tr>\n",
       "    <tr>\n",
       "      <th>C</th>\n",
       "      <td>1353</td>\n",
       "      <td>15921</td>\n",
       "      <td>8.50%</td>\n",
       "    </tr>\n",
       "    <tr>\n",
       "      <th>B</th>\n",
       "      <td>354</td>\n",
       "      <td>5014</td>\n",
       "      <td>7.06%</td>\n",
       "    </tr>\n",
       "    <tr>\n",
       "      <th>A</th>\n",
       "      <td>2</td>\n",
       "      <td>25</td>\n",
       "      <td>8.00%</td>\n",
       "    </tr>\n",
       "  </tbody>\n",
       "</table>\n",
       "</div>"
      ],
      "text/plain": [
       "                       Clients with Debt  Total Clients Debt Percentage\n",
       "total_income_category                                                  \n",
       "E                                      2             22           9.09%\n",
       "D                                     21            349           6.02%\n",
       "C                                   1353          15921           8.50%\n",
       "B                                    354           5014           7.06%\n",
       "A                                      2             25           8.00%"
      ]
     },
     "execution_count": 25,
     "metadata": {},
     "output_type": "execute_result"
    }
   ],
   "source": [
    "#рассчитайем общее количество клиентов для каждой категории дохода и общее количество клиентов,\n",
    "#имевших задолженность по кредиту, для каждой категории дохода.\n",
    "debt_summary_by_income = pd.pivot_table(data, values='debt', index='total_income_category', aggfunc=['sum', 'count'])\n",
    "debt_summary_by_income.columns = ['Clients with Debt', 'Total Clients']\n",
    "#для наглядности результаты представим в виде сводной таблицы, данные выведем в виде процентов.\n",
    "debt_summary_by_income['Debt Percentage'] = ((debt_summary_by_income['Clients with Debt'] / debt_summary_by_income['Total Clients']) * 100).map('{:.2f}%'.format)\n",
    "debt_summary_by_income.sort_values(by='total_income_category', ascending=False)"
   ]
  },
  {
   "cell_type": "markdown",
   "id": "6dd14b57",
   "metadata": {
    "deletable": false,
    "id": "6dd14b57"
   },
   "source": [
    "**Вывод:** \n",
    "1. Категория E имеет самый высокий процент клиентов с задолженностью (9.09%).\n",
    "2. Категории D и A имеют относительно небольшой процент клиентов с задолженностью (6.02% и 8.00% соответственно), что может указывать на более надежную кредитную платежеспособность в этих категориях дохода.\n",
    "3. Категории B и C имеют промежуточные значения процента клиентов с задолженностью (7.06% и 8.50% соответственно).\n",
    "4. Стоит отметить, что категории E, D и A имеют намного меньшее количество клиентов в сравнении с другими категориями, что может повлиять на статистическую значимость результатов. Выводы на основании этих групп не являются надежными."
   ]
  },
  {
   "cell_type": "markdown",
   "id": "1dcc9b12",
   "metadata": {
    "deletable": false,
    "editable": false,
    "id": "1dcc9b12"
   },
   "source": [
    "#### 3.4 Как разные цели кредита влияют на его возврат в срок?"
   ]
  },
  {
   "cell_type": "code",
   "execution_count": 26,
   "id": "c602bc8b",
   "metadata": {
    "deletable": false,
    "id": "c602bc8b"
   },
   "outputs": [
    {
     "data": {
      "text/html": [
       "<div>\n",
       "<style scoped>\n",
       "    .dataframe tbody tr th:only-of-type {\n",
       "        vertical-align: middle;\n",
       "    }\n",
       "\n",
       "    .dataframe tbody tr th {\n",
       "        vertical-align: top;\n",
       "    }\n",
       "\n",
       "    .dataframe thead th {\n",
       "        text-align: right;\n",
       "    }\n",
       "</style>\n",
       "<table border=\"1\" class=\"dataframe\">\n",
       "  <thead>\n",
       "    <tr style=\"text-align: right;\">\n",
       "      <th></th>\n",
       "      <th>Clients with Debt</th>\n",
       "      <th>Total Clients</th>\n",
       "      <th>Debt Percentage</th>\n",
       "    </tr>\n",
       "    <tr>\n",
       "      <th>purpose_category</th>\n",
       "      <th></th>\n",
       "      <th></th>\n",
       "      <th></th>\n",
       "    </tr>\n",
       "  </thead>\n",
       "  <tbody>\n",
       "    <tr>\n",
       "      <th>операции с автомобилем</th>\n",
       "      <td>400</td>\n",
       "      <td>4279</td>\n",
       "      <td>9.35%</td>\n",
       "    </tr>\n",
       "    <tr>\n",
       "      <th>получение образования</th>\n",
       "      <td>369</td>\n",
       "      <td>3988</td>\n",
       "      <td>9.25%</td>\n",
       "    </tr>\n",
       "    <tr>\n",
       "      <th>проведение свадьбы</th>\n",
       "      <td>183</td>\n",
       "      <td>2313</td>\n",
       "      <td>7.91%</td>\n",
       "    </tr>\n",
       "    <tr>\n",
       "      <th>операции с недвижимостью</th>\n",
       "      <td>780</td>\n",
       "      <td>10751</td>\n",
       "      <td>7.26%</td>\n",
       "    </tr>\n",
       "  </tbody>\n",
       "</table>\n",
       "</div>"
      ],
      "text/plain": [
       "                          Clients with Debt  Total Clients Debt Percentage\n",
       "purpose_category                                                          \n",
       "операции с автомобилем                  400           4279           9.35%\n",
       "получение образования                   369           3988           9.25%\n",
       "проведение свадьбы                      183           2313           7.91%\n",
       "операции с недвижимостью                780          10751           7.26%"
      ]
     },
     "execution_count": 26,
     "metadata": {},
     "output_type": "execute_result"
    }
   ],
   "source": [
    "#рассчитайем общее количество клиентов для каждой цели кредита и общее количество клиентов,\n",
    "#имевших задолженность по кредиту, для цели кредита.\n",
    "debt_summary_by_purpose = pd.pivot_table(data, values='debt', index='purpose_category', aggfunc=['sum', 'count'])\n",
    "debt_summary_by_purpose.columns = ['Clients with Debt', 'Total Clients']\n",
    "#для наглядности результаты представим в виде сводной таблицы, данные выведем в виде процентов.\n",
    "debt_summary_by_purpose['Debt Percentage'] = ((debt_summary_by_purpose['Clients with Debt'] / debt_summary_by_purpose['Total Clients']) * 100).map('{:.2f}%'.format)\n",
    "debt_summary_by_purpose.sort_values(by='Debt Percentage', ascending=False)"
   ]
  },
  {
   "cell_type": "markdown",
   "id": "cf05ed63",
   "metadata": {
    "deletable": false,
    "id": "cf05ed63"
   },
   "source": [
    "**Вывод:** \n",
    "1. Категории \"операции с автомобилем\" и \"получение образования\" имеют самый высокий процент клиентов с задолженностью (9.35% и 9.25% соответственно).\n",
    "2. Категории \"проведение свадьбы\" и \"операции с недвижимостью\" имеют более низкий процент клиентов с задолженностью (7.91% и 7.26% соответственно).\n",
    "3. Категория \"операции с недвижимостью\" имеет самый низкий процент клиентов с задолженностями при значительно более высоком количестве клиентов по сравнению с другими категориями, что делает данную категорию наиболее привлекательной."
   ]
  },
  {
   "cell_type": "markdown",
   "id": "46c1f10b",
   "metadata": {
    "deletable": false,
    "editable": false,
    "id": "46c1f10b"
   },
   "source": [
    "#### 3.5 Приведите возможные причины появления пропусков в исходных данных."
   ]
  },
  {
   "cell_type": "markdown",
   "id": "3697d2a9",
   "metadata": {
    "deletable": false,
    "id": "3697d2a9"
   },
   "source": [
    "*Ответ:* \n",
    "Появление пропусков в столбцах \"days_employed\" и \"total_income\" может быть обусловлено несколькими причинами:\n",
    "1. В некоторых случаях, клиенты могут не предоставлять информацию о своем трудовом стаже (days_employed) или общем доходе (total_income) при заполнении заявки на кредит. Это может быть связано с желанием сохранить свои персональные данные или просто потому, что эти поля не обязательны для заполнения.\n",
    "2. Пропуски могут возникнуть из-за технических ошибок или сбоев в процессе заполнения данных. \n",
    "3. В некоторых случаях, пропуски могут быть связаны с ошибками в обработке данных сотрудниками кредитной организации при внесении информации в базу данных."
   ]
  },
  {
   "cell_type": "markdown",
   "id": "3137d257",
   "metadata": {
    "deletable": false,
    "editable": false,
    "id": "3137d257"
   },
   "source": [
    "# 3.6 Объясните, почему заполнить пропуски медианным значением — лучшее решение для количественных переменных."
   ]
  },
  {
   "cell_type": "markdown",
   "id": "cf40012a",
   "metadata": {
    "deletable": false,
    "id": "cf40012a"
   },
   "source": [
    "*Ответ:* <br>\n",
    "1. Медиана является устойчивой статистикой, которая не зависит от экстремальных значений (выбросов) в данных. Если в столбце есть выбросы, то среднее значение (среднее арифметическое) может существенно исказиться, в то время как медиана останется более стабильной и отражает центральную тенденцию данных.\n",
    "2. Вычисление медианы - это относительно простая и быстрая операция, особенно когда имеется большой объем данных. "
   ]
  },
  {
   "cell_type": "markdown",
   "id": "57bc304e",
   "metadata": {
    "deletable": false,
    "editable": false,
    "id": "57bc304e"
   },
   "source": [
    "### Шаг 4: общий вывод."
   ]
  },
  {
   "cell_type": "markdown",
   "id": "9ac5a630",
   "metadata": {
    "deletable": false,
    "id": "1ab75d1c"
   },
   "source": [
    "#### Предобработка данных\n",
    "* В столбцах <b>days_employed</b>(общий трудовой стаж в днях) и <b>total_income</b>(ежемесячный доход) присутствовали пропуски. Недостающие значения заполнили медианным значением по типу занятости.\n",
    "* В данных встречались отрицательные значения количества дней трудового стажа в столбце <b>days_employed</b>. Заменили все отрицательные значения положительными, причем для двух типов (безработные и пенсионеры) получатся аномально большие значения.\n",
    "* В столбце <b>children</b> присутстовали два аномальных значения. Удалили строки, в которых встречаются такие аномальные значения из датафрейма.\n",
    "* Заменили вещественный тип данных в столбце <b>total_income</b>(ежемесячный доход) на целочисленный.\n",
    "* Удалили неявные дубликаты в столбце education(уровень образования клиента), приведя все к нижнему регистру. \n",
    "* Для категоризации данных создали в датафрейме столбец <b>total_income_category</b> с категориями:\n",
    "    * 0–30000 — 'E';\n",
    "    * 30001–50000 — 'D';\n",
    "    * 50001–200000 — 'C';\n",
    "    * 200001–1000000 — 'B';\n",
    "    * 1000001 и выше — 'A'.\n",
    "\n",
    "#### По предоставленной таблице с данными о клиентах и задолженностях, можно сделать следующие общие выводы:\n",
    "1. *По количеству детей*:\n",
    "    * Категория без детей имеет наименьший процент клиентов с задолженностью - <b>7.54%</b>, а категория с **4 детьми** наибольший - <b>9.76%</b>.Это может указывать на то, что наличие детей может повышать финансовую нагрузку и повлиять на способность клиентов выплачивать кредиты в срок.\n",
    "2. *По семейному статусу*:\n",
    "    * Клиенты состоящие(процент клиентов с просрочкой - <b>7.56%</b>) или состоявшие в браке(в разводе - <b>7.06%</b>, вдовец / вдова - <b>6.62%</b>) реже допускают просрочку. Категория \"не женат / не замужем\" напротив имеет наибольший процент клиентов с просрочкой - <b>9.76%</b>. Это может указывать на то, что семейный статус может оказывать положительное влияние на платежеспособность и финансовую дисциплину клиентов.\n",
    "3. *По целям кредитования*:\n",
    "    * Категории \"операции с автомобилем\" и \"получение образования\" имеют наибольший процент клиентов с задолженностью (<b>9.35%</b> и <b>9.25%</b> соответственно). Категория \"операции с недвижимостью\" имеет самый низкий процент задолженности (<b>7.26%</b>)\n",
    "4. *По категориям дохода*:\n",
    "    * Категория **\"B\"** имеет относительно низкий процент задолженности (<b>7.06%</b>), в то время как категория **\"C\"** имеет большой уровень задолженности (<b>8.50%</b>). Данных по категорям **\"A\"**, **\"D\"**, **\"E\"** недостаточно для построяния каких-либо выводов.\n",
    "\n",
    "\n",
    "\n",
    "<div style=\"font-size: 15px; padding-top: 50px\">Таким образом, на основе предоставленных данных можно предположить, что семейное положение и количество детей клиента могут влиять на факт погашения кредита в срок. Клиенты, не состоящие в официальном браке и имеющие больше детей, имеют более высокий процент задолженности. \n",
    "</div>"
   ]
  }
 ],
 "metadata": {
  "ExecuteTimeLog": [
   {
    "duration": 62,
    "start_time": "2023-07-26T14:45:28.060Z"
   },
   {
    "duration": 539,
    "start_time": "2023-07-26T14:45:34.408Z"
   },
   {
    "duration": 24,
    "start_time": "2023-07-26T14:45:34.950Z"
   },
   {
    "duration": 17,
    "start_time": "2023-07-26T14:45:34.975Z"
   },
   {
    "duration": 18,
    "start_time": "2023-07-26T14:45:34.994Z"
   },
   {
    "duration": 55,
    "start_time": "2023-07-26T14:45:35.015Z"
   },
   {
    "duration": 4,
    "start_time": "2023-07-26T14:45:35.071Z"
   },
   {
    "duration": 22,
    "start_time": "2023-07-26T14:45:35.077Z"
   },
   {
    "duration": 4,
    "start_time": "2023-07-26T14:45:35.101Z"
   },
   {
    "duration": 9,
    "start_time": "2023-07-26T14:45:35.107Z"
   },
   {
    "duration": 13,
    "start_time": "2023-07-26T14:45:35.118Z"
   },
   {
    "duration": 56,
    "start_time": "2023-07-26T14:45:35.132Z"
   },
   {
    "duration": 9,
    "start_time": "2023-07-26T14:45:35.190Z"
   },
   {
    "duration": 7,
    "start_time": "2023-07-26T14:45:35.201Z"
   },
   {
    "duration": 16,
    "start_time": "2023-07-26T14:45:35.210Z"
   },
   {
    "duration": 26,
    "start_time": "2023-07-26T14:45:35.227Z"
   },
   {
    "duration": 32,
    "start_time": "2023-07-26T14:45:35.255Z"
   },
   {
    "duration": 4,
    "start_time": "2023-07-26T14:45:35.289Z"
   },
   {
    "duration": 14,
    "start_time": "2023-07-26T14:45:35.295Z"
   },
   {
    "duration": 19,
    "start_time": "2023-07-26T14:45:35.311Z"
   },
   {
    "duration": 5,
    "start_time": "2023-07-26T14:45:35.331Z"
   },
   {
    "duration": 33,
    "start_time": "2023-07-26T14:45:35.338Z"
   },
   {
    "duration": 8,
    "start_time": "2023-07-26T14:45:35.789Z"
   },
   {
    "duration": 18,
    "start_time": "2023-07-26T14:50:07.178Z"
   },
   {
    "duration": 7,
    "start_time": "2023-07-26T14:50:43.020Z"
   },
   {
    "duration": 4,
    "start_time": "2023-07-26T14:52:03.598Z"
   },
   {
    "duration": 5,
    "start_time": "2023-07-26T14:52:39.985Z"
   },
   {
    "duration": 9,
    "start_time": "2023-07-26T14:52:50.034Z"
   },
   {
    "duration": 10,
    "start_time": "2023-07-26T14:53:03.167Z"
   },
   {
    "duration": 27,
    "start_time": "2023-07-26T15:04:35.158Z"
   },
   {
    "duration": 14,
    "start_time": "2023-07-26T15:05:17.628Z"
   },
   {
    "duration": 25,
    "start_time": "2023-07-26T15:05:44.771Z"
   },
   {
    "duration": 24,
    "start_time": "2023-07-26T15:06:44.461Z"
   },
   {
    "duration": 31,
    "start_time": "2023-07-26T15:28:27.444Z"
   },
   {
    "duration": 8,
    "start_time": "2023-07-26T15:28:41.260Z"
   },
   {
    "duration": 5,
    "start_time": "2023-07-26T15:29:33.616Z"
   },
   {
    "duration": 5,
    "start_time": "2023-07-26T15:30:28.770Z"
   },
   {
    "duration": 6,
    "start_time": "2023-07-26T15:31:08.971Z"
   },
   {
    "duration": 7,
    "start_time": "2023-07-26T15:33:20.187Z"
   },
   {
    "duration": 22,
    "start_time": "2023-07-26T15:34:42.000Z"
   },
   {
    "duration": 28,
    "start_time": "2023-07-26T15:36:28.401Z"
   },
   {
    "duration": 26,
    "start_time": "2023-07-26T15:37:27.565Z"
   },
   {
    "duration": 25,
    "start_time": "2023-07-26T15:37:48.246Z"
   },
   {
    "duration": 2749,
    "start_time": "2023-07-26T15:46:53.757Z"
   },
   {
    "duration": 8,
    "start_time": "2023-07-26T15:48:06.458Z"
   },
   {
    "duration": 3,
    "start_time": "2023-07-26T15:48:54.723Z"
   },
   {
    "duration": 6,
    "start_time": "2023-07-26T15:48:58.571Z"
   },
   {
    "duration": 22,
    "start_time": "2023-07-26T15:55:41.355Z"
   },
   {
    "duration": 24,
    "start_time": "2023-07-26T17:19:51.340Z"
   },
   {
    "duration": 22,
    "start_time": "2023-07-26T17:20:12.559Z"
   },
   {
    "duration": 29,
    "start_time": "2023-07-26T17:28:26.934Z"
   },
   {
    "duration": 26,
    "start_time": "2023-07-26T17:28:45.154Z"
   },
   {
    "duration": 26,
    "start_time": "2023-07-26T17:28:52.400Z"
   },
   {
    "duration": 21,
    "start_time": "2023-07-26T17:57:27.873Z"
   },
   {
    "duration": 67,
    "start_time": "2023-07-26T17:57:51.841Z"
   },
   {
    "duration": 15,
    "start_time": "2023-07-26T17:57:51.910Z"
   },
   {
    "duration": 22,
    "start_time": "2023-07-26T17:57:51.926Z"
   },
   {
    "duration": 13,
    "start_time": "2023-07-26T17:57:51.950Z"
   },
   {
    "duration": 39,
    "start_time": "2023-07-26T17:57:51.965Z"
   },
   {
    "duration": 3,
    "start_time": "2023-07-26T17:57:52.006Z"
   },
   {
    "duration": 11,
    "start_time": "2023-07-26T17:57:52.010Z"
   },
   {
    "duration": 5,
    "start_time": "2023-07-26T17:57:52.023Z"
   },
   {
    "duration": 7,
    "start_time": "2023-07-26T17:57:52.030Z"
   },
   {
    "duration": 24,
    "start_time": "2023-07-26T17:57:52.039Z"
   },
   {
    "duration": 51,
    "start_time": "2023-07-26T17:57:52.065Z"
   },
   {
    "duration": 10,
    "start_time": "2023-07-26T17:57:52.118Z"
   },
   {
    "duration": 5,
    "start_time": "2023-07-26T17:57:52.129Z"
   },
   {
    "duration": 21,
    "start_time": "2023-07-26T17:57:52.136Z"
   },
   {
    "duration": 20,
    "start_time": "2023-07-26T17:57:52.159Z"
   },
   {
    "duration": 17,
    "start_time": "2023-07-26T17:57:52.180Z"
   },
   {
    "duration": 3,
    "start_time": "2023-07-26T17:57:52.199Z"
   },
   {
    "duration": 22,
    "start_time": "2023-07-26T17:57:52.203Z"
   },
   {
    "duration": 53,
    "start_time": "2023-07-26T17:57:52.227Z"
   },
   {
    "duration": 8,
    "start_time": "2023-07-26T17:57:52.282Z"
   },
   {
    "duration": 18,
    "start_time": "2023-07-26T17:57:52.292Z"
   },
   {
    "duration": 26,
    "start_time": "2023-07-26T17:57:52.312Z"
   },
   {
    "duration": 5,
    "start_time": "2023-07-26T17:57:52.340Z"
   },
   {
    "duration": 24,
    "start_time": "2023-07-26T17:57:52.347Z"
   },
   {
    "duration": 24,
    "start_time": "2023-07-26T17:57:52.373Z"
   },
   {
    "duration": 25,
    "start_time": "2023-07-26T17:57:52.399Z"
   },
   {
    "duration": 19,
    "start_time": "2023-07-26T17:57:58.089Z"
   },
   {
    "duration": 24,
    "start_time": "2023-07-26T18:00:54.897Z"
   },
   {
    "duration": 24,
    "start_time": "2023-07-26T18:02:20.190Z"
   },
   {
    "duration": 20,
    "start_time": "2023-07-26T18:03:44.452Z"
   },
   {
    "duration": 21,
    "start_time": "2023-07-26T18:04:08.120Z"
   },
   {
    "duration": 10,
    "start_time": "2023-07-26T18:05:01.323Z"
   },
   {
    "duration": 31,
    "start_time": "2023-07-26T18:05:09.091Z"
   },
   {
    "duration": 16,
    "start_time": "2023-07-26T18:05:44.209Z"
   },
   {
    "duration": 21,
    "start_time": "2023-07-26T18:07:37.234Z"
   },
   {
    "duration": 51,
    "start_time": "2023-07-26T18:12:37.828Z"
   },
   {
    "duration": 36,
    "start_time": "2023-07-26T18:20:27.329Z"
   },
   {
    "duration": 129,
    "start_time": "2023-07-26T18:31:28.404Z"
   },
   {
    "duration": 456,
    "start_time": "2023-07-26T20:31:37.058Z"
   },
   {
    "duration": 22,
    "start_time": "2023-07-26T20:31:37.516Z"
   },
   {
    "duration": 14,
    "start_time": "2023-07-26T20:31:37.539Z"
   },
   {
    "duration": 19,
    "start_time": "2023-07-26T20:31:37.554Z"
   },
   {
    "duration": 44,
    "start_time": "2023-07-26T20:31:37.575Z"
   },
   {
    "duration": 3,
    "start_time": "2023-07-26T20:31:37.621Z"
   },
   {
    "duration": 9,
    "start_time": "2023-07-26T20:31:37.626Z"
   },
   {
    "duration": 4,
    "start_time": "2023-07-26T20:31:37.636Z"
   },
   {
    "duration": 22,
    "start_time": "2023-07-26T20:31:37.641Z"
   },
   {
    "duration": 4,
    "start_time": "2023-07-26T20:31:37.664Z"
   },
   {
    "duration": 48,
    "start_time": "2023-07-26T20:31:37.670Z"
   },
   {
    "duration": 8,
    "start_time": "2023-07-26T20:31:37.720Z"
   },
   {
    "duration": 18,
    "start_time": "2023-07-26T20:31:37.730Z"
   },
   {
    "duration": 18,
    "start_time": "2023-07-26T20:31:37.750Z"
   },
   {
    "duration": 29,
    "start_time": "2023-07-26T20:31:37.770Z"
   },
   {
    "duration": 17,
    "start_time": "2023-07-26T20:31:37.800Z"
   },
   {
    "duration": 3,
    "start_time": "2023-07-26T20:31:37.818Z"
   },
   {
    "duration": 14,
    "start_time": "2023-07-26T20:31:37.823Z"
   },
   {
    "duration": 6,
    "start_time": "2023-07-26T20:31:37.839Z"
   },
   {
    "duration": 3,
    "start_time": "2023-07-26T20:31:37.846Z"
   },
   {
    "duration": 11,
    "start_time": "2023-07-26T20:31:37.851Z"
   },
   {
    "duration": 51,
    "start_time": "2023-07-26T20:31:37.863Z"
   },
   {
    "duration": 5,
    "start_time": "2023-07-26T20:31:37.915Z"
   },
   {
    "duration": 30,
    "start_time": "2023-07-26T20:31:37.921Z"
   },
   {
    "duration": 22,
    "start_time": "2023-07-26T20:31:37.952Z"
   },
   {
    "duration": 47,
    "start_time": "2023-07-26T20:31:37.975Z"
   },
   {
    "duration": 1501,
    "start_time": "2023-07-29T12:06:22.845Z"
   },
   {
    "duration": 29,
    "start_time": "2023-07-29T12:06:24.349Z"
   },
   {
    "duration": 73,
    "start_time": "2023-07-29T12:06:24.380Z"
   },
   {
    "duration": 18,
    "start_time": "2023-07-29T12:06:24.455Z"
   },
   {
    "duration": 111,
    "start_time": "2023-07-29T12:06:24.475Z"
   },
   {
    "duration": 14,
    "start_time": "2023-07-29T12:06:24.590Z"
   },
   {
    "duration": 47,
    "start_time": "2023-07-29T12:06:24.614Z"
   },
   {
    "duration": 16,
    "start_time": "2023-07-29T12:06:24.664Z"
   },
   {
    "duration": 67,
    "start_time": "2023-07-29T12:06:24.685Z"
   },
   {
    "duration": 29,
    "start_time": "2023-07-29T12:06:24.754Z"
   },
   {
    "duration": 112,
    "start_time": "2023-07-29T12:06:24.789Z"
   },
   {
    "duration": 15,
    "start_time": "2023-07-29T12:06:24.903Z"
   },
   {
    "duration": 26,
    "start_time": "2023-07-29T12:06:24.920Z"
   },
   {
    "duration": 56,
    "start_time": "2023-07-29T12:06:24.949Z"
   },
   {
    "duration": 49,
    "start_time": "2023-07-29T12:06:25.019Z"
   },
   {
    "duration": 65,
    "start_time": "2023-07-29T12:06:25.070Z"
   },
   {
    "duration": 21,
    "start_time": "2023-07-29T12:06:25.137Z"
   },
   {
    "duration": 62,
    "start_time": "2023-07-29T12:06:25.160Z"
   },
   {
    "duration": 32,
    "start_time": "2023-07-29T12:06:25.224Z"
   },
   {
    "duration": 9,
    "start_time": "2023-07-29T12:06:25.258Z"
   },
   {
    "duration": 77,
    "start_time": "2023-07-29T12:06:25.268Z"
   },
   {
    "duration": 86,
    "start_time": "2023-07-29T12:06:25.347Z"
   },
   {
    "duration": 6,
    "start_time": "2023-07-29T12:06:25.435Z"
   },
   {
    "duration": 49,
    "start_time": "2023-07-29T12:06:25.442Z"
   },
   {
    "duration": 33,
    "start_time": "2023-07-29T12:06:25.498Z"
   },
   {
    "duration": 31,
    "start_time": "2023-07-29T12:06:25.535Z"
   },
   {
    "duration": 214,
    "start_time": "2023-07-29T12:07:42.916Z"
   },
   {
    "duration": 204,
    "start_time": "2023-07-29T12:08:59.826Z"
   },
   {
    "duration": 124,
    "start_time": "2023-07-29T13:34:44.049Z"
   },
   {
    "duration": 708,
    "start_time": "2023-07-29T13:49:03.023Z"
   },
   {
    "duration": 29,
    "start_time": "2023-07-29T13:49:03.734Z"
   },
   {
    "duration": 22,
    "start_time": "2023-07-29T13:49:03.766Z"
   },
   {
    "duration": 45,
    "start_time": "2023-07-29T13:49:03.791Z"
   },
   {
    "duration": 51,
    "start_time": "2023-07-29T13:49:03.838Z"
   },
   {
    "duration": 6,
    "start_time": "2023-07-29T13:49:03.891Z"
   },
   {
    "duration": 38,
    "start_time": "2023-07-29T13:49:03.899Z"
   },
   {
    "duration": 9,
    "start_time": "2023-07-29T13:49:03.939Z"
   },
   {
    "duration": 15,
    "start_time": "2023-07-29T13:49:03.950Z"
   },
   {
    "duration": 11,
    "start_time": "2023-07-29T13:49:03.969Z"
   },
   {
    "duration": 68,
    "start_time": "2023-07-29T13:49:03.986Z"
   },
   {
    "duration": 34,
    "start_time": "2023-07-29T13:49:04.056Z"
   },
   {
    "duration": 6,
    "start_time": "2023-07-29T13:49:04.097Z"
   },
   {
    "duration": 24,
    "start_time": "2023-07-29T13:49:04.105Z"
   },
   {
    "duration": 36,
    "start_time": "2023-07-29T13:49:04.132Z"
   },
   {
    "duration": 33,
    "start_time": "2023-07-29T13:49:04.171Z"
   },
   {
    "duration": 17,
    "start_time": "2023-07-29T13:49:04.207Z"
   },
   {
    "duration": 20,
    "start_time": "2023-07-29T13:49:04.227Z"
   },
   {
    "duration": 12,
    "start_time": "2023-07-29T13:49:04.249Z"
   },
   {
    "duration": 11,
    "start_time": "2023-07-29T13:49:04.271Z"
   },
   {
    "duration": 36,
    "start_time": "2023-07-29T13:49:04.284Z"
   },
   {
    "duration": 38,
    "start_time": "2023-07-29T13:49:04.322Z"
   },
   {
    "duration": 14,
    "start_time": "2023-07-29T13:49:04.363Z"
   },
   {
    "duration": 59,
    "start_time": "2023-07-29T13:49:04.385Z"
   },
   {
    "duration": 43,
    "start_time": "2023-07-29T13:49:04.447Z"
   },
   {
    "duration": 50,
    "start_time": "2023-07-29T13:49:04.494Z"
   },
   {
    "duration": 543,
    "start_time": "2023-07-29T14:35:54.270Z"
   },
   {
    "duration": 43,
    "start_time": "2023-07-29T14:35:54.820Z"
   },
   {
    "duration": 19,
    "start_time": "2023-07-29T14:35:54.866Z"
   },
   {
    "duration": 31,
    "start_time": "2023-07-29T14:35:54.893Z"
   },
   {
    "duration": 43,
    "start_time": "2023-07-29T14:35:54.930Z"
   },
   {
    "duration": 4,
    "start_time": "2023-07-29T14:35:54.975Z"
   },
   {
    "duration": 34,
    "start_time": "2023-07-29T14:35:54.981Z"
   },
   {
    "duration": 14,
    "start_time": "2023-07-29T14:35:55.016Z"
   },
   {
    "duration": 10,
    "start_time": "2023-07-29T14:35:55.033Z"
   },
   {
    "duration": 21,
    "start_time": "2023-07-29T14:35:55.045Z"
   },
   {
    "duration": 94,
    "start_time": "2023-07-29T14:35:55.069Z"
   },
   {
    "duration": 12,
    "start_time": "2023-07-29T14:35:55.166Z"
   },
   {
    "duration": 6,
    "start_time": "2023-07-29T14:35:55.180Z"
   },
   {
    "duration": 31,
    "start_time": "2023-07-29T14:35:55.197Z"
   },
   {
    "duration": 27,
    "start_time": "2023-07-29T14:35:55.230Z"
   },
   {
    "duration": 17,
    "start_time": "2023-07-29T14:35:55.258Z"
   },
   {
    "duration": 3,
    "start_time": "2023-07-29T14:35:55.277Z"
   },
   {
    "duration": 53,
    "start_time": "2023-07-29T14:35:55.282Z"
   },
   {
    "duration": 9,
    "start_time": "2023-07-29T14:35:55.340Z"
   },
   {
    "duration": 4,
    "start_time": "2023-07-29T14:35:55.350Z"
   },
   {
    "duration": 12,
    "start_time": "2023-07-29T14:35:55.356Z"
   },
   {
    "duration": 36,
    "start_time": "2023-07-29T14:35:55.370Z"
   },
   {
    "duration": 7,
    "start_time": "2023-07-29T14:35:55.408Z"
   },
   {
    "duration": 42,
    "start_time": "2023-07-29T14:35:55.417Z"
   },
   {
    "duration": 39,
    "start_time": "2023-07-29T14:35:55.462Z"
   },
   {
    "duration": 48,
    "start_time": "2023-07-29T14:35:55.502Z"
   }
  ],
  "colab": {
   "provenance": []
  },
  "kernelspec": {
   "display_name": "Python 3 (ipykernel)",
   "language": "python",
   "name": "python3"
  },
  "language_info": {
   "codemirror_mode": {
    "name": "ipython",
    "version": 3
   },
   "file_extension": ".py",
   "mimetype": "text/x-python",
   "name": "python",
   "nbconvert_exporter": "python",
   "pygments_lexer": "ipython3",
   "version": "3.10.9"
  },
  "toc": {
   "base_numbering": 1,
   "nav_menu": {},
   "number_sections": true,
   "sideBar": true,
   "skip_h1_title": true,
   "title_cell": "Table of Contents",
   "title_sidebar": "Contents",
   "toc_cell": false,
   "toc_position": {
    "height": "calc(100% - 180px)",
    "left": "10px",
    "top": "150px",
    "width": "308.15px"
   },
   "toc_section_display": true,
   "toc_window_display": true
  },
  "varInspector": {
   "cols": {
    "lenName": 16,
    "lenType": 16,
    "lenVar": 40
   },
   "kernels_config": {
    "python": {
     "delete_cmd_postfix": "",
     "delete_cmd_prefix": "del ",
     "library": "var_list.py",
     "varRefreshCmd": "print(var_dic_list())"
    },
    "r": {
     "delete_cmd_postfix": ") ",
     "delete_cmd_prefix": "rm(",
     "library": "var_list.r",
     "varRefreshCmd": "cat(var_dic_list()) "
    }
   },
   "types_to_exclude": [
    "module",
    "function",
    "builtin_function_or_method",
    "instance",
    "_Feature"
   ],
   "window_display": false
  }
 },
 "nbformat": 4,
 "nbformat_minor": 5
}
