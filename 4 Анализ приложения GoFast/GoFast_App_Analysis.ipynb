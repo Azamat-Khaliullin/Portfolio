{
 "cells": [
  {
   "cell_type": "markdown",
   "id": "a0e09af6",
   "metadata": {},
   "source": [
    "# Анализ использования мобильного приложения для аренды самокатов GoFast с целью оптимизации бизнес-процессов и увеличения эффективности сервиса"
   ]
  },
  {
   "cell_type": "markdown",
   "id": "fab50815",
   "metadata": {},
   "source": [
    "#### Краткое описание проекта:\n",
    "\n",
    "Данный проект ориентирован на анализ данных относительно пользователей, их поездок и подписок в популярном сервисе аренды самокатов GoFast. \n",
    "\n",
    "Проведено исследование с целью выявления путей оптимизации бизнес-процессов и разработки стратегий для увеличения эффективности сервиса."
   ]
  },
  {
   "cell_type": "markdown",
   "id": "0522f674",
   "metadata": {},
   "source": [
    "**Цель проекта:**\n",
    "\n",
    "Целью проекта является проведение анализа данных, полученных от пользователей GoFast, с целью подтверждения или опровержения гипотез, способствующих увеличению роста бизнеса. \n",
    "\n",
    "Постараемся определить оптимальные механизмы использования подписок, определить паттерны поведения пользователей и предложить рекомендации по оптимизации стоимостей и предложений."
   ]
  },
  {
   "cell_type": "markdown",
   "id": "c03501be",
   "metadata": {},
   "source": [
    "**Описание данных:**\n",
    "\n",
    "1. **Пользователи (users_go.csv):**\n",
    "\n",
    "* **user_id:** Уникальный идентификатор пользователя.\n",
    "* **name:** Имя пользователя.\n",
    "* **age:** Возраст пользователя.\n",
    "* **city:** Город пользователя.\n",
    "* **subscription_type:** Тип подписки пользователя (free, ultra).\n",
    "\n",
    "2. **Поездки (rides_go.csv):**\n",
    "\n",
    "* **user_id:** Уникальный идентификатор пользователя.\n",
    "* **distance:** Расстояние, которое пользователь проехал в текущей сессии (в метрах).\n",
    "* **duration:** Продолжительность поездки (в минутах).\n",
    "* **date:** Дата совершения поездки.\n",
    "\n",
    "3. **Подписки (subscriptions_go.csv):**\n",
    "\n",
    "* **subscription_type:** Тип подписки.\n",
    "* **minute_price:** Стоимость одной минуты поездки по данной подписке.\n",
    "* **start_ride_price:** Стоимость начала поездки.\n",
    "* **subscription_fee:** Стоимость ежемесячного платежа за подписку."
   ]
  },
  {
   "cell_type": "markdown",
   "id": "bd897f64",
   "metadata": {},
   "source": [
    "**План работы :**\n",
    "1. Предобработка данных\n",
    "2. Исследовательский анализ данных\n",
    "3. Объединение данных\n",
    "4. Подсчёт выручки\n",
    "5. Проверка гипотез\n",
    "6. Распределения\n"
   ]
  },
  {
   "cell_type": "code",
   "execution_count": 1,
   "id": "72576667",
   "metadata": {},
   "outputs": [],
   "source": [
    "import pandas as pd\n",
    "import matplotlib.pyplot as plt\n",
    "import matplotlib.colors as mcolors\n",
    "import numpy as np\n",
    "import math\n",
    "from scipy import stats as st\n",
    "from scipy.stats import binom, norm\n",
    "from math import factorial\n",
    "from math import sqrt"
   ]
  },
  {
   "cell_type": "markdown",
   "id": "c42cbe00",
   "metadata": {},
   "source": [
    "#### Шаг 1. Загрузка данных"
   ]
  },
  {
   "cell_type": "code",
   "execution_count": 2,
   "id": "eff9f206",
   "metadata": {},
   "outputs": [
    {
     "name": "stdout",
     "output_type": "stream",
     "text": [
      "<class 'pandas.core.frame.DataFrame'>\n",
      "RangeIndex: 1565 entries, 0 to 1564\n",
      "Data columns (total 5 columns):\n",
      " #   Column             Non-Null Count  Dtype \n",
      "---  ------             --------------  ----- \n",
      " 0   user_id            1565 non-null   int64 \n",
      " 1   name               1565 non-null   object\n",
      " 2   age                1565 non-null   int64 \n",
      " 3   city               1565 non-null   object\n",
      " 4   subscription_type  1565 non-null   object\n",
      "dtypes: int64(2), object(3)\n",
      "memory usage: 61.3+ KB\n"
     ]
    }
   ],
   "source": [
    "# Загрузим первый датафрейм\n",
    "data_users = pd.read_csv('/datasets/users_go.csv')\n",
    "data_users.info()"
   ]
  },
  {
   "cell_type": "code",
   "execution_count": 3,
   "id": "90013f00",
   "metadata": {},
   "outputs": [
    {
     "data": {
      "text/html": [
       "<div>\n",
       "<style scoped>\n",
       "    .dataframe tbody tr th:only-of-type {\n",
       "        vertical-align: middle;\n",
       "    }\n",
       "\n",
       "    .dataframe tbody tr th {\n",
       "        vertical-align: top;\n",
       "    }\n",
       "\n",
       "    .dataframe thead th {\n",
       "        text-align: right;\n",
       "    }\n",
       "</style>\n",
       "<table border=\"1\" class=\"dataframe\">\n",
       "  <thead>\n",
       "    <tr style=\"text-align: right;\">\n",
       "      <th></th>\n",
       "      <th>user_id</th>\n",
       "      <th>name</th>\n",
       "      <th>age</th>\n",
       "      <th>city</th>\n",
       "      <th>subscription_type</th>\n",
       "    </tr>\n",
       "  </thead>\n",
       "  <tbody>\n",
       "    <tr>\n",
       "      <th>0</th>\n",
       "      <td>1</td>\n",
       "      <td>Кира</td>\n",
       "      <td>22</td>\n",
       "      <td>Тюмень</td>\n",
       "      <td>ultra</td>\n",
       "    </tr>\n",
       "    <tr>\n",
       "      <th>1</th>\n",
       "      <td>2</td>\n",
       "      <td>Станислав</td>\n",
       "      <td>31</td>\n",
       "      <td>Омск</td>\n",
       "      <td>ultra</td>\n",
       "    </tr>\n",
       "    <tr>\n",
       "      <th>2</th>\n",
       "      <td>3</td>\n",
       "      <td>Алексей</td>\n",
       "      <td>20</td>\n",
       "      <td>Москва</td>\n",
       "      <td>ultra</td>\n",
       "    </tr>\n",
       "    <tr>\n",
       "      <th>3</th>\n",
       "      <td>4</td>\n",
       "      <td>Константин</td>\n",
       "      <td>26</td>\n",
       "      <td>Ростов-на-Дону</td>\n",
       "      <td>ultra</td>\n",
       "    </tr>\n",
       "    <tr>\n",
       "      <th>4</th>\n",
       "      <td>5</td>\n",
       "      <td>Адель</td>\n",
       "      <td>28</td>\n",
       "      <td>Омск</td>\n",
       "      <td>ultra</td>\n",
       "    </tr>\n",
       "    <tr>\n",
       "      <th>5</th>\n",
       "      <td>6</td>\n",
       "      <td>Регина</td>\n",
       "      <td>25</td>\n",
       "      <td>Краснодар</td>\n",
       "      <td>ultra</td>\n",
       "    </tr>\n",
       "    <tr>\n",
       "      <th>6</th>\n",
       "      <td>7</td>\n",
       "      <td>Игорь</td>\n",
       "      <td>23</td>\n",
       "      <td>Омск</td>\n",
       "      <td>ultra</td>\n",
       "    </tr>\n",
       "    <tr>\n",
       "      <th>7</th>\n",
       "      <td>8</td>\n",
       "      <td>Юрий</td>\n",
       "      <td>23</td>\n",
       "      <td>Краснодар</td>\n",
       "      <td>ultra</td>\n",
       "    </tr>\n",
       "    <tr>\n",
       "      <th>8</th>\n",
       "      <td>9</td>\n",
       "      <td>Ян</td>\n",
       "      <td>21</td>\n",
       "      <td>Пятигорск</td>\n",
       "      <td>ultra</td>\n",
       "    </tr>\n",
       "    <tr>\n",
       "      <th>9</th>\n",
       "      <td>10</td>\n",
       "      <td>Валерий</td>\n",
       "      <td>18</td>\n",
       "      <td>Екатеринбург</td>\n",
       "      <td>ultra</td>\n",
       "    </tr>\n",
       "  </tbody>\n",
       "</table>\n",
       "</div>"
      ],
      "text/plain": [
       "   user_id        name  age            city subscription_type\n",
       "0        1        Кира   22          Тюмень             ultra\n",
       "1        2   Станислав   31            Омск             ultra\n",
       "2        3     Алексей   20          Москва             ultra\n",
       "3        4  Константин   26  Ростов-на-Дону             ultra\n",
       "4        5       Адель   28            Омск             ultra\n",
       "5        6      Регина   25       Краснодар             ultra\n",
       "6        7       Игорь   23            Омск             ultra\n",
       "7        8        Юрий   23       Краснодар             ultra\n",
       "8        9          Ян   21       Пятигорск             ultra\n",
       "9       10     Валерий   18    Екатеринбург             ultra"
      ]
     },
     "execution_count": 3,
     "metadata": {},
     "output_type": "execute_result"
    }
   ],
   "source": [
    "# Посмотрим первые 10 строк\n",
    "data_users.head(10)"
   ]
  },
  {
   "cell_type": "code",
   "execution_count": 4,
   "id": "9bc1891f",
   "metadata": {
    "scrolled": true
   },
   "outputs": [
    {
     "name": "stdout",
     "output_type": "stream",
     "text": [
      "<class 'pandas.core.frame.DataFrame'>\n",
      "RangeIndex: 18068 entries, 0 to 18067\n",
      "Data columns (total 4 columns):\n",
      " #   Column    Non-Null Count  Dtype  \n",
      "---  ------    --------------  -----  \n",
      " 0   user_id   18068 non-null  int64  \n",
      " 1   distance  18068 non-null  float64\n",
      " 2   duration  18068 non-null  float64\n",
      " 3   date      18068 non-null  object \n",
      "dtypes: float64(2), int64(1), object(1)\n",
      "memory usage: 564.8+ KB\n"
     ]
    }
   ],
   "source": [
    "# Загрузим второй датафрейм\n",
    "data_rides = pd.read_csv('/datasets/rides_go.csv')\n",
    "data_rides.info()"
   ]
  },
  {
   "cell_type": "code",
   "execution_count": 5,
   "id": "c3c7aa34",
   "metadata": {},
   "outputs": [
    {
     "data": {
      "text/html": [
       "<div>\n",
       "<style scoped>\n",
       "    .dataframe tbody tr th:only-of-type {\n",
       "        vertical-align: middle;\n",
       "    }\n",
       "\n",
       "    .dataframe tbody tr th {\n",
       "        vertical-align: top;\n",
       "    }\n",
       "\n",
       "    .dataframe thead th {\n",
       "        text-align: right;\n",
       "    }\n",
       "</style>\n",
       "<table border=\"1\" class=\"dataframe\">\n",
       "  <thead>\n",
       "    <tr style=\"text-align: right;\">\n",
       "      <th></th>\n",
       "      <th>user_id</th>\n",
       "      <th>distance</th>\n",
       "      <th>duration</th>\n",
       "      <th>date</th>\n",
       "    </tr>\n",
       "  </thead>\n",
       "  <tbody>\n",
       "    <tr>\n",
       "      <th>0</th>\n",
       "      <td>1</td>\n",
       "      <td>4409.919140</td>\n",
       "      <td>25.599769</td>\n",
       "      <td>2021-01-01</td>\n",
       "    </tr>\n",
       "    <tr>\n",
       "      <th>1</th>\n",
       "      <td>1</td>\n",
       "      <td>2617.592153</td>\n",
       "      <td>15.816871</td>\n",
       "      <td>2021-01-18</td>\n",
       "    </tr>\n",
       "    <tr>\n",
       "      <th>2</th>\n",
       "      <td>1</td>\n",
       "      <td>754.159807</td>\n",
       "      <td>6.232113</td>\n",
       "      <td>2021-04-20</td>\n",
       "    </tr>\n",
       "    <tr>\n",
       "      <th>3</th>\n",
       "      <td>1</td>\n",
       "      <td>2694.783254</td>\n",
       "      <td>18.511000</td>\n",
       "      <td>2021-08-11</td>\n",
       "    </tr>\n",
       "    <tr>\n",
       "      <th>4</th>\n",
       "      <td>1</td>\n",
       "      <td>4028.687306</td>\n",
       "      <td>26.265803</td>\n",
       "      <td>2021-08-28</td>\n",
       "    </tr>\n",
       "    <tr>\n",
       "      <th>5</th>\n",
       "      <td>1</td>\n",
       "      <td>2770.890808</td>\n",
       "      <td>16.650138</td>\n",
       "      <td>2021-10-09</td>\n",
       "    </tr>\n",
       "    <tr>\n",
       "      <th>6</th>\n",
       "      <td>1</td>\n",
       "      <td>3039.020292</td>\n",
       "      <td>14.927879</td>\n",
       "      <td>2021-10-19</td>\n",
       "    </tr>\n",
       "    <tr>\n",
       "      <th>7</th>\n",
       "      <td>1</td>\n",
       "      <td>2842.118050</td>\n",
       "      <td>23.117468</td>\n",
       "      <td>2021-11-06</td>\n",
       "    </tr>\n",
       "    <tr>\n",
       "      <th>8</th>\n",
       "      <td>1</td>\n",
       "      <td>3412.690668</td>\n",
       "      <td>15.238072</td>\n",
       "      <td>2021-11-14</td>\n",
       "    </tr>\n",
       "    <tr>\n",
       "      <th>9</th>\n",
       "      <td>1</td>\n",
       "      <td>748.690645</td>\n",
       "      <td>15.041884</td>\n",
       "      <td>2021-11-22</td>\n",
       "    </tr>\n",
       "  </tbody>\n",
       "</table>\n",
       "</div>"
      ],
      "text/plain": [
       "   user_id     distance   duration        date\n",
       "0        1  4409.919140  25.599769  2021-01-01\n",
       "1        1  2617.592153  15.816871  2021-01-18\n",
       "2        1   754.159807   6.232113  2021-04-20\n",
       "3        1  2694.783254  18.511000  2021-08-11\n",
       "4        1  4028.687306  26.265803  2021-08-28\n",
       "5        1  2770.890808  16.650138  2021-10-09\n",
       "6        1  3039.020292  14.927879  2021-10-19\n",
       "7        1  2842.118050  23.117468  2021-11-06\n",
       "8        1  3412.690668  15.238072  2021-11-14\n",
       "9        1   748.690645  15.041884  2021-11-22"
      ]
     },
     "execution_count": 5,
     "metadata": {},
     "output_type": "execute_result"
    }
   ],
   "source": [
    "# Посмотрим первые 10 строк\n",
    "data_rides.head(10)"
   ]
  },
  {
   "cell_type": "code",
   "execution_count": 6,
   "id": "4eafede8",
   "metadata": {},
   "outputs": [
    {
     "name": "stdout",
     "output_type": "stream",
     "text": [
      "<class 'pandas.core.frame.DataFrame'>\n",
      "RangeIndex: 2 entries, 0 to 1\n",
      "Data columns (total 4 columns):\n",
      " #   Column             Non-Null Count  Dtype \n",
      "---  ------             --------------  ----- \n",
      " 0   subscription_type  2 non-null      object\n",
      " 1   minute_price       2 non-null      int64 \n",
      " 2   start_ride_price   2 non-null      int64 \n",
      " 3   subscription_fee   2 non-null      int64 \n",
      "dtypes: int64(3), object(1)\n",
      "memory usage: 192.0+ bytes\n"
     ]
    }
   ],
   "source": [
    "# Загрузим третий датафрейм\n",
    "data_subscriptions = pd.read_csv('/datasets/subscriptions_go.csv')\n",
    "data_subscriptions.info()"
   ]
  },
  {
   "cell_type": "code",
   "execution_count": 7,
   "id": "ff33b206",
   "metadata": {},
   "outputs": [
    {
     "data": {
      "text/html": [
       "<div>\n",
       "<style scoped>\n",
       "    .dataframe tbody tr th:only-of-type {\n",
       "        vertical-align: middle;\n",
       "    }\n",
       "\n",
       "    .dataframe tbody tr th {\n",
       "        vertical-align: top;\n",
       "    }\n",
       "\n",
       "    .dataframe thead th {\n",
       "        text-align: right;\n",
       "    }\n",
       "</style>\n",
       "<table border=\"1\" class=\"dataframe\">\n",
       "  <thead>\n",
       "    <tr style=\"text-align: right;\">\n",
       "      <th></th>\n",
       "      <th>subscription_type</th>\n",
       "      <th>minute_price</th>\n",
       "      <th>start_ride_price</th>\n",
       "      <th>subscription_fee</th>\n",
       "    </tr>\n",
       "  </thead>\n",
       "  <tbody>\n",
       "    <tr>\n",
       "      <th>0</th>\n",
       "      <td>free</td>\n",
       "      <td>8</td>\n",
       "      <td>50</td>\n",
       "      <td>0</td>\n",
       "    </tr>\n",
       "    <tr>\n",
       "      <th>1</th>\n",
       "      <td>ultra</td>\n",
       "      <td>6</td>\n",
       "      <td>0</td>\n",
       "      <td>199</td>\n",
       "    </tr>\n",
       "  </tbody>\n",
       "</table>\n",
       "</div>"
      ],
      "text/plain": [
       "  subscription_type  minute_price  start_ride_price  subscription_fee\n",
       "0              free             8                50                 0\n",
       "1             ultra             6                 0               199"
      ]
     },
     "execution_count": 7,
     "metadata": {},
     "output_type": "execute_result"
    }
   ],
   "source": [
    "# Сток всего 2, посмотрим полностью\n",
    "data_subscriptions"
   ]
  },
  {
   "cell_type": "markdown",
   "id": "a0dacae6",
   "metadata": {},
   "source": [
    "**Вывод**\n",
    "- Тип даннх в столбце date - object, следует поменять на datetime\n",
    "- Также было бы удобно добавить месяц поездки отдельным столбцом\n",
    "- Потенциально столбцы name, city, subscription_type могут содержать неявные дубликаты\n",
    "- Стоит проверить каджый датафрейм на содержание дубликатов"
   ]
  },
  {
   "cell_type": "markdown",
   "id": "e95ebca7",
   "metadata": {},
   "source": [
    "#### Шаг 2. Предобработка данных"
   ]
  },
  {
   "cell_type": "markdown",
   "id": "4c4bee73",
   "metadata": {},
   "source": [
    "##### Изменение типов данных и проверка записи столбцов"
   ]
  },
  {
   "cell_type": "markdown",
   "id": "e97ee220",
   "metadata": {},
   "source": [
    "**Проверим правильность записи названия столбцов**"
   ]
  },
  {
   "cell_type": "code",
   "execution_count": 8,
   "id": "d1bd4f0b",
   "metadata": {},
   "outputs": [
    {
     "data": {
      "text/plain": [
       "['user_id', 'name', 'age', 'city', 'subscription_type']"
      ]
     },
     "execution_count": 8,
     "metadata": {},
     "output_type": "execute_result"
    }
   ],
   "source": [
    "data_users.columns.tolist()"
   ]
  },
  {
   "cell_type": "code",
   "execution_count": 9,
   "id": "f5b39a92",
   "metadata": {},
   "outputs": [
    {
     "data": {
      "text/plain": [
       "['user_id', 'distance', 'duration', 'date']"
      ]
     },
     "execution_count": 9,
     "metadata": {},
     "output_type": "execute_result"
    }
   ],
   "source": [
    "data_rides.columns.tolist()"
   ]
  },
  {
   "cell_type": "code",
   "execution_count": 10,
   "id": "d7960f3b",
   "metadata": {
    "scrolled": true
   },
   "outputs": [
    {
     "data": {
      "text/plain": [
       "['subscription_type', 'minute_price', 'start_ride_price', 'subscription_fee']"
      ]
     },
     "execution_count": 10,
     "metadata": {},
     "output_type": "execute_result"
    }
   ],
   "source": [
    "data_subscriptions.columns.tolist()"
   ]
  },
  {
   "cell_type": "markdown",
   "id": "3f0ba2d4",
   "metadata": {},
   "source": [
    "Ошибок в записи нет"
   ]
  },
  {
   "cell_type": "markdown",
   "id": "eef1054f",
   "metadata": {},
   "source": [
    "**Изменение типа данных и добавление столбца**"
   ]
  },
  {
   "cell_type": "code",
   "execution_count": 11,
   "id": "8532e541",
   "metadata": {},
   "outputs": [],
   "source": [
    "# Изменяем тип данных в data_rides['date'] с object на datetime\n",
    "data_rides['date'] = pd.to_datetime(data_rides['date'], format='%Y-%m-%d')"
   ]
  },
  {
   "cell_type": "code",
   "execution_count": 12,
   "id": "592a1b96",
   "metadata": {},
   "outputs": [
    {
     "data": {
      "text/plain": [
       "user_id              int64\n",
       "distance           float64\n",
       "duration           float64\n",
       "date        datetime64[ns]\n",
       "dtype: object"
      ]
     },
     "execution_count": 12,
     "metadata": {},
     "output_type": "execute_result"
    }
   ],
   "source": [
    "# Проверим результат\n",
    "data_rides.dtypes"
   ]
  },
  {
   "cell_type": "code",
   "execution_count": 13,
   "id": "9b68ba72",
   "metadata": {},
   "outputs": [],
   "source": [
    "# Добавим в датафрейм столбец с месяцем поездки\n",
    "data_rides['month'] = pd.DatetimeIndex(data_rides['date']).month "
   ]
  },
  {
   "cell_type": "code",
   "execution_count": 14,
   "id": "c3ba3d47",
   "metadata": {
    "scrolled": true
   },
   "outputs": [
    {
     "data": {
      "text/html": [
       "<div>\n",
       "<style scoped>\n",
       "    .dataframe tbody tr th:only-of-type {\n",
       "        vertical-align: middle;\n",
       "    }\n",
       "\n",
       "    .dataframe tbody tr th {\n",
       "        vertical-align: top;\n",
       "    }\n",
       "\n",
       "    .dataframe thead th {\n",
       "        text-align: right;\n",
       "    }\n",
       "</style>\n",
       "<table border=\"1\" class=\"dataframe\">\n",
       "  <thead>\n",
       "    <tr style=\"text-align: right;\">\n",
       "      <th></th>\n",
       "      <th>user_id</th>\n",
       "      <th>distance</th>\n",
       "      <th>duration</th>\n",
       "      <th>date</th>\n",
       "      <th>month</th>\n",
       "    </tr>\n",
       "  </thead>\n",
       "  <tbody>\n",
       "    <tr>\n",
       "      <th>0</th>\n",
       "      <td>1</td>\n",
       "      <td>4409.919140</td>\n",
       "      <td>25.599769</td>\n",
       "      <td>2021-01-01</td>\n",
       "      <td>1</td>\n",
       "    </tr>\n",
       "    <tr>\n",
       "      <th>1</th>\n",
       "      <td>1</td>\n",
       "      <td>2617.592153</td>\n",
       "      <td>15.816871</td>\n",
       "      <td>2021-01-18</td>\n",
       "      <td>1</td>\n",
       "    </tr>\n",
       "    <tr>\n",
       "      <th>2</th>\n",
       "      <td>1</td>\n",
       "      <td>754.159807</td>\n",
       "      <td>6.232113</td>\n",
       "      <td>2021-04-20</td>\n",
       "      <td>4</td>\n",
       "    </tr>\n",
       "    <tr>\n",
       "      <th>3</th>\n",
       "      <td>1</td>\n",
       "      <td>2694.783254</td>\n",
       "      <td>18.511000</td>\n",
       "      <td>2021-08-11</td>\n",
       "      <td>8</td>\n",
       "    </tr>\n",
       "    <tr>\n",
       "      <th>4</th>\n",
       "      <td>1</td>\n",
       "      <td>4028.687306</td>\n",
       "      <td>26.265803</td>\n",
       "      <td>2021-08-28</td>\n",
       "      <td>8</td>\n",
       "    </tr>\n",
       "    <tr>\n",
       "      <th>...</th>\n",
       "      <td>...</td>\n",
       "      <td>...</td>\n",
       "      <td>...</td>\n",
       "      <td>...</td>\n",
       "      <td>...</td>\n",
       "    </tr>\n",
       "    <tr>\n",
       "      <th>18063</th>\n",
       "      <td>1534</td>\n",
       "      <td>3781.098080</td>\n",
       "      <td>19.822962</td>\n",
       "      <td>2021-11-04</td>\n",
       "      <td>11</td>\n",
       "    </tr>\n",
       "    <tr>\n",
       "      <th>18064</th>\n",
       "      <td>1534</td>\n",
       "      <td>2840.423057</td>\n",
       "      <td>21.409799</td>\n",
       "      <td>2021-11-16</td>\n",
       "      <td>11</td>\n",
       "    </tr>\n",
       "    <tr>\n",
       "      <th>18065</th>\n",
       "      <td>1534</td>\n",
       "      <td>3826.185507</td>\n",
       "      <td>18.435051</td>\n",
       "      <td>2021-11-18</td>\n",
       "      <td>11</td>\n",
       "    </tr>\n",
       "    <tr>\n",
       "      <th>18066</th>\n",
       "      <td>1534</td>\n",
       "      <td>2902.308661</td>\n",
       "      <td>16.674362</td>\n",
       "      <td>2021-11-27</td>\n",
       "      <td>11</td>\n",
       "    </tr>\n",
       "    <tr>\n",
       "      <th>18067</th>\n",
       "      <td>1534</td>\n",
       "      <td>2371.711192</td>\n",
       "      <td>15.893917</td>\n",
       "      <td>2021-12-29</td>\n",
       "      <td>12</td>\n",
       "    </tr>\n",
       "  </tbody>\n",
       "</table>\n",
       "<p>18068 rows × 5 columns</p>\n",
       "</div>"
      ],
      "text/plain": [
       "       user_id     distance   duration       date  month\n",
       "0            1  4409.919140  25.599769 2021-01-01      1\n",
       "1            1  2617.592153  15.816871 2021-01-18      1\n",
       "2            1   754.159807   6.232113 2021-04-20      4\n",
       "3            1  2694.783254  18.511000 2021-08-11      8\n",
       "4            1  4028.687306  26.265803 2021-08-28      8\n",
       "...        ...          ...        ...        ...    ...\n",
       "18063     1534  3781.098080  19.822962 2021-11-04     11\n",
       "18064     1534  2840.423057  21.409799 2021-11-16     11\n",
       "18065     1534  3826.185507  18.435051 2021-11-18     11\n",
       "18066     1534  2902.308661  16.674362 2021-11-27     11\n",
       "18067     1534  2371.711192  15.893917 2021-12-29     12\n",
       "\n",
       "[18068 rows x 5 columns]"
      ]
     },
     "execution_count": 14,
     "metadata": {},
     "output_type": "execute_result"
    }
   ],
   "source": [
    "# Проверим результат\n",
    "data_rides"
   ]
  },
  {
   "cell_type": "markdown",
   "id": "faa37c94",
   "metadata": {},
   "source": [
    "**Вывод :**\n",
    "\n",
    "- Ошибок в записи названия столбцов не обнаружено\n",
    "- Изменили тип данных в стоблце 'date' таблицы data_rides с object на datetime\n",
    "- Добавили в датафрейм столбец с месяцем поездки"
   ]
  },
  {
   "cell_type": "markdown",
   "id": "9e3e7d0b",
   "metadata": {},
   "source": [
    "##### Проверка дубликатов и пропусков"
   ]
  },
  {
   "cell_type": "markdown",
   "id": "ddd638ef",
   "metadata": {},
   "source": [
    "**Дубликаты в data_users**"
   ]
  },
  {
   "cell_type": "code",
   "execution_count": 15,
   "id": "5abcba61",
   "metadata": {
    "scrolled": true
   },
   "outputs": [
    {
     "data": {
      "text/plain": [
       "31"
      ]
     },
     "execution_count": 15,
     "metadata": {},
     "output_type": "execute_result"
    }
   ],
   "source": [
    "# Проверим, сколько дубликатов есть в data_users\n",
    "data_users.duplicated().sum()"
   ]
  },
  {
   "cell_type": "code",
   "execution_count": 16,
   "id": "515baf90",
   "metadata": {},
   "outputs": [
    {
     "name": "stdout",
     "output_type": "stream",
     "text": [
      "Процент дубликатов в датафрейме data_users : 1.98%\n"
     ]
    }
   ],
   "source": [
    "print(f'Процент дубликатов в датафрейме data_users : {round((data_users.duplicated().sum() / len(data_users)) * 100, 2)}%')"
   ]
  },
  {
   "cell_type": "code",
   "execution_count": 17,
   "id": "12bd3b2a",
   "metadata": {},
   "outputs": [],
   "source": [
    "# Процент меньше 10, удалим все эти строчки\n",
    "data_users.drop_duplicates(inplace=True)"
   ]
  },
  {
   "cell_type": "code",
   "execution_count": 18,
   "id": "2186cfed",
   "metadata": {},
   "outputs": [
    {
     "data": {
      "text/plain": [
       "0"
      ]
     },
     "execution_count": 18,
     "metadata": {},
     "output_type": "execute_result"
    }
   ],
   "source": [
    "# Проверим результат\n",
    "data_users.duplicated().sum()"
   ]
  },
  {
   "cell_type": "code",
   "execution_count": 19,
   "id": "7f0965c4",
   "metadata": {
    "scrolled": true
   },
   "outputs": [
    {
     "data": {
      "text/plain": [
       "user_id              0\n",
       "name                 0\n",
       "age                  0\n",
       "city                 0\n",
       "subscription_type    0\n",
       "dtype: int64"
      ]
     },
     "execution_count": 19,
     "metadata": {},
     "output_type": "execute_result"
    }
   ],
   "source": [
    "# Проверим сколько пропусков есть в датафрейме\n",
    "data_users.isna().sum()"
   ]
  },
  {
   "cell_type": "markdown",
   "id": "198274a6",
   "metadata": {},
   "source": [
    "**Проверка неявных дубликатов**"
   ]
  },
  {
   "cell_type": "code",
   "execution_count": 20,
   "id": "cbfdcb8f",
   "metadata": {},
   "outputs": [
    {
     "data": {
      "text/plain": [
       "array(['Тюмень', 'Омск', 'Москва', 'Ростов-на-Дону', 'Краснодар',\n",
       "       'Пятигорск', 'Екатеринбург', 'Сочи'], dtype=object)"
      ]
     },
     "execution_count": 20,
     "metadata": {},
     "output_type": "execute_result"
    }
   ],
   "source": [
    "# Проверим столбец city на наличие неявных дубликатов\n",
    "data_users['city'].unique()"
   ]
  },
  {
   "cell_type": "code",
   "execution_count": 21,
   "id": "4b4b50aa",
   "metadata": {},
   "outputs": [
    {
     "data": {
      "text/plain": [
       "array(['Кира', 'Станислав', 'Алексей', 'Константин', 'Адель', 'Регина',\n",
       "       'Игорь', 'Юрий', 'Ян', 'Валерий', 'Агата', 'Марк', 'Ева',\n",
       "       'Антонина', 'Валерия', 'Амалия', 'Даниил', 'Аделина', 'Святогор',\n",
       "       'Борис', 'Вероника', 'Ростислав', 'Назар', 'Эдуард', 'Василий',\n",
       "       'Денис', 'Тамара', 'Николай', 'Эвелина', 'Федор', 'Руслан', 'Иван',\n",
       "       'Любовь', 'Ярослава', 'Майя', 'Ильдар', 'Данила', 'Нина',\n",
       "       'Стефания', 'Ясмина', 'Дмитрий', 'Александр', 'Одиссей', 'Арсений',\n",
       "       'Алла', 'Таисия', 'Максим', 'Юлиана', 'Павел', 'Карина', 'Алиса',\n",
       "       'Лидия', 'Рамиль', 'Родион', 'Ника', 'Оксана', 'Анастасия',\n",
       "       'Маргарита', 'Вера', 'Тимур', 'Никита', 'Лев', 'Влад', 'Артур',\n",
       "       'Анна', 'Ольга', 'Вячеслав', 'Ксения', 'Виталина', 'Владислав',\n",
       "       'Тамерлан', 'Амина', 'Вадим', 'Олеся', 'Зарина', 'Егор', 'Гордей',\n",
       "       'Лилия', 'Святослав', 'Роберт', 'Амир', 'Влада', 'Богдан',\n",
       "       'Полина', 'Марат', 'Елисей', 'Макар', 'Алина', 'Глеб', 'Андрей',\n",
       "       'Альбина', 'Людмила', 'Марсель', 'Милена', 'Диана', 'Дарина',\n",
       "       'Данил', 'Артемий', 'Лиана', 'Альберт', 'Герман', 'Жанна', 'Нелли',\n",
       "       'Евгения', 'Ариана', 'Самира', 'Захар', 'Эльвира', 'Екатерина',\n",
       "       'Инна', 'Демид', 'Яна', 'Михаил', 'Татьяна', 'Степан', 'Мелания',\n",
       "       'Тимофей', 'Ирина', 'Анжелика', 'Владислава', 'Елизавета',\n",
       "       'Мадина', 'Снежана', 'Даниэль', 'Рустам', 'Каролина', 'Ангелина',\n",
       "       'Владимир', 'Виктория', 'Валентина', 'Семен', 'Арина', 'Лариса',\n",
       "       'Есения', 'Галина', 'Кирилл', 'Игнат', 'Виталий', 'Эмилия',\n",
       "       'Виолетта', 'Яромир', 'Софья', 'Мирослава', 'Евгений', 'Варвара',\n",
       "       'Платон', 'Наталия', 'Анатолий', 'Кристина', 'Всеволод', 'Дарья',\n",
       "       'Наташа', 'Мария', 'Марина', 'Василиса', 'Юлия', 'Илья', 'Злата',\n",
       "       'Роман', 'Наталья', 'Элина', 'Арсен', 'Айдар', 'Алия', 'Виктор',\n",
       "       'Мирон', 'Ульяна', 'Георгий', 'Петр', 'Эльмира', 'Олег', 'Дамир',\n",
       "       'Самир', 'Ярослав', 'Камилла', 'Сергей', 'Эмиль', 'Радмир',\n",
       "       'Савелий', 'Елена', 'Антон', 'Мирослав', 'София', 'Тихон', 'Артём',\n",
       "       'Давид', 'Григорий', 'Алёна', 'Светлана', 'Леонид', 'Александра',\n",
       "       'Василина', 'Милана', 'Матвей'], dtype=object)"
      ]
     },
     "execution_count": 21,
     "metadata": {},
     "output_type": "execute_result"
    }
   ],
   "source": [
    "# Проверим столбец name на наличие неявных дубликатов\n",
    "data_users['name'].unique()"
   ]
  },
  {
   "cell_type": "code",
   "execution_count": 22,
   "id": "64a8f40b",
   "metadata": {},
   "outputs": [
    {
     "data": {
      "text/plain": [
       "array(['ultra', 'free'], dtype=object)"
      ]
     },
     "execution_count": 22,
     "metadata": {},
     "output_type": "execute_result"
    }
   ],
   "source": [
    "# Проверим столбец subscription_type на наличие неявных дубликатов\n",
    "data_users['subscription_type'].unique() "
   ]
  },
  {
   "cell_type": "markdown",
   "id": "267f5279",
   "metadata": {},
   "source": [
    "**Вывод:**\n",
    "- Процент дубликатов в датафрейме data_users : 1.98%. Все строчки-дубликаты были удалены\n",
    "- В датафрейме data_users нет пропусков в данных\n",
    "- В датафрейме data_users нет неявных дубликатов"
   ]
  },
  {
   "cell_type": "markdown",
   "id": "5e82fa4a",
   "metadata": {},
   "source": [
    "**Дубликаты в data_rides**"
   ]
  },
  {
   "cell_type": "code",
   "execution_count": 23,
   "id": "eaf92847",
   "metadata": {},
   "outputs": [
    {
     "data": {
      "text/plain": [
       "0"
      ]
     },
     "execution_count": 23,
     "metadata": {},
     "output_type": "execute_result"
    }
   ],
   "source": [
    "# Проверим, сколько дубликатов есть в data_rides\n",
    "data_rides.duplicated().sum()"
   ]
  },
  {
   "cell_type": "code",
   "execution_count": 24,
   "id": "f5dd61fa",
   "metadata": {},
   "outputs": [
    {
     "data": {
      "text/plain": [
       "user_id     0\n",
       "distance    0\n",
       "duration    0\n",
       "date        0\n",
       "month       0\n",
       "dtype: int64"
      ]
     },
     "execution_count": 24,
     "metadata": {},
     "output_type": "execute_result"
    }
   ],
   "source": [
    "# Проверим сколько пропусков есть в датафрейме\n",
    "data_rides.isna().sum()"
   ]
  },
  {
   "cell_type": "markdown",
   "id": "d912edd6",
   "metadata": {},
   "source": [
    "**Вывод :**\n",
    "    \n",
    "- В датафрейме data_rides нет дубликатов\n",
    "- В датафрейме data_rides нет пропусков"
   ]
  },
  {
   "cell_type": "markdown",
   "id": "c9ed3404",
   "metadata": {},
   "source": [
    "##### Выбросы и аномалии"
   ]
  },
  {
   "cell_type": "markdown",
   "id": "4eacbd0a",
   "metadata": {},
   "source": [
    "**Проверка выбросов и аномалий в столбце distance датафрейма data_rides**"
   ]
  },
  {
   "cell_type": "code",
   "execution_count": 25,
   "id": "5e68c3df",
   "metadata": {},
   "outputs": [
    {
     "data": {
      "text/plain": [
       "count    18068.000000\n",
       "mean      3070.659976\n",
       "std       1116.831209\n",
       "min          0.855683\n",
       "25%       2543.226360\n",
       "50%       3133.609994\n",
       "75%       3776.222735\n",
       "max       7211.007745\n",
       "Name: distance, dtype: float64"
      ]
     },
     "execution_count": 25,
     "metadata": {},
     "output_type": "execute_result"
    }
   ],
   "source": [
    "# Посмотрим статистику distance\n",
    "data_rides['distance'].describe()"
   ]
  },
  {
   "cell_type": "code",
   "execution_count": 26,
   "id": "90ba786c",
   "metadata": {},
   "outputs": [
    {
     "data": {
      "image/png": "[encoded data removed]",
      "text/plain": [
       "<Figure size 720x432 with 1 Axes>"
      ]
     },
     "metadata": {
      "needs_background": "light"
     },
     "output_type": "display_data"
    }
   ],
   "source": [
    "# Построим диаграмму размаха\n",
    "data_rides.boxplot(column='distance', figsize=(10, 6), vert=False)\n",
    "plt.xlim(0, 7220)\n",
    "plt.xlabel('Расстояние, которое пользователь проехал в текущей сессии', fontsize=12)\n",
    "plt.yticks([])\n",
    "plt.title('Диаграмма размаха расстояния поездки', fontsize=14)\n",
    "plt.scatter(x=data_rides['distance'], y=np.repeat(1, len(data_rides['distance'])), color='red', alpha=0.5)\n",
    "plt.show()"
   ]
  },
  {
   "cell_type": "code",
   "execution_count": 27,
   "id": "11d7a2b6",
   "metadata": {},
   "outputs": [
    {
     "name": "stdout",
     "output_type": "stream",
     "text": [
      "Нижняя граница distance 208.08440510728332\n",
      "Нижняя граница distance 5478.621527829257\n",
      "Процент отброшенных значений =  2.0 %\n"
     ]
    }
   ],
   "source": [
    "# Используем метод quantile и посмотрим выбросы, которые выходят за 1% с обеих сторон\n",
    "low_percentele = 0.01\n",
    "high_percentele = 0.99\n",
    "\n",
    "distance_low = data_rides['distance'].quantile(low_percentele)\n",
    "distance_high = data_rides['distance'].quantile(high_percentele)\n",
    "\n",
    "print(f'Нижняя граница distance {distance_low}')\n",
    "print(f'Нижняя граница distance {distance_high}')\n",
    "\n",
    "print(\n",
    "    'Процент отброшенных значений = ',\n",
    "    round(\n",
    "        100 - len(data_rides.query('@distance_low <= distance <= @distance_high'))\n",
    "        / len(data_rides['distance']) * 100,\n",
    "        2\n",
    "    ),\n",
    "    '%'\n",
    ")"
   ]
  },
  {
   "cell_type": "markdown",
   "id": "40418c54",
   "metadata": {},
   "source": [
    "Т.к. процент невелик, можем оставить эти строки"
   ]
  },
  {
   "cell_type": "markdown",
   "id": "eebc7c07",
   "metadata": {},
   "source": [
    "**Проверка выбросов и аномалий в столбце duration датафрейма data_rides**"
   ]
  },
  {
   "cell_type": "code",
   "execution_count": 28,
   "id": "41d5d24d",
   "metadata": {},
   "outputs": [
    {
     "data": {
      "text/plain": [
       "count    18068.000000\n",
       "mean        17.805011\n",
       "std          6.091051\n",
       "min          0.500000\n",
       "25%         13.597563\n",
       "50%         17.678395\n",
       "75%         21.724800\n",
       "max         40.823963\n",
       "Name: duration, dtype: float64"
      ]
     },
     "execution_count": 28,
     "metadata": {},
     "output_type": "execute_result"
    }
   ],
   "source": [
    "# Посмотрим статистику duration\n",
    "data_rides['duration'].describe()"
   ]
  },
  {
   "cell_type": "code",
   "execution_count": 29,
   "id": "66df72ac",
   "metadata": {},
   "outputs": [
    {
     "data": {
      "image/png": "[encoded data removed]",
      "text/plain": [
       "<Figure size 720x432 with 1 Axes>"
      ]
     },
     "metadata": {
      "needs_background": "light"
     },
     "output_type": "display_data"
    }
   ],
   "source": [
    "# Построим диаграмму размаха\n",
    "data_rides.boxplot(column='duration', figsize=(10, 6), vert=False)\n",
    "plt.xlim(0, 41)\n",
    "plt.xlabel('Продолжительность сессии (в минутах) ', fontsize=12)\n",
    "plt.yticks([])\n",
    "plt.title('Диаграмма размаха продолжительности сессии', fontsize=14)\n",
    "plt.scatter(x=data_rides['duration'], y=np.repeat(1, len(data_rides['duration'])), color='red', alpha=0.5)\n",
    "plt.show()"
   ]
  },
  {
   "cell_type": "code",
   "execution_count": 30,
   "id": "ee10b179",
   "metadata": {},
   "outputs": [
    {
     "name": "stdout",
     "output_type": "stream",
     "text": [
      "Нижняя граница distance 3.9821051350591543\n",
      "Нижняя граница distance 32.50358023064304\n",
      "Процент отброшенных значений =  2.0 %\n"
     ]
    }
   ],
   "source": [
    "# Используем метод quantile и посмотрим выбросы, которые выходят за 1% с обеих сторон\n",
    "duration_low = data_rides['duration'].quantile(low_percentele)\n",
    "duration_high = data_rides['duration'].quantile(high_percentele)\n",
    "\n",
    "print(f'Нижняя граница distance {duration_low}')\n",
    "print(f'Нижняя граница distance {duration_high}')\n",
    "\n",
    "print(\n",
    "    'Процент отброшенных значений = ',\n",
    "    round(\n",
    "        100 - len(data_rides.query('@duration_low <= duration <= @duration_high'))\n",
    "        / len(data_rides['duration']) * 100,\n",
    "        2\n",
    "    ),\n",
    "    '%'\n",
    ")"
   ]
  },
  {
   "cell_type": "markdown",
   "id": "7d597255",
   "metadata": {},
   "source": [
    "Т.к. процент невелик, можем оставить эти строки"
   ]
  },
  {
   "cell_type": "markdown",
   "id": "489e3885",
   "metadata": {},
   "source": [
    "**Вывод :**\n",
    "\n",
    "- Обнаружили выбросы в столбце distance датафрейма data_rides. Не стали отбрасывать эти значения\n",
    "- Обнаружили выбросы в столбце duration датафрейма data_rides. Не стали отбрасывать эти значения"
   ]
  },
  {
   "cell_type": "markdown",
   "id": "fc484336",
   "metadata": {},
   "source": [
    "##### Вывод по предобработке данных"
   ]
  },
  {
   "cell_type": "markdown",
   "id": "278cb645",
   "metadata": {},
   "source": [
    "1. **Изменение типов данных и проверка записи столбцов**\n",
    "\n",
    "    - Ошибок в записи названия столбцов не обнаружено\n",
    "    - Изменили тип данных в стоблце 'date' таблицы data_rides с object на datetime\n",
    "    - Добавили в датафрейм столбец с месяцем поездки\n",
    "    \n",
    "2. **Проверка дубликатов и пропусков**\n",
    "    - Процент дубликатов в датафрейме data_users : 1.98%. Все строчки-дубликаты были удалены\n",
    "    - В датафрейме data_users нет пропусков в данных\n",
    "    - В датафрейме data_users нет неявных дубликатов\n",
    "    - В датафрейме data_rides нет дубликатов\n",
    "    - В датафрейме data_rides нет пропусков\n",
    "3. **Выбросы и аномалии**\n",
    "    - Обнаружили выбросы в столбце distance датафрейма data_rides. Не стали отбрасывать эти значения\n",
    "    - Обнаружили выбросы в столбце duration датафрейма data_rides. Не стали отбрасывать эти значения"
   ]
  },
  {
   "cell_type": "markdown",
   "id": "212593c7",
   "metadata": {},
   "source": [
    "#### Шаг 3. Исследовательский анализ данных"
   ]
  },
  {
   "cell_type": "markdown",
   "id": "b71193e3",
   "metadata": {},
   "source": [
    "##### Частота встречаемости городов"
   ]
  },
  {
   "cell_type": "code",
   "execution_count": 31,
   "id": "986c8c7e",
   "metadata": {},
   "outputs": [
    {
     "data": {
      "text/plain": [
       "Пятигорск         219\n",
       "Екатеринбург      204\n",
       "Ростов-на-Дону    198\n",
       "Краснодар         193\n",
       "Сочи              189\n",
       "Омск              183\n",
       "Тюмень            180\n",
       "Москва            168\n",
       "Name: city, dtype: int64"
      ]
     },
     "execution_count": 31,
     "metadata": {},
     "output_type": "execute_result"
    }
   ],
   "source": [
    "# С помощью метода value_counts() посчитаем кол-во пользователей в разных городах\n",
    "city_frequency = data_users['city'].value_counts()\n",
    "city_frequency"
   ]
  },
  {
   "cell_type": "code",
   "execution_count": 32,
   "id": "b9972c1f",
   "metadata": {},
   "outputs": [
    {
     "data": {
      "text/plain": [
       "count      8.000000\n",
       "mean     191.750000\n",
       "std       15.672998\n",
       "min      168.000000\n",
       "25%      182.250000\n",
       "50%      191.000000\n",
       "75%      199.500000\n",
       "max      219.000000\n",
       "Name: city, dtype: float64"
      ]
     },
     "execution_count": 32,
     "metadata": {},
     "output_type": "execute_result"
    }
   ],
   "source": [
    "# Взглянем на статистику\n",
    "city_frequency.describe()"
   ]
  },
  {
   "cell_type": "code",
   "execution_count": 33,
   "id": "a6324c98",
   "metadata": {
    "scrolled": true
   },
   "outputs": [
    {
     "data": {
      "image/png": "[encoded data removed]",
      "text/plain": [
       "<Figure size 648x720 with 1 Axes>"
      ]
     },
     "metadata": {
      "needs_background": "light"
     },
     "output_type": "display_data"
    }
   ],
   "source": [
    "# Для наглядности построим графики\n",
    "x_line = np.arange(len(city_frequency))\n",
    "y_line = city_frequency\n",
    "# Генерация градиента цветов для столбиков\n",
    "num_bars_city_frequency = len(city_frequency)\n",
    "color_map_city_frequency = plt.cm.get_cmap('viridis', num_bars_city_frequency)  \n",
    "# Создание списка цветов на основе градиента\n",
    "bar_colors_city_frequency = [color_map_city_frequency(i) for i in np.linspace(0, 1, num_bars_city_frequency)]\n",
    "# Создание столбчатой диаграммы\n",
    "plt.figure(figsize=(9, 10))\n",
    "city_frequency.plot(kind='barh', figsize=(9, 10), label='Количество', color=bar_colors_city_frequency)  # Используем barh() вместо bar()\n",
    "plt.plot(y_line, x_line, marker='o', linestyle='-', color='r', label='Линия')  # Меняем x_line и y_line местами\n",
    "plt.title('Частота встречаемости городов', fontsize=16, pad=15)\n",
    "plt.xlabel('Количество', fontsize=14)  # Меняем подпись оси x\n",
    "plt.ylabel('Город', fontsize=14)  # Меняем подпись оси y\n",
    "plt.yticks(x_line, city_frequency.index, fontsize=12)  # Меняем ticks и labels местами\n",
    "plt.xticks(fontsize=12)\n",
    "plt.legend(fontsize=12)\n",
    "plt.grid(alpha=0.75)\n",
    "plt.show()"
   ]
  },
  {
   "cell_type": "code",
   "execution_count": 34,
   "id": "5b739045",
   "metadata": {},
   "outputs": [
    {
     "data": {
      "image/png": "[encoded data removed]",
      "text/plain": [
       "<Figure size 1008x720 with 1 Axes>"
      ]
     },
     "metadata": {},
     "output_type": "display_data"
    }
   ],
   "source": [
    "#Генерация цветовой палитры\n",
    "num_city_frequency = len(city_frequency)\n",
    "color_map_city_frequency = plt.cm.get_cmap('Set3', num_city_frequency)\n",
    "bar_colors_city_frequency = [color_map_city_frequency(i) for i in np.linspace(0, 1, num_city_frequency)]\n",
    "\n",
    "#Создание круговой диаграммы\n",
    "plt.figure(figsize=(14, 10))\n",
    "plt.pie(city_frequency, labels=city_frequency.index, autopct='%.1f%%', colors=bar_colors_city_frequency, textprops={'fontsize': 12})\n",
    "plt.title('Частота встречаемости городов', fontsize=16)\n",
    "plt.legend(city_frequency.index, title='Город', loc='best', fontsize=10)\n",
    "plt.xticks(fontsize=12)\n",
    "plt.yticks(fontsize=12)\n",
    "plt.show()"
   ]
  },
  {
   "cell_type": "markdown",
   "id": "be8a67f6",
   "metadata": {},
   "source": [
    "**Вывод**\n",
    "\n",
    "- Среднее число пользователей в городе = 192\n",
    "- В таблице представлена информация по городам, с наибольшим кол-вом пользователей\n",
    "\n",
    "| Город | Количество пользователей | Часть от всех пользователей в % |\n",
    "|:------------:|:------------:|:------------:|\n",
    "| Пятигорск   | 219   | 14.3   |\n",
    "| Екатеринбург    | 204   | 13.3   |\n",
    "| Ростов-на-Дону  | 198   | 12.9   |\n",
    "\n",
    "\n",
    "- В таблице представлена информация по городам, с наименьшим кол-вом пользователей\n",
    "\n",
    "| Город | Количество пользователей | Часть от всех пользователей в % |\n",
    "|:------------:|:------------:|:------------:|\n",
    "| Омск   | 183   | 11.9   |\n",
    "| Тюмень    | 180   | 11.7   |\n",
    "| Москва  | 168   | 11.0   | \n",
    "\n"
   ]
  },
  {
   "cell_type": "markdown",
   "id": "13396e6e",
   "metadata": {},
   "source": [
    "##### Соотношение пользователей с подпиской и без подписки"
   ]
  },
  {
   "cell_type": "code",
   "execution_count": 35,
   "id": "937d36e4",
   "metadata": {},
   "outputs": [
    {
     "data": {
      "text/plain": [
       "free     835\n",
       "ultra    699\n",
       "Name: subscription_type, dtype: int64"
      ]
     },
     "execution_count": 35,
     "metadata": {},
     "output_type": "execute_result"
    }
   ],
   "source": [
    "# С помощью метода value_counts() посчитаем кол-во пользователей с разными типами подписок\n",
    "subscription_ratio = data_users['subscription_type'].value_counts()\n",
    "subscription_ratio"
   ]
  },
  {
   "cell_type": "code",
   "execution_count": 36,
   "id": "1f4cd83d",
   "metadata": {
    "scrolled": true
   },
   "outputs": [
    {
     "data": {
      "image/png": "[encoded data removed]",
      "text/plain": [
       "<Figure size 720x648 with 1 Axes>"
      ]
     },
     "metadata": {
      "needs_background": "light"
     },
     "output_type": "display_data"
    }
   ],
   "source": [
    "# Для наглядности построим графики\n",
    "x_line = np.arange(len(subscription_ratio))\n",
    "y_line = subscription_ratio\n",
    "#Генерация градиента цветов для столбиков\n",
    "num_bars_subscription_ratio = len(subscription_ratio)\n",
    "color_map_subscription_ratio = plt.cm.get_cmap('viridis', num_bars_subscription_ratio)  \n",
    "#Создание списка цветов на основе градиента\n",
    "bar_colors_subscription_ratio = [color_map_subscription_ratio(i) for i in np.linspace(0, 1, num_bars_subscription_ratio)]\n",
    "# Создание столбчатой диаграммы\n",
    "plt.figure(figsize=(10, 9))\n",
    "subscription_ratio.plot(kind='bar', figsize=(10, 9), label='Количество', color=bar_colors_subscription_ratio)\n",
    "plt.plot(x_line, y_line, marker='o', linestyle='-', color='r', label='Линия')\n",
    "plt.title('Соотношение пользователей с подпиской\\n и без подписки', fontsize=16, pad=15)\n",
    "plt.xlabel('Тип подписки', fontsize=14)\n",
    "plt.ylabel('Количество', fontsize=14)\n",
    "plt.xticks(x_line, subscription_ratio.index, rotation=0, fontsize=12)\n",
    "plt.yticks(fontsize=12)\n",
    "plt.legend(fontsize=12)\n",
    "plt.grid(alpha=0.75)\n",
    "plt.show()"
   ]
  },
  {
   "cell_type": "code",
   "execution_count": 37,
   "id": "fa6df9ac",
   "metadata": {},
   "outputs": [
    {
     "data": {
      "image/png": "[encoded data removed]",
      "text/plain": [
       "<Figure size 1008x720 with 1 Axes>"
      ]
     },
     "metadata": {},
     "output_type": "display_data"
    }
   ],
   "source": [
    "#Генерация цветовой палитры\n",
    "num_subscription_ratio = len(subscription_ratio)\n",
    "color_map_subscription_ratio = plt.cm.get_cmap('Set3', num_subscription_ratio)\n",
    "bar_colors_subscription_ratio = [color_map_subscription_ratio(i) for i in np.linspace(0, 1, num_subscription_ratio)]\n",
    "\n",
    "#Создание круговой диаграммы\n",
    "plt.figure(figsize=(14, 10))\n",
    "plt.pie(subscription_ratio, labels=subscription_ratio.index, autopct='%.1f%%', colors=bar_colors_subscription_ratio, textprops={'fontsize': 12})\n",
    "plt.title('Соотношение пользователей с подпиской\\n и без подписки', fontsize=16)\n",
    "plt.legend(subscription_ratio.index, title='Тип подписки', loc='best', fontsize=14)\n",
    "plt.xticks(fontsize=12)\n",
    "plt.yticks(fontsize=12)\n",
    "plt.show()"
   ]
  },
  {
   "cell_type": "markdown",
   "id": "cf7c8f47",
   "metadata": {},
   "source": [
    "**Вывод**\n",
    "- В таблице представлена информация о пользователях с различными типами подписок\n",
    "\n",
    "| Тип подписки | Количество пользователей | Часть от всех пользователей в % |\n",
    "|:------------:|:------------:|:------------:|\n",
    "| Ultra  | 699   | 45.6   |\n",
    "| Free    | 835   | 54.4   |\n"
   ]
  },
  {
   "cell_type": "markdown",
   "id": "89ff744c",
   "metadata": {},
   "source": [
    "##### Возраст пользователей"
   ]
  },
  {
   "cell_type": "code",
   "execution_count": 38,
   "id": "b266e330",
   "metadata": {
    "scrolled": true
   },
   "outputs": [
    {
     "data": {
      "text/plain": [
       "25    145\n",
       "24    132\n",
       "26    131\n",
       "23    129\n",
       "27    119\n",
       "22    119\n",
       "28    112\n",
       "21     93\n",
       "20     71\n",
       "30     68\n",
       "29     68\n",
       "31     48\n",
       "19     47\n",
       "18     46\n",
       "32     41\n",
       "33     39\n",
       "17     26\n",
       "34     19\n",
       "16     19\n",
       "35     15\n",
       "15     13\n",
       "14      9\n",
       "13      8\n",
       "36      6\n",
       "12      4\n",
       "38      3\n",
       "37      2\n",
       "39      1\n",
       "43      1\n",
       "Name: age, dtype: int64"
      ]
     },
     "execution_count": 38,
     "metadata": {},
     "output_type": "execute_result"
    }
   ],
   "source": [
    "# С помощью метода value_counts() посчитаем кол-во пользователей разного возраста\n",
    "users_age = data_users['age'].value_counts()\n",
    "users_age"
   ]
  },
  {
   "cell_type": "code",
   "execution_count": 39,
   "id": "73116828",
   "metadata": {},
   "outputs": [
    {
     "data": {
      "text/plain": [
       "count    1534.000000\n",
       "mean       24.903520\n",
       "std         4.572367\n",
       "min        12.000000\n",
       "25%        22.000000\n",
       "50%        25.000000\n",
       "75%        28.000000\n",
       "max        43.000000\n",
       "Name: age, dtype: float64"
      ]
     },
     "execution_count": 39,
     "metadata": {},
     "output_type": "execute_result"
    }
   ],
   "source": [
    "# Взглянем на статистику\n",
    "data_users['age'].describe()"
   ]
  },
  {
   "cell_type": "code",
   "execution_count": 40,
   "id": "8085be72",
   "metadata": {
    "scrolled": true
   },
   "outputs": [
    {
     "data": {
      "image/png": "[encoded data removed]",
      "text/plain": [
       "<Figure size 864x576 with 1 Axes>"
      ]
     },
     "metadata": {
      "needs_background": "light"
     },
     "output_type": "display_data"
    }
   ],
   "source": [
    "# Построим гистограмму\n",
    "plt.figure(figsize=(12, 8))\n",
    "plt.hist(users_age.index, bins= len(users_age), weights=users_age.values)  \n",
    "plt.title('Возраст пользователей', fontsize=16, pad=15)\n",
    "plt.xlabel('Возраст', fontsize=14)\n",
    "plt.ylabel('Количество', fontsize=14)\n",
    "plt.xticks(users_age.index, fontsize=12)  \n",
    "plt.yticks(fontsize=12)\n",
    "plt.grid(alpha=0.75)\n",
    "plt.show()"
   ]
  },
  {
   "cell_type": "code",
   "execution_count": 41,
   "id": "7e40730a",
   "metadata": {},
   "outputs": [
    {
     "name": "stdout",
     "output_type": "stream",
     "text": [
      "Процент пользователей с возрастом 25 г. = 9.45%\n",
      "Процент пользователей с возрастом 24 г. = 8.6%\n",
      "Процент пользователей с возрастом 26 г. = 8.54%\n",
      "Процент пользователей с возрастом 23 г. = 8.41%\n",
      "Процент пользователей с возрастом 27 г. = 7.76%\n",
      "Процент пользователей с возрастом 22 г. = 7.76%\n",
      "Процент пользователей с возрастом 28 г. = 7.3%\n",
      "Процент пользователей с возрастом 21 г. = 6.06%\n",
      "Процент пользователей с возрастом 20 г. = 4.63%\n",
      "Процент пользователей с возрастом 30 г. = 4.43%\n",
      "Процент пользователей с возрастом 29 г. = 4.43%\n",
      "Процент пользователей с возрастом 31 г. = 3.13%\n",
      "Процент пользователей с возрастом 19 г. = 3.06%\n",
      "Процент пользователей с возрастом 18 г. = 3.0%\n",
      "Процент пользователей с возрастом 32 г. = 2.67%\n",
      "Процент пользователей с возрастом 33 г. = 2.54%\n",
      "Процент пользователей с возрастом 17 г. = 1.69%\n",
      "Процент пользователей с возрастом 34 г. = 1.24%\n",
      "Процент пользователей с возрастом 16 г. = 1.24%\n",
      "Процент пользователей с возрастом 35 г. = 0.98%\n",
      "Процент пользователей с возрастом 15 г. = 0.85%\n",
      "Процент пользователей с возрастом 14 г. = 0.59%\n",
      "Процент пользователей с возрастом 13 г. = 0.52%\n",
      "Процент пользователей с возрастом 36 г. = 0.39%\n",
      "Процент пользователей с возрастом 12 г. = 0.26%\n",
      "Процент пользователей с возрастом 38 г. = 0.2%\n",
      "Процент пользователей с возрастом 37 г. = 0.13%\n",
      "Процент пользователей с возрастом 39 г. = 0.07%\n",
      "Процент пользователей с возрастом 43 г. = 0.07%\n"
     ]
    }
   ],
   "source": [
    "# Посчитаем процент пользователей разного возраста\n",
    "total_users = users_age.sum()\n",
    "\n",
    "#Сортировка в убывающем порядке\n",
    "users_age_sorted = users_age.sort_values(ascending=False)\n",
    "\n",
    "for age, count in users_age_sorted.items():\n",
    "    percentage = (count / total_users) * 100\n",
    "    print(f\"Процент пользователей с возрастом {age} г. = {round(percentage, 2)}%\")"
   ]
  },
  {
   "cell_type": "markdown",
   "id": "f4436fc1",
   "metadata": {},
   "source": [
    "**Вывод**\n",
    "- Средний возраст пользователя = 25\n",
    "- Возраст наиболее активных пользователей приведен в таблице:\n",
    "\n",
    "| Возраст | Количество пользователей | Часть от всех пользователей в % |\n",
    "|:------------:|:------------:|:------------:|\n",
    "| 25 | 145   | 9.45   |\n",
    "| 24   | 132   | 8.6   |\n",
    "| 26   | 131   | 8.54   |\n",
    "\n",
    "- Возраст наименее активных пользователей приведен в таблице:\n",
    "\n",
    "\n",
    "    \n",
    "| Возраст | Количество пользователей | Часть от всех пользователей в % |\n",
    "|:------------:|:------------:|:------------:|\n",
    "| 37 | 2   | 0.13   |\n",
    "| 39   | 1   | 0.07   |\n",
    "| 43   | 1   | 0.07   |\n",
    "    \n"
   ]
  },
  {
   "cell_type": "markdown",
   "id": "15133207",
   "metadata": {},
   "source": [
    "##### Расстояние, которое пользователь преодолел за одну поездку"
   ]
  },
  {
   "cell_type": "code",
   "execution_count": 42,
   "id": "48f415ba",
   "metadata": {},
   "outputs": [
    {
     "data": {
      "text/plain": [
       "count    18068.000000\n",
       "mean      3070.659976\n",
       "std       1116.831209\n",
       "min          0.855683\n",
       "25%       2543.226360\n",
       "50%       3133.609994\n",
       "75%       3776.222735\n",
       "max       7211.007745\n",
       "Name: distance, dtype: float64"
      ]
     },
     "execution_count": 42,
     "metadata": {},
     "output_type": "execute_result"
    }
   ],
   "source": [
    "# Взглянем на статистику\n",
    "data_rides['distance'].describe()"
   ]
  },
  {
   "cell_type": "code",
   "execution_count": 43,
   "id": "832077c5",
   "metadata": {},
   "outputs": [
    {
     "data": {
      "image/png": "[encoded data removed]",
      "text/plain": [
       "<Figure size 720x504 with 1 Axes>"
      ]
     },
     "metadata": {
      "needs_background": "light"
     },
     "output_type": "display_data"
    }
   ],
   "source": [
    "#Посмотрим на распределение\n",
    "data_rides['distance'].hist(bins=50, range=(0, 5500), figsize=(10,7), color='teal')\n",
    "\n",
    "plt.title('Расстояние, которое пользователь преодолел\\n за одну поездку', fontsize=16, pad=15)\n",
    "plt.xlabel('Расстояние (в метрах)', fontsize=14)\n",
    "plt.ylabel('Количество поездок', fontsize=14)\n",
    "plt.xticks(fontsize=12)\n",
    "plt.yticks(fontsize=12)\n",
    "plt.legend(['Количество поездок'], fontsize=12)\n",
    "plt.grid(True, alpha=0.75)\n",
    "\n",
    "plt.show()"
   ]
  },
  {
   "cell_type": "markdown",
   "id": "6c2d091f",
   "metadata": {},
   "source": [
    "**Вывод**\n",
    "- Среднее расстояние, которое пользователь преодолел за одну поездку = 3070 м., а медиана = 3134 м.\n",
    "- В основном пользователи проезжают от 2000 до 4700 метров\n",
    "- Виден маленький колокол на отрезке [0, 1500] и побольше, на отрезке [2000 , 4700]. Можно отнести первый колокол к категории коротких поездкок, а второй к категории длинных"
   ]
  },
  {
   "cell_type": "markdown",
   "id": "cbe82b3b",
   "metadata": {},
   "source": [
    "##### Продолжительность поездок"
   ]
  },
  {
   "cell_type": "code",
   "execution_count": 44,
   "id": "74f69fc3",
   "metadata": {},
   "outputs": [
    {
     "data": {
      "text/plain": [
       "count    18068.000000\n",
       "mean        17.805011\n",
       "std          6.091051\n",
       "min          0.500000\n",
       "25%         13.597563\n",
       "50%         17.678395\n",
       "75%         21.724800\n",
       "max         40.823963\n",
       "Name: duration, dtype: float64"
      ]
     },
     "execution_count": 44,
     "metadata": {},
     "output_type": "execute_result"
    }
   ],
   "source": [
    "# Взглянем на статистику\n",
    "data_rides['duration'].describe()"
   ]
  },
  {
   "cell_type": "code",
   "execution_count": 45,
   "id": "fd5f4214",
   "metadata": {
    "scrolled": true
   },
   "outputs": [
    {
     "data": {
      "image/png": "[encoded data removed]",
      "text/plain": [
       "<Figure size 720x504 with 1 Axes>"
      ]
     },
     "metadata": {
      "needs_background": "light"
     },
     "output_type": "display_data"
    }
   ],
   "source": [
    "#Посмотрим на распределение\n",
    "data_rides['duration'].hist(bins=28, range=(5, 33), figsize=(10,7), color='slateblue')\n",
    "\n",
    "plt.title('Продолжительность поездок', fontsize=16, pad=15)\n",
    "plt.xlabel('Длительность (в минутах)', fontsize=14)\n",
    "plt.ylabel('Количество поездок', fontsize=14)\n",
    "plt.xticks(fontsize=12)\n",
    "plt.yticks(fontsize=12)\n",
    "plt.legend(['Количество поездок'], fontsize=12)\n",
    "plt.grid(True, alpha=0.75)\n",
    "\n",
    "plt.show()"
   ]
  },
  {
   "cell_type": "markdown",
   "id": "410605f6",
   "metadata": {},
   "source": [
    "**Вывод**\n",
    "- Средняя продолжительность поездки = 18 мин.\n",
    "- В основном пользователи используют самокат от 10 до 25 минут\n",
    "- Распределение похоже на нормальное"
   ]
  },
  {
   "cell_type": "markdown",
   "id": "4beaa37a",
   "metadata": {},
   "source": [
    "##### Вывод по исследовательскому анализу данных"
   ]
  },
  {
   "cell_type": "markdown",
   "id": "fc307170",
   "metadata": {},
   "source": [
    "1. **Частота встречаемости городов**\n",
    "\n",
    "    - Среднее число пользователей в городе = 192\n",
    "    - В таблице представлена информация по городам с наибольшим количеством пользователей:\n",
    "\n",
    "        | Город          | Количество пользователей | Часть от всех пользователей в % |\n",
    "        |:--------------:|:-----------------------:|:-------------------------------:|\n",
    "        | Пятигорск      |           219           |              14.3               |\n",
    "        | Екатеринбург   |           204           |              13.3               |\n",
    "        | Ростов-на-Дону |           198           |              12.9               |\n",
    "\n",
    "    - В таблице представлена информация по городам с наименьшим количеством пользователей:\n",
    "\n",
    "        | Город     | Количество пользователей | Часть от всех пользователей в % |\n",
    "        |:---------:|:-----------------------:|:-------------------------------:|\n",
    "        | Омск      |           183           |              11.9               |\n",
    "        | Тюмень    |           180           |              11.7               |\n",
    "        | Москва    |           168           |              11.0               |\n",
    "\n",
    "\n",
    "    \n",
    "2. **Соотношение пользователей с подпиской и без подписки**\n",
    "    - В таблице представлена информация о пользователях с различными типами подписок\n",
    "\n",
    "| Тип подписки | Количество пользователей | Часть от всех пользователей в % |\n",
    "|:------------:|:------------:|:------------:|\n",
    "| Ultra  | 699   | 45.6   |\n",
    "| Free    | 835   | 54.4   |\n",
    "\n",
    "3. **Возраст пользователей**\n",
    "    - Средний возраст пользователя = 25\n",
    "    - Возраст наиболее активных пользователей приведен в таблице:\n",
    "\n",
    "        | Возраст | Количество пользователей | Часть от всех пользователей в % |\n",
    "        |:-------:|:-----------------------:|:-------------------------------:|\n",
    "        |    25   |          145            |               9.45              |\n",
    "        |    24   |          132            |                8.6              |\n",
    "        |    26   |          131            |               8.54              |\n",
    "\n",
    "    - Возраст наименее активных пользователей приведен в таблице:\n",
    "    \n",
    "        | Возраст | Количество пользователей | Часть от всех пользователей в % |\n",
    "        |:-------:|:-----------------------:|:-------------------------------:|\n",
    "        |    37   |            2            |               0.13              |\n",
    "        |    39   |            1            |               0.07              |\n",
    "        |    43   |            1            |               0.07              |\n",
    "\n",
    "\n",
    "4. **Расстояние, которое пользователь преодолел за одну поездку**\n",
    "    - Среднее расстояние, которое пользователь преодолел за одну поездку = 3070 м., а медиана = 3134 м.\n",
    "    - В основном пользователи проезжают от 2000 до 4700 метров\n",
    "    - Виден маленький колокол на отрезке [0, 1500] и побольше, на отрезке [2000 , 4700]. Можно отнести первый колокол к категории коротких поездкок, а второй к категории длинных\n",
    "    \n",
    "5. **Продолжительность поездок**\n",
    "    - Средняя продолжительность поездки = 18 мин.\n",
    "    - В основном пользователи используют самокат от 10 до 25 минут\n",
    "    - Распределение похоже на нормальное"
   ]
  },
  {
   "cell_type": "markdown",
   "id": "4ef51331",
   "metadata": {},
   "source": [
    "\n",
    "#### Шаг 4. Объединение данных"
   ]
  },
  {
   "cell_type": "markdown",
   "id": "ba4da915",
   "metadata": {},
   "source": [
    "##### Объединение данных о пользователях, поездках и подписках в один датафрейм."
   ]
  },
  {
   "cell_type": "code",
   "execution_count": 46,
   "id": "777acc48",
   "metadata": {},
   "outputs": [
    {
     "data": {
      "text/html": [
       "<div>\n",
       "<style scoped>\n",
       "    .dataframe tbody tr th:only-of-type {\n",
       "        vertical-align: middle;\n",
       "    }\n",
       "\n",
       "    .dataframe tbody tr th {\n",
       "        vertical-align: top;\n",
       "    }\n",
       "\n",
       "    .dataframe thead th {\n",
       "        text-align: right;\n",
       "    }\n",
       "</style>\n",
       "<table border=\"1\" class=\"dataframe\">\n",
       "  <thead>\n",
       "    <tr style=\"text-align: right;\">\n",
       "      <th></th>\n",
       "      <th>user_id</th>\n",
       "      <th>name</th>\n",
       "      <th>age</th>\n",
       "      <th>city</th>\n",
       "      <th>subscription_type</th>\n",
       "      <th>distance</th>\n",
       "      <th>duration</th>\n",
       "      <th>date</th>\n",
       "      <th>month</th>\n",
       "    </tr>\n",
       "  </thead>\n",
       "  <tbody>\n",
       "    <tr>\n",
       "      <th>0</th>\n",
       "      <td>1</td>\n",
       "      <td>Кира</td>\n",
       "      <td>22</td>\n",
       "      <td>Тюмень</td>\n",
       "      <td>ultra</td>\n",
       "      <td>4409.919140</td>\n",
       "      <td>25.599769</td>\n",
       "      <td>2021-01-01</td>\n",
       "      <td>1</td>\n",
       "    </tr>\n",
       "    <tr>\n",
       "      <th>1</th>\n",
       "      <td>1</td>\n",
       "      <td>Кира</td>\n",
       "      <td>22</td>\n",
       "      <td>Тюмень</td>\n",
       "      <td>ultra</td>\n",
       "      <td>2617.592153</td>\n",
       "      <td>15.816871</td>\n",
       "      <td>2021-01-18</td>\n",
       "      <td>1</td>\n",
       "    </tr>\n",
       "    <tr>\n",
       "      <th>2</th>\n",
       "      <td>1</td>\n",
       "      <td>Кира</td>\n",
       "      <td>22</td>\n",
       "      <td>Тюмень</td>\n",
       "      <td>ultra</td>\n",
       "      <td>754.159807</td>\n",
       "      <td>6.232113</td>\n",
       "      <td>2021-04-20</td>\n",
       "      <td>4</td>\n",
       "    </tr>\n",
       "    <tr>\n",
       "      <th>3</th>\n",
       "      <td>1</td>\n",
       "      <td>Кира</td>\n",
       "      <td>22</td>\n",
       "      <td>Тюмень</td>\n",
       "      <td>ultra</td>\n",
       "      <td>2694.783254</td>\n",
       "      <td>18.511000</td>\n",
       "      <td>2021-08-11</td>\n",
       "      <td>8</td>\n",
       "    </tr>\n",
       "    <tr>\n",
       "      <th>4</th>\n",
       "      <td>1</td>\n",
       "      <td>Кира</td>\n",
       "      <td>22</td>\n",
       "      <td>Тюмень</td>\n",
       "      <td>ultra</td>\n",
       "      <td>4028.687306</td>\n",
       "      <td>26.265803</td>\n",
       "      <td>2021-08-28</td>\n",
       "      <td>8</td>\n",
       "    </tr>\n",
       "    <tr>\n",
       "      <th>...</th>\n",
       "      <td>...</td>\n",
       "      <td>...</td>\n",
       "      <td>...</td>\n",
       "      <td>...</td>\n",
       "      <td>...</td>\n",
       "      <td>...</td>\n",
       "      <td>...</td>\n",
       "      <td>...</td>\n",
       "      <td>...</td>\n",
       "    </tr>\n",
       "    <tr>\n",
       "      <th>18063</th>\n",
       "      <td>1534</td>\n",
       "      <td>Альберт</td>\n",
       "      <td>25</td>\n",
       "      <td>Краснодар</td>\n",
       "      <td>free</td>\n",
       "      <td>3781.098080</td>\n",
       "      <td>19.822962</td>\n",
       "      <td>2021-11-04</td>\n",
       "      <td>11</td>\n",
       "    </tr>\n",
       "    <tr>\n",
       "      <th>18064</th>\n",
       "      <td>1534</td>\n",
       "      <td>Альберт</td>\n",
       "      <td>25</td>\n",
       "      <td>Краснодар</td>\n",
       "      <td>free</td>\n",
       "      <td>2840.423057</td>\n",
       "      <td>21.409799</td>\n",
       "      <td>2021-11-16</td>\n",
       "      <td>11</td>\n",
       "    </tr>\n",
       "    <tr>\n",
       "      <th>18065</th>\n",
       "      <td>1534</td>\n",
       "      <td>Альберт</td>\n",
       "      <td>25</td>\n",
       "      <td>Краснодар</td>\n",
       "      <td>free</td>\n",
       "      <td>3826.185507</td>\n",
       "      <td>18.435051</td>\n",
       "      <td>2021-11-18</td>\n",
       "      <td>11</td>\n",
       "    </tr>\n",
       "    <tr>\n",
       "      <th>18066</th>\n",
       "      <td>1534</td>\n",
       "      <td>Альберт</td>\n",
       "      <td>25</td>\n",
       "      <td>Краснодар</td>\n",
       "      <td>free</td>\n",
       "      <td>2902.308661</td>\n",
       "      <td>16.674362</td>\n",
       "      <td>2021-11-27</td>\n",
       "      <td>11</td>\n",
       "    </tr>\n",
       "    <tr>\n",
       "      <th>18067</th>\n",
       "      <td>1534</td>\n",
       "      <td>Альберт</td>\n",
       "      <td>25</td>\n",
       "      <td>Краснодар</td>\n",
       "      <td>free</td>\n",
       "      <td>2371.711192</td>\n",
       "      <td>15.893917</td>\n",
       "      <td>2021-12-29</td>\n",
       "      <td>12</td>\n",
       "    </tr>\n",
       "  </tbody>\n",
       "</table>\n",
       "<p>18068 rows × 9 columns</p>\n",
       "</div>"
      ],
      "text/plain": [
       "       user_id     name  age       city subscription_type     distance  \\\n",
       "0            1     Кира   22     Тюмень             ultra  4409.919140   \n",
       "1            1     Кира   22     Тюмень             ultra  2617.592153   \n",
       "2            1     Кира   22     Тюмень             ultra   754.159807   \n",
       "3            1     Кира   22     Тюмень             ultra  2694.783254   \n",
       "4            1     Кира   22     Тюмень             ultra  4028.687306   \n",
       "...        ...      ...  ...        ...               ...          ...   \n",
       "18063     1534  Альберт   25  Краснодар              free  3781.098080   \n",
       "18064     1534  Альберт   25  Краснодар              free  2840.423057   \n",
       "18065     1534  Альберт   25  Краснодар              free  3826.185507   \n",
       "18066     1534  Альберт   25  Краснодар              free  2902.308661   \n",
       "18067     1534  Альберт   25  Краснодар              free  2371.711192   \n",
       "\n",
       "        duration       date  month  \n",
       "0      25.599769 2021-01-01      1  \n",
       "1      15.816871 2021-01-18      1  \n",
       "2       6.232113 2021-04-20      4  \n",
       "3      18.511000 2021-08-11      8  \n",
       "4      26.265803 2021-08-28      8  \n",
       "...          ...        ...    ...  \n",
       "18063  19.822962 2021-11-04     11  \n",
       "18064  21.409799 2021-11-16     11  \n",
       "18065  18.435051 2021-11-18     11  \n",
       "18066  16.674362 2021-11-27     11  \n",
       "18067  15.893917 2021-12-29     12  \n",
       "\n",
       "[18068 rows x 9 columns]"
      ]
     },
     "execution_count": 46,
     "metadata": {},
     "output_type": "execute_result"
    }
   ],
   "source": [
    "# С помощью метода merge() объединим данные о пользователях, поездках и подписках в один датафрейм\n",
    "data_full = pd.merge(data_users, data_rides, on='user_id', how='outer')\n",
    "data_full"
   ]
  },
  {
   "cell_type": "markdown",
   "id": "c87e5468",
   "metadata": {},
   "source": [
    "##### Создание отделных датафреймов из датафрейма"
   ]
  },
  {
   "cell_type": "code",
   "execution_count": 47,
   "id": "84f1bfbf",
   "metadata": {},
   "outputs": [],
   "source": [
    "# Создадим 2 отдельных датафрейма c данными о пользователях без подписки и с данными о пользователях с подпиской.\n",
    "# Датафрейм с данными о пользователях без подписки.\n",
    "data_sub_free = data_full.query('subscription_type == \"free\"')\n",
    "# Датафрейм  с данными о пользователях с подпиской.\n",
    "data_sub_ultra = data_full.query('subscription_type == \"ultra\"')"
   ]
  },
  {
   "cell_type": "code",
   "execution_count": 48,
   "id": "23351457",
   "metadata": {
    "scrolled": true
   },
   "outputs": [
    {
     "data": {
      "text/html": [
       "<div>\n",
       "<style scoped>\n",
       "    .dataframe tbody tr th:only-of-type {\n",
       "        vertical-align: middle;\n",
       "    }\n",
       "\n",
       "    .dataframe tbody tr th {\n",
       "        vertical-align: top;\n",
       "    }\n",
       "\n",
       "    .dataframe thead th {\n",
       "        text-align: right;\n",
       "    }\n",
       "</style>\n",
       "<table border=\"1\" class=\"dataframe\">\n",
       "  <thead>\n",
       "    <tr style=\"text-align: right;\">\n",
       "      <th></th>\n",
       "      <th>user_id</th>\n",
       "      <th>name</th>\n",
       "      <th>age</th>\n",
       "      <th>city</th>\n",
       "      <th>subscription_type</th>\n",
       "      <th>distance</th>\n",
       "      <th>duration</th>\n",
       "      <th>date</th>\n",
       "      <th>month</th>\n",
       "    </tr>\n",
       "  </thead>\n",
       "  <tbody>\n",
       "    <tr>\n",
       "      <th>6500</th>\n",
       "      <td>700</td>\n",
       "      <td>Айдар</td>\n",
       "      <td>22</td>\n",
       "      <td>Омск</td>\n",
       "      <td>free</td>\n",
       "      <td>2515.690719</td>\n",
       "      <td>14.944286</td>\n",
       "      <td>2021-01-02</td>\n",
       "      <td>1</td>\n",
       "    </tr>\n",
       "    <tr>\n",
       "      <th>6501</th>\n",
       "      <td>700</td>\n",
       "      <td>Айдар</td>\n",
       "      <td>22</td>\n",
       "      <td>Омск</td>\n",
       "      <td>free</td>\n",
       "      <td>846.932642</td>\n",
       "      <td>16.234663</td>\n",
       "      <td>2021-02-01</td>\n",
       "      <td>2</td>\n",
       "    </tr>\n",
       "    <tr>\n",
       "      <th>6502</th>\n",
       "      <td>700</td>\n",
       "      <td>Айдар</td>\n",
       "      <td>22</td>\n",
       "      <td>Омск</td>\n",
       "      <td>free</td>\n",
       "      <td>4004.434142</td>\n",
       "      <td>20.016628</td>\n",
       "      <td>2021-02-04</td>\n",
       "      <td>2</td>\n",
       "    </tr>\n",
       "    <tr>\n",
       "      <th>6503</th>\n",
       "      <td>700</td>\n",
       "      <td>Айдар</td>\n",
       "      <td>22</td>\n",
       "      <td>Омск</td>\n",
       "      <td>free</td>\n",
       "      <td>1205.911290</td>\n",
       "      <td>9.782872</td>\n",
       "      <td>2021-02-10</td>\n",
       "      <td>2</td>\n",
       "    </tr>\n",
       "    <tr>\n",
       "      <th>6504</th>\n",
       "      <td>700</td>\n",
       "      <td>Айдар</td>\n",
       "      <td>22</td>\n",
       "      <td>Омск</td>\n",
       "      <td>free</td>\n",
       "      <td>3047.379435</td>\n",
       "      <td>17.427673</td>\n",
       "      <td>2021-02-14</td>\n",
       "      <td>2</td>\n",
       "    </tr>\n",
       "    <tr>\n",
       "      <th>6505</th>\n",
       "      <td>700</td>\n",
       "      <td>Айдар</td>\n",
       "      <td>22</td>\n",
       "      <td>Омск</td>\n",
       "      <td>free</td>\n",
       "      <td>4342.002254</td>\n",
       "      <td>22.368009</td>\n",
       "      <td>2021-02-23</td>\n",
       "      <td>2</td>\n",
       "    </tr>\n",
       "    <tr>\n",
       "      <th>6506</th>\n",
       "      <td>700</td>\n",
       "      <td>Айдар</td>\n",
       "      <td>22</td>\n",
       "      <td>Омск</td>\n",
       "      <td>free</td>\n",
       "      <td>3798.334905</td>\n",
       "      <td>18.243756</td>\n",
       "      <td>2021-03-03</td>\n",
       "      <td>3</td>\n",
       "    </tr>\n",
       "    <tr>\n",
       "      <th>6507</th>\n",
       "      <td>700</td>\n",
       "      <td>Айдар</td>\n",
       "      <td>22</td>\n",
       "      <td>Омск</td>\n",
       "      <td>free</td>\n",
       "      <td>2984.551206</td>\n",
       "      <td>15.424899</td>\n",
       "      <td>2021-04-09</td>\n",
       "      <td>4</td>\n",
       "    </tr>\n",
       "    <tr>\n",
       "      <th>6508</th>\n",
       "      <td>700</td>\n",
       "      <td>Айдар</td>\n",
       "      <td>22</td>\n",
       "      <td>Омск</td>\n",
       "      <td>free</td>\n",
       "      <td>3360.107141</td>\n",
       "      <td>16.765497</td>\n",
       "      <td>2021-06-12</td>\n",
       "      <td>6</td>\n",
       "    </tr>\n",
       "    <tr>\n",
       "      <th>6509</th>\n",
       "      <td>700</td>\n",
       "      <td>Айдар</td>\n",
       "      <td>22</td>\n",
       "      <td>Омск</td>\n",
       "      <td>free</td>\n",
       "      <td>2567.543847</td>\n",
       "      <td>11.312160</td>\n",
       "      <td>2021-06-23</td>\n",
       "      <td>6</td>\n",
       "    </tr>\n",
       "  </tbody>\n",
       "</table>\n",
       "</div>"
      ],
      "text/plain": [
       "      user_id   name  age  city subscription_type     distance   duration  \\\n",
       "6500      700  Айдар   22  Омск              free  2515.690719  14.944286   \n",
       "6501      700  Айдар   22  Омск              free   846.932642  16.234663   \n",
       "6502      700  Айдар   22  Омск              free  4004.434142  20.016628   \n",
       "6503      700  Айдар   22  Омск              free  1205.911290   9.782872   \n",
       "6504      700  Айдар   22  Омск              free  3047.379435  17.427673   \n",
       "6505      700  Айдар   22  Омск              free  4342.002254  22.368009   \n",
       "6506      700  Айдар   22  Омск              free  3798.334905  18.243756   \n",
       "6507      700  Айдар   22  Омск              free  2984.551206  15.424899   \n",
       "6508      700  Айдар   22  Омск              free  3360.107141  16.765497   \n",
       "6509      700  Айдар   22  Омск              free  2567.543847  11.312160   \n",
       "\n",
       "           date  month  \n",
       "6500 2021-01-02      1  \n",
       "6501 2021-02-01      2  \n",
       "6502 2021-02-04      2  \n",
       "6503 2021-02-10      2  \n",
       "6504 2021-02-14      2  \n",
       "6505 2021-02-23      2  \n",
       "6506 2021-03-03      3  \n",
       "6507 2021-04-09      4  \n",
       "6508 2021-06-12      6  \n",
       "6509 2021-06-23      6  "
      ]
     },
     "execution_count": 48,
     "metadata": {},
     "output_type": "execute_result"
    }
   ],
   "source": [
    "# Просмотрим первые 10 строк\n",
    "data_sub_free.head(10)"
   ]
  },
  {
   "cell_type": "code",
   "execution_count": 49,
   "id": "989a1267",
   "metadata": {},
   "outputs": [
    {
     "data": {
      "text/plain": [
       "(11568, 9)"
      ]
     },
     "execution_count": 49,
     "metadata": {},
     "output_type": "execute_result"
    }
   ],
   "source": [
    "# Проверим размерность таблицы\n",
    "data_sub_free.shape"
   ]
  },
  {
   "cell_type": "code",
   "execution_count": 50,
   "id": "b892637d",
   "metadata": {
    "scrolled": true
   },
   "outputs": [
    {
     "data": {
      "text/html": [
       "<div>\n",
       "<style scoped>\n",
       "    .dataframe tbody tr th:only-of-type {\n",
       "        vertical-align: middle;\n",
       "    }\n",
       "\n",
       "    .dataframe tbody tr th {\n",
       "        vertical-align: top;\n",
       "    }\n",
       "\n",
       "    .dataframe thead th {\n",
       "        text-align: right;\n",
       "    }\n",
       "</style>\n",
       "<table border=\"1\" class=\"dataframe\">\n",
       "  <thead>\n",
       "    <tr style=\"text-align: right;\">\n",
       "      <th></th>\n",
       "      <th>user_id</th>\n",
       "      <th>name</th>\n",
       "      <th>age</th>\n",
       "      <th>city</th>\n",
       "      <th>subscription_type</th>\n",
       "      <th>distance</th>\n",
       "      <th>duration</th>\n",
       "      <th>date</th>\n",
       "      <th>month</th>\n",
       "    </tr>\n",
       "  </thead>\n",
       "  <tbody>\n",
       "    <tr>\n",
       "      <th>0</th>\n",
       "      <td>1</td>\n",
       "      <td>Кира</td>\n",
       "      <td>22</td>\n",
       "      <td>Тюмень</td>\n",
       "      <td>ultra</td>\n",
       "      <td>4409.919140</td>\n",
       "      <td>25.599769</td>\n",
       "      <td>2021-01-01</td>\n",
       "      <td>1</td>\n",
       "    </tr>\n",
       "    <tr>\n",
       "      <th>1</th>\n",
       "      <td>1</td>\n",
       "      <td>Кира</td>\n",
       "      <td>22</td>\n",
       "      <td>Тюмень</td>\n",
       "      <td>ultra</td>\n",
       "      <td>2617.592153</td>\n",
       "      <td>15.816871</td>\n",
       "      <td>2021-01-18</td>\n",
       "      <td>1</td>\n",
       "    </tr>\n",
       "    <tr>\n",
       "      <th>2</th>\n",
       "      <td>1</td>\n",
       "      <td>Кира</td>\n",
       "      <td>22</td>\n",
       "      <td>Тюмень</td>\n",
       "      <td>ultra</td>\n",
       "      <td>754.159807</td>\n",
       "      <td>6.232113</td>\n",
       "      <td>2021-04-20</td>\n",
       "      <td>4</td>\n",
       "    </tr>\n",
       "    <tr>\n",
       "      <th>3</th>\n",
       "      <td>1</td>\n",
       "      <td>Кира</td>\n",
       "      <td>22</td>\n",
       "      <td>Тюмень</td>\n",
       "      <td>ultra</td>\n",
       "      <td>2694.783254</td>\n",
       "      <td>18.511000</td>\n",
       "      <td>2021-08-11</td>\n",
       "      <td>8</td>\n",
       "    </tr>\n",
       "    <tr>\n",
       "      <th>4</th>\n",
       "      <td>1</td>\n",
       "      <td>Кира</td>\n",
       "      <td>22</td>\n",
       "      <td>Тюмень</td>\n",
       "      <td>ultra</td>\n",
       "      <td>4028.687306</td>\n",
       "      <td>26.265803</td>\n",
       "      <td>2021-08-28</td>\n",
       "      <td>8</td>\n",
       "    </tr>\n",
       "    <tr>\n",
       "      <th>5</th>\n",
       "      <td>1</td>\n",
       "      <td>Кира</td>\n",
       "      <td>22</td>\n",
       "      <td>Тюмень</td>\n",
       "      <td>ultra</td>\n",
       "      <td>2770.890808</td>\n",
       "      <td>16.650138</td>\n",
       "      <td>2021-10-09</td>\n",
       "      <td>10</td>\n",
       "    </tr>\n",
       "    <tr>\n",
       "      <th>6</th>\n",
       "      <td>1</td>\n",
       "      <td>Кира</td>\n",
       "      <td>22</td>\n",
       "      <td>Тюмень</td>\n",
       "      <td>ultra</td>\n",
       "      <td>3039.020292</td>\n",
       "      <td>14.927879</td>\n",
       "      <td>2021-10-19</td>\n",
       "      <td>10</td>\n",
       "    </tr>\n",
       "    <tr>\n",
       "      <th>7</th>\n",
       "      <td>1</td>\n",
       "      <td>Кира</td>\n",
       "      <td>22</td>\n",
       "      <td>Тюмень</td>\n",
       "      <td>ultra</td>\n",
       "      <td>2842.118050</td>\n",
       "      <td>23.117468</td>\n",
       "      <td>2021-11-06</td>\n",
       "      <td>11</td>\n",
       "    </tr>\n",
       "    <tr>\n",
       "      <th>8</th>\n",
       "      <td>1</td>\n",
       "      <td>Кира</td>\n",
       "      <td>22</td>\n",
       "      <td>Тюмень</td>\n",
       "      <td>ultra</td>\n",
       "      <td>3412.690668</td>\n",
       "      <td>15.238072</td>\n",
       "      <td>2021-11-14</td>\n",
       "      <td>11</td>\n",
       "    </tr>\n",
       "    <tr>\n",
       "      <th>9</th>\n",
       "      <td>1</td>\n",
       "      <td>Кира</td>\n",
       "      <td>22</td>\n",
       "      <td>Тюмень</td>\n",
       "      <td>ultra</td>\n",
       "      <td>748.690645</td>\n",
       "      <td>15.041884</td>\n",
       "      <td>2021-11-22</td>\n",
       "      <td>11</td>\n",
       "    </tr>\n",
       "  </tbody>\n",
       "</table>\n",
       "</div>"
      ],
      "text/plain": [
       "   user_id  name  age    city subscription_type     distance   duration  \\\n",
       "0        1  Кира   22  Тюмень             ultra  4409.919140  25.599769   \n",
       "1        1  Кира   22  Тюмень             ultra  2617.592153  15.816871   \n",
       "2        1  Кира   22  Тюмень             ultra   754.159807   6.232113   \n",
       "3        1  Кира   22  Тюмень             ultra  2694.783254  18.511000   \n",
       "4        1  Кира   22  Тюмень             ultra  4028.687306  26.265803   \n",
       "5        1  Кира   22  Тюмень             ultra  2770.890808  16.650138   \n",
       "6        1  Кира   22  Тюмень             ultra  3039.020292  14.927879   \n",
       "7        1  Кира   22  Тюмень             ultra  2842.118050  23.117468   \n",
       "8        1  Кира   22  Тюмень             ultra  3412.690668  15.238072   \n",
       "9        1  Кира   22  Тюмень             ultra   748.690645  15.041884   \n",
       "\n",
       "        date  month  \n",
       "0 2021-01-01      1  \n",
       "1 2021-01-18      1  \n",
       "2 2021-04-20      4  \n",
       "3 2021-08-11      8  \n",
       "4 2021-08-28      8  \n",
       "5 2021-10-09     10  \n",
       "6 2021-10-19     10  \n",
       "7 2021-11-06     11  \n",
       "8 2021-11-14     11  \n",
       "9 2021-11-22     11  "
      ]
     },
     "execution_count": 50,
     "metadata": {},
     "output_type": "execute_result"
    }
   ],
   "source": [
    "# Просмотрим первые 10 строк\n",
    "data_sub_ultra.head(10)"
   ]
  },
  {
   "cell_type": "code",
   "execution_count": 51,
   "id": "4045891b",
   "metadata": {},
   "outputs": [
    {
     "data": {
      "text/plain": [
       "(6500, 9)"
      ]
     },
     "execution_count": 51,
     "metadata": {},
     "output_type": "execute_result"
    }
   ],
   "source": [
    "# Проверим размерность таблицы\n",
    "data_sub_ultra.shape"
   ]
  },
  {
   "cell_type": "markdown",
   "id": "3ccf54fb",
   "metadata": {},
   "source": [
    "##### Визуализация информации о расстоянии и времени поездок для пользователей обеих категорий"
   ]
  },
  {
   "cell_type": "markdown",
   "id": "c1e09ebd",
   "metadata": {},
   "source": [
    "**Визуализация информации о расстоянии и времени поездок для пользователей без подписки**"
   ]
  },
  {
   "cell_type": "code",
   "execution_count": 52,
   "id": "b203bb99",
   "metadata": {},
   "outputs": [
    {
     "data": {
      "text/html": [
       "<div>\n",
       "<style scoped>\n",
       "    .dataframe tbody tr th:only-of-type {\n",
       "        vertical-align: middle;\n",
       "    }\n",
       "\n",
       "    .dataframe tbody tr th {\n",
       "        vertical-align: top;\n",
       "    }\n",
       "\n",
       "    .dataframe thead th {\n",
       "        text-align: right;\n",
       "    }\n",
       "</style>\n",
       "<table border=\"1\" class=\"dataframe\">\n",
       "  <thead>\n",
       "    <tr style=\"text-align: right;\">\n",
       "      <th></th>\n",
       "      <th>distance</th>\n",
       "      <th>duration</th>\n",
       "    </tr>\n",
       "  </thead>\n",
       "  <tbody>\n",
       "    <tr>\n",
       "      <th>count</th>\n",
       "      <td>11568.000000</td>\n",
       "      <td>11568.000000</td>\n",
       "    </tr>\n",
       "    <tr>\n",
       "      <th>mean</th>\n",
       "      <td>3045.495282</td>\n",
       "      <td>17.390909</td>\n",
       "    </tr>\n",
       "    <tr>\n",
       "      <th>std</th>\n",
       "      <td>1246.173806</td>\n",
       "      <td>6.326803</td>\n",
       "    </tr>\n",
       "    <tr>\n",
       "      <th>min</th>\n",
       "      <td>0.855683</td>\n",
       "      <td>0.500000</td>\n",
       "    </tr>\n",
       "    <tr>\n",
       "      <th>25%</th>\n",
       "      <td>2366.562689</td>\n",
       "      <td>12.958437</td>\n",
       "    </tr>\n",
       "    <tr>\n",
       "      <th>50%</th>\n",
       "      <td>3114.648465</td>\n",
       "      <td>17.326890</td>\n",
       "    </tr>\n",
       "    <tr>\n",
       "      <th>75%</th>\n",
       "      <td>3905.697894</td>\n",
       "      <td>21.594071</td>\n",
       "    </tr>\n",
       "    <tr>\n",
       "      <th>max</th>\n",
       "      <td>7211.007745</td>\n",
       "      <td>34.948498</td>\n",
       "    </tr>\n",
       "  </tbody>\n",
       "</table>\n",
       "</div>"
      ],
      "text/plain": [
       "           distance      duration\n",
       "count  11568.000000  11568.000000\n",
       "mean    3045.495282     17.390909\n",
       "std     1246.173806      6.326803\n",
       "min        0.855683      0.500000\n",
       "25%     2366.562689     12.958437\n",
       "50%     3114.648465     17.326890\n",
       "75%     3905.697894     21.594071\n",
       "max     7211.007745     34.948498"
      ]
     },
     "execution_count": 52,
     "metadata": {},
     "output_type": "execute_result"
    }
   ],
   "source": [
    "# Посмотрим статистику\n",
    "data_sub_free[['distance', 'duration']].describe()"
   ]
  },
  {
   "cell_type": "code",
   "execution_count": 53,
   "id": "b6a5141d",
   "metadata": {},
   "outputs": [
    {
     "data": {
      "image/png": "[encoded data removed]",
      "text/plain": [
       "<Figure size 720x504 with 1 Axes>"
      ]
     },
     "metadata": {
      "needs_background": "light"
     },
     "output_type": "display_data"
    }
   ],
   "source": [
    "#Посмотрим на распределение\n",
    "data_sub_free['distance'].hist(bins=50, range=(200, 5500), figsize=(10,7), color='teal')\n",
    "\n",
    "plt.title('Расстояние, которое пользователь без подписки преодолел\\n за одну поездку', fontsize=16, pad=15)\n",
    "plt.xlabel('Расстояние (в метрах)', fontsize=14)\n",
    "plt.ylabel('Количество поездок', fontsize=14)\n",
    "plt.xticks(fontsize=12)\n",
    "plt.yticks(fontsize=12)\n",
    "plt.legend(['Количество поездок'], fontsize=12)\n",
    "plt.grid(True, alpha=0.75)\n",
    "\n",
    "plt.show()"
   ]
  },
  {
   "cell_type": "code",
   "execution_count": 54,
   "id": "3e8b69e7",
   "metadata": {
    "scrolled": true
   },
   "outputs": [
    {
     "data": {
      "image/png": "[encoded data removed]",
      "text/plain": [
       "<Figure size 720x504 with 1 Axes>"
      ]
     },
     "metadata": {
      "needs_background": "light"
     },
     "output_type": "display_data"
    }
   ],
   "source": [
    "#Посмотрим на распределение продолжительности поездок\n",
    "data_sub_free['duration'].hist(bins=29, range=(4, 33), figsize=(10,7), color='slateblue')\n",
    "\n",
    "plt.title('Продолжительность поездок пользователей без подписки', fontsize=16, pad=15)\n",
    "plt.xlabel('Длительность (в минутах)', fontsize=14)\n",
    "plt.ylabel('Количество поездок', fontsize=14)\n",
    "plt.xticks(fontsize=12)\n",
    "plt.yticks(fontsize=12)\n",
    "plt.legend(['Количество поездок'], fontsize=12)\n",
    "plt.grid(True, alpha=0.75)\n",
    "\n",
    "plt.show()"
   ]
  },
  {
   "cell_type": "markdown",
   "id": "4a45f98e",
   "metadata": {},
   "source": [
    "**Вывод**\n",
    "1. Информация о расстоянии \n",
    "    - Среднее расстояние, которое пользователь преодолел за одну поездку = 3045 м., а медиана = 3115 м.\n",
    "    - В основном пользователи проезжают от 2000 до 4700 метров\n",
    "    - Виден маленький колокол на отрезке [0, 1500] и побольше, на отрезке [2000 , 4700]. Можно отнести первый колокол к категории коротких поездкок, а второй к категории длинных\n",
    "\n",
    "\n",
    "2. Информация о продолжительности поездок\n",
    "    - Средняя продолжительность поездки = 17 мин.\n",
    "    - В основном пользователи используют самокат от 10 до 25 минут\n",
    "    - Распределение похоже на нормальное\n",
    "    "
   ]
  },
  {
   "cell_type": "markdown",
   "id": "5790e127",
   "metadata": {},
   "source": [
    "**Визуализация информации о расстоянии и времени поездок для пользователей с подпиской Ultra**"
   ]
  },
  {
   "cell_type": "code",
   "execution_count": 55,
   "id": "a5a9487b",
   "metadata": {},
   "outputs": [
    {
     "data": {
      "text/html": [
       "<div>\n",
       "<style scoped>\n",
       "    .dataframe tbody tr th:only-of-type {\n",
       "        vertical-align: middle;\n",
       "    }\n",
       "\n",
       "    .dataframe tbody tr th {\n",
       "        vertical-align: top;\n",
       "    }\n",
       "\n",
       "    .dataframe thead th {\n",
       "        text-align: right;\n",
       "    }\n",
       "</style>\n",
       "<table border=\"1\" class=\"dataframe\">\n",
       "  <thead>\n",
       "    <tr style=\"text-align: right;\">\n",
       "      <th></th>\n",
       "      <th>distance</th>\n",
       "      <th>duration</th>\n",
       "    </tr>\n",
       "  </thead>\n",
       "  <tbody>\n",
       "    <tr>\n",
       "      <th>count</th>\n",
       "      <td>6500.000000</td>\n",
       "      <td>6500.000000</td>\n",
       "    </tr>\n",
       "    <tr>\n",
       "      <th>mean</th>\n",
       "      <td>3115.445388</td>\n",
       "      <td>18.541985</td>\n",
       "    </tr>\n",
       "    <tr>\n",
       "      <th>std</th>\n",
       "      <td>836.895330</td>\n",
       "      <td>5.572048</td>\n",
       "    </tr>\n",
       "    <tr>\n",
       "      <th>min</th>\n",
       "      <td>244.210438</td>\n",
       "      <td>3.760353</td>\n",
       "    </tr>\n",
       "    <tr>\n",
       "      <th>25%</th>\n",
       "      <td>2785.444017</td>\n",
       "      <td>14.524654</td>\n",
       "    </tr>\n",
       "    <tr>\n",
       "      <th>50%</th>\n",
       "      <td>3148.637229</td>\n",
       "      <td>18.178153</td>\n",
       "    </tr>\n",
       "    <tr>\n",
       "      <th>75%</th>\n",
       "      <td>3560.574425</td>\n",
       "      <td>21.884129</td>\n",
       "    </tr>\n",
       "    <tr>\n",
       "      <th>max</th>\n",
       "      <td>5699.769662</td>\n",
       "      <td>40.823963</td>\n",
       "    </tr>\n",
       "  </tbody>\n",
       "</table>\n",
       "</div>"
      ],
      "text/plain": [
       "          distance     duration\n",
       "count  6500.000000  6500.000000\n",
       "mean   3115.445388    18.541985\n",
       "std     836.895330     5.572048\n",
       "min     244.210438     3.760353\n",
       "25%    2785.444017    14.524654\n",
       "50%    3148.637229    18.178153\n",
       "75%    3560.574425    21.884129\n",
       "max    5699.769662    40.823963"
      ]
     },
     "execution_count": 55,
     "metadata": {},
     "output_type": "execute_result"
    }
   ],
   "source": [
    "data_sub_ultra[['distance', 'duration']].describe()"
   ]
  },
  {
   "cell_type": "code",
   "execution_count": 56,
   "id": "14222e84",
   "metadata": {},
   "outputs": [
    {
     "data": {
      "image/png": "[encoded data removed]",
      "text/plain": [
       "<Figure size 720x504 with 1 Axes>"
      ]
     },
     "metadata": {
      "needs_background": "light"
     },
     "output_type": "display_data"
    }
   ],
   "source": [
    "#Посмотрим на распределение\n",
    "data_sub_ultra['distance'].hist(bins=50, range=(200, 5500), figsize=(10,7), color='teal')\n",
    "\n",
    "plt.title('Расстояние, которое пользователь с подпиской Ultra преодолел\\n за одну поездку', fontsize=16, pad=15)\n",
    "plt.xlabel('Расстояние (в метрах)', fontsize=14)\n",
    "plt.ylabel('Количество поездок', fontsize=14)\n",
    "plt.xticks(fontsize=12)\n",
    "plt.yticks(fontsize=12)\n",
    "plt.legend(['Количество поездок'], fontsize=12)\n",
    "plt.grid(True, alpha=0.75)\n",
    "\n",
    "plt.show()"
   ]
  },
  {
   "cell_type": "code",
   "execution_count": 57,
   "id": "71afa24b",
   "metadata": {},
   "outputs": [
    {
     "data": {
      "image/png": "[encoded data removed]",
      "text/plain": [
       "<Figure size 720x504 with 1 Axes>"
      ]
     },
     "metadata": {
      "needs_background": "light"
     },
     "output_type": "display_data"
    }
   ],
   "source": [
    "#Посмотрим на распределение\n",
    "data_sub_ultra['duration'].hist(bins=29, range=(4, 33), figsize=(10,7), color='slateblue')\n",
    "\n",
    "plt.title('Продолжительность поездок пользователей с подпиской Ultra', fontsize=16, pad=15)\n",
    "plt.xlabel('Длительность (в минутах)', fontsize=14)\n",
    "plt.ylabel('Количество поездок', fontsize=14)\n",
    "plt.xticks(fontsize=12)\n",
    "plt.yticks(fontsize=12)\n",
    "plt.legend(['Количество поездок'], fontsize=12)\n",
    "plt.grid(True, alpha=0.75)\n",
    "\n",
    "plt.show()"
   ]
  },
  {
   "cell_type": "markdown",
   "id": "1aa20f98",
   "metadata": {},
   "source": [
    "**Сравнение графиков**"
   ]
  },
  {
   "cell_type": "code",
   "execution_count": 58,
   "id": "9a4cb10e",
   "metadata": {},
   "outputs": [
    {
     "data": {
      "image/png": "[encoded data removed]",
      "text/plain": [
       "<Figure size 720x504 with 1 Axes>"
      ]
     },
     "metadata": {
      "needs_background": "light"
     },
     "output_type": "display_data"
    }
   ],
   "source": [
    "#Посмотрим на распределение\n",
    "data_sub_free['distance'].hist(bins=50, range=(200, 5500), figsize=(10,7), color='teal', label='Без подписки')\n",
    "data_sub_ultra['distance'].hist(bins=50, range=(200, 5500), figsize=(10,7), color='red', alpha=0.75, label='С подпиской')\n",
    "\n",
    "plt.title('Сравнение расстояния, которое пользователь преодолел без подписки\\n и с подпиской', fontsize=16, pad=15)\n",
    "\n",
    "plt.xlabel('Расстояние (в метрах)', fontsize=14)\n",
    "plt.ylabel('Количество поездок', fontsize=14)\n",
    "plt.xticks(fontsize=12)\n",
    "plt.yticks(fontsize=12)\n",
    "plt.legend(fontsize=12)\n",
    "plt.grid(True, alpha=0.75)\n",
    "plt.show()\n",
    "\n"
   ]
  },
  {
   "cell_type": "code",
   "execution_count": 59,
   "id": "ef29d5f9",
   "metadata": {},
   "outputs": [
    {
     "data": {
      "image/png": "[encoded data removed]",
      "text/plain": [
       "<Figure size 720x504 with 1 Axes>"
      ]
     },
     "metadata": {
      "needs_background": "light"
     },
     "output_type": "display_data"
    }
   ],
   "source": [
    "#Посмотрим на распределение продолжительности поездок\n",
    "data_sub_free['duration'].hist(bins=29, range=(4, 33), figsize=(10,7), color='slateblue', label='Без подписки')\n",
    "data_sub_ultra['duration'].hist(bins=29, range=(4, 33), figsize=(10,7), color='red', alpha=0.75, label='С подпиской')\n",
    "plt.title('Сравнение продолжительности поездок пользователей без подписки\\n и с подпиской', fontsize=16, pad=15)\n",
    "plt.xlabel('Длительность (в минутах)', fontsize=14)\n",
    "plt.ylabel('Количество поездок', fontsize=14)\n",
    "plt.xticks(fontsize=12)\n",
    "plt.yticks(fontsize=12)\n",
    "plt.legend(fontsize=12)\n",
    "plt.grid(True, alpha=0.75)\n",
    "\n",
    "plt.show()"
   ]
  },
  {
   "cell_type": "markdown",
   "id": "7972db28",
   "metadata": {},
   "source": [
    "**Вывод**\n",
    "\n",
    "1. Информация о расстоянии \n",
    "    - Среднее расстояние, которое пользователь преодолел за одну поездку = 3115 м., а медиана = 3149 м.\n",
    "    - В основном пользователи проезжают от 2000 до 4700 метров\n",
    "    - Виден маленький колокол на отрезке [0, 1800] и побольше, на отрезке [2200 , 4600]. Можно отнести первый колокол к категории коротких поездкок, а второй к категории длинных\n",
    "\n",
    "2. Информация о продолжительности поездок\n",
    "    - Средняя продолжительность поездки = 18.5 мин.\n",
    "    - В основном пользователи используют самокат от 10 до 27 минут\n",
    "    - Распределение похоже на нормальное\n",
    "    "
   ]
  },
  {
   "cell_type": "markdown",
   "id": "dfd4a184",
   "metadata": {},
   "source": [
    "**Сравнение пользователей с разными категориями подписки :**\n",
    "\n",
    "1. В среднем пользователи с подпиской проезжают на 70 метров больше\n",
    "2. В среднем пользователи с подпиской проезжают на 1.5 мин больше\n",
    "3. Распределение расстояния, которое пользователь с подпиской Ultra, уже в области дальних поездок и шире в области коротких"
   ]
  },
  {
   "cell_type": "markdown",
   "id": "66da62be",
   "metadata": {},
   "source": [
    "##### Вывод по объединению данных"
   ]
  },
  {
   "cell_type": "markdown",
   "id": "7b2bb5fc",
   "metadata": {},
   "source": [
    "1. Объединение данных о пользователях, поездках и подписках в один датафрейм(data_full).\n",
    "2. Создание отделных датафреймов из датафрейма data_full\n",
    "    - Датафрейм с данными о пользователях без подписки : data_sub_free\n",
    "    - Датафрейм с данными о пользователях с подпиской Ultra : data_sub_ultra\n",
    "3.  Визуализация информации о расстоянии и времени поездок для пользователей обеих категорий\n",
    "    - Без подписки:\n",
    "        1. Информация о расстоянии \n",
    "            - Среднее расстояние, которое пользователь преодолел за одну поездку = 3045 м., а медиана = 3115 м.\n",
    "            - В основном пользователи проезжают от 2000 до 4700 метров\n",
    "        2. Информация о продолжительности поездок\n",
    "            - Средняя продолжительность поездки = 17 мин.\n",
    "            - В основном пользователи используют самокат от 10 до 25 минут\n",
    "            - Распределение похоже на нормальное\n",
    "    - С подпиской Ultra:\n",
    "        1. Информация о расстоянии \n",
    "            - Среднее расстояние, которое пользователь преодолел за одну поездку = 3115 м., а медиана = 3149 м.\n",
    "            - В основном пользователи проезжают от 2000 до 4700 метров\n",
    "\n",
    "        2. Информация о продолжительности поездок\n",
    "            - Средняя продолжительность поездки = 18.5 мин.\n",
    "            - В основном пользователи используют самокат от 10 до 27 минут\n",
    "            - Распределение похоже на нормальное\n",
    "    - Сравнение пользователей с разными категориями подписки :\n",
    "\n",
    "        1. В среднем пользователи с подпиской проезжают на 70 метров больше\n",
    "        2. В среднем пользователи с подпиской проезжают на 1.5 мин больше\n",
    "        3. Распределение расстояния, которое пользователь с подпиской Ultra, уже в области дальних поездок и шире в области коротких"
   ]
  },
  {
   "cell_type": "markdown",
   "id": "402d620f",
   "metadata": {},
   "source": [
    "#### Шаг 5. Подсчёт выручки"
   ]
  },
  {
   "cell_type": "markdown",
   "id": "5a8328bf",
   "metadata": {},
   "source": [
    "##### Создание датафрейма с агрегированными данными о поездках"
   ]
  },
  {
   "cell_type": "code",
   "execution_count": 60,
   "id": "a5e5842f",
   "metadata": {
    "scrolled": false
   },
   "outputs": [
    {
     "data": {
      "text/html": [
       "<div>\n",
       "<style scoped>\n",
       "    .dataframe tbody tr th:only-of-type {\n",
       "        vertical-align: middle;\n",
       "    }\n",
       "\n",
       "    .dataframe tbody tr th {\n",
       "        vertical-align: top;\n",
       "    }\n",
       "\n",
       "    .dataframe thead th {\n",
       "        text-align: right;\n",
       "    }\n",
       "</style>\n",
       "<table border=\"1\" class=\"dataframe\">\n",
       "  <thead>\n",
       "    <tr style=\"text-align: right;\">\n",
       "      <th></th>\n",
       "      <th></th>\n",
       "      <th>total_distance</th>\n",
       "      <th>total_duration</th>\n",
       "      <th>subscription_type</th>\n",
       "      <th>number_of_rides</th>\n",
       "    </tr>\n",
       "    <tr>\n",
       "      <th>user_id</th>\n",
       "      <th>month</th>\n",
       "      <th></th>\n",
       "      <th></th>\n",
       "      <th></th>\n",
       "      <th></th>\n",
       "    </tr>\n",
       "  </thead>\n",
       "  <tbody>\n",
       "    <tr>\n",
       "      <th rowspan=\"5\" valign=\"top\">1</th>\n",
       "      <th>1</th>\n",
       "      <td>7027.511294</td>\n",
       "      <td>42</td>\n",
       "      <td>ultra</td>\n",
       "      <td>2</td>\n",
       "    </tr>\n",
       "    <tr>\n",
       "      <th>4</th>\n",
       "      <td>754.159807</td>\n",
       "      <td>7</td>\n",
       "      <td>ultra</td>\n",
       "      <td>1</td>\n",
       "    </tr>\n",
       "    <tr>\n",
       "      <th>8</th>\n",
       "      <td>6723.470560</td>\n",
       "      <td>46</td>\n",
       "      <td>ultra</td>\n",
       "      <td>2</td>\n",
       "    </tr>\n",
       "    <tr>\n",
       "      <th>10</th>\n",
       "      <td>5809.911100</td>\n",
       "      <td>32</td>\n",
       "      <td>ultra</td>\n",
       "      <td>2</td>\n",
       "    </tr>\n",
       "    <tr>\n",
       "      <th>11</th>\n",
       "      <td>7003.499363</td>\n",
       "      <td>56</td>\n",
       "      <td>ultra</td>\n",
       "      <td>3</td>\n",
       "    </tr>\n",
       "    <tr>\n",
       "      <th>...</th>\n",
       "      <th>...</th>\n",
       "      <td>...</td>\n",
       "      <td>...</td>\n",
       "      <td>...</td>\n",
       "      <td>...</td>\n",
       "    </tr>\n",
       "    <tr>\n",
       "      <th rowspan=\"5\" valign=\"top\">1534</th>\n",
       "      <th>6</th>\n",
       "      <td>3409.468534</td>\n",
       "      <td>26</td>\n",
       "      <td>free</td>\n",
       "      <td>2</td>\n",
       "    </tr>\n",
       "    <tr>\n",
       "      <th>8</th>\n",
       "      <td>7622.453034</td>\n",
       "      <td>48</td>\n",
       "      <td>free</td>\n",
       "      <td>2</td>\n",
       "    </tr>\n",
       "    <tr>\n",
       "      <th>9</th>\n",
       "      <td>4928.173852</td>\n",
       "      <td>23</td>\n",
       "      <td>free</td>\n",
       "      <td>1</td>\n",
       "    </tr>\n",
       "    <tr>\n",
       "      <th>11</th>\n",
       "      <td>13350.015305</td>\n",
       "      <td>78</td>\n",
       "      <td>free</td>\n",
       "      <td>4</td>\n",
       "    </tr>\n",
       "    <tr>\n",
       "      <th>12</th>\n",
       "      <td>2371.711192</td>\n",
       "      <td>16</td>\n",
       "      <td>free</td>\n",
       "      <td>1</td>\n",
       "    </tr>\n",
       "  </tbody>\n",
       "</table>\n",
       "<p>11331 rows × 4 columns</p>\n",
       "</div>"
      ],
      "text/plain": [
       "               total_distance  total_duration subscription_type  \\\n",
       "user_id month                                                     \n",
       "1       1         7027.511294              42             ultra   \n",
       "        4          754.159807               7             ultra   \n",
       "        8         6723.470560              46             ultra   \n",
       "        10        5809.911100              32             ultra   \n",
       "        11        7003.499363              56             ultra   \n",
       "...                       ...             ...               ...   \n",
       "1534    6         3409.468534              26              free   \n",
       "        8         7622.453034              48              free   \n",
       "        9         4928.173852              23              free   \n",
       "        11       13350.015305              78              free   \n",
       "        12        2371.711192              16              free   \n",
       "\n",
       "               number_of_rides  \n",
       "user_id month                   \n",
       "1       1                    2  \n",
       "        4                    1  \n",
       "        8                    2  \n",
       "        10                   2  \n",
       "        11                   3  \n",
       "...                        ...  \n",
       "1534    6                    2  \n",
       "        8                    2  \n",
       "        9                    1  \n",
       "        11                   4  \n",
       "        12                   1  \n",
       "\n",
       "[11331 rows x 4 columns]"
      ]
     },
     "execution_count": 60,
     "metadata": {},
     "output_type": "execute_result"
    }
   ],
   "source": [
    "# Создадим сводную таблицу aggregated_data с объединёнными данными \n",
    "#(суммарное расстояние, количество поездок и суммарное время для каждого пользователя за каждый месяц)\n",
    "data_full['duration'] = np.ceil(data_full['duration']).astype(int)\n",
    "aggregated_data = (data_full\n",
    "                   .pivot_table(\n",
    "                       index=['user_id', 'month'], \n",
    "                       values=['distance', 'duration', 'subscription_type'], \n",
    "                       aggfunc={'distance':'sum', 'duration':'sum', 'user_id':'count', 'subscription_type':'first'})\n",
    "                  )\n",
    "aggregated_data.columns = ['total_distance', 'total_duration', 'subscription_type', 'number_of_rides']\n",
    "\n",
    "aggregated_data"
   ]
  },
  {
   "cell_type": "markdown",
   "id": "61fddf8c",
   "metadata": {},
   "source": [
    "##### Подсчет ежемесячной выручки"
   ]
  },
  {
   "cell_type": "code",
   "execution_count": 61,
   "id": "fe3b2517",
   "metadata": {},
   "outputs": [],
   "source": [
    "# Создадим функцию, которая посчитает выручку\n",
    "def monthly_revenue(row):\n",
    "    if row['subscription_type'] == 'ultra':\n",
    "        start_ride_price = data_subscriptions.loc[1, 'start_ride_price']\n",
    "        minute_price = data_subscriptions.loc[1, 'minute_price']\n",
    "        subscription_fee = data_subscriptions.loc[1, 'subscription_fee']\n",
    "    else:\n",
    "        start_ride_price = data_subscriptions.loc[0, 'start_ride_price']\n",
    "        minute_price = data_subscriptions.loc[0, 'minute_price']\n",
    "        subscription_fee = data_subscriptions.loc[0, 'subscription_fee']\n",
    "    revenue = start_ride_price * row['number_of_rides'] + minute_price * row['total_duration'] + subscription_fee\n",
    "    return revenue\n"
   ]
  },
  {
   "cell_type": "code",
   "execution_count": 62,
   "id": "9a203dca",
   "metadata": {
    "scrolled": true
   },
   "outputs": [
    {
     "data": {
      "text/html": [
       "<div>\n",
       "<style scoped>\n",
       "    .dataframe tbody tr th:only-of-type {\n",
       "        vertical-align: middle;\n",
       "    }\n",
       "\n",
       "    .dataframe tbody tr th {\n",
       "        vertical-align: top;\n",
       "    }\n",
       "\n",
       "    .dataframe thead th {\n",
       "        text-align: right;\n",
       "    }\n",
       "</style>\n",
       "<table border=\"1\" class=\"dataframe\">\n",
       "  <thead>\n",
       "    <tr style=\"text-align: right;\">\n",
       "      <th></th>\n",
       "      <th></th>\n",
       "      <th>total_distance</th>\n",
       "      <th>total_duration</th>\n",
       "      <th>subscription_type</th>\n",
       "      <th>number_of_rides</th>\n",
       "      <th>monthly_revenue</th>\n",
       "    </tr>\n",
       "    <tr>\n",
       "      <th>user_id</th>\n",
       "      <th>month</th>\n",
       "      <th></th>\n",
       "      <th></th>\n",
       "      <th></th>\n",
       "      <th></th>\n",
       "      <th></th>\n",
       "    </tr>\n",
       "  </thead>\n",
       "  <tbody>\n",
       "    <tr>\n",
       "      <th rowspan=\"5\" valign=\"top\">1</th>\n",
       "      <th>1</th>\n",
       "      <td>7027.511294</td>\n",
       "      <td>42</td>\n",
       "      <td>ultra</td>\n",
       "      <td>2</td>\n",
       "      <td>451</td>\n",
       "    </tr>\n",
       "    <tr>\n",
       "      <th>4</th>\n",
       "      <td>754.159807</td>\n",
       "      <td>7</td>\n",
       "      <td>ultra</td>\n",
       "      <td>1</td>\n",
       "      <td>241</td>\n",
       "    </tr>\n",
       "    <tr>\n",
       "      <th>8</th>\n",
       "      <td>6723.470560</td>\n",
       "      <td>46</td>\n",
       "      <td>ultra</td>\n",
       "      <td>2</td>\n",
       "      <td>475</td>\n",
       "    </tr>\n",
       "    <tr>\n",
       "      <th>10</th>\n",
       "      <td>5809.911100</td>\n",
       "      <td>32</td>\n",
       "      <td>ultra</td>\n",
       "      <td>2</td>\n",
       "      <td>391</td>\n",
       "    </tr>\n",
       "    <tr>\n",
       "      <th>11</th>\n",
       "      <td>7003.499363</td>\n",
       "      <td>56</td>\n",
       "      <td>ultra</td>\n",
       "      <td>3</td>\n",
       "      <td>535</td>\n",
       "    </tr>\n",
       "    <tr>\n",
       "      <th>...</th>\n",
       "      <th>...</th>\n",
       "      <td>...</td>\n",
       "      <td>...</td>\n",
       "      <td>...</td>\n",
       "      <td>...</td>\n",
       "      <td>...</td>\n",
       "    </tr>\n",
       "    <tr>\n",
       "      <th rowspan=\"5\" valign=\"top\">1534</th>\n",
       "      <th>6</th>\n",
       "      <td>3409.468534</td>\n",
       "      <td>26</td>\n",
       "      <td>free</td>\n",
       "      <td>2</td>\n",
       "      <td>308</td>\n",
       "    </tr>\n",
       "    <tr>\n",
       "      <th>8</th>\n",
       "      <td>7622.453034</td>\n",
       "      <td>48</td>\n",
       "      <td>free</td>\n",
       "      <td>2</td>\n",
       "      <td>484</td>\n",
       "    </tr>\n",
       "    <tr>\n",
       "      <th>9</th>\n",
       "      <td>4928.173852</td>\n",
       "      <td>23</td>\n",
       "      <td>free</td>\n",
       "      <td>1</td>\n",
       "      <td>234</td>\n",
       "    </tr>\n",
       "    <tr>\n",
       "      <th>11</th>\n",
       "      <td>13350.015305</td>\n",
       "      <td>78</td>\n",
       "      <td>free</td>\n",
       "      <td>4</td>\n",
       "      <td>824</td>\n",
       "    </tr>\n",
       "    <tr>\n",
       "      <th>12</th>\n",
       "      <td>2371.711192</td>\n",
       "      <td>16</td>\n",
       "      <td>free</td>\n",
       "      <td>1</td>\n",
       "      <td>178</td>\n",
       "    </tr>\n",
       "  </tbody>\n",
       "</table>\n",
       "<p>11331 rows × 5 columns</p>\n",
       "</div>"
      ],
      "text/plain": [
       "               total_distance  total_duration subscription_type  \\\n",
       "user_id month                                                     \n",
       "1       1         7027.511294              42             ultra   \n",
       "        4          754.159807               7             ultra   \n",
       "        8         6723.470560              46             ultra   \n",
       "        10        5809.911100              32             ultra   \n",
       "        11        7003.499363              56             ultra   \n",
       "...                       ...             ...               ...   \n",
       "1534    6         3409.468534              26              free   \n",
       "        8         7622.453034              48              free   \n",
       "        9         4928.173852              23              free   \n",
       "        11       13350.015305              78              free   \n",
       "        12        2371.711192              16              free   \n",
       "\n",
       "               number_of_rides  monthly_revenue  \n",
       "user_id month                                    \n",
       "1       1                    2              451  \n",
       "        4                    1              241  \n",
       "        8                    2              475  \n",
       "        10                   2              391  \n",
       "        11                   3              535  \n",
       "...                        ...              ...  \n",
       "1534    6                    2              308  \n",
       "        8                    2              484  \n",
       "        9                    1              234  \n",
       "        11                   4              824  \n",
       "        12                   1              178  \n",
       "\n",
       "[11331 rows x 5 columns]"
      ]
     },
     "execution_count": 62,
     "metadata": {},
     "output_type": "execute_result"
    }
   ],
   "source": [
    "# Создадим столбец monthly_revenue с помесячной выручкой\n",
    "aggregated_data['monthly_revenue'] = aggregated_data.apply(monthly_revenue, axis=1)\n",
    "aggregated_data"
   ]
  },
  {
   "cell_type": "markdown",
   "id": "4b75eed4",
   "metadata": {},
   "source": [
    "##### Вывод по подсчёту выручки"
   ]
  },
  {
   "cell_type": "markdown",
   "id": "14f5bd58",
   "metadata": {},
   "source": [
    "1. Создан датафрейм с агрегированными данными о поездках aggregated_data (суммарное расстояние, количество поездок и суммарное время для каждого пользователя за каждый месяц)\n",
    "2. Создан столбец monthly_revenue с помесячной выручкой"
   ]
  },
  {
   "cell_type": "markdown",
   "id": "41545ac0",
   "metadata": {},
   "source": [
    "#### Шаг 6. Проверка гипотез"
   ]
  },
  {
   "cell_type": "markdown",
   "id": "cbb94ec1",
   "metadata": {},
   "source": [
    "##### Тратят ли пользователи с подпиской больше времени на поездки?"
   ]
  },
  {
   "cell_type": "markdown",
   "id": "290ad821",
   "metadata": {},
   "source": [
    "Нулевая гипотеза: Траты времени пользователей с подпиской = тратам времени пользователей без подписки\n",
    "\n",
    "Альтернативная гипотеза: Траты времени пользователей с подпиской > трат времени пользователей без подписки"
   ]
  },
  {
   "cell_type": "markdown",
   "id": "146b95cc",
   "metadata": {},
   "source": [
    "Построим графики на одном полотне и сравним средние"
   ]
  },
  {
   "cell_type": "code",
   "execution_count": 63,
   "id": "f53568b6",
   "metadata": {},
   "outputs": [
    {
     "data": {
      "image/png": "[encoded data removed]",
      "text/plain": [
       "<Figure size 1080x504 with 1 Axes>"
      ]
     },
     "metadata": {
      "needs_background": "light"
     },
     "output_type": "display_data"
    }
   ],
   "source": [
    "# Создаем новый график\n",
    "plt.figure(figsize=(15, 7))\n",
    "\n",
    "# График для пользователей без подписки\n",
    "plt.hist(data_sub_free['duration'], bins=29, range=(4, 33), color='slateblue', alpha=0.5, label='Пользователи без подписки')\n",
    "plt.axvline(data_sub_free['duration'].mean(), color='blue', linestyle='dashed', linewidth=1.5, label=f'Среднее без подписки = {data_sub_free[\"duration\"].mean():.2f} мин')\n",
    "\n",
    "# График для пользователей с подпиской Ultra\n",
    "plt.hist(data_sub_ultra['duration'], bins=29, range=(4, 33), color='orange', alpha=0.5, label='Пользователи с подпиской Ultra')\n",
    "plt.axvline(data_sub_ultra['duration'].mean(), color='red', linestyle='dashed', linewidth=1.5, label=f'Среднее с подпиской Ultra = {data_sub_ultra[\"duration\"].mean():.2f} мин')\n",
    "\n",
    "plt.title('Продолжительность поездок пользователей', fontsize=16, pad=15)\n",
    "plt.xlabel('Длительность (в минутах)', fontsize=14)\n",
    "plt.ylabel('Количество поездок', fontsize=14)\n",
    "plt.xticks(fontsize=12)\n",
    "plt.yticks(fontsize=12)\n",
    "plt.legend(fontsize=12)\n",
    "plt.grid(True, alpha=0.75)\n",
    "\n",
    "plt.show()"
   ]
  },
  {
   "cell_type": "markdown",
   "id": "453cf2fc",
   "metadata": {},
   "source": [
    "Проведем t-тест о равенстве средних\n",
    "\n",
    "Альтернативная гипотеза: пользователи с подпиской тратят больше времени на поездки"
   ]
  },
  {
   "cell_type": "code",
   "execution_count": 64,
   "id": "df0d6119",
   "metadata": {},
   "outputs": [
    {
     "name": "stdout",
     "output_type": "stream",
     "text": [
      "p-значение: 1.2804098316645618e-34\n",
      "Отвергаем нулевую гипотезу\n"
     ]
    }
   ],
   "source": [
    "alpha = 0.05 # уровень статистической значимости\n",
    "results = st.ttest_ind(data_sub_ultra['duration'], data_sub_free['duration'], alternative='greater')\n",
    "print('p-значение:', results.pvalue)\n",
    "\n",
    "if results.pvalue < alpha:\n",
    "    print('Отвергаем нулевую гипотезу')\n",
    "else:\n",
    "    print('Не получилось отвергнуть нулевую гипотезу') "
   ]
  },
  {
   "cell_type": "markdown",
   "id": "fd9da91f",
   "metadata": {},
   "source": [
    "**Вывод:**\n",
    "\n",
    "- Пользователи с подпиской в среднем имеют продолжнительность поездки на 0.78 мин. больше.\n",
    "- Т-тест показал, что пользователи с подпиской тратят больше времени на поездки."
   ]
  },
  {
   "cell_type": "markdown",
   "id": "46a67500",
   "metadata": {},
   "source": [
    "##### Гипотеза о расстоянии, которое проезжают пользователи с подпиской за одну поездку"
   ]
  },
  {
   "cell_type": "markdown",
   "id": "1444ce9f",
   "metadata": {},
   "source": [
    "Нулевая гипотеза: расстояние, которое проезжают пользователи с подпиской за одну поездку = 3130.\n",
    "\n",
    "Альтернативная гипотеза: расстояние, которое проезжают пользователи с подпиской за одну поездку > 3130."
   ]
  },
  {
   "cell_type": "code",
   "execution_count": 65,
   "id": "8eacf712",
   "metadata": {},
   "outputs": [
    {
     "name": "stdout",
     "output_type": "stream",
     "text": [
      "p-значение: 0.9195368847849785\n",
      "Не получилось отвергнуть нулевую гипотезу: расстояние, которое проезжают пользователи с подпиской за одну поездку, не превышает 3130\n"
     ]
    }
   ],
   "source": [
    "interested_value = 3130 \n",
    "\n",
    "alpha = 0.05 # уровень статистической значимости\n",
    "\n",
    "results = st.ttest_1samp(\n",
    "    data_sub_ultra['distance'],\n",
    "    interested_value,\n",
    "    alternative='greater') \n",
    "\n",
    "print('p-значение:', results.pvalue)\n",
    "\n",
    "if results.pvalue < alpha: \n",
    "    print('Отвергаем нулевую гипотезу: расстояние, которое проезжают пользователи с подпиской за одну поездку, превышает 3130')\n",
    "else:\n",
    "    print('Не получилось отвергнуть нулевую гипотезу: расстояние, которое проезжают пользователи с подпиской за одну поездку, не превышает 3130')"
   ]
  },
  {
   "cell_type": "markdown",
   "id": "02187874",
   "metadata": {},
   "source": [
    "**Вывод:**\n",
    "- Расстояние, которое проезжают пользователи с подпиской за одну поездку, не превышает 3130, что благоприятно отражается на износостойкости самокатов. "
   ]
  },
  {
   "cell_type": "markdown",
   "id": "100b0c3d",
   "metadata": {},
   "source": [
    "##### Гипотеза о выручке от пользователей с подпиской и без подписки:"
   ]
  },
  {
   "cell_type": "markdown",
   "id": "3cc85f7e",
   "metadata": {},
   "source": [
    "Нулевая гипотеза: средняя помесячная выручка от пользователей с подпиской и без равны.\n",
    "\n",
    "Альтернативная гипотеза: средняя помесячная выручка от пользователей с подпиской больше, чем от пользователей без подписки."
   ]
  },
  {
   "cell_type": "code",
   "execution_count": 66,
   "id": "fd32e836",
   "metadata": {},
   "outputs": [],
   "source": [
    "# Создадим отдельные Series для анализа\n",
    "aggregated_ultra_revenue = aggregated_data.query('subscription_type == \"ultra\"')['monthly_revenue']\n",
    "aggregated_free_revenue = aggregated_data.query('subscription_type == \"free\"')['monthly_revenue']"
   ]
  },
  {
   "cell_type": "code",
   "execution_count": 67,
   "id": "d5881b10",
   "metadata": {},
   "outputs": [
    {
     "name": "stdout",
     "output_type": "stream",
     "text": [
      "p-value: 1.8850394384715216e-31\n",
      "Отвергаем нулевую гипотезу\n"
     ]
    }
   ],
   "source": [
    "# задаём уровень значимости\n",
    "alpha = 0.05\n",
    "\n",
    "# проводим ttest для двух выборок, в качестве альтернативной используем одностороннюю гипотезу «больше»\n",
    "results = st.ttest_ind(aggregated_ultra_revenue, aggregated_free_revenue, alternative='greater')\n",
    "\n",
    "print(f'p-value: {results.pvalue}')\n",
    "\n",
    "# проверяем p-value\n",
    "if results.pvalue < alpha:\n",
    "    print('Отвергаем нулевую гипотезу')\n",
    "else:\n",
    "    print('Нет оснований отвергнуть нулевую гипотезу')"
   ]
  },
  {
   "cell_type": "markdown",
   "id": "a20b8687",
   "metadata": {},
   "source": [
    "Полученное значение p-value (2.0720421367045467e-42) меньше заданного уровня значимости, поэтому можно отвергнуть нулевую гипотезу."
   ]
  },
  {
   "cell_type": "markdown",
   "id": "889e7b4a",
   "metadata": {},
   "source": [
    "**Вывод**\n",
    "- Есть основания говорить, что пользователи с подпиской тратят в сервисе больше денег."
   ]
  },
  {
   "cell_type": "markdown",
   "id": "64202572",
   "metadata": {},
   "source": [
    "##### Выбор теста для технической команды сервиса "
   ]
  },
  {
   "cell_type": "markdown",
   "id": "8b1da118",
   "metadata": {},
   "source": [
    "**Формулировка :**\n",
    "\n",
    "Представьте такую ситуацию: техническая команда сервиса обновила сервера, с которыми взаимодействует мобильное приложение. Она надеется, что из-за этого количество обращений в техподдержку значимо снизилось. Некоторый файл содержит для каждого пользователя данные о количестве обращений до обновления и после него. Какой тест вам понадобился бы для проверки этой гипотезы?"
   ]
  },
  {
   "cell_type": "markdown",
   "id": "eab36ea7",
   "metadata": {},
   "source": [
    "**Ответ :**\n",
    "\n",
    "Для проверки данной гипотезы понадобится двухвыборочный t-тест для парных выборок."
   ]
  },
  {
   "cell_type": "markdown",
   "id": "548b1aba",
   "metadata": {},
   "source": [
    "##### Вывод по проверке гипотез"
   ]
  },
  {
   "cell_type": "markdown",
   "id": "173688e8",
   "metadata": {},
   "source": [
    "1. Траты времени пользователей с подпиской и без\n",
    "    - Пользователи с подпиской в среднем имеют продолжнительность поездки на 0.78 мин. больше.\n",
    "    - Т-тест показал, что пользователи с подпиской тратят больше времени на поездки.\n",
    "2. Гипотеза о расстоянии, которое проезжают пользователи с подпиской за одну поездку\n",
    "    - Расстояние, которое проезжают пользователи с подпиской за одну поездку, не превышает 3130, что благоприятно отражается на износостойкости самокатов.\n",
    "3. Гипотеза о выручке от пользователей с подпиской и без подписки\n",
    "    - Есть основания говорить, что пользователи с подпиской тратят в сервисе больше денег.\n",
    "4. Выбор теста для технической команды сервиса\n",
    "    - Для проверки данной гипотезы понадобится двухвыборочный t-тест для парных выборок."
   ]
  },
  {
   "cell_type": "markdown",
   "id": "61213c5e",
   "metadata": {},
   "source": [
    "#### Шаг 7. Распределения"
   ]
  },
  {
   "cell_type": "markdown",
   "id": "19be57cb",
   "metadata": {},
   "source": [
    "##### Какое минимальное количество промокодов нужно разослать, чтобы вероятность не выполнить план была примерно 5 % "
   ]
  },
  {
   "cell_type": "code",
   "execution_count": 68,
   "id": "4cf4fd4a",
   "metadata": {
    "scrolled": false
   },
   "outputs": [
    {
     "name": "stdout",
     "output_type": "stream",
     "text": [
      "Минимальное количество промокодов (на основе ppf): 1161\n"
     ]
    },
    {
     "data": {
      "image/png": "[encoded data removed]",
      "text/plain": [
       "<Figure size 720x504 with 1 Axes>"
      ]
     },
     "metadata": {
      "needs_background": "light"
     },
     "output_type": "display_data"
    },
    {
     "data": {
      "image/png": "[encoded data removed]",
      "text/plain": [
       "<Figure size 720x504 with 1 Axes>"
      ]
     },
     "metadata": {
      "needs_background": "light"
     },
     "output_type": "display_data"
    }
   ],
   "source": [
    "p_success = 0.1  # Вероятность успеха (продления подписки)\n",
    "k = 100  # количество успехов\n",
    "desired_probability = 0.95  # Желаемая вероятность успеха\n",
    "\n",
    "# Подбор значения n\n",
    "n_values = np.arange(k, k + 2000)\n",
    "probabilities = binom.pmf(k, n_values, p_success)\n",
    "binom_probs = 1 - binom.cdf(k - 1, n_values, p_success)\n",
    "\n",
    "# Найдем индекс, где вероятность становится больше или равна desired_probability\n",
    "index = np.argmax(binom_probs >= desired_probability)\n",
    "\n",
    "min_required_n = n_values[index]\n",
    "\n",
    "print(\"Минимальное количество промокодов (на основе ppf):\", min_required_n)\n",
    "plt.figure(figsize=(10, 7))\n",
    "plt.plot(n_values, binom_probs, 'bo', ms=5)\n",
    "plt.axvline(x=min_required_n, color='r', linestyle='--', label=f'Минимальное n = {min_required_n}')\n",
    "plt.xlabel('Количество промокодов (n)', fontsize=12)\n",
    "plt.ylabel('Вероятность хотя бы 100 успехов', fontsize=12)\n",
    "plt.title('График вероятности успехов', fontsize=16, pad=15)\n",
    "plt.legend()\n",
    "plt.grid(True)\n",
    "plt.show()\n",
    "\n",
    "\n",
    "plt.figure(figsize=(10, 7))\n",
    "plt.plot(n_values, probabilities, 'bo')  \n",
    "plt.xlabel('Значение', fontsize=12)\n",
    "plt.ylabel('Плотность вероятности', fontsize=12)\n",
    "plt.title('График плотности вероятности успехов', fontsize=16, pad=15)\n",
    "plt.grid(True)\n",
    "plt.show()"
   ]
  },
  {
   "cell_type": "markdown",
   "id": "e6286674",
   "metadata": {},
   "source": [
    "**Вывод**\n",
    "- Минимальное количество промокодов которое нужно разослать, чтобы вероятность не выполнить план была примерно \n",
    "5% : 1161\n"
   ]
  },
  {
   "cell_type": "markdown",
   "id": "521aea28",
   "metadata": {},
   "source": [
    "##### Оценка вероятности того, что уведомление откроют не более 399,5 тыс. пользователей из 1 млн."
   ]
  },
  {
   "cell_type": "markdown",
   "id": "266b010b",
   "metadata": {},
   "source": [
    "**Аппроксимация биномиального распределения нормальным**"
   ]
  },
  {
   "cell_type": "code",
   "execution_count": 69,
   "id": "6ca1327d",
   "metadata": {},
   "outputs": [
    {
     "name": "stdout",
     "output_type": "stream",
     "text": [
      "0.15371708296369768\n"
     ]
    },
    {
     "data": {
      "image/png": "[encoded data removed]",
      "text/plain": [
       "<Figure size 1008x720 with 1 Axes>"
      ]
     },
     "metadata": {
      "needs_background": "light"
     },
     "output_type": "display_data"
    }
   ],
   "source": [
    "p = 0.4 # Вероятность успеха (открытие уфедомления)\n",
    "n = 1000000 # Число уведомлений\n",
    "mu = n * p\n",
    "sigma = np.sqrt(n * p * (1 - p))\n",
    "# Задаем нормальное распределение\n",
    "distr = st.norm(mu, sigma)\n",
    "\n",
    "result = distr.cdf(399500)  # Найдем вероятность\n",
    "print(result)\n",
    "\n",
    "plt.figure(figsize=(14, 10))\n",
    "# График плотности вероятности нормального распределения\n",
    "x = np.linspace(mu - 4*sigma, mu + 4*sigma, 1000)\n",
    "pdf = distr.pdf(x)\n",
    "\n",
    "# Закраска области под графиком до значения 399500\n",
    "x_fill = np.linspace(mu - 4*sigma, 399500, 1000)\n",
    "pdf_fill = distr.pdf(x_fill)\n",
    "plt.fill_between(x_fill, pdf_fill, color='blue', alpha=0.3, label='Вероятность того, что уведомление откроют не более 399,5 тыс. пользователей')\n",
    "\n",
    "plt.plot(x, pdf, 'r-', lw=3, alpha=0.3, label='Плотность вероятности нормального распределения')\n",
    "plt.legend(loc='upper right', fontsize=12)\n",
    "plt.xlabel('Значение', fontsize=12)\n",
    "plt.ylabel('Плотность вероятности', fontsize=12)\n",
    "plt.title('Плотность вероятности нормального распределения', fontsize=16, pad=15)\n",
    "plt.show()"
   ]
  },
  {
   "cell_type": "markdown",
   "id": "21096bfa",
   "metadata": {},
   "source": [
    "**Вывод**\n",
    "\n",
    "Вероятность того, что уведомление откроют не более 399,5 тыс. пользователей из 1млн. : 15%"
   ]
  },
  {
   "cell_type": "markdown",
   "id": "8c92cd61",
   "metadata": {},
   "source": [
    "##### Вывод по распределениям"
   ]
  },
  {
   "cell_type": "markdown",
   "id": "0a13e392",
   "metadata": {},
   "source": [
    "1. Минимальное количество промокодов которое нужно разослать, чтобы вероятность не выполнить план была примерно 5% : 1161\n",
    "2. Вероятность того, что уведомление откроют не более 399,5 тыс. пользователей из 1млн. : 15%"
   ]
  },
  {
   "cell_type": "markdown",
   "id": "8e43dcaf",
   "metadata": {},
   "source": [
    "#### Общий вывод"
   ]
  },
  {
   "cell_type": "markdown",
   "id": "176d1abb",
   "metadata": {},
   "source": [
    "1. **Предобработка данных**\n",
    "    1. **Изменение типов данных и проверка записи столбцов**\n",
    "\n",
    "        - Ошибок в записи названия столбцов не обнаружено\n",
    "        - Изменили тип данных в стоблце 'date' таблицы data_rides с object на datetime\n",
    "        - Добавили в датафрейм столбец с месяцем поездки\n",
    "    \n",
    "    2. **Проверка дубликатов и пропусков**\n",
    "        - Процент дубликатов в датафрейме data_users : 1.98%. Все строчки-дубликаты были удалены\n",
    "        - В датафрейме data_users нет пропусков в данных\n",
    "        - В датафрейме data_users нет неявных дубликатов\n",
    "        - В датафрейме data_rides нет дубликатов\n",
    "        - В датафрейме data_rides нет пропусков\n",
    "    3. **Выбросы и аномалии**\n",
    "        - Обнаружили выбросы в столбце distance датафрейма data_rides. Не стали отбрасывать эти значения\n",
    "        - Обнаружили выбросы в столбце duration датафрейма data_rides. Не стали отбрасывать эти значения\n",
    "        \n",
    "2. **Исследовательский анализ данных**\n",
    "\n",
    "    1. **Частота встречаемости городов**\n",
    "\n",
    "        - Среднее число пользователей в городе = 192\n",
    "        - В таблице представлена информация по городам с наибольшим количеством пользователей:\n",
    "\n",
    "        | Город          | Количество пользователей | Часть от всех пользователей (%) |\n",
    "        |:--------------:|:-----------------------:|:-------------------------------:|\n",
    "        | Пятигорск      |           219           |              14.3               |\n",
    "        | Екатеринбург   |           204           |              13.3               |\n",
    "        | Ростов-на-Дону |           198           |              12.9               |\n",
    "\n",
    "        - В таблице представлена информация по городам с наименьшим количеством пользователей:\n",
    "\n",
    "        | Город     | Количество пользователей | Часть от всех пользователей (%) |\n",
    "        |:---------:|:-----------------------:|:-------------------------------:|\n",
    "        | Омск      |           183           |              11.9               |\n",
    "        | Тюмень    |           180           |              11.7               |\n",
    "        | Москва    |           168           |              11.0               |\n",
    "\n",
    "    2. **Соотношение пользователей с подпиской и без подписки**\n",
    "       - В таблице представлена информация о пользователях с различными типами подписок:\n",
    "\n",
    "        | Тип подписки | Количество пользователей | Часть от всех пользователей (%) |\n",
    "        |:------------:|:-----------------------:|:-------------------------------:|\n",
    "        | Ultra        |          699            |               45.6              |\n",
    "        | Free         |          835            |               54.4              |\n",
    "\n",
    "    3. **Возраст пользователей**\n",
    "        - Средний возраст пользователя = 25\n",
    "        - Возраст наиболее активных пользователей приведен в таблице:\n",
    "\n",
    "        | Возраст | Количество пользователей | Часть от всех пользователей (%) |\n",
    "        |:-------:|:-----------------------:|:-------------------------------:|\n",
    "        |    25   |          145            |               9.45              |\n",
    "        |    24   |          132            |                8.6              |\n",
    "        |    26   |          131            |               8.54              |\n",
    "\n",
    "        - Возраст наименее активных пользователей приведен в таблице:\n",
    "    \n",
    "        | Возраст | Количество пользователей | Часть от всех пользователей (%) |\n",
    "        |:-------:|:-----------------------:|:-------------------------------:|\n",
    "        |    37   |            2            |               0.13              |\n",
    "        |    39   |            1            |               0.07              |\n",
    "        |    43   |            1            |               0.07              |\n",
    "\n",
    "    4. **Расстояние, которое пользователь преодолел за одну поездку**\n",
    "       - Среднее расстояние, которое пользователь преодолел за одну поездку = 3070 м., а медиана = 3134 м.\n",
    "       - В основном пользователи проезжают от 2000 до 4700 метров\n",
    "\n",
    "    5. **Продолжительность поездок**\n",
    "       - Средняя продолжительность поездки = 18 мин.\n",
    "       - В основном пользователи используют самокат от 10 до 25 минут\n",
    "       \n",
    "\n",
    "3. **Объединение данных**\n",
    "    1. **Объединение данных о пользователях, поездках и подписках в один датафрейм(data_full).**\n",
    "    2. **Создание отделных датафреймов из датафрейма data_full**\n",
    "        - Датафрейм с данными о пользователях без подписки : data_sub_free\n",
    "        - Датафрейм с данными о пользователях с подпиской Ultra : data_sub_ultra\n",
    "    3.  **Визуализация информации о расстоянии и времени поездок для пользователей обеих категорий**\n",
    "        - **Без подписки:**\n",
    "            1. Информация о расстоянии \n",
    "            - Среднее расстояние, которое пользователь преодолел за одну поездку = 3045 м., а медиана = 3115 м.\n",
    "            - В основном пользователи проезжают от 2000 до 4700 метров\n",
    "            2. Информация о продолжительности поездок\n",
    "                - Средняя продолжительность поездки = 17 мин.\n",
    "                - В основном пользователи используют самокат от 10 до 25 минут\n",
    "                - Распределение похоже на нормальное\n",
    "        - **С подпиской Ultra:**\n",
    "            1. Информация о расстоянии \n",
    "                - Среднее расстояние, которое пользователь преодолел за одну поездку = 3115 м., а медиана = 3149 м.\n",
    "                - В основном пользователи проезжают от 2000 до 4700 метров\n",
    "\n",
    "            2. Информация о продолжительности поездок\n",
    "                - Средняя продолжительность поездки = 18.5 мин.\n",
    "                - В основном пользователи используют самокат от 10 до 27 минут\n",
    "                - Распределение похоже на нормальное\n",
    "        - **Сравнение пользователей с разными категориями подписки :**\n",
    "\n",
    "            1. В среднем пользователи с подпиской проезжают на 70 метров больше\n",
    "            2. В среднем пользователи с подпиской проезжают на 1.5 мин больше\n",
    "            3. Распределение расстояния, которое пользователь с подпиской Ultra, уже в области дальних поездок и шире в области коротких\n",
    "\n",
    "4. **Подсчёт выручки**\n",
    "    1. Создан датафрейм с агрегированными данными о поездках aggregated_data (суммарное расстояние, количество поездок и суммарное время для каждого пользователя за каждый месяц)\n",
    "    2. Создан столбец monthly_revenue с помесячной выручкой\n",
    "5. **Проверка гипотез**\n",
    "    1. **Траты времени пользователей с подпиской и без**\n",
    "        - Пользователи с подпиской в среднем имеют продолжнительность поездки на 0.78 мин. больше.\n",
    "        - Т-тест показал, что пользователи с подпиской тратят больше времени на поездки.\n",
    "    2. **Гипотеза о расстоянии, которое проезжают пользователи с подпиской за одну поездку**\n",
    "        - Расстояние, которое проезжают пользователи с подпиской за одну поездку, не превышает 3130, что благоприятно отражается на износостойкости самокатов.\n",
    "    3. **Гипотеза о выручке от пользователей с подпиской и без подписки**\n",
    "        - Есть основания говорить, что пользователи с подпиской тратят в сервисе больше денег.\n",
    "    4. **Выбор теста для технической команды сервиса**\n",
    "        - Для проверки данной гипотезы понадобится двухвыборочный t-тест для парных выборок.\n",
    "6. **Распределения**\n",
    "    1. Минимальное количество промокодов которое нужно разослать, чтобы вероятность не выполнить план была примерно 5% : 1161\n",
    "    2. Вероятность того, что уведомление откроют не более 399,5 тыс. пользователей из 1млн. : 15%"
   ]
  }
 ],
 "metadata": {
  "ExecuteTimeLog": [
   {
    "duration": 54,
    "start_time": "2023-08-22T11:47:50.493Z"
   },
   {
    "duration": 419,
    "start_time": "2023-08-22T11:47:53.727Z"
   },
   {
    "duration": 135,
    "start_time": "2023-08-22T11:47:55.450Z"
   },
   {
    "duration": 120,
    "start_time": "2023-08-22T11:48:35.602Z"
   },
   {
    "duration": 95,
    "start_time": "2023-08-22T11:49:12.607Z"
   },
   {
    "duration": 73,
    "start_time": "2023-08-22T11:49:31.429Z"
   },
   {
    "duration": 34,
    "start_time": "2023-08-22T11:49:37.710Z"
   },
   {
    "duration": 9,
    "start_time": "2023-08-22T11:50:09.793Z"
   },
   {
    "duration": 9,
    "start_time": "2023-08-22T11:50:22.183Z"
   },
   {
    "duration": 42,
    "start_time": "2023-08-22T11:50:28.001Z"
   },
   {
    "duration": 7,
    "start_time": "2023-08-22T11:50:36.480Z"
   },
   {
    "duration": 9,
    "start_time": "2023-08-22T11:52:19.618Z"
   },
   {
    "duration": 6,
    "start_time": "2023-08-22T11:56:30.685Z"
   },
   {
    "duration": 8,
    "start_time": "2023-08-22T11:56:41.878Z"
   },
   {
    "duration": 4,
    "start_time": "2023-08-22T11:56:57.095Z"
   },
   {
    "duration": 9,
    "start_time": "2023-08-22T11:59:18.499Z"
   },
   {
    "duration": 48,
    "start_time": "2023-08-22T11:59:32.689Z"
   },
   {
    "duration": 7,
    "start_time": "2023-08-22T11:59:56.732Z"
   },
   {
    "duration": 3,
    "start_time": "2023-08-22T12:00:13.712Z"
   },
   {
    "duration": 7,
    "start_time": "2023-08-22T12:00:26.438Z"
   },
   {
    "duration": 14,
    "start_time": "2023-08-22T12:00:31.710Z"
   },
   {
    "duration": 6,
    "start_time": "2023-08-22T12:00:56.711Z"
   },
   {
    "duration": 5,
    "start_time": "2023-08-22T12:02:26.938Z"
   },
   {
    "duration": 32,
    "start_time": "2023-08-22T12:02:33.456Z"
   },
   {
    "duration": 7,
    "start_time": "2023-08-22T12:04:06.415Z"
   },
   {
    "duration": 6,
    "start_time": "2023-08-22T12:04:16.109Z"
   },
   {
    "duration": 10,
    "start_time": "2023-08-22T12:04:47.386Z"
   },
   {
    "duration": 6,
    "start_time": "2023-08-22T12:05:05.505Z"
   },
   {
    "duration": 12,
    "start_time": "2023-08-22T12:05:26.706Z"
   },
   {
    "duration": 33,
    "start_time": "2023-08-22T12:05:35.676Z"
   },
   {
    "duration": 19,
    "start_time": "2023-08-22T12:05:41.873Z"
   },
   {
    "duration": 29,
    "start_time": "2023-08-22T12:05:44.773Z"
   },
   {
    "duration": 11,
    "start_time": "2023-08-22T12:05:46.876Z"
   },
   {
    "duration": 20,
    "start_time": "2023-08-22T12:06:37.991Z"
   },
   {
    "duration": 7,
    "start_time": "2023-08-22T12:06:40.409Z"
   },
   {
    "duration": 9,
    "start_time": "2023-08-22T12:07:53.367Z"
   },
   {
    "duration": 8,
    "start_time": "2023-08-22T12:09:23.736Z"
   },
   {
    "duration": 4,
    "start_time": "2023-08-22T12:09:30.015Z"
   },
   {
    "duration": 4,
    "start_time": "2023-08-22T12:09:52.945Z"
   },
   {
    "duration": 6,
    "start_time": "2023-08-22T12:10:14.939Z"
   },
   {
    "duration": 14,
    "start_time": "2023-08-22T12:10:21.670Z"
   },
   {
    "duration": 10,
    "start_time": "2023-08-22T12:11:06.195Z"
   },
   {
    "duration": 24,
    "start_time": "2023-08-22T12:13:45.447Z"
   },
   {
    "duration": 7,
    "start_time": "2023-08-22T12:14:01.314Z"
   },
   {
    "duration": 173,
    "start_time": "2023-08-22T12:54:07.542Z"
   },
   {
    "duration": 9,
    "start_time": "2023-08-22T12:54:24.003Z"
   },
   {
    "duration": 5,
    "start_time": "2023-08-22T12:54:42.535Z"
   },
   {
    "duration": 14,
    "start_time": "2023-08-22T12:54:43.869Z"
   },
   {
    "duration": 112,
    "start_time": "2023-08-22T12:56:35.710Z"
   },
   {
    "duration": 13,
    "start_time": "2023-08-22T12:57:38.077Z"
   },
   {
    "duration": 12,
    "start_time": "2023-08-22T12:57:53.661Z"
   },
   {
    "duration": 8,
    "start_time": "2023-08-22T12:58:16.909Z"
   },
   {
    "duration": 6,
    "start_time": "2023-08-22T12:58:22.220Z"
   },
   {
    "duration": 38,
    "start_time": "2023-08-22T13:03:26.499Z"
   },
   {
    "duration": 11,
    "start_time": "2023-08-22T13:03:27.432Z"
   },
   {
    "duration": 48,
    "start_time": "2023-08-22T13:03:29.876Z"
   },
   {
    "duration": 9,
    "start_time": "2023-08-22T13:03:30.213Z"
   },
   {
    "duration": 31,
    "start_time": "2023-08-22T13:03:30.573Z"
   },
   {
    "duration": 7,
    "start_time": "2023-08-22T13:03:33.079Z"
   },
   {
    "duration": 5,
    "start_time": "2023-08-22T13:03:48.305Z"
   },
   {
    "duration": 6,
    "start_time": "2023-08-22T13:03:48.496Z"
   },
   {
    "duration": 5,
    "start_time": "2023-08-22T13:03:48.695Z"
   },
   {
    "duration": 8,
    "start_time": "2023-08-22T13:03:51.320Z"
   },
   {
    "duration": 6,
    "start_time": "2023-08-22T13:03:51.578Z"
   },
   {
    "duration": 6,
    "start_time": "2023-08-22T13:03:53.083Z"
   },
   {
    "duration": 18,
    "start_time": "2023-08-22T13:03:53.884Z"
   },
   {
    "duration": 6,
    "start_time": "2023-08-22T13:04:16.681Z"
   },
   {
    "duration": 7,
    "start_time": "2023-08-22T13:04:20.783Z"
   },
   {
    "duration": 3,
    "start_time": "2023-08-22T13:04:25.634Z"
   },
   {
    "duration": 48,
    "start_time": "2023-08-22T13:04:25.639Z"
   },
   {
    "duration": 9,
    "start_time": "2023-08-22T13:04:25.688Z"
   },
   {
    "duration": 35,
    "start_time": "2023-08-22T13:04:25.699Z"
   },
   {
    "duration": 8,
    "start_time": "2023-08-22T13:04:25.736Z"
   },
   {
    "duration": 44,
    "start_time": "2023-08-22T13:04:25.745Z"
   },
   {
    "duration": 7,
    "start_time": "2023-08-22T13:04:25.790Z"
   },
   {
    "duration": 5,
    "start_time": "2023-08-22T13:04:25.799Z"
   },
   {
    "duration": 8,
    "start_time": "2023-08-22T13:04:25.806Z"
   },
   {
    "duration": 5,
    "start_time": "2023-08-22T13:04:25.815Z"
   },
   {
    "duration": 7,
    "start_time": "2023-08-22T13:04:25.822Z"
   },
   {
    "duration": 10,
    "start_time": "2023-08-22T13:04:25.831Z"
   },
   {
    "duration": 7,
    "start_time": "2023-08-22T13:04:25.843Z"
   },
   {
    "duration": 27,
    "start_time": "2023-08-22T13:04:25.853Z"
   },
   {
    "duration": 13,
    "start_time": "2023-08-22T13:04:25.883Z"
   },
   {
    "duration": 9,
    "start_time": "2023-08-22T13:04:25.897Z"
   },
   {
    "duration": 4,
    "start_time": "2023-08-22T13:04:25.908Z"
   },
   {
    "duration": 13,
    "start_time": "2023-08-22T13:04:25.914Z"
   },
   {
    "duration": 8,
    "start_time": "2023-08-22T13:04:25.930Z"
   },
   {
    "duration": 15,
    "start_time": "2023-08-22T13:04:25.940Z"
   },
   {
    "duration": 22,
    "start_time": "2023-08-22T13:04:25.960Z"
   },
   {
    "duration": 8,
    "start_time": "2023-08-22T13:04:25.984Z"
   },
   {
    "duration": 8,
    "start_time": "2023-08-22T13:04:25.994Z"
   },
   {
    "duration": 16,
    "start_time": "2023-08-22T13:04:26.004Z"
   },
   {
    "duration": 8,
    "start_time": "2023-08-22T13:04:26.021Z"
   },
   {
    "duration": 7,
    "start_time": "2023-08-22T13:05:17.834Z"
   },
   {
    "duration": 9,
    "start_time": "2023-08-22T13:05:24.448Z"
   },
   {
    "duration": 11,
    "start_time": "2023-08-22T13:05:29.248Z"
   },
   {
    "duration": 9,
    "start_time": "2023-08-22T13:05:33.776Z"
   },
   {
    "duration": 14,
    "start_time": "2023-08-22T13:05:37.372Z"
   },
   {
    "duration": 7,
    "start_time": "2023-08-22T13:06:01.594Z"
   },
   {
    "duration": 4,
    "start_time": "2023-08-22T13:09:22.722Z"
   },
   {
    "duration": 5,
    "start_time": "2023-08-22T13:12:05.294Z"
   },
   {
    "duration": 533,
    "start_time": "2023-08-22T13:13:12.245Z"
   },
   {
    "duration": 255,
    "start_time": "2023-08-22T13:13:17.119Z"
   },
   {
    "duration": 235,
    "start_time": "2023-08-22T13:13:25.635Z"
   },
   {
    "duration": 261,
    "start_time": "2023-08-22T13:13:32.728Z"
   },
   {
    "duration": 300,
    "start_time": "2023-08-22T14:30:49.752Z"
   },
   {
    "duration": 282,
    "start_time": "2023-08-22T14:31:23.050Z"
   },
   {
    "duration": 322,
    "start_time": "2023-08-22T14:33:45.241Z"
   },
   {
    "duration": 289,
    "start_time": "2023-08-22T14:34:21.670Z"
   },
   {
    "duration": 293,
    "start_time": "2023-08-22T14:35:23.692Z"
   },
   {
    "duration": 9,
    "start_time": "2023-08-22T14:39:46.247Z"
   },
   {
    "duration": 192,
    "start_time": "2023-08-22T14:41:01.593Z"
   },
   {
    "duration": 168,
    "start_time": "2023-08-22T14:41:14.131Z"
   },
   {
    "duration": 189,
    "start_time": "2023-08-22T14:42:05.105Z"
   },
   {
    "duration": 23,
    "start_time": "2023-08-22T14:44:09.974Z"
   },
   {
    "duration": 12,
    "start_time": "2023-08-22T14:44:27.777Z"
   },
   {
    "duration": 18,
    "start_time": "2023-08-22T14:44:54.458Z"
   },
   {
    "duration": 13,
    "start_time": "2023-08-22T14:45:13.240Z"
   },
   {
    "duration": 15,
    "start_time": "2023-08-22T14:48:45.333Z"
   },
   {
    "duration": 14,
    "start_time": "2023-08-22T14:48:56.378Z"
   },
   {
    "duration": 14,
    "start_time": "2023-08-22T14:49:05.686Z"
   },
   {
    "duration": 16,
    "start_time": "2023-08-22T14:50:11.904Z"
   },
   {
    "duration": 10,
    "start_time": "2023-08-22T14:50:45.749Z"
   },
   {
    "duration": 14,
    "start_time": "2023-08-22T14:50:55.194Z"
   },
   {
    "duration": 11,
    "start_time": "2023-08-22T14:52:10.787Z"
   },
   {
    "duration": 258,
    "start_time": "2023-08-22T14:53:29.842Z"
   },
   {
    "duration": 254,
    "start_time": "2023-08-22T14:53:38.862Z"
   },
   {
    "duration": 13,
    "start_time": "2023-08-22T14:55:10.587Z"
   },
   {
    "duration": 13,
    "start_time": "2023-08-22T14:55:43.695Z"
   },
   {
    "duration": 6,
    "start_time": "2023-08-22T14:57:04.383Z"
   },
   {
    "duration": 68,
    "start_time": "2023-08-22T14:57:04.396Z"
   },
   {
    "duration": 18,
    "start_time": "2023-08-22T14:57:04.471Z"
   },
   {
    "duration": 53,
    "start_time": "2023-08-22T14:57:04.496Z"
   },
   {
    "duration": 22,
    "start_time": "2023-08-22T14:57:04.849Z"
   },
   {
    "duration": 35,
    "start_time": "2023-08-22T14:57:04.878Z"
   },
   {
    "duration": 10,
    "start_time": "2023-08-22T14:57:04.916Z"
   },
   {
    "duration": 5,
    "start_time": "2023-08-22T14:57:04.929Z"
   },
   {
    "duration": 21,
    "start_time": "2023-08-22T14:57:04.937Z"
   },
   {
    "duration": 28,
    "start_time": "2023-08-22T14:57:04.962Z"
   },
   {
    "duration": 43,
    "start_time": "2023-08-22T14:57:04.992Z"
   },
   {
    "duration": 13,
    "start_time": "2023-08-22T14:57:05.039Z"
   },
   {
    "duration": 32,
    "start_time": "2023-08-22T14:57:05.053Z"
   },
   {
    "duration": 27,
    "start_time": "2023-08-22T14:57:05.089Z"
   },
   {
    "duration": 13,
    "start_time": "2023-08-22T14:57:05.121Z"
   },
   {
    "duration": 29,
    "start_time": "2023-08-22T14:57:05.136Z"
   },
   {
    "duration": 32,
    "start_time": "2023-08-22T14:57:05.167Z"
   },
   {
    "duration": 11,
    "start_time": "2023-08-22T14:57:05.205Z"
   },
   {
    "duration": 10,
    "start_time": "2023-08-22T14:57:05.218Z"
   },
   {
    "duration": 84,
    "start_time": "2023-08-22T14:57:05.230Z"
   },
   {
    "duration": 26,
    "start_time": "2023-08-22T14:57:05.318Z"
   },
   {
    "duration": 39,
    "start_time": "2023-08-22T14:57:05.346Z"
   },
   {
    "duration": 22,
    "start_time": "2023-08-22T14:57:05.387Z"
   },
   {
    "duration": 13,
    "start_time": "2023-08-22T14:57:05.412Z"
   },
   {
    "duration": 10,
    "start_time": "2023-08-22T14:57:05.427Z"
   },
   {
    "duration": 24,
    "start_time": "2023-08-22T14:57:05.440Z"
   },
   {
    "duration": 296,
    "start_time": "2023-08-22T14:57:05.468Z"
   },
   {
    "duration": 17,
    "start_time": "2023-08-22T14:57:05.766Z"
   },
   {
    "duration": 25,
    "start_time": "2023-08-22T14:57:05.785Z"
   },
   {
    "duration": 28,
    "start_time": "2023-08-22T14:57:05.812Z"
   },
   {
    "duration": 350,
    "start_time": "2023-08-22T14:57:05.843Z"
   },
   {
    "duration": 24,
    "start_time": "2023-08-22T14:57:06.197Z"
   },
   {
    "duration": 11,
    "start_time": "2023-08-22T14:57:06.226Z"
   },
   {
    "duration": 40,
    "start_time": "2023-08-22T14:57:06.239Z"
   },
   {
    "duration": 346,
    "start_time": "2023-08-22T14:57:06.284Z"
   },
   {
    "duration": 440,
    "start_time": "2023-08-22T14:57:06.632Z"
   },
   {
    "duration": 6,
    "start_time": "2023-08-22T14:59:49.421Z"
   },
   {
    "duration": 298,
    "start_time": "2023-08-22T15:03:33.034Z"
   },
   {
    "duration": 214,
    "start_time": "2023-08-22T15:03:53.074Z"
   },
   {
    "duration": 248,
    "start_time": "2023-08-22T15:05:08.403Z"
   },
   {
    "duration": 163,
    "start_time": "2023-08-22T15:07:49.575Z"
   },
   {
    "duration": 181,
    "start_time": "2023-08-22T15:07:57.064Z"
   },
   {
    "duration": 201,
    "start_time": "2023-08-22T15:08:02.289Z"
   },
   {
    "duration": 180,
    "start_time": "2023-08-22T15:08:39.295Z"
   },
   {
    "duration": 209,
    "start_time": "2023-08-22T15:08:48.224Z"
   },
   {
    "duration": 6,
    "start_time": "2023-08-22T15:12:15.741Z"
   },
   {
    "duration": 15,
    "start_time": "2023-08-22T15:14:21.143Z"
   },
   {
    "duration": 460,
    "start_time": "2023-08-22T15:14:38.537Z"
   },
   {
    "duration": 379,
    "start_time": "2023-08-22T15:15:31.397Z"
   },
   {
    "duration": 5,
    "start_time": "2023-08-22T15:18:59.802Z"
   },
   {
    "duration": 9,
    "start_time": "2023-08-22T15:19:53.624Z"
   },
   {
    "duration": 10,
    "start_time": "2023-08-22T15:25:16.874Z"
   },
   {
    "duration": 10,
    "start_time": "2023-08-22T15:26:19.510Z"
   },
   {
    "duration": 6,
    "start_time": "2023-08-22T15:26:50.796Z"
   },
   {
    "duration": 9,
    "start_time": "2023-08-22T15:32:21.278Z"
   },
   {
    "duration": 214,
    "start_time": "2023-08-22T15:34:17.395Z"
   },
   {
    "duration": 504,
    "start_time": "2023-08-22T15:34:30.271Z"
   },
   {
    "duration": 327,
    "start_time": "2023-08-22T15:34:37.283Z"
   },
   {
    "duration": 256,
    "start_time": "2023-08-22T15:34:44.068Z"
   },
   {
    "duration": 12,
    "start_time": "2023-08-22T15:38:19.821Z"
   },
   {
    "duration": 346,
    "start_time": "2023-08-22T15:38:35.323Z"
   },
   {
    "duration": 297,
    "start_time": "2023-08-22T15:38:58.222Z"
   },
   {
    "duration": 12,
    "start_time": "2023-08-22T15:40:19.053Z"
   },
   {
    "duration": 276,
    "start_time": "2023-08-22T15:41:27.988Z"
   },
   {
    "duration": 276,
    "start_time": "2023-08-22T15:41:41.009Z"
   },
   {
    "duration": 301,
    "start_time": "2023-08-22T15:42:00.094Z"
   },
   {
    "duration": 269,
    "start_time": "2023-08-22T15:42:10.900Z"
   },
   {
    "duration": 244,
    "start_time": "2023-08-22T15:42:22.124Z"
   },
   {
    "duration": 301,
    "start_time": "2023-08-22T15:42:33.668Z"
   },
   {
    "duration": 238,
    "start_time": "2023-08-22T15:43:36.928Z"
   },
   {
    "duration": 4,
    "start_time": "2023-08-22T15:44:06.413Z"
   },
   {
    "duration": 44,
    "start_time": "2023-08-22T15:44:06.568Z"
   },
   {
    "duration": 10,
    "start_time": "2023-08-22T15:44:06.664Z"
   },
   {
    "duration": 49,
    "start_time": "2023-08-22T15:44:06.676Z"
   },
   {
    "duration": 9,
    "start_time": "2023-08-22T15:44:06.726Z"
   },
   {
    "duration": 29,
    "start_time": "2023-08-22T15:44:06.736Z"
   },
   {
    "duration": 7,
    "start_time": "2023-08-22T15:44:06.767Z"
   },
   {
    "duration": 4,
    "start_time": "2023-08-22T15:44:06.776Z"
   },
   {
    "duration": 5,
    "start_time": "2023-08-22T15:44:06.782Z"
   },
   {
    "duration": 10,
    "start_time": "2023-08-22T15:44:06.788Z"
   },
   {
    "duration": 15,
    "start_time": "2023-08-22T15:44:06.799Z"
   },
   {
    "duration": 4,
    "start_time": "2023-08-22T15:44:06.816Z"
   },
   {
    "duration": 14,
    "start_time": "2023-08-22T15:44:06.821Z"
   },
   {
    "duration": 20,
    "start_time": "2023-08-22T15:44:06.857Z"
   },
   {
    "duration": 9,
    "start_time": "2023-08-22T15:44:06.879Z"
   },
   {
    "duration": 7,
    "start_time": "2023-08-22T15:44:06.890Z"
   },
   {
    "duration": 5,
    "start_time": "2023-08-22T15:44:06.899Z"
   },
   {
    "duration": 8,
    "start_time": "2023-08-22T15:44:06.906Z"
   },
   {
    "duration": 7,
    "start_time": "2023-08-22T15:44:06.916Z"
   },
   {
    "duration": 6,
    "start_time": "2023-08-22T15:44:06.966Z"
   },
   {
    "duration": 4,
    "start_time": "2023-08-22T15:44:06.999Z"
   },
   {
    "duration": 7,
    "start_time": "2023-08-22T15:44:07.006Z"
   },
   {
    "duration": 8,
    "start_time": "2023-08-22T15:44:07.064Z"
   },
   {
    "duration": 9,
    "start_time": "2023-08-22T15:44:07.078Z"
   },
   {
    "duration": 6,
    "start_time": "2023-08-22T15:44:07.110Z"
   },
   {
    "duration": 10,
    "start_time": "2023-08-22T15:44:07.148Z"
   },
   {
    "duration": 207,
    "start_time": "2023-08-22T15:44:07.162Z"
   },
   {
    "duration": 11,
    "start_time": "2023-08-22T15:44:07.371Z"
   },
   {
    "duration": 5,
    "start_time": "2023-08-22T15:44:07.383Z"
   },
   {
    "duration": 8,
    "start_time": "2023-08-22T15:44:07.390Z"
   },
   {
    "duration": 215,
    "start_time": "2023-08-22T15:44:07.400Z"
   },
   {
    "duration": 13,
    "start_time": "2023-08-22T15:44:07.617Z"
   },
   {
    "duration": 5,
    "start_time": "2023-08-22T15:44:07.632Z"
   },
   {
    "duration": 16,
    "start_time": "2023-08-22T15:44:07.656Z"
   },
   {
    "duration": 224,
    "start_time": "2023-08-22T15:44:07.674Z"
   },
   {
    "duration": 318,
    "start_time": "2023-08-22T15:44:07.900Z"
   },
   {
    "duration": 7,
    "start_time": "2023-08-22T15:44:08.220Z"
   },
   {
    "duration": 236,
    "start_time": "2023-08-22T15:44:08.229Z"
   },
   {
    "duration": 213,
    "start_time": "2023-08-22T15:44:08.467Z"
   },
   {
    "duration": 6,
    "start_time": "2023-08-22T15:44:08.682Z"
   },
   {
    "duration": 358,
    "start_time": "2023-08-22T15:44:08.690Z"
   },
   {
    "duration": 10,
    "start_time": "2023-08-22T15:44:09.050Z"
   },
   {
    "duration": 10,
    "start_time": "2023-08-22T15:44:09.069Z"
   },
   {
    "duration": 290,
    "start_time": "2023-08-22T15:44:09.081Z"
   },
   {
    "duration": 9,
    "start_time": "2023-08-22T15:44:09.373Z"
   },
   {
    "duration": 9,
    "start_time": "2023-08-22T15:44:20.993Z"
   },
   {
    "duration": 302,
    "start_time": "2023-08-22T15:44:21.345Z"
   },
   {
    "duration": 129,
    "start_time": "2023-08-22T17:18:20.594Z"
   },
   {
    "duration": 82,
    "start_time": "2023-08-22T17:18:25.093Z"
   },
   {
    "duration": 15,
    "start_time": "2023-08-22T17:29:03.537Z"
   },
   {
    "duration": 25,
    "start_time": "2023-08-22T17:30:08.334Z"
   },
   {
    "duration": 14,
    "start_time": "2023-08-22T17:30:51.412Z"
   },
   {
    "duration": 11,
    "start_time": "2023-08-22T17:31:28.293Z"
   },
   {
    "duration": 11,
    "start_time": "2023-08-22T17:39:31.999Z"
   },
   {
    "duration": 13,
    "start_time": "2023-08-22T17:40:42.998Z"
   },
   {
    "duration": 49,
    "start_time": "2023-08-22T17:43:17.730Z"
   },
   {
    "duration": 6,
    "start_time": "2023-08-22T17:45:03.815Z"
   },
   {
    "duration": 14,
    "start_time": "2023-08-22T17:57:48.127Z"
   },
   {
    "duration": 16,
    "start_time": "2023-08-22T17:57:51.212Z"
   },
   {
    "duration": 4,
    "start_time": "2023-08-22T17:57:51.654Z"
   },
   {
    "duration": 13,
    "start_time": "2023-08-22T17:58:19.430Z"
   },
   {
    "duration": 14,
    "start_time": "2023-08-22T17:58:43.689Z"
   },
   {
    "duration": 25,
    "start_time": "2023-08-22T18:02:21.731Z"
   },
   {
    "duration": 270,
    "start_time": "2023-08-22T18:03:15.072Z"
   },
   {
    "duration": 28,
    "start_time": "2023-08-22T18:04:38.613Z"
   },
   {
    "duration": 244,
    "start_time": "2023-08-22T18:05:12.941Z"
   },
   {
    "duration": 295,
    "start_time": "2023-08-22T18:05:28.313Z"
   },
   {
    "duration": 289,
    "start_time": "2023-08-22T18:05:58.611Z"
   },
   {
    "duration": 322,
    "start_time": "2023-08-22T18:07:29.676Z"
   },
   {
    "duration": 237,
    "start_time": "2023-08-22T18:07:43.406Z"
   },
   {
    "duration": 15,
    "start_time": "2023-08-22T18:08:56.606Z"
   },
   {
    "duration": 18,
    "start_time": "2023-08-22T18:09:26.503Z"
   },
   {
    "duration": 93,
    "start_time": "2023-08-22T18:33:46.897Z"
   },
   {
    "duration": 5,
    "start_time": "2023-08-22T18:36:49.572Z"
   },
   {
    "duration": 19,
    "start_time": "2023-08-22T18:37:03.103Z"
   },
   {
    "duration": 7,
    "start_time": "2023-08-22T18:40:20.756Z"
   },
   {
    "duration": 3,
    "start_time": "2023-08-22T18:40:29.441Z"
   },
   {
    "duration": 42,
    "start_time": "2023-08-22T18:40:29.447Z"
   },
   {
    "duration": 11,
    "start_time": "2023-08-22T18:40:29.492Z"
   },
   {
    "duration": 38,
    "start_time": "2023-08-22T18:40:29.505Z"
   },
   {
    "duration": 9,
    "start_time": "2023-08-22T18:40:29.546Z"
   },
   {
    "duration": 32,
    "start_time": "2023-08-22T18:40:29.558Z"
   },
   {
    "duration": 9,
    "start_time": "2023-08-22T18:40:29.592Z"
   },
   {
    "duration": 120,
    "start_time": "2023-08-22T18:40:29.602Z"
   },
   {
    "duration": 86,
    "start_time": "2023-08-22T18:40:29.724Z"
   },
   {
    "duration": 37,
    "start_time": "2023-08-22T18:40:29.812Z"
   },
   {
    "duration": 33,
    "start_time": "2023-08-22T18:40:29.852Z"
   },
   {
    "duration": 7,
    "start_time": "2023-08-22T18:40:29.888Z"
   },
   {
    "duration": 16,
    "start_time": "2023-08-22T18:40:29.896Z"
   },
   {
    "duration": 29,
    "start_time": "2023-08-22T18:40:29.914Z"
   },
   {
    "duration": 12,
    "start_time": "2023-08-22T18:40:29.944Z"
   },
   {
    "duration": 9,
    "start_time": "2023-08-22T18:40:31.601Z"
   },
   {
    "duration": 6,
    "start_time": "2023-08-22T18:40:32.293Z"
   },
   {
    "duration": 8,
    "start_time": "2023-08-22T18:48:20.161Z"
   },
   {
    "duration": 7,
    "start_time": "2023-08-22T18:48:31.726Z"
   },
   {
    "duration": 4,
    "start_time": "2023-08-22T19:03:21.771Z"
   },
   {
    "duration": 42,
    "start_time": "2023-08-22T19:03:21.778Z"
   },
   {
    "duration": 13,
    "start_time": "2023-08-22T19:03:21.822Z"
   },
   {
    "duration": 36,
    "start_time": "2023-08-22T19:03:21.837Z"
   },
   {
    "duration": 9,
    "start_time": "2023-08-22T19:03:21.875Z"
   },
   {
    "duration": 30,
    "start_time": "2023-08-22T19:03:21.885Z"
   },
   {
    "duration": 7,
    "start_time": "2023-08-22T19:03:21.916Z"
   },
   {
    "duration": 8,
    "start_time": "2023-08-22T19:03:21.924Z"
   },
   {
    "duration": 5,
    "start_time": "2023-08-22T19:03:21.935Z"
   },
   {
    "duration": 13,
    "start_time": "2023-08-22T19:03:21.941Z"
   },
   {
    "duration": 9,
    "start_time": "2023-08-22T19:03:21.955Z"
   },
   {
    "duration": 5,
    "start_time": "2023-08-22T19:03:21.966Z"
   },
   {
    "duration": 7,
    "start_time": "2023-08-22T19:03:21.972Z"
   },
   {
    "duration": 14,
    "start_time": "2023-08-22T19:03:21.980Z"
   },
   {
    "duration": 6,
    "start_time": "2023-08-22T19:03:21.995Z"
   },
   {
    "duration": 7,
    "start_time": "2023-08-22T19:03:22.002Z"
   },
   {
    "duration": 5,
    "start_time": "2023-08-22T19:03:22.011Z"
   },
   {
    "duration": 42,
    "start_time": "2023-08-22T19:03:22.017Z"
   },
   {
    "duration": 7,
    "start_time": "2023-08-22T19:03:22.060Z"
   },
   {
    "duration": 8,
    "start_time": "2023-08-22T19:03:22.068Z"
   },
   {
    "duration": 6,
    "start_time": "2023-08-22T19:03:22.078Z"
   },
   {
    "duration": 5,
    "start_time": "2023-08-22T19:03:22.086Z"
   },
   {
    "duration": 12,
    "start_time": "2023-08-22T19:03:22.093Z"
   },
   {
    "duration": 7,
    "start_time": "2023-08-22T19:03:22.108Z"
   },
   {
    "duration": 39,
    "start_time": "2023-08-22T19:03:22.116Z"
   },
   {
    "duration": 193,
    "start_time": "2023-08-22T19:03:22.157Z"
   },
   {
    "duration": 10,
    "start_time": "2023-08-22T19:03:22.352Z"
   },
   {
    "duration": 8,
    "start_time": "2023-08-22T19:03:22.364Z"
   },
   {
    "duration": 10,
    "start_time": "2023-08-22T19:03:22.374Z"
   },
   {
    "duration": 199,
    "start_time": "2023-08-22T19:03:22.385Z"
   },
   {
    "duration": 10,
    "start_time": "2023-08-22T19:03:22.586Z"
   },
   {
    "duration": 6,
    "start_time": "2023-08-22T19:03:22.598Z"
   },
   {
    "duration": 9,
    "start_time": "2023-08-22T19:13:35.393Z"
   },
   {
    "duration": 4,
    "start_time": "2023-08-22T19:13:59.382Z"
   },
   {
    "duration": 52,
    "start_time": "2023-08-22T19:13:59.389Z"
   },
   {
    "duration": 17,
    "start_time": "2023-08-22T19:13:59.444Z"
   },
   {
    "duration": 202,
    "start_time": "2023-08-22T19:13:59.463Z"
   },
   {
    "duration": 12,
    "start_time": "2023-08-22T19:13:59.667Z"
   },
   {
    "duration": 32,
    "start_time": "2023-08-22T19:13:59.682Z"
   },
   {
    "duration": 11,
    "start_time": "2023-08-22T19:13:59.716Z"
   },
   {
    "duration": 6,
    "start_time": "2023-08-22T19:13:59.729Z"
   },
   {
    "duration": 6,
    "start_time": "2023-08-22T19:13:59.751Z"
   },
   {
    "duration": 153,
    "start_time": "2023-08-22T19:13:59.760Z"
   },
   {
    "duration": 12,
    "start_time": "2023-08-22T19:13:59.915Z"
   },
   {
    "duration": 9,
    "start_time": "2023-08-22T19:13:59.929Z"
   },
   {
    "duration": 9,
    "start_time": "2023-08-22T19:13:59.941Z"
   },
   {
    "duration": 24,
    "start_time": "2023-08-22T19:13:59.952Z"
   },
   {
    "duration": 7,
    "start_time": "2023-08-22T19:13:59.978Z"
   },
   {
    "duration": 17,
    "start_time": "2023-08-22T19:13:59.987Z"
   },
   {
    "duration": 16,
    "start_time": "2023-08-22T19:14:00.006Z"
   },
   {
    "duration": 27,
    "start_time": "2023-08-22T19:14:00.028Z"
   },
   {
    "duration": 22,
    "start_time": "2023-08-22T19:14:00.058Z"
   },
   {
    "duration": 32,
    "start_time": "2023-08-22T19:14:00.082Z"
   },
   {
    "duration": 23,
    "start_time": "2023-08-22T19:14:00.116Z"
   },
   {
    "duration": 32,
    "start_time": "2023-08-22T19:14:00.142Z"
   },
   {
    "duration": 33,
    "start_time": "2023-08-22T19:14:00.176Z"
   },
   {
    "duration": 41,
    "start_time": "2023-08-22T19:14:00.214Z"
   },
   {
    "duration": 51,
    "start_time": "2023-08-22T19:14:00.257Z"
   },
   {
    "duration": 286,
    "start_time": "2023-08-22T19:14:00.311Z"
   },
   {
    "duration": 14,
    "start_time": "2023-08-22T19:14:00.601Z"
   },
   {
    "duration": 40,
    "start_time": "2023-08-22T19:14:00.617Z"
   },
   {
    "duration": 53,
    "start_time": "2023-08-22T19:14:00.660Z"
   },
   {
    "duration": 362,
    "start_time": "2023-08-22T19:14:00.716Z"
   },
   {
    "duration": 13,
    "start_time": "2023-08-22T19:14:01.080Z"
   },
   {
    "duration": 46,
    "start_time": "2023-08-22T19:14:01.095Z"
   },
   {
    "duration": 30,
    "start_time": "2023-08-22T19:14:01.143Z"
   },
   {
    "duration": 10,
    "start_time": "2023-08-22T19:14:02.831Z"
   },
   {
    "duration": 12,
    "start_time": "2023-08-22T19:14:03.450Z"
   },
   {
    "duration": 8,
    "start_time": "2023-08-22T19:32:16.748Z"
   },
   {
    "duration": 8,
    "start_time": "2023-08-22T19:34:41.033Z"
   },
   {
    "duration": 11,
    "start_time": "2023-08-22T19:35:01.699Z"
   },
   {
    "duration": 10,
    "start_time": "2023-08-22T19:35:14.195Z"
   },
   {
    "duration": 13,
    "start_time": "2023-08-23T11:45:11.643Z"
   },
   {
    "duration": 44,
    "start_time": "2023-08-23T12:25:22.863Z"
   },
   {
    "duration": 805,
    "start_time": "2023-08-23T12:25:28.939Z"
   },
   {
    "duration": 86,
    "start_time": "2023-08-23T12:25:29.747Z"
   },
   {
    "duration": 12,
    "start_time": "2023-08-23T12:25:29.834Z"
   },
   {
    "duration": 110,
    "start_time": "2023-08-23T12:25:29.848Z"
   },
   {
    "duration": 10,
    "start_time": "2023-08-23T12:25:29.960Z"
   },
   {
    "duration": 69,
    "start_time": "2023-08-23T12:25:29.971Z"
   },
   {
    "duration": 8,
    "start_time": "2023-08-23T12:25:30.042Z"
   },
   {
    "duration": 62,
    "start_time": "2023-08-23T12:25:30.052Z"
   },
   {
    "duration": 58,
    "start_time": "2023-08-23T12:25:30.116Z"
   },
   {
    "duration": 56,
    "start_time": "2023-08-23T12:25:30.176Z"
   },
   {
    "duration": 70,
    "start_time": "2023-08-23T12:25:30.234Z"
   },
   {
    "duration": 47,
    "start_time": "2023-08-23T12:25:30.306Z"
   },
   {
    "duration": 20,
    "start_time": "2023-08-23T12:25:30.355Z"
   },
   {
    "duration": 26,
    "start_time": "2023-08-23T12:25:30.379Z"
   },
   {
    "duration": 32,
    "start_time": "2023-08-23T12:25:30.406Z"
   },
   {
    "duration": 28,
    "start_time": "2023-08-23T12:25:30.440Z"
   },
   {
    "duration": 20,
    "start_time": "2023-08-23T12:25:30.469Z"
   },
   {
    "duration": 25,
    "start_time": "2023-08-23T12:25:30.491Z"
   },
   {
    "duration": 26,
    "start_time": "2023-08-23T12:25:30.518Z"
   },
   {
    "duration": 26,
    "start_time": "2023-08-23T12:25:30.546Z"
   },
   {
    "duration": 36,
    "start_time": "2023-08-23T12:25:30.574Z"
   },
   {
    "duration": 21,
    "start_time": "2023-08-23T12:25:30.611Z"
   },
   {
    "duration": 29,
    "start_time": "2023-08-23T12:25:30.634Z"
   },
   {
    "duration": 18,
    "start_time": "2023-08-23T12:25:30.665Z"
   },
   {
    "duration": 23,
    "start_time": "2023-08-23T12:25:30.685Z"
   },
   {
    "duration": 209,
    "start_time": "2023-08-23T12:25:30.711Z"
   },
   {
    "duration": 13,
    "start_time": "2023-08-23T12:25:30.922Z"
   },
   {
    "duration": 49,
    "start_time": "2023-08-23T12:25:30.936Z"
   },
   {
    "duration": 75,
    "start_time": "2023-08-23T12:25:30.987Z"
   },
   {
    "duration": 221,
    "start_time": "2023-08-23T12:25:31.064Z"
   },
   {
    "duration": 11,
    "start_time": "2023-08-23T12:25:31.287Z"
   },
   {
    "duration": 20,
    "start_time": "2023-08-23T12:25:31.299Z"
   },
   {
    "duration": 29,
    "start_time": "2023-08-23T12:25:31.321Z"
   },
   {
    "duration": 46,
    "start_time": "2023-08-23T12:25:31.352Z"
   },
   {
    "duration": 262,
    "start_time": "2023-08-23T12:25:31.400Z"
   },
   {
    "duration": 309,
    "start_time": "2023-08-23T12:25:31.664Z"
   },
   {
    "duration": 7,
    "start_time": "2023-08-23T12:25:31.975Z"
   },
   {
    "duration": 268,
    "start_time": "2023-08-23T12:25:31.984Z"
   },
   {
    "duration": 185,
    "start_time": "2023-08-23T12:25:32.255Z"
   },
   {
    "duration": 7,
    "start_time": "2023-08-23T12:25:32.442Z"
   },
   {
    "duration": 24,
    "start_time": "2023-08-23T12:25:32.453Z"
   },
   {
    "duration": 357,
    "start_time": "2023-08-23T12:25:32.481Z"
   },
   {
    "duration": 7,
    "start_time": "2023-08-23T12:25:32.840Z"
   },
   {
    "duration": 28,
    "start_time": "2023-08-23T12:25:32.849Z"
   },
   {
    "duration": 275,
    "start_time": "2023-08-23T12:25:32.880Z"
   },
   {
    "duration": 11,
    "start_time": "2023-08-23T12:25:33.157Z"
   },
   {
    "duration": 239,
    "start_time": "2023-08-23T12:25:33.169Z"
   },
   {
    "duration": 24,
    "start_time": "2023-08-23T12:25:33.409Z"
   },
   {
    "duration": 11,
    "start_time": "2023-08-23T12:25:33.434Z"
   },
   {
    "duration": 13,
    "start_time": "2023-08-23T12:25:33.447Z"
   },
   {
    "duration": 14,
    "start_time": "2023-08-23T12:25:33.482Z"
   },
   {
    "duration": 18,
    "start_time": "2023-08-23T12:25:33.498Z"
   },
   {
    "duration": 272,
    "start_time": "2023-08-23T12:25:33.518Z"
   },
   {
    "duration": 229,
    "start_time": "2023-08-23T12:25:33.791Z"
   },
   {
    "duration": 16,
    "start_time": "2023-08-23T12:25:34.021Z"
   },
   {
    "duration": 257,
    "start_time": "2023-08-23T12:25:34.038Z"
   },
   {
    "duration": 321,
    "start_time": "2023-08-23T12:25:34.297Z"
   },
   {
    "duration": 15,
    "start_time": "2023-08-23T12:25:34.621Z"
   },
   {
    "duration": 24,
    "start_time": "2023-08-23T12:25:39.730Z"
   },
   {
    "duration": 32,
    "start_time": "2023-08-23T12:26:30.300Z"
   },
   {
    "duration": 52,
    "start_time": "2023-08-23T12:27:09.155Z"
   },
   {
    "duration": 35,
    "start_time": "2023-08-23T12:27:20.803Z"
   },
   {
    "duration": 411,
    "start_time": "2023-08-23T12:29:08.941Z"
   },
   {
    "duration": 765,
    "start_time": "2023-08-23T12:29:18.960Z"
   },
   {
    "duration": 22,
    "start_time": "2023-08-23T12:29:29.308Z"
   },
   {
    "duration": 34,
    "start_time": "2023-08-23T12:29:37.909Z"
   },
   {
    "duration": 34,
    "start_time": "2023-08-23T12:30:05.828Z"
   },
   {
    "duration": 94,
    "start_time": "2023-08-23T12:34:22.839Z"
   },
   {
    "duration": 16,
    "start_time": "2023-08-23T12:35:14.645Z"
   },
   {
    "duration": 4,
    "start_time": "2023-08-23T12:35:19.323Z"
   },
   {
    "duration": 41,
    "start_time": "2023-08-23T12:35:19.329Z"
   },
   {
    "duration": 9,
    "start_time": "2023-08-23T12:35:19.371Z"
   },
   {
    "duration": 34,
    "start_time": "2023-08-23T12:35:19.382Z"
   },
   {
    "duration": 10,
    "start_time": "2023-08-23T12:35:19.419Z"
   },
   {
    "duration": 28,
    "start_time": "2023-08-23T12:35:19.431Z"
   },
   {
    "duration": 7,
    "start_time": "2023-08-23T12:35:19.461Z"
   },
   {
    "duration": 4,
    "start_time": "2023-08-23T12:35:19.481Z"
   },
   {
    "duration": 4,
    "start_time": "2023-08-23T12:35:19.488Z"
   },
   {
    "duration": 6,
    "start_time": "2023-08-23T12:35:19.494Z"
   },
   {
    "duration": 9,
    "start_time": "2023-08-23T12:35:19.502Z"
   },
   {
    "duration": 5,
    "start_time": "2023-08-23T12:35:19.513Z"
   },
   {
    "duration": 12,
    "start_time": "2023-08-23T12:35:19.520Z"
   },
   {
    "duration": 54,
    "start_time": "2023-08-23T12:35:19.536Z"
   },
   {
    "duration": 6,
    "start_time": "2023-08-23T12:35:19.592Z"
   },
   {
    "duration": 6,
    "start_time": "2023-08-23T12:35:19.601Z"
   },
   {
    "duration": 10,
    "start_time": "2023-08-23T12:35:19.609Z"
   },
   {
    "duration": 10,
    "start_time": "2023-08-23T12:35:19.621Z"
   },
   {
    "duration": 49,
    "start_time": "2023-08-23T12:35:19.633Z"
   },
   {
    "duration": 4,
    "start_time": "2023-08-23T12:35:19.685Z"
   },
   {
    "duration": 7,
    "start_time": "2023-08-23T12:35:19.691Z"
   },
   {
    "duration": 6,
    "start_time": "2023-08-23T12:35:19.699Z"
   },
   {
    "duration": 15,
    "start_time": "2023-08-23T12:35:19.707Z"
   },
   {
    "duration": 7,
    "start_time": "2023-08-23T12:35:19.724Z"
   },
   {
    "duration": 49,
    "start_time": "2023-08-23T12:35:19.733Z"
   },
   {
    "duration": 210,
    "start_time": "2023-08-23T12:35:19.784Z"
   },
   {
    "duration": 16,
    "start_time": "2023-08-23T12:35:19.996Z"
   },
   {
    "duration": 7,
    "start_time": "2023-08-23T12:35:20.014Z"
   },
   {
    "duration": 9,
    "start_time": "2023-08-23T12:35:20.023Z"
   },
   {
    "duration": 249,
    "start_time": "2023-08-23T12:35:20.034Z"
   },
   {
    "duration": 11,
    "start_time": "2023-08-23T12:35:20.285Z"
   },
   {
    "duration": 7,
    "start_time": "2023-08-23T12:35:20.298Z"
   },
   {
    "duration": 17,
    "start_time": "2023-08-23T12:35:20.306Z"
   },
   {
    "duration": 28,
    "start_time": "2023-08-23T12:35:20.325Z"
   },
   {
    "duration": 217,
    "start_time": "2023-08-23T12:35:20.355Z"
   },
   {
    "duration": 312,
    "start_time": "2023-08-23T12:35:20.574Z"
   },
   {
    "duration": 6,
    "start_time": "2023-08-23T12:35:20.888Z"
   },
   {
    "duration": 283,
    "start_time": "2023-08-23T12:35:20.896Z"
   },
   {
    "duration": 172,
    "start_time": "2023-08-23T12:35:21.182Z"
   },
   {
    "duration": 6,
    "start_time": "2023-08-23T12:35:21.356Z"
   },
   {
    "duration": 21,
    "start_time": "2023-08-23T12:35:21.366Z"
   },
   {
    "duration": 343,
    "start_time": "2023-08-23T12:35:21.389Z"
   },
   {
    "duration": 8,
    "start_time": "2023-08-23T12:35:21.734Z"
   },
   {
    "duration": 9,
    "start_time": "2023-08-23T12:35:21.744Z"
   },
   {
    "duration": 272,
    "start_time": "2023-08-23T12:35:21.755Z"
   },
   {
    "duration": 13,
    "start_time": "2023-08-23T12:35:22.029Z"
   },
   {
    "duration": 222,
    "start_time": "2023-08-23T12:35:22.044Z"
   },
   {
    "duration": 32,
    "start_time": "2023-08-23T12:35:22.268Z"
   },
   {
    "duration": 11,
    "start_time": "2023-08-23T12:35:22.302Z"
   },
   {
    "duration": 20,
    "start_time": "2023-08-23T12:35:22.315Z"
   },
   {
    "duration": 30,
    "start_time": "2023-08-23T12:35:22.337Z"
   },
   {
    "duration": 30,
    "start_time": "2023-08-23T12:35:22.369Z"
   },
   {
    "duration": 333,
    "start_time": "2023-08-23T12:35:22.401Z"
   },
   {
    "duration": 232,
    "start_time": "2023-08-23T12:35:22.736Z"
   },
   {
    "duration": 27,
    "start_time": "2023-08-23T12:35:22.970Z"
   },
   {
    "duration": 285,
    "start_time": "2023-08-23T12:35:22.999Z"
   },
   {
    "duration": 238,
    "start_time": "2023-08-23T12:35:23.286Z"
   },
   {
    "duration": 23,
    "start_time": "2023-08-23T12:35:26.135Z"
   },
   {
    "duration": 19,
    "start_time": "2023-08-23T12:35:56.444Z"
   },
   {
    "duration": 17,
    "start_time": "2023-08-23T12:36:29.322Z"
   },
   {
    "duration": 14,
    "start_time": "2023-08-23T12:36:54.840Z"
   },
   {
    "duration": 3,
    "start_time": "2023-08-23T12:37:04.931Z"
   },
   {
    "duration": 41,
    "start_time": "2023-08-23T12:37:04.936Z"
   },
   {
    "duration": 9,
    "start_time": "2023-08-23T12:37:04.979Z"
   },
   {
    "duration": 51,
    "start_time": "2023-08-23T12:37:04.990Z"
   },
   {
    "duration": 10,
    "start_time": "2023-08-23T12:37:05.042Z"
   },
   {
    "duration": 27,
    "start_time": "2023-08-23T12:37:05.053Z"
   },
   {
    "duration": 9,
    "start_time": "2023-08-23T12:37:05.082Z"
   },
   {
    "duration": 20,
    "start_time": "2023-08-23T12:37:05.092Z"
   },
   {
    "duration": 6,
    "start_time": "2023-08-23T12:37:05.115Z"
   },
   {
    "duration": 24,
    "start_time": "2023-08-23T12:37:05.122Z"
   },
   {
    "duration": 19,
    "start_time": "2023-08-23T12:37:05.148Z"
   },
   {
    "duration": 11,
    "start_time": "2023-08-23T12:37:05.169Z"
   },
   {
    "duration": 14,
    "start_time": "2023-08-23T12:37:05.182Z"
   },
   {
    "duration": 17,
    "start_time": "2023-08-23T12:37:05.198Z"
   },
   {
    "duration": 15,
    "start_time": "2023-08-23T12:37:05.217Z"
   },
   {
    "duration": 9,
    "start_time": "2023-08-23T12:37:05.234Z"
   },
   {
    "duration": 23,
    "start_time": "2023-08-23T12:37:05.245Z"
   },
   {
    "duration": 14,
    "start_time": "2023-08-23T12:37:05.270Z"
   },
   {
    "duration": 6,
    "start_time": "2023-08-23T12:37:05.285Z"
   },
   {
    "duration": 17,
    "start_time": "2023-08-23T12:37:05.293Z"
   },
   {
    "duration": 10,
    "start_time": "2023-08-23T12:37:05.311Z"
   },
   {
    "duration": 10,
    "start_time": "2023-08-23T12:37:05.323Z"
   },
   {
    "duration": 23,
    "start_time": "2023-08-23T12:37:05.335Z"
   },
   {
    "duration": 20,
    "start_time": "2023-08-23T12:37:05.361Z"
   },
   {
    "duration": 8,
    "start_time": "2023-08-23T12:37:05.383Z"
   },
   {
    "duration": 191,
    "start_time": "2023-08-23T12:37:05.393Z"
   },
   {
    "duration": 11,
    "start_time": "2023-08-23T12:37:05.586Z"
   },
   {
    "duration": 7,
    "start_time": "2023-08-23T12:37:05.599Z"
   },
   {
    "duration": 8,
    "start_time": "2023-08-23T12:37:05.608Z"
   },
   {
    "duration": 204,
    "start_time": "2023-08-23T12:37:05.617Z"
   },
   {
    "duration": 11,
    "start_time": "2023-08-23T12:37:05.823Z"
   },
   {
    "duration": 5,
    "start_time": "2023-08-23T12:37:05.835Z"
   },
   {
    "duration": 18,
    "start_time": "2023-08-23T12:37:05.842Z"
   },
   {
    "duration": 25,
    "start_time": "2023-08-23T12:37:05.862Z"
   },
   {
    "duration": 218,
    "start_time": "2023-08-23T12:37:05.890Z"
   },
   {
    "duration": 309,
    "start_time": "2023-08-23T12:37:06.110Z"
   },
   {
    "duration": 6,
    "start_time": "2023-08-23T12:37:06.420Z"
   },
   {
    "duration": 254,
    "start_time": "2023-08-23T12:37:06.428Z"
   },
   {
    "duration": 211,
    "start_time": "2023-08-23T12:37:06.684Z"
   },
   {
    "duration": 5,
    "start_time": "2023-08-23T12:37:06.897Z"
   },
   {
    "duration": 8,
    "start_time": "2023-08-23T12:37:06.904Z"
   },
   {
    "duration": 479,
    "start_time": "2023-08-23T12:37:06.914Z"
   },
   {
    "duration": 12,
    "start_time": "2023-08-23T12:37:07.396Z"
   },
   {
    "duration": 60,
    "start_time": "2023-08-23T12:37:07.410Z"
   },
   {
    "duration": 262,
    "start_time": "2023-08-23T12:37:07.472Z"
   },
   {
    "duration": 10,
    "start_time": "2023-08-23T12:37:07.736Z"
   },
   {
    "duration": 233,
    "start_time": "2023-08-23T12:37:07.748Z"
   },
   {
    "duration": 25,
    "start_time": "2023-08-23T12:37:07.982Z"
   },
   {
    "duration": 11,
    "start_time": "2023-08-23T12:37:08.008Z"
   },
   {
    "duration": 35,
    "start_time": "2023-08-23T12:37:08.021Z"
   },
   {
    "duration": 13,
    "start_time": "2023-08-23T12:37:08.058Z"
   },
   {
    "duration": 27,
    "start_time": "2023-08-23T12:37:08.073Z"
   },
   {
    "duration": 249,
    "start_time": "2023-08-23T12:37:08.102Z"
   },
   {
    "duration": 231,
    "start_time": "2023-08-23T12:37:08.352Z"
   },
   {
    "duration": 16,
    "start_time": "2023-08-23T12:37:08.585Z"
   },
   {
    "duration": 264,
    "start_time": "2023-08-23T12:37:08.602Z"
   },
   {
    "duration": 230,
    "start_time": "2023-08-23T12:37:08.869Z"
   },
   {
    "duration": 17,
    "start_time": "2023-08-23T12:37:11.741Z"
   },
   {
    "duration": 5,
    "start_time": "2023-08-23T12:37:30.749Z"
   },
   {
    "duration": 26,
    "start_time": "2023-08-23T12:38:43.394Z"
   },
   {
    "duration": 18,
    "start_time": "2023-08-23T12:40:01.564Z"
   },
   {
    "duration": 17,
    "start_time": "2023-08-23T12:40:11.875Z"
   },
   {
    "duration": 28,
    "start_time": "2023-08-23T12:40:17.769Z"
   },
   {
    "duration": 9,
    "start_time": "2023-08-23T12:41:34.849Z"
   },
   {
    "duration": 12,
    "start_time": "2023-08-23T12:41:52.121Z"
   },
   {
    "duration": 13,
    "start_time": "2023-08-23T12:41:58.116Z"
   },
   {
    "duration": 102,
    "start_time": "2023-08-23T12:42:02.623Z"
   },
   {
    "duration": 26,
    "start_time": "2023-08-23T12:42:52.724Z"
   },
   {
    "duration": 27,
    "start_time": "2023-08-23T12:43:09.321Z"
   },
   {
    "duration": 30,
    "start_time": "2023-08-23T12:44:19.733Z"
   },
   {
    "duration": 26,
    "start_time": "2023-08-23T12:44:32.770Z"
   },
   {
    "duration": 50,
    "start_time": "2023-08-23T12:44:58.658Z"
   },
   {
    "duration": 25,
    "start_time": "2023-08-23T12:45:13.645Z"
   },
   {
    "duration": 26,
    "start_time": "2023-08-23T12:46:46.128Z"
   },
   {
    "duration": 46,
    "start_time": "2023-08-23T12:49:33.058Z"
   },
   {
    "duration": 41,
    "start_time": "2023-08-23T12:49:54.820Z"
   },
   {
    "duration": 7,
    "start_time": "2023-08-23T12:58:55.023Z"
   },
   {
    "duration": 8,
    "start_time": "2023-08-23T13:12:25.765Z"
   },
   {
    "duration": 5,
    "start_time": "2023-08-23T13:19:10.466Z"
   },
   {
    "duration": 20,
    "start_time": "2023-08-23T13:20:14.713Z"
   },
   {
    "duration": 25,
    "start_time": "2023-08-23T13:20:20.838Z"
   },
   {
    "duration": 4,
    "start_time": "2023-08-23T13:23:02.962Z"
   },
   {
    "duration": 445,
    "start_time": "2023-08-23T13:23:05.343Z"
   },
   {
    "duration": 512,
    "start_time": "2023-08-23T13:23:11.021Z"
   },
   {
    "duration": 5,
    "start_time": "2023-08-23T13:26:21.107Z"
   },
   {
    "duration": 6,
    "start_time": "2023-08-23T13:27:12.605Z"
   },
   {
    "duration": 419,
    "start_time": "2023-08-23T13:27:13.854Z"
   },
   {
    "duration": 400,
    "start_time": "2023-08-23T13:27:26.134Z"
   },
   {
    "duration": 10,
    "start_time": "2023-08-23T13:53:05.717Z"
   },
   {
    "duration": 470,
    "start_time": "2023-08-23T13:53:24.045Z"
   },
   {
    "duration": 6,
    "start_time": "2023-08-23T13:53:28.062Z"
   },
   {
    "duration": 6,
    "start_time": "2023-08-23T13:55:02.721Z"
   },
   {
    "duration": 19,
    "start_time": "2023-08-23T13:56:06.085Z"
   },
   {
    "duration": 12,
    "start_time": "2023-08-23T13:56:12.753Z"
   },
   {
    "duration": 16,
    "start_time": "2023-08-23T13:56:18.401Z"
   },
   {
    "duration": 13,
    "start_time": "2023-08-23T13:56:22.405Z"
   },
   {
    "duration": 6,
    "start_time": "2023-08-23T13:58:52.549Z"
   },
   {
    "duration": 6,
    "start_time": "2023-08-23T13:58:56.425Z"
   },
   {
    "duration": 5,
    "start_time": "2023-08-23T13:59:01.801Z"
   },
   {
    "duration": 6,
    "start_time": "2023-08-23T13:59:06.847Z"
   },
   {
    "duration": 6,
    "start_time": "2023-08-23T13:59:22.245Z"
   },
   {
    "duration": 569,
    "start_time": "2023-08-23T14:05:49.388Z"
   },
   {
    "duration": 414,
    "start_time": "2023-08-23T14:06:43.904Z"
   },
   {
    "duration": 568,
    "start_time": "2023-08-23T14:08:06.462Z"
   },
   {
    "duration": 480,
    "start_time": "2023-08-23T14:09:34.012Z"
   },
   {
    "duration": 503,
    "start_time": "2023-08-23T14:10:32.050Z"
   },
   {
    "duration": 484,
    "start_time": "2023-08-23T14:10:44.329Z"
   },
   {
    "duration": 588,
    "start_time": "2023-08-23T14:12:12.848Z"
   },
   {
    "duration": 485,
    "start_time": "2023-08-23T14:12:42.089Z"
   },
   {
    "duration": 522,
    "start_time": "2023-08-23T14:15:31.997Z"
   },
   {
    "duration": 7,
    "start_time": "2023-08-23T14:16:06.889Z"
   },
   {
    "duration": 7,
    "start_time": "2023-08-23T14:16:25.089Z"
   },
   {
    "duration": 498,
    "start_time": "2023-08-23T14:17:23.634Z"
   },
   {
    "duration": 5,
    "start_time": "2023-08-23T14:51:16.133Z"
   },
   {
    "duration": 6,
    "start_time": "2023-08-23T14:51:53.294Z"
   },
   {
    "duration": 6,
    "start_time": "2023-08-23T14:51:58.023Z"
   },
   {
    "duration": 6,
    "start_time": "2023-08-23T14:55:41.102Z"
   },
   {
    "duration": 7,
    "start_time": "2023-08-23T15:09:52.828Z"
   },
   {
    "duration": 12,
    "start_time": "2023-08-23T15:09:58.133Z"
   },
   {
    "duration": 9,
    "start_time": "2023-08-23T15:10:46.167Z"
   },
   {
    "duration": 5,
    "start_time": "2023-08-23T15:11:08.217Z"
   },
   {
    "duration": 109,
    "start_time": "2023-08-23T15:14:10.777Z"
   },
   {
    "duration": 10,
    "start_time": "2023-08-23T15:17:02.626Z"
   },
   {
    "duration": 4,
    "start_time": "2023-08-23T15:33:32.956Z"
   },
   {
    "duration": 6,
    "start_time": "2023-08-23T15:39:02.588Z"
   },
   {
    "duration": 4,
    "start_time": "2023-08-23T15:39:03.881Z"
   },
   {
    "duration": 1130,
    "start_time": "2023-08-23T15:47:53.095Z"
   },
   {
    "duration": 37,
    "start_time": "2023-08-23T15:47:54.227Z"
   },
   {
    "duration": 11,
    "start_time": "2023-08-23T15:47:54.266Z"
   },
   {
    "duration": 34,
    "start_time": "2023-08-23T15:47:54.279Z"
   },
   {
    "duration": 9,
    "start_time": "2023-08-23T15:47:54.315Z"
   },
   {
    "duration": 23,
    "start_time": "2023-08-23T15:47:54.325Z"
   },
   {
    "duration": 7,
    "start_time": "2023-08-23T15:47:54.349Z"
   },
   {
    "duration": 13,
    "start_time": "2023-08-23T15:47:54.357Z"
   },
   {
    "duration": 5,
    "start_time": "2023-08-23T15:47:54.371Z"
   },
   {
    "duration": 10,
    "start_time": "2023-08-23T15:47:54.378Z"
   },
   {
    "duration": 14,
    "start_time": "2023-08-23T15:47:54.390Z"
   },
   {
    "duration": 5,
    "start_time": "2023-08-23T15:47:54.406Z"
   },
   {
    "duration": 8,
    "start_time": "2023-08-23T15:47:54.413Z"
   },
   {
    "duration": 14,
    "start_time": "2023-08-23T15:47:54.423Z"
   },
   {
    "duration": 8,
    "start_time": "2023-08-23T15:47:54.439Z"
   },
   {
    "duration": 5,
    "start_time": "2023-08-23T15:47:54.448Z"
   },
   {
    "duration": 9,
    "start_time": "2023-08-23T15:47:54.455Z"
   },
   {
    "duration": 20,
    "start_time": "2023-08-23T15:47:54.465Z"
   },
   {
    "duration": 12,
    "start_time": "2023-08-23T15:47:54.487Z"
   },
   {
    "duration": 8,
    "start_time": "2023-08-23T15:47:54.501Z"
   },
   {
    "duration": 19,
    "start_time": "2023-08-23T15:47:54.510Z"
   },
   {
    "duration": 26,
    "start_time": "2023-08-23T15:47:54.531Z"
   },
   {
    "duration": 41,
    "start_time": "2023-08-23T15:47:54.559Z"
   },
   {
    "duration": 13,
    "start_time": "2023-08-23T15:47:54.602Z"
   },
   {
    "duration": 9,
    "start_time": "2023-08-23T15:47:54.617Z"
   },
   {
    "duration": 189,
    "start_time": "2023-08-23T15:47:54.628Z"
   },
   {
    "duration": 14,
    "start_time": "2023-08-23T15:47:54.818Z"
   },
   {
    "duration": 13,
    "start_time": "2023-08-23T15:47:54.834Z"
   },
   {
    "duration": 10,
    "start_time": "2023-08-23T15:47:54.848Z"
   },
   {
    "duration": 193,
    "start_time": "2023-08-23T15:47:54.861Z"
   },
   {
    "duration": 11,
    "start_time": "2023-08-23T15:47:55.055Z"
   },
   {
    "duration": 17,
    "start_time": "2023-08-23T15:47:55.069Z"
   },
   {
    "duration": 13,
    "start_time": "2023-08-23T15:47:55.087Z"
   },
   {
    "duration": 8,
    "start_time": "2023-08-23T15:47:55.101Z"
   },
   {
    "duration": 216,
    "start_time": "2023-08-23T15:47:55.110Z"
   },
   {
    "duration": 272,
    "start_time": "2023-08-23T15:47:55.327Z"
   },
   {
    "duration": 6,
    "start_time": "2023-08-23T15:47:55.600Z"
   },
   {
    "duration": 185,
    "start_time": "2023-08-23T15:47:55.608Z"
   },
   {
    "duration": 177,
    "start_time": "2023-08-23T15:47:55.794Z"
   },
   {
    "duration": 10,
    "start_time": "2023-08-23T15:47:55.973Z"
   },
   {
    "duration": 11,
    "start_time": "2023-08-23T15:47:55.987Z"
   },
   {
    "duration": 371,
    "start_time": "2023-08-23T15:47:55.999Z"
   },
   {
    "duration": 14,
    "start_time": "2023-08-23T15:47:56.372Z"
   },
   {
    "duration": 14,
    "start_time": "2023-08-23T15:47:56.388Z"
   },
   {
    "duration": 307,
    "start_time": "2023-08-23T15:47:56.405Z"
   },
   {
    "duration": 12,
    "start_time": "2023-08-23T15:47:56.714Z"
   },
   {
    "duration": 324,
    "start_time": "2023-08-23T15:47:56.728Z"
   },
   {
    "duration": 31,
    "start_time": "2023-08-23T15:47:57.054Z"
   },
   {
    "duration": 9,
    "start_time": "2023-08-23T15:47:57.087Z"
   },
   {
    "duration": 29,
    "start_time": "2023-08-23T15:47:57.098Z"
   },
   {
    "duration": 17,
    "start_time": "2023-08-23T15:47:57.128Z"
   },
   {
    "duration": 41,
    "start_time": "2023-08-23T15:47:57.147Z"
   },
   {
    "duration": 263,
    "start_time": "2023-08-23T15:47:57.190Z"
   },
   {
    "duration": 229,
    "start_time": "2023-08-23T15:47:57.455Z"
   },
   {
    "duration": 16,
    "start_time": "2023-08-23T15:47:57.686Z"
   },
   {
    "duration": 268,
    "start_time": "2023-08-23T15:47:57.704Z"
   },
   {
    "duration": 235,
    "start_time": "2023-08-23T15:47:57.974Z"
   },
   {
    "duration": 32,
    "start_time": "2023-08-23T15:47:58.211Z"
   },
   {
    "duration": 4,
    "start_time": "2023-08-23T15:47:58.245Z"
   },
   {
    "duration": 377,
    "start_time": "2023-08-23T15:47:58.251Z"
   },
   {
    "duration": 479,
    "start_time": "2023-08-23T15:47:58.629Z"
   },
   {
    "duration": 5,
    "start_time": "2023-08-23T15:47:59.110Z"
   },
   {
    "duration": 13,
    "start_time": "2023-08-23T15:47:59.117Z"
   },
   {
    "duration": 5,
    "start_time": "2023-08-23T15:47:59.132Z"
   },
   {
    "duration": 1272,
    "start_time": "2023-08-25T15:39:19.021Z"
   },
   {
    "duration": 101,
    "start_time": "2023-08-25T15:39:20.295Z"
   },
   {
    "duration": 11,
    "start_time": "2023-08-25T15:39:20.398Z"
   },
   {
    "duration": 92,
    "start_time": "2023-08-25T15:39:20.410Z"
   },
   {
    "duration": 8,
    "start_time": "2023-08-25T15:39:20.504Z"
   },
   {
    "duration": 94,
    "start_time": "2023-08-25T15:39:20.514Z"
   },
   {
    "duration": 6,
    "start_time": "2023-08-25T15:39:20.609Z"
   },
   {
    "duration": 43,
    "start_time": "2023-08-25T15:39:20.616Z"
   },
   {
    "duration": 23,
    "start_time": "2023-08-25T15:39:20.661Z"
   },
   {
    "duration": 20,
    "start_time": "2023-08-25T15:39:20.685Z"
   },
   {
    "duration": 27,
    "start_time": "2023-08-25T15:39:20.706Z"
   },
   {
    "duration": 7,
    "start_time": "2023-08-25T15:39:20.734Z"
   },
   {
    "duration": 28,
    "start_time": "2023-08-25T15:39:20.742Z"
   },
   {
    "duration": 59,
    "start_time": "2023-08-25T15:39:20.773Z"
   },
   {
    "duration": 42,
    "start_time": "2023-08-25T15:39:20.833Z"
   },
   {
    "duration": 21,
    "start_time": "2023-08-25T15:39:20.877Z"
   },
   {
    "duration": 16,
    "start_time": "2023-08-25T15:39:20.899Z"
   },
   {
    "duration": 8,
    "start_time": "2023-08-25T15:39:20.917Z"
   },
   {
    "duration": 13,
    "start_time": "2023-08-25T15:39:20.926Z"
   },
   {
    "duration": 12,
    "start_time": "2023-08-25T15:39:20.940Z"
   },
   {
    "duration": 12,
    "start_time": "2023-08-25T15:39:20.954Z"
   },
   {
    "duration": 18,
    "start_time": "2023-08-25T15:39:20.968Z"
   },
   {
    "duration": 9,
    "start_time": "2023-08-25T15:39:20.987Z"
   },
   {
    "duration": 5,
    "start_time": "2023-08-25T15:39:20.997Z"
   },
   {
    "duration": 8,
    "start_time": "2023-08-25T15:39:21.003Z"
   },
   {
    "duration": 184,
    "start_time": "2023-08-25T15:39:21.012Z"
   },
   {
    "duration": 10,
    "start_time": "2023-08-25T15:39:21.198Z"
   },
   {
    "duration": 11,
    "start_time": "2023-08-25T15:39:21.210Z"
   },
   {
    "duration": 15,
    "start_time": "2023-08-25T15:39:21.223Z"
   },
   {
    "duration": 180,
    "start_time": "2023-08-25T15:39:21.240Z"
   },
   {
    "duration": 9,
    "start_time": "2023-08-25T15:39:21.422Z"
   },
   {
    "duration": 18,
    "start_time": "2023-08-25T15:39:21.432Z"
   },
   {
    "duration": 15,
    "start_time": "2023-08-25T15:39:21.452Z"
   },
   {
    "duration": 8,
    "start_time": "2023-08-25T15:39:21.469Z"
   },
   {
    "duration": 204,
    "start_time": "2023-08-25T15:39:21.478Z"
   },
   {
    "duration": 261,
    "start_time": "2023-08-25T15:39:21.684Z"
   },
   {
    "duration": 7,
    "start_time": "2023-08-25T15:39:21.949Z"
   },
   {
    "duration": 183,
    "start_time": "2023-08-25T15:39:21.958Z"
   },
   {
    "duration": 155,
    "start_time": "2023-08-25T15:39:22.142Z"
   },
   {
    "duration": 5,
    "start_time": "2023-08-25T15:39:22.298Z"
   },
   {
    "duration": 8,
    "start_time": "2023-08-25T15:39:22.306Z"
   },
   {
    "duration": 328,
    "start_time": "2023-08-25T15:39:22.315Z"
   },
   {
    "duration": 11,
    "start_time": "2023-08-25T15:39:22.645Z"
   },
   {
    "duration": 13,
    "start_time": "2023-08-25T15:39:22.658Z"
   },
   {
    "duration": 225,
    "start_time": "2023-08-25T15:39:22.673Z"
   },
   {
    "duration": 8,
    "start_time": "2023-08-25T15:39:22.899Z"
   },
   {
    "duration": 277,
    "start_time": "2023-08-25T15:39:22.908Z"
   },
   {
    "duration": 21,
    "start_time": "2023-08-25T15:39:23.186Z"
   },
   {
    "duration": 9,
    "start_time": "2023-08-25T15:39:23.209Z"
   },
   {
    "duration": 16,
    "start_time": "2023-08-25T15:39:23.220Z"
   },
   {
    "duration": 29,
    "start_time": "2023-08-25T15:39:23.238Z"
   },
   {
    "duration": 41,
    "start_time": "2023-08-25T15:39:23.268Z"
   },
   {
    "duration": 249,
    "start_time": "2023-08-25T15:39:23.311Z"
   },
   {
    "duration": 206,
    "start_time": "2023-08-25T15:39:23.562Z"
   },
   {
    "duration": 15,
    "start_time": "2023-08-25T15:39:23.770Z"
   },
   {
    "duration": 241,
    "start_time": "2023-08-25T15:39:23.786Z"
   },
   {
    "duration": 193,
    "start_time": "2023-08-25T15:39:24.029Z"
   },
   {
    "duration": 46,
    "start_time": "2023-08-25T15:39:24.223Z"
   },
   {
    "duration": 4,
    "start_time": "2023-08-25T15:39:24.271Z"
   },
   {
    "duration": 369,
    "start_time": "2023-08-25T15:39:24.276Z"
   },
   {
    "duration": 511,
    "start_time": "2023-08-25T15:39:24.647Z"
   },
   {
    "duration": 6,
    "start_time": "2023-08-25T15:39:25.160Z"
   },
   {
    "duration": 23,
    "start_time": "2023-08-25T15:39:25.167Z"
   },
   {
    "duration": 5,
    "start_time": "2023-08-25T15:39:25.191Z"
   },
   {
    "duration": 95,
    "start_time": "2023-08-25T15:39:43.030Z"
   },
   {
    "duration": 9,
    "start_time": "2023-08-25T15:39:52.653Z"
   },
   {
    "duration": 4,
    "start_time": "2023-08-25T15:40:09.134Z"
   },
   {
    "duration": 704,
    "start_time": "2023-08-25T15:40:14.196Z"
   },
   {
    "duration": 645,
    "start_time": "2023-08-25T15:40:29.705Z"
   },
   {
    "duration": 663,
    "start_time": "2023-08-25T15:40:31.725Z"
   },
   {
    "duration": 584,
    "start_time": "2023-08-25T15:40:33.102Z"
   },
   {
    "duration": 5,
    "start_time": "2023-08-25T15:42:09.427Z"
   },
   {
    "duration": 245,
    "start_time": "2023-08-25T15:42:48.207Z"
   },
   {
    "duration": 401,
    "start_time": "2023-08-25T15:44:46.910Z"
   },
   {
    "duration": 197,
    "start_time": "2023-08-25T15:46:23.008Z"
   },
   {
    "duration": 9,
    "start_time": "2023-08-25T15:48:34.975Z"
   },
   {
    "duration": 3,
    "start_time": "2023-08-25T15:48:59.537Z"
   },
   {
    "duration": 4,
    "start_time": "2023-08-25T15:49:04.613Z"
   },
   {
    "duration": 603,
    "start_time": "2023-08-25T15:52:20.032Z"
   },
   {
    "duration": 115,
    "start_time": "2023-08-25T15:53:24.575Z"
   },
   {
    "duration": 833,
    "start_time": "2023-08-25T15:53:27.619Z"
   },
   {
    "duration": 341,
    "start_time": "2023-08-25T15:53:40.777Z"
   },
   {
    "duration": 190,
    "start_time": "2023-08-25T15:59:33.888Z"
   },
   {
    "duration": 9487,
    "start_time": "2023-08-25T15:59:44.181Z"
   },
   {
    "duration": 1073,
    "start_time": "2023-08-25T16:00:01.986Z"
   },
   {
    "duration": 352,
    "start_time": "2023-08-25T16:00:09.004Z"
   },
   {
    "duration": 400,
    "start_time": "2023-08-25T16:03:41.625Z"
   },
   {
    "duration": 195,
    "start_time": "2023-08-25T16:06:20.545Z"
   },
   {
    "duration": 205,
    "start_time": "2023-08-25T16:06:28.328Z"
   },
   {
    "duration": 248,
    "start_time": "2023-08-25T16:06:32.638Z"
   },
   {
    "duration": 76,
    "start_time": "2023-08-25T16:11:16.140Z"
   },
   {
    "duration": 4,
    "start_time": "2023-08-25T16:53:35.184Z"
   },
   {
    "duration": 5,
    "start_time": "2023-08-25T16:53:40.289Z"
   },
   {
    "duration": 6,
    "start_time": "2023-08-25T16:53:43.991Z"
   },
   {
    "duration": 5,
    "start_time": "2023-08-25T16:55:42.388Z"
   },
   {
    "duration": 12,
    "start_time": "2023-08-25T16:55:50.740Z"
   },
   {
    "duration": 13,
    "start_time": "2023-08-25T16:57:12.727Z"
   },
   {
    "duration": 106,
    "start_time": "2023-08-25T17:00:50.911Z"
   },
   {
    "duration": 141,
    "start_time": "2023-08-25T17:01:05.955Z"
   },
   {
    "duration": 111,
    "start_time": "2023-08-25T17:02:13.370Z"
   },
   {
    "duration": 143,
    "start_time": "2023-08-25T17:02:42.370Z"
   },
   {
    "duration": 83,
    "start_time": "2023-08-25T17:02:49.900Z"
   },
   {
    "duration": 99,
    "start_time": "2023-08-25T17:03:10.462Z"
   },
   {
    "duration": 261,
    "start_time": "2023-08-25T17:03:15.499Z"
   },
   {
    "duration": 85,
    "start_time": "2023-08-25T17:03:28.959Z"
   },
   {
    "duration": 101,
    "start_time": "2023-08-25T17:04:30.301Z"
   },
   {
    "duration": 98,
    "start_time": "2023-08-25T17:05:15.085Z"
   },
   {
    "duration": 114,
    "start_time": "2023-08-25T17:05:24.309Z"
   },
   {
    "duration": 137,
    "start_time": "2023-08-25T17:06:14.386Z"
   },
   {
    "duration": 115,
    "start_time": "2023-08-25T17:07:12.587Z"
   },
   {
    "duration": 11,
    "start_time": "2023-08-25T17:07:46.847Z"
   },
   {
    "duration": 10,
    "start_time": "2023-08-25T17:08:13.887Z"
   },
   {
    "duration": 183,
    "start_time": "2023-08-25T17:09:07.924Z"
   },
   {
    "duration": 11,
    "start_time": "2023-08-25T17:09:31.690Z"
   },
   {
    "duration": 120,
    "start_time": "2023-08-25T17:09:39.366Z"
   },
   {
    "duration": 120,
    "start_time": "2023-08-25T17:10:12.741Z"
   },
   {
    "duration": 130,
    "start_time": "2023-08-25T17:10:39.992Z"
   },
   {
    "duration": 110,
    "start_time": "2023-08-25T17:10:44.873Z"
   },
   {
    "duration": 261,
    "start_time": "2023-08-25T17:13:20.836Z"
   },
   {
    "duration": 246,
    "start_time": "2023-08-25T17:13:28.514Z"
   },
   {
    "duration": 254,
    "start_time": "2023-08-25T17:17:53.168Z"
   },
   {
    "duration": 265,
    "start_time": "2023-08-25T17:18:00.222Z"
   },
   {
    "duration": 209,
    "start_time": "2023-08-25T17:18:21.898Z"
   },
   {
    "duration": 228,
    "start_time": "2023-08-25T17:19:09.588Z"
   },
   {
    "duration": 413,
    "start_time": "2023-08-25T17:19:16.631Z"
   },
   {
    "duration": 322,
    "start_time": "2023-08-25T17:19:23.998Z"
   },
   {
    "duration": 4,
    "start_time": "2023-08-25T17:29:05.730Z"
   },
   {
    "duration": 6,
    "start_time": "2023-08-25T17:29:38.266Z"
   },
   {
    "duration": 5,
    "start_time": "2023-08-25T17:32:19.922Z"
   },
   {
    "duration": 6,
    "start_time": "2023-08-25T17:32:46.993Z"
   },
   {
    "duration": 346,
    "start_time": "2023-08-25T17:34:25.469Z"
   },
   {
    "duration": 4,
    "start_time": "2023-08-25T17:34:28.573Z"
   },
   {
    "duration": 5,
    "start_time": "2023-08-25T17:34:48.865Z"
   },
   {
    "duration": 403,
    "start_time": "2023-08-25T17:37:46.935Z"
   },
   {
    "duration": 348,
    "start_time": "2023-08-25T17:38:00.698Z"
   },
   {
    "duration": 265,
    "start_time": "2023-08-25T17:38:30.307Z"
   },
   {
    "duration": 501,
    "start_time": "2023-08-25T17:38:45.686Z"
   },
   {
    "duration": 10,
    "start_time": "2023-08-25T17:42:32.770Z"
   },
   {
    "duration": 10,
    "start_time": "2023-08-25T17:43:08.463Z"
   },
   {
    "duration": 18641,
    "start_time": "2023-08-25T17:45:19.100Z"
   },
   {
    "duration": 335,
    "start_time": "2023-08-25T17:45:58.510Z"
   },
   {
    "duration": 311,
    "start_time": "2023-08-25T17:46:47.166Z"
   },
   {
    "duration": 5,
    "start_time": "2023-08-25T17:47:28.839Z"
   },
   {
    "duration": 308,
    "start_time": "2023-08-25T17:49:34.904Z"
   },
   {
    "duration": 9,
    "start_time": "2023-08-25T18:23:14.832Z"
   },
   {
    "duration": 4,
    "start_time": "2023-08-25T18:23:33.469Z"
   },
   {
    "duration": 5,
    "start_time": "2023-08-25T18:23:38.433Z"
   },
   {
    "duration": 102,
    "start_time": "2023-08-25T18:25:58.491Z"
   },
   {
    "duration": 4,
    "start_time": "2023-08-25T18:26:18.171Z"
   },
   {
    "duration": 226,
    "start_time": "2023-08-25T18:26:49.751Z"
   },
   {
    "duration": 122,
    "start_time": "2023-08-25T18:30:40.947Z"
   },
   {
    "duration": 160,
    "start_time": "2023-08-25T18:31:49.095Z"
   },
   {
    "duration": 166,
    "start_time": "2023-08-25T18:35:46.617Z"
   },
   {
    "duration": 325,
    "start_time": "2023-08-25T18:37:37.085Z"
   },
   {
    "duration": 248,
    "start_time": "2023-08-25T18:37:48.884Z"
   },
   {
    "duration": 125,
    "start_time": "2023-08-25T18:38:07.329Z"
   },
   {
    "duration": 119,
    "start_time": "2023-08-25T18:38:13.607Z"
   },
   {
    "duration": 161,
    "start_time": "2023-08-25T18:38:26.655Z"
   },
   {
    "duration": 198,
    "start_time": "2023-08-25T18:38:43.272Z"
   },
   {
    "duration": 209,
    "start_time": "2023-08-25T18:39:05.001Z"
   },
   {
    "duration": 281,
    "start_time": "2023-08-25T18:39:13.908Z"
   },
   {
    "duration": 182,
    "start_time": "2023-08-25T18:39:30.889Z"
   },
   {
    "duration": 195,
    "start_time": "2023-08-25T18:39:41.411Z"
   },
   {
    "duration": 201,
    "start_time": "2023-08-25T18:40:02.955Z"
   },
   {
    "duration": 202,
    "start_time": "2023-08-25T18:40:23.193Z"
   },
   {
    "duration": 167,
    "start_time": "2023-08-25T18:40:37.820Z"
   },
   {
    "duration": 215,
    "start_time": "2023-08-25T18:40:44.435Z"
   },
   {
    "duration": 200,
    "start_time": "2023-08-25T18:41:29.785Z"
   },
   {
    "duration": 209,
    "start_time": "2023-08-25T18:43:56.133Z"
   },
   {
    "duration": 204,
    "start_time": "2023-08-25T18:44:03.913Z"
   },
   {
    "duration": 204,
    "start_time": "2023-08-25T18:44:14.685Z"
   },
   {
    "duration": 278,
    "start_time": "2023-08-25T18:45:08.832Z"
   },
   {
    "duration": 391,
    "start_time": "2023-08-25T18:47:40.520Z"
   },
   {
    "duration": 439,
    "start_time": "2023-08-25T18:47:51.527Z"
   },
   {
    "duration": 428,
    "start_time": "2023-08-25T18:48:21.226Z"
   },
   {
    "duration": 395,
    "start_time": "2023-08-25T18:48:36.099Z"
   },
   {
    "duration": 402,
    "start_time": "2023-08-25T18:48:51.385Z"
   },
   {
    "duration": 493,
    "start_time": "2023-08-25T18:52:52.646Z"
   },
   {
    "duration": 441,
    "start_time": "2023-08-25T18:53:02.341Z"
   },
   {
    "duration": 231,
    "start_time": "2023-08-25T18:58:56.307Z"
   },
   {
    "duration": 205,
    "start_time": "2023-08-25T18:59:05.664Z"
   },
   {
    "duration": 209,
    "start_time": "2023-08-25T18:59:28.248Z"
   },
   {
    "duration": 162,
    "start_time": "2023-08-25T18:59:48.756Z"
   },
   {
    "duration": 442,
    "start_time": "2023-08-25T19:00:03.341Z"
   },
   {
    "duration": 392,
    "start_time": "2023-08-25T19:03:23.465Z"
   },
   {
    "duration": 5,
    "start_time": "2023-08-25T19:04:38.227Z"
   },
   {
    "duration": 6,
    "start_time": "2023-08-25T19:06:22.450Z"
   },
   {
    "duration": 6,
    "start_time": "2023-08-25T19:06:38.214Z"
   },
   {
    "duration": 170,
    "start_time": "2023-08-25T19:26:21.924Z"
   },
   {
    "duration": 3,
    "start_time": "2023-08-25T19:46:49.477Z"
   },
   {
    "duration": 976,
    "start_time": "2023-08-25T20:31:23.303Z"
   },
   {
    "duration": 35,
    "start_time": "2023-08-25T20:31:24.281Z"
   },
   {
    "duration": 9,
    "start_time": "2023-08-25T20:31:24.318Z"
   },
   {
    "duration": 33,
    "start_time": "2023-08-25T20:31:24.329Z"
   },
   {
    "duration": 8,
    "start_time": "2023-08-25T20:31:24.363Z"
   },
   {
    "duration": 26,
    "start_time": "2023-08-25T20:31:24.372Z"
   },
   {
    "duration": 6,
    "start_time": "2023-08-25T20:31:24.399Z"
   },
   {
    "duration": 5,
    "start_time": "2023-08-25T20:31:24.406Z"
   },
   {
    "duration": 15,
    "start_time": "2023-08-25T20:31:24.412Z"
   },
   {
    "duration": 5,
    "start_time": "2023-08-25T20:31:24.429Z"
   },
   {
    "duration": 14,
    "start_time": "2023-08-25T20:31:24.436Z"
   },
   {
    "duration": 10,
    "start_time": "2023-08-25T20:31:24.451Z"
   },
   {
    "duration": 13,
    "start_time": "2023-08-25T20:31:24.462Z"
   },
   {
    "duration": 15,
    "start_time": "2023-08-25T20:31:24.476Z"
   },
   {
    "duration": 5,
    "start_time": "2023-08-25T20:31:24.493Z"
   },
   {
    "duration": 6,
    "start_time": "2023-08-25T20:31:24.499Z"
   },
   {
    "duration": 6,
    "start_time": "2023-08-25T20:31:24.506Z"
   },
   {
    "duration": 6,
    "start_time": "2023-08-25T20:31:24.513Z"
   },
   {
    "duration": 5,
    "start_time": "2023-08-25T20:31:24.520Z"
   },
   {
    "duration": 26,
    "start_time": "2023-08-25T20:31:24.526Z"
   },
   {
    "duration": 11,
    "start_time": "2023-08-25T20:31:24.554Z"
   },
   {
    "duration": 7,
    "start_time": "2023-08-25T20:31:24.566Z"
   },
   {
    "duration": 15,
    "start_time": "2023-08-25T20:31:24.574Z"
   },
   {
    "duration": 6,
    "start_time": "2023-08-25T20:31:24.591Z"
   },
   {
    "duration": 7,
    "start_time": "2023-08-25T20:31:24.599Z"
   },
   {
    "duration": 210,
    "start_time": "2023-08-25T20:31:24.608Z"
   },
   {
    "duration": 11,
    "start_time": "2023-08-25T20:31:24.819Z"
   },
   {
    "duration": 16,
    "start_time": "2023-08-25T20:31:24.835Z"
   },
   {
    "duration": 16,
    "start_time": "2023-08-25T20:31:24.853Z"
   },
   {
    "duration": 175,
    "start_time": "2023-08-25T20:31:24.871Z"
   },
   {
    "duration": 10,
    "start_time": "2023-08-25T20:31:25.049Z"
   },
   {
    "duration": 40,
    "start_time": "2023-08-25T20:31:25.060Z"
   },
   {
    "duration": 6,
    "start_time": "2023-08-25T20:31:25.102Z"
   },
   {
    "duration": 19,
    "start_time": "2023-08-25T20:31:25.110Z"
   },
   {
    "duration": 211,
    "start_time": "2023-08-25T20:31:25.130Z"
   },
   {
    "duration": 255,
    "start_time": "2023-08-25T20:31:25.343Z"
   },
   {
    "duration": 6,
    "start_time": "2023-08-25T20:31:25.600Z"
   },
   {
    "duration": 178,
    "start_time": "2023-08-25T20:31:25.607Z"
   },
   {
    "duration": 165,
    "start_time": "2023-08-25T20:31:25.787Z"
   },
   {
    "duration": 7,
    "start_time": "2023-08-25T20:31:25.953Z"
   },
   {
    "duration": 14,
    "start_time": "2023-08-25T20:31:25.962Z"
   },
   {
    "duration": 380,
    "start_time": "2023-08-25T20:31:25.978Z"
   },
   {
    "duration": 8,
    "start_time": "2023-08-25T20:31:26.360Z"
   },
   {
    "duration": 9,
    "start_time": "2023-08-25T20:31:26.370Z"
   },
   {
    "duration": 237,
    "start_time": "2023-08-25T20:31:26.381Z"
   },
   {
    "duration": 9,
    "start_time": "2023-08-25T20:31:26.619Z"
   },
   {
    "duration": 260,
    "start_time": "2023-08-25T20:31:26.629Z"
   },
   {
    "duration": 20,
    "start_time": "2023-08-25T20:31:26.890Z"
   },
   {
    "duration": 8,
    "start_time": "2023-08-25T20:31:26.911Z"
   },
   {
    "duration": 9,
    "start_time": "2023-08-25T20:31:26.921Z"
   },
   {
    "duration": 11,
    "start_time": "2023-08-25T20:31:26.949Z"
   },
   {
    "duration": 19,
    "start_time": "2023-08-25T20:31:26.962Z"
   },
   {
    "duration": 222,
    "start_time": "2023-08-25T20:31:26.983Z"
   },
   {
    "duration": 191,
    "start_time": "2023-08-25T20:31:27.206Z"
   },
   {
    "duration": 14,
    "start_time": "2023-08-25T20:31:27.398Z"
   },
   {
    "duration": 221,
    "start_time": "2023-08-25T20:31:27.414Z"
   },
   {
    "duration": 202,
    "start_time": "2023-08-25T20:31:27.637Z"
   },
   {
    "duration": 35,
    "start_time": "2023-08-25T20:31:27.841Z"
   },
   {
    "duration": 5,
    "start_time": "2023-08-25T20:31:27.878Z"
   },
   {
    "duration": 332,
    "start_time": "2023-08-25T20:31:27.885Z"
   },
   {
    "duration": 458,
    "start_time": "2023-08-25T20:31:28.220Z"
   },
   {
    "duration": 6,
    "start_time": "2023-08-25T20:31:28.680Z"
   },
   {
    "duration": 6,
    "start_time": "2023-08-25T20:31:28.688Z"
   },
   {
    "duration": 9,
    "start_time": "2023-08-25T20:31:28.695Z"
   },
   {
    "duration": 7,
    "start_time": "2023-08-25T20:31:28.706Z"
   },
   {
    "duration": 556,
    "start_time": "2023-08-25T20:31:28.715Z"
   },
   {
    "duration": 231,
    "start_time": "2023-08-25T20:31:29.273Z"
   },
   {
    "duration": 1077,
    "start_time": "2023-08-25T20:38:58.025Z"
   },
   {
    "duration": 42,
    "start_time": "2023-08-25T20:38:59.104Z"
   },
   {
    "duration": 13,
    "start_time": "2023-08-25T20:38:59.148Z"
   },
   {
    "duration": 33,
    "start_time": "2023-08-25T20:38:59.162Z"
   },
   {
    "duration": 8,
    "start_time": "2023-08-25T20:38:59.197Z"
   },
   {
    "duration": 25,
    "start_time": "2023-08-25T20:38:59.206Z"
   },
   {
    "duration": 6,
    "start_time": "2023-08-25T20:38:59.232Z"
   },
   {
    "duration": 14,
    "start_time": "2023-08-25T20:38:59.239Z"
   },
   {
    "duration": 5,
    "start_time": "2023-08-25T20:38:59.255Z"
   },
   {
    "duration": 5,
    "start_time": "2023-08-25T20:38:59.261Z"
   },
   {
    "duration": 7,
    "start_time": "2023-08-25T20:38:59.268Z"
   },
   {
    "duration": 5,
    "start_time": "2023-08-25T20:38:59.277Z"
   },
   {
    "duration": 6,
    "start_time": "2023-08-25T20:38:59.284Z"
   },
   {
    "duration": 12,
    "start_time": "2023-08-25T20:38:59.294Z"
   },
   {
    "duration": 5,
    "start_time": "2023-08-25T20:38:59.307Z"
   },
   {
    "duration": 36,
    "start_time": "2023-08-25T20:38:59.313Z"
   },
   {
    "duration": 5,
    "start_time": "2023-08-25T20:38:59.351Z"
   },
   {
    "duration": 15,
    "start_time": "2023-08-25T20:38:59.357Z"
   },
   {
    "duration": 16,
    "start_time": "2023-08-25T20:38:59.374Z"
   },
   {
    "duration": 5,
    "start_time": "2023-08-25T20:38:59.391Z"
   },
   {
    "duration": 5,
    "start_time": "2023-08-25T20:38:59.397Z"
   },
   {
    "duration": 8,
    "start_time": "2023-08-25T20:38:59.404Z"
   },
   {
    "duration": 9,
    "start_time": "2023-08-25T20:38:59.413Z"
   },
   {
    "duration": 6,
    "start_time": "2023-08-25T20:38:59.423Z"
   },
   {
    "duration": 20,
    "start_time": "2023-08-25T20:38:59.430Z"
   },
   {
    "duration": 176,
    "start_time": "2023-08-25T20:38:59.451Z"
   },
   {
    "duration": 11,
    "start_time": "2023-08-25T20:38:59.629Z"
   },
   {
    "duration": 5,
    "start_time": "2023-08-25T20:38:59.649Z"
   },
   {
    "duration": 22,
    "start_time": "2023-08-25T20:38:59.655Z"
   },
   {
    "duration": 152,
    "start_time": "2023-08-25T20:38:59.678Z"
   },
   {
    "duration": 9,
    "start_time": "2023-08-25T20:38:59.831Z"
   },
   {
    "duration": 6,
    "start_time": "2023-08-25T20:38:59.849Z"
   },
   {
    "duration": 7,
    "start_time": "2023-08-25T20:38:59.856Z"
   },
   {
    "duration": 8,
    "start_time": "2023-08-25T20:38:59.864Z"
   },
   {
    "duration": 210,
    "start_time": "2023-08-25T20:38:59.873Z"
   },
   {
    "duration": 263,
    "start_time": "2023-08-25T20:39:00.084Z"
   },
   {
    "duration": 6,
    "start_time": "2023-08-25T20:39:00.348Z"
   },
   {
    "duration": 215,
    "start_time": "2023-08-25T20:39:00.355Z"
   },
   {
    "duration": 146,
    "start_time": "2023-08-25T20:39:00.572Z"
   },
   {
    "duration": 5,
    "start_time": "2023-08-25T20:39:00.720Z"
   },
   {
    "duration": 43,
    "start_time": "2023-08-25T20:39:00.728Z"
   },
   {
    "duration": 326,
    "start_time": "2023-08-25T20:39:00.773Z"
   },
   {
    "duration": 7,
    "start_time": "2023-08-25T20:39:01.100Z"
   },
   {
    "duration": 42,
    "start_time": "2023-08-25T20:39:01.109Z"
   },
   {
    "duration": 248,
    "start_time": "2023-08-25T20:39:01.152Z"
   },
   {
    "duration": 9,
    "start_time": "2023-08-25T20:39:01.401Z"
   },
   {
    "duration": 298,
    "start_time": "2023-08-25T20:39:01.411Z"
   },
   {
    "duration": 21,
    "start_time": "2023-08-25T20:39:01.711Z"
   },
   {
    "duration": 18,
    "start_time": "2023-08-25T20:39:01.734Z"
   },
   {
    "duration": 36,
    "start_time": "2023-08-25T20:39:01.753Z"
   },
   {
    "duration": 40,
    "start_time": "2023-08-25T20:39:01.790Z"
   },
   {
    "duration": 55,
    "start_time": "2023-08-25T20:39:01.832Z"
   },
   {
    "duration": 217,
    "start_time": "2023-08-25T20:39:01.889Z"
   },
   {
    "duration": 239,
    "start_time": "2023-08-25T20:39:02.108Z"
   },
   {
    "duration": 18,
    "start_time": "2023-08-25T20:39:02.349Z"
   },
   {
    "duration": 239,
    "start_time": "2023-08-25T20:39:02.368Z"
   },
   {
    "duration": 192,
    "start_time": "2023-08-25T20:39:02.608Z"
   },
   {
    "duration": 28,
    "start_time": "2023-08-25T20:39:02.802Z"
   },
   {
    "duration": 17,
    "start_time": "2023-08-25T20:39:02.832Z"
   },
   {
    "duration": 326,
    "start_time": "2023-08-25T20:39:02.851Z"
   },
   {
    "duration": 444,
    "start_time": "2023-08-25T20:39:03.179Z"
   },
   {
    "duration": 6,
    "start_time": "2023-08-25T20:39:03.625Z"
   },
   {
    "duration": 19,
    "start_time": "2023-08-25T20:39:03.632Z"
   },
   {
    "duration": 11,
    "start_time": "2023-08-25T20:39:03.653Z"
   },
   {
    "duration": 6,
    "start_time": "2023-08-25T20:39:03.665Z"
   },
   {
    "duration": 484,
    "start_time": "2023-08-25T20:39:03.672Z"
   },
   {
    "duration": 212,
    "start_time": "2023-08-25T20:39:04.158Z"
   },
   {
    "duration": 1036,
    "start_time": "2023-08-25T20:46:26.242Z"
   },
   {
    "duration": 37,
    "start_time": "2023-08-25T20:46:27.280Z"
   },
   {
    "duration": 10,
    "start_time": "2023-08-25T20:46:27.318Z"
   },
   {
    "duration": 33,
    "start_time": "2023-08-25T20:46:27.330Z"
   },
   {
    "duration": 8,
    "start_time": "2023-08-25T20:46:27.364Z"
   },
   {
    "duration": 23,
    "start_time": "2023-08-25T20:46:27.373Z"
   },
   {
    "duration": 5,
    "start_time": "2023-08-25T20:46:27.398Z"
   },
   {
    "duration": 8,
    "start_time": "2023-08-25T20:46:27.404Z"
   },
   {
    "duration": 5,
    "start_time": "2023-08-25T20:46:27.413Z"
   },
   {
    "duration": 4,
    "start_time": "2023-08-25T20:46:27.420Z"
   },
   {
    "duration": 8,
    "start_time": "2023-08-25T20:46:27.425Z"
   },
   {
    "duration": 4,
    "start_time": "2023-08-25T20:46:27.434Z"
   },
   {
    "duration": 9,
    "start_time": "2023-08-25T20:46:27.449Z"
   },
   {
    "duration": 12,
    "start_time": "2023-08-25T20:46:27.459Z"
   },
   {
    "duration": 9,
    "start_time": "2023-08-25T20:46:27.473Z"
   },
   {
    "duration": 4,
    "start_time": "2023-08-25T20:46:27.483Z"
   },
   {
    "duration": 4,
    "start_time": "2023-08-25T20:46:27.488Z"
   },
   {
    "duration": 5,
    "start_time": "2023-08-25T20:46:27.493Z"
   },
   {
    "duration": 5,
    "start_time": "2023-08-25T20:46:27.499Z"
   },
   {
    "duration": 5,
    "start_time": "2023-08-25T20:46:27.505Z"
   },
   {
    "duration": 4,
    "start_time": "2023-08-25T20:46:27.511Z"
   },
   {
    "duration": 4,
    "start_time": "2023-08-25T20:46:27.550Z"
   },
   {
    "duration": 14,
    "start_time": "2023-08-25T20:46:27.555Z"
   },
   {
    "duration": 5,
    "start_time": "2023-08-25T20:46:27.570Z"
   },
   {
    "duration": 7,
    "start_time": "2023-08-25T20:46:27.576Z"
   },
   {
    "duration": 180,
    "start_time": "2023-08-25T20:46:27.584Z"
   },
   {
    "duration": 10,
    "start_time": "2023-08-25T20:46:27.766Z"
   },
   {
    "duration": 34,
    "start_time": "2023-08-25T20:46:27.779Z"
   },
   {
    "duration": 7,
    "start_time": "2023-08-25T20:46:27.814Z"
   },
   {
    "duration": 149,
    "start_time": "2023-08-25T20:46:27.823Z"
   },
   {
    "duration": 8,
    "start_time": "2023-08-25T20:46:27.974Z"
   },
   {
    "duration": 7,
    "start_time": "2023-08-25T20:46:27.984Z"
   },
   {
    "duration": 5,
    "start_time": "2023-08-25T20:46:27.993Z"
   },
   {
    "duration": 8,
    "start_time": "2023-08-25T20:46:27.999Z"
   },
   {
    "duration": 200,
    "start_time": "2023-08-25T20:46:28.008Z"
   },
   {
    "duration": 247,
    "start_time": "2023-08-25T20:46:28.210Z"
   },
   {
    "duration": 5,
    "start_time": "2023-08-25T20:46:28.459Z"
   },
   {
    "duration": 167,
    "start_time": "2023-08-25T20:46:28.466Z"
   },
   {
    "duration": 143,
    "start_time": "2023-08-25T20:46:28.635Z"
   },
   {
    "duration": 5,
    "start_time": "2023-08-25T20:46:28.779Z"
   },
   {
    "duration": 18,
    "start_time": "2023-08-25T20:46:28.785Z"
   },
   {
    "duration": 305,
    "start_time": "2023-08-25T20:46:28.805Z"
   },
   {
    "duration": 7,
    "start_time": "2023-08-25T20:46:29.113Z"
   },
   {
    "duration": 45,
    "start_time": "2023-08-25T20:46:29.122Z"
   },
   {
    "duration": 222,
    "start_time": "2023-08-25T20:46:29.169Z"
   },
   {
    "duration": 9,
    "start_time": "2023-08-25T20:46:29.393Z"
   },
   {
    "duration": 273,
    "start_time": "2023-08-25T20:46:29.403Z"
   },
   {
    "duration": 28,
    "start_time": "2023-08-25T20:46:29.678Z"
   },
   {
    "duration": 10,
    "start_time": "2023-08-25T20:46:29.708Z"
   },
   {
    "duration": 16,
    "start_time": "2023-08-25T20:46:29.719Z"
   },
   {
    "duration": 12,
    "start_time": "2023-08-25T20:46:29.749Z"
   },
   {
    "duration": 22,
    "start_time": "2023-08-25T20:46:29.762Z"
   },
   {
    "duration": 214,
    "start_time": "2023-08-25T20:46:29.785Z"
   },
   {
    "duration": 200,
    "start_time": "2023-08-25T20:46:30.001Z"
   },
   {
    "duration": 15,
    "start_time": "2023-08-25T20:46:30.202Z"
   },
   {
    "duration": 230,
    "start_time": "2023-08-25T20:46:30.219Z"
   },
   {
    "duration": 185,
    "start_time": "2023-08-25T20:46:30.451Z"
   },
   {
    "duration": 36,
    "start_time": "2023-08-25T20:46:30.638Z"
   },
   {
    "duration": 4,
    "start_time": "2023-08-25T20:46:30.675Z"
   },
   {
    "duration": 374,
    "start_time": "2023-08-25T20:46:30.681Z"
   },
   {
    "duration": 420,
    "start_time": "2023-08-25T20:46:31.056Z"
   },
   {
    "duration": 5,
    "start_time": "2023-08-25T20:46:31.478Z"
   },
   {
    "duration": 49,
    "start_time": "2023-08-25T20:46:31.485Z"
   },
   {
    "duration": 42,
    "start_time": "2023-08-25T20:46:31.535Z"
   },
   {
    "duration": 56,
    "start_time": "2023-08-25T20:46:31.579Z"
   },
   {
    "duration": 538,
    "start_time": "2023-08-25T20:46:31.636Z"
   },
   {
    "duration": 264,
    "start_time": "2023-08-25T20:46:32.176Z"
   },
   {
    "duration": 1143,
    "start_time": "2023-08-26T05:15:58.705Z"
   },
   {
    "duration": 38,
    "start_time": "2023-08-26T05:15:59.850Z"
   },
   {
    "duration": 12,
    "start_time": "2023-08-26T05:15:59.890Z"
   },
   {
    "duration": 37,
    "start_time": "2023-08-26T05:15:59.903Z"
   },
   {
    "duration": 9,
    "start_time": "2023-08-26T05:15:59.943Z"
   },
   {
    "duration": 32,
    "start_time": "2023-08-26T05:15:59.955Z"
   },
   {
    "duration": 8,
    "start_time": "2023-08-26T05:15:59.989Z"
   },
   {
    "duration": 18,
    "start_time": "2023-08-26T05:15:59.999Z"
   },
   {
    "duration": 8,
    "start_time": "2023-08-26T05:16:00.018Z"
   },
   {
    "duration": 25,
    "start_time": "2023-08-26T05:16:00.028Z"
   },
   {
    "duration": 42,
    "start_time": "2023-08-26T05:16:00.054Z"
   },
   {
    "duration": 31,
    "start_time": "2023-08-26T05:16:00.097Z"
   },
   {
    "duration": 37,
    "start_time": "2023-08-26T05:16:00.130Z"
   },
   {
    "duration": 48,
    "start_time": "2023-08-26T05:16:00.170Z"
   },
   {
    "duration": 23,
    "start_time": "2023-08-26T05:16:00.220Z"
   },
   {
    "duration": 15,
    "start_time": "2023-08-26T05:16:00.245Z"
   },
   {
    "duration": 38,
    "start_time": "2023-08-26T05:16:00.263Z"
   },
   {
    "duration": 32,
    "start_time": "2023-08-26T05:16:00.302Z"
   },
   {
    "duration": 16,
    "start_time": "2023-08-26T05:16:00.336Z"
   },
   {
    "duration": 28,
    "start_time": "2023-08-26T05:16:00.354Z"
   },
   {
    "duration": 32,
    "start_time": "2023-08-26T05:16:00.384Z"
   },
   {
    "duration": 30,
    "start_time": "2023-08-26T05:16:00.418Z"
   },
   {
    "duration": 29,
    "start_time": "2023-08-26T05:16:00.450Z"
   },
   {
    "duration": 25,
    "start_time": "2023-08-26T05:16:00.481Z"
   },
   {
    "duration": 60,
    "start_time": "2023-08-26T05:16:00.507Z"
   },
   {
    "duration": 235,
    "start_time": "2023-08-26T05:16:00.568Z"
   },
   {
    "duration": 14,
    "start_time": "2023-08-26T05:16:00.805Z"
   },
   {
    "duration": 13,
    "start_time": "2023-08-26T05:16:00.821Z"
   },
   {
    "duration": 32,
    "start_time": "2023-08-26T05:16:00.836Z"
   },
   {
    "duration": 202,
    "start_time": "2023-08-26T05:16:00.870Z"
   },
   {
    "duration": 17,
    "start_time": "2023-08-26T05:16:01.074Z"
   },
   {
    "duration": 37,
    "start_time": "2023-08-26T05:16:01.093Z"
   },
   {
    "duration": 16,
    "start_time": "2023-08-26T05:16:01.132Z"
   },
   {
    "duration": 28,
    "start_time": "2023-08-26T05:16:01.150Z"
   },
   {
    "duration": 230,
    "start_time": "2023-08-26T05:16:01.180Z"
   },
   {
    "duration": 291,
    "start_time": "2023-08-26T05:16:01.413Z"
   },
   {
    "duration": 6,
    "start_time": "2023-08-26T05:16:01.706Z"
   },
   {
    "duration": 221,
    "start_time": "2023-08-26T05:16:01.713Z"
   },
   {
    "duration": 176,
    "start_time": "2023-08-26T05:16:01.936Z"
   },
   {
    "duration": 5,
    "start_time": "2023-08-26T05:16:02.114Z"
   },
   {
    "duration": 38,
    "start_time": "2023-08-26T05:16:02.124Z"
   },
   {
    "duration": 413,
    "start_time": "2023-08-26T05:16:02.164Z"
   },
   {
    "duration": 8,
    "start_time": "2023-08-26T05:16:02.579Z"
   },
   {
    "duration": 147,
    "start_time": "2023-08-26T05:16:02.589Z"
   },
   {
    "duration": 282,
    "start_time": "2023-08-26T05:16:02.738Z"
   },
   {
    "duration": 9,
    "start_time": "2023-08-26T05:16:03.022Z"
   },
   {
    "duration": 340,
    "start_time": "2023-08-26T05:16:03.033Z"
   },
   {
    "duration": 24,
    "start_time": "2023-08-26T05:16:03.381Z"
   },
   {
    "duration": 10,
    "start_time": "2023-08-26T05:16:03.407Z"
   },
   {
    "duration": 24,
    "start_time": "2023-08-26T05:16:03.418Z"
   },
   {
    "duration": 36,
    "start_time": "2023-08-26T05:16:03.445Z"
   },
   {
    "duration": 26,
    "start_time": "2023-08-26T05:16:03.483Z"
   },
   {
    "duration": 289,
    "start_time": "2023-08-26T05:16:03.511Z"
   },
   {
    "duration": 243,
    "start_time": "2023-08-26T05:16:03.803Z"
   },
   {
    "duration": 15,
    "start_time": "2023-08-26T05:16:04.048Z"
   },
   {
    "duration": 281,
    "start_time": "2023-08-26T05:16:04.065Z"
   },
   {
    "duration": 249,
    "start_time": "2023-08-26T05:16:04.348Z"
   },
   {
    "duration": 47,
    "start_time": "2023-08-26T05:16:04.599Z"
   },
   {
    "duration": 5,
    "start_time": "2023-08-26T05:16:04.648Z"
   },
   {
    "duration": 421,
    "start_time": "2023-08-26T05:16:04.655Z"
   },
   {
    "duration": 521,
    "start_time": "2023-08-26T05:16:05.078Z"
   },
   {
    "duration": 6,
    "start_time": "2023-08-26T05:16:05.601Z"
   },
   {
    "duration": 43,
    "start_time": "2023-08-26T05:16:05.608Z"
   },
   {
    "duration": 21,
    "start_time": "2023-08-26T05:16:05.652Z"
   },
   {
    "duration": 13,
    "start_time": "2023-08-26T05:16:05.675Z"
   },
   {
    "duration": 601,
    "start_time": "2023-08-26T05:16:05.690Z"
   },
   {
    "duration": 295,
    "start_time": "2023-08-26T05:16:06.293Z"
   },
   {
    "duration": 6,
    "start_time": "2023-08-26T05:19:11.524Z"
   },
   {
    "duration": 1145,
    "start_time": "2023-08-26T05:20:04.914Z"
   },
   {
    "duration": 47,
    "start_time": "2023-08-26T05:20:06.061Z"
   },
   {
    "duration": 14,
    "start_time": "2023-08-26T05:20:06.110Z"
   },
   {
    "duration": 59,
    "start_time": "2023-08-26T05:20:06.125Z"
   },
   {
    "duration": 10,
    "start_time": "2023-08-26T05:20:06.188Z"
   },
   {
    "duration": 65,
    "start_time": "2023-08-26T05:20:06.201Z"
   },
   {
    "duration": 10,
    "start_time": "2023-08-26T05:20:06.268Z"
   },
   {
    "duration": 19,
    "start_time": "2023-08-26T05:20:06.280Z"
   },
   {
    "duration": 28,
    "start_time": "2023-08-26T05:20:06.301Z"
   },
   {
    "duration": 20,
    "start_time": "2023-08-26T05:20:06.331Z"
   },
   {
    "duration": 32,
    "start_time": "2023-08-26T05:20:06.354Z"
   },
   {
    "duration": 17,
    "start_time": "2023-08-26T05:20:06.388Z"
   },
   {
    "duration": 14,
    "start_time": "2023-08-26T05:20:06.407Z"
   },
   {
    "duration": 35,
    "start_time": "2023-08-26T05:20:06.424Z"
   },
   {
    "duration": 28,
    "start_time": "2023-08-26T05:20:06.461Z"
   },
   {
    "duration": 16,
    "start_time": "2023-08-26T05:20:06.491Z"
   },
   {
    "duration": 26,
    "start_time": "2023-08-26T05:20:06.509Z"
   },
   {
    "duration": 22,
    "start_time": "2023-08-26T05:20:06.537Z"
   },
   {
    "duration": 24,
    "start_time": "2023-08-26T05:20:06.562Z"
   },
   {
    "duration": 26,
    "start_time": "2023-08-26T05:20:06.588Z"
   },
   {
    "duration": 45,
    "start_time": "2023-08-26T05:20:06.617Z"
   },
   {
    "duration": 24,
    "start_time": "2023-08-26T05:20:06.664Z"
   },
   {
    "duration": 33,
    "start_time": "2023-08-26T05:20:06.690Z"
   },
   {
    "duration": 10,
    "start_time": "2023-08-26T05:20:06.726Z"
   },
   {
    "duration": 25,
    "start_time": "2023-08-26T05:20:06.738Z"
   },
   {
    "duration": 292,
    "start_time": "2023-08-26T05:20:06.765Z"
   },
   {
    "duration": 34,
    "start_time": "2023-08-26T05:20:07.059Z"
   },
   {
    "duration": 276,
    "start_time": "2023-08-26T05:20:07.095Z"
   },
   {
    "duration": 22,
    "start_time": "2023-08-26T05:20:07.374Z"
   },
   {
    "duration": 20,
    "start_time": "2023-08-26T05:20:07.398Z"
   },
   {
    "duration": 35,
    "start_time": "2023-08-26T05:20:07.421Z"
   },
   {
    "duration": 234,
    "start_time": "2023-08-26T05:20:07.458Z"
   },
   {
    "duration": 14,
    "start_time": "2023-08-26T05:20:07.694Z"
   },
   {
    "duration": 16,
    "start_time": "2023-08-26T05:20:07.710Z"
   },
   {
    "duration": 19,
    "start_time": "2023-08-26T05:20:07.729Z"
   },
   {
    "duration": 46,
    "start_time": "2023-08-26T05:20:07.750Z"
   },
   {
    "duration": 238,
    "start_time": "2023-08-26T05:20:07.797Z"
   },
   {
    "duration": 324,
    "start_time": "2023-08-26T05:20:08.036Z"
   },
   {
    "duration": 8,
    "start_time": "2023-08-26T05:20:08.362Z"
   },
   {
    "duration": 227,
    "start_time": "2023-08-26T05:20:08.382Z"
   },
   {
    "duration": 189,
    "start_time": "2023-08-26T05:20:08.615Z"
   },
   {
    "duration": 7,
    "start_time": "2023-08-26T05:20:08.806Z"
   },
   {
    "duration": 24,
    "start_time": "2023-08-26T05:20:08.815Z"
   },
   {
    "duration": 381,
    "start_time": "2023-08-26T05:20:08.841Z"
   },
   {
    "duration": 10,
    "start_time": "2023-08-26T05:20:09.224Z"
   },
   {
    "duration": 270,
    "start_time": "2023-08-26T05:20:09.235Z"
   },
   {
    "duration": 266,
    "start_time": "2023-08-26T05:20:09.507Z"
   },
   {
    "duration": 11,
    "start_time": "2023-08-26T05:20:09.775Z"
   },
   {
    "duration": 309,
    "start_time": "2023-08-26T05:20:09.788Z"
   },
   {
    "duration": 25,
    "start_time": "2023-08-26T05:20:10.099Z"
   },
   {
    "duration": 11,
    "start_time": "2023-08-26T05:20:10.126Z"
   },
   {
    "duration": 41,
    "start_time": "2023-08-26T05:20:10.138Z"
   },
   {
    "duration": 31,
    "start_time": "2023-08-26T05:20:10.181Z"
   },
   {
    "duration": 51,
    "start_time": "2023-08-26T05:20:10.214Z"
   },
   {
    "duration": 280,
    "start_time": "2023-08-26T05:20:10.267Z"
   },
   {
    "duration": 240,
    "start_time": "2023-08-26T05:20:10.549Z"
   },
   {
    "duration": 17,
    "start_time": "2023-08-26T05:20:10.791Z"
   },
   {
    "duration": 280,
    "start_time": "2023-08-26T05:20:10.809Z"
   },
   {
    "duration": 239,
    "start_time": "2023-08-26T05:20:11.091Z"
   },
   {
    "duration": 32,
    "start_time": "2023-08-26T05:20:11.331Z"
   },
   {
    "duration": 18,
    "start_time": "2023-08-26T05:20:11.364Z"
   },
   {
    "duration": 378,
    "start_time": "2023-08-26T05:20:11.383Z"
   },
   {
    "duration": 563,
    "start_time": "2023-08-26T05:20:11.763Z"
   },
   {
    "duration": 7,
    "start_time": "2023-08-26T05:20:12.327Z"
   },
   {
    "duration": 6,
    "start_time": "2023-08-26T05:20:12.335Z"
   },
   {
    "duration": 14,
    "start_time": "2023-08-26T05:20:12.343Z"
   },
   {
    "duration": 23,
    "start_time": "2023-08-26T05:20:12.359Z"
   },
   {
    "duration": 572,
    "start_time": "2023-08-26T05:20:12.384Z"
   },
   {
    "duration": 276,
    "start_time": "2023-08-26T05:20:12.958Z"
   },
   {
    "duration": 20,
    "start_time": "2023-08-26T05:37:50.372Z"
   },
   {
    "duration": 29,
    "start_time": "2023-08-26T05:39:53.581Z"
   },
   {
    "duration": 27,
    "start_time": "2023-08-26T05:40:06.178Z"
   },
   {
    "duration": 7,
    "start_time": "2023-08-26T05:45:20.314Z"
   },
   {
    "duration": 189,
    "start_time": "2023-08-26T05:46:07.634Z"
   },
   {
    "duration": 22,
    "start_time": "2023-08-26T05:46:22.950Z"
   },
   {
    "duration": 19,
    "start_time": "2023-08-26T05:47:20.416Z"
   },
   {
    "duration": 20,
    "start_time": "2023-08-26T05:47:29.471Z"
   },
   {
    "duration": 18,
    "start_time": "2023-08-26T05:47:33.680Z"
   },
   {
    "duration": 9,
    "start_time": "2023-08-26T05:51:57.118Z"
   },
   {
    "duration": 10,
    "start_time": "2023-08-26T05:56:46.442Z"
   },
   {
    "duration": 7,
    "start_time": "2023-08-26T06:00:15.049Z"
   },
   {
    "duration": 121,
    "start_time": "2023-08-26T11:19:58.597Z"
   },
   {
    "duration": 113,
    "start_time": "2023-08-26T11:20:20.497Z"
   },
   {
    "duration": 113,
    "start_time": "2023-08-26T11:21:04.110Z"
   },
   {
    "duration": 66,
    "start_time": "2023-08-26T11:24:16.849Z"
   },
   {
    "duration": 1315,
    "start_time": "2023-08-26T11:24:25.517Z"
   },
   {
    "duration": 100,
    "start_time": "2023-08-26T11:24:26.835Z"
   },
   {
    "duration": 13,
    "start_time": "2023-08-26T11:24:26.937Z"
   },
   {
    "duration": 162,
    "start_time": "2023-08-26T11:24:26.953Z"
   },
   {
    "duration": 11,
    "start_time": "2023-08-26T11:24:27.117Z"
   },
   {
    "duration": 69,
    "start_time": "2023-08-26T11:24:27.129Z"
   },
   {
    "duration": 8,
    "start_time": "2023-08-26T11:24:27.200Z"
   },
   {
    "duration": 6,
    "start_time": "2023-08-26T11:24:27.210Z"
   },
   {
    "duration": 4,
    "start_time": "2023-08-26T11:24:27.218Z"
   },
   {
    "duration": 9,
    "start_time": "2023-08-26T11:24:27.225Z"
   },
   {
    "duration": 9,
    "start_time": "2023-08-26T11:24:27.236Z"
   },
   {
    "duration": 7,
    "start_time": "2023-08-26T11:24:27.246Z"
   },
   {
    "duration": 32,
    "start_time": "2023-08-26T11:24:27.254Z"
   },
   {
    "duration": 164,
    "start_time": "2023-08-26T11:24:27.288Z"
   },
   {
    "duration": 6,
    "start_time": "2023-08-26T11:24:27.455Z"
   },
   {
    "duration": 5,
    "start_time": "2023-08-26T11:24:27.463Z"
   },
   {
    "duration": 16,
    "start_time": "2023-08-26T11:24:27.469Z"
   },
   {
    "duration": 29,
    "start_time": "2023-08-26T11:24:27.486Z"
   },
   {
    "duration": 16,
    "start_time": "2023-08-26T11:24:27.517Z"
   },
   {
    "duration": 17,
    "start_time": "2023-08-26T11:24:27.535Z"
   },
   {
    "duration": 9,
    "start_time": "2023-08-26T11:24:27.554Z"
   },
   {
    "duration": 17,
    "start_time": "2023-08-26T11:24:27.565Z"
   },
   {
    "duration": 13,
    "start_time": "2023-08-26T11:24:27.584Z"
   },
   {
    "duration": 10,
    "start_time": "2023-08-26T11:24:27.598Z"
   },
   {
    "duration": 8,
    "start_time": "2023-08-26T11:24:27.610Z"
   },
   {
    "duration": 196,
    "start_time": "2023-08-26T11:24:27.620Z"
   },
   {
    "duration": 13,
    "start_time": "2023-08-26T11:24:27.818Z"
   },
   {
    "duration": 23,
    "start_time": "2023-08-26T11:24:27.834Z"
   },
   {
    "duration": 182,
    "start_time": "2023-08-26T11:24:27.858Z"
   },
   {
    "duration": 21,
    "start_time": "2023-08-26T11:24:28.042Z"
   },
   {
    "duration": 6,
    "start_time": "2023-08-26T11:24:28.065Z"
   },
   {
    "duration": 25,
    "start_time": "2023-08-26T11:24:28.073Z"
   },
   {
    "duration": 10,
    "start_time": "2023-08-26T11:24:30.002Z"
   },
   {
    "duration": 215,
    "start_time": "2023-08-26T11:24:30.665Z"
   },
   {
    "duration": 211,
    "start_time": "2023-08-26T11:24:41.303Z"
   },
   {
    "duration": 213,
    "start_time": "2023-08-26T11:25:36.301Z"
   },
   {
    "duration": 200,
    "start_time": "2023-08-26T11:26:20.310Z"
   },
   {
    "duration": 11,
    "start_time": "2023-08-26T11:29:07.958Z"
   },
   {
    "duration": 3,
    "start_time": "2023-08-26T11:29:11.870Z"
   },
   {
    "duration": 39,
    "start_time": "2023-08-26T11:29:11.875Z"
   },
   {
    "duration": 9,
    "start_time": "2023-08-26T11:29:11.915Z"
   },
   {
    "duration": 37,
    "start_time": "2023-08-26T11:29:11.925Z"
   },
   {
    "duration": 8,
    "start_time": "2023-08-26T11:29:11.964Z"
   },
   {
    "duration": 26,
    "start_time": "2023-08-26T11:29:11.974Z"
   },
   {
    "duration": 9,
    "start_time": "2023-08-26T11:29:12.002Z"
   },
   {
    "duration": 99,
    "start_time": "2023-08-26T11:29:12.013Z"
   },
   {
    "duration": 5,
    "start_time": "2023-08-26T11:29:12.114Z"
   },
   {
    "duration": 283,
    "start_time": "2023-08-26T11:29:12.121Z"
   },
   {
    "duration": 96,
    "start_time": "2023-08-26T11:29:12.408Z"
   },
   {
    "duration": 7,
    "start_time": "2023-08-26T11:29:12.506Z"
   },
   {
    "duration": 12,
    "start_time": "2023-08-26T11:29:12.515Z"
   },
   {
    "duration": 16,
    "start_time": "2023-08-26T11:29:12.529Z"
   },
   {
    "duration": 7,
    "start_time": "2023-08-26T11:29:12.546Z"
   },
   {
    "duration": 18,
    "start_time": "2023-08-26T11:29:12.554Z"
   },
   {
    "duration": 6,
    "start_time": "2023-08-26T11:29:12.573Z"
   },
   {
    "duration": 7,
    "start_time": "2023-08-26T11:29:12.580Z"
   },
   {
    "duration": 8,
    "start_time": "2023-08-26T11:29:12.588Z"
   },
   {
    "duration": 7,
    "start_time": "2023-08-26T11:29:12.597Z"
   },
   {
    "duration": 7,
    "start_time": "2023-08-26T11:29:12.606Z"
   },
   {
    "duration": 8,
    "start_time": "2023-08-26T11:29:12.614Z"
   },
   {
    "duration": 34,
    "start_time": "2023-08-26T11:29:12.624Z"
   },
   {
    "duration": 20,
    "start_time": "2023-08-26T11:29:12.660Z"
   },
   {
    "duration": 10,
    "start_time": "2023-08-26T11:29:12.683Z"
   },
   {
    "duration": 198,
    "start_time": "2023-08-26T11:29:12.694Z"
   },
   {
    "duration": 12,
    "start_time": "2023-08-26T11:29:12.894Z"
   },
   {
    "duration": 10,
    "start_time": "2023-08-26T11:29:12.908Z"
   },
   {
    "duration": 204,
    "start_time": "2023-08-26T11:29:12.920Z"
   },
   {
    "duration": 12,
    "start_time": "2023-08-26T11:29:13.126Z"
   },
   {
    "duration": 22,
    "start_time": "2023-08-26T11:29:13.140Z"
   },
   {
    "duration": 9,
    "start_time": "2023-08-26T11:29:13.163Z"
   },
   {
    "duration": 318,
    "start_time": "2023-08-26T11:29:13.173Z"
   },
   {
    "duration": 285,
    "start_time": "2023-08-26T11:29:13.492Z"
   },
   {
    "duration": 8,
    "start_time": "2023-08-26T11:29:13.779Z"
   },
   {
    "duration": 207,
    "start_time": "2023-08-26T11:29:13.789Z"
   },
   {
    "duration": 178,
    "start_time": "2023-08-26T11:29:13.998Z"
   },
   {
    "duration": 6,
    "start_time": "2023-08-26T11:29:14.177Z"
   },
   {
    "duration": 11,
    "start_time": "2023-08-26T11:29:14.185Z"
   },
   {
    "duration": 151,
    "start_time": "2023-08-26T11:29:17.358Z"
   },
   {
    "duration": 282,
    "start_time": "2023-08-26T11:30:34.633Z"
   },
   {
    "duration": 322,
    "start_time": "2023-08-26T11:30:47.415Z"
   },
   {
    "duration": 305,
    "start_time": "2023-08-26T11:31:59.240Z"
   },
   {
    "duration": 303,
    "start_time": "2023-08-26T11:32:14.595Z"
   },
   {
    "duration": 445,
    "start_time": "2023-08-26T11:32:27.955Z"
   },
   {
    "duration": 347,
    "start_time": "2023-08-26T11:33:33.900Z"
   },
   {
    "duration": 285,
    "start_time": "2023-08-26T11:33:44.474Z"
   },
   {
    "duration": 339,
    "start_time": "2023-08-26T11:34:13.448Z"
   },
   {
    "duration": 232,
    "start_time": "2023-08-26T11:34:28.634Z"
   },
   {
    "duration": 136,
    "start_time": "2023-08-26T11:35:42.282Z"
   },
   {
    "duration": 324,
    "start_time": "2023-08-26T11:37:31.341Z"
   },
   {
    "duration": 355,
    "start_time": "2023-08-26T11:39:21.379Z"
   },
   {
    "duration": 601,
    "start_time": "2023-08-26T11:45:01.678Z"
   },
   {
    "duration": 265,
    "start_time": "2023-08-26T11:46:27.198Z"
   },
   {
    "duration": 267,
    "start_time": "2023-08-26T11:47:03.389Z"
   },
   {
    "duration": 348,
    "start_time": "2023-08-26T11:47:15.038Z"
   },
   {
    "duration": 430,
    "start_time": "2023-08-26T11:48:49.997Z"
   },
   {
    "duration": 454,
    "start_time": "2023-08-26T11:48:57.130Z"
   },
   {
    "duration": 506,
    "start_time": "2023-08-26T11:49:10.706Z"
   },
   {
    "duration": 292,
    "start_time": "2023-08-26T11:49:29.352Z"
   },
   {
    "duration": 325,
    "start_time": "2023-08-26T11:49:47.282Z"
   },
   {
    "duration": 290,
    "start_time": "2023-08-26T11:50:02.125Z"
   },
   {
    "duration": 290,
    "start_time": "2023-08-26T11:50:09.382Z"
   },
   {
    "duration": 326,
    "start_time": "2023-08-26T11:50:54.546Z"
   },
   {
    "duration": 156,
    "start_time": "2023-08-26T11:51:54.819Z"
   },
   {
    "duration": 10,
    "start_time": "2023-08-26T11:52:44.341Z"
   },
   {
    "duration": 4,
    "start_time": "2023-08-26T11:52:52.874Z"
   },
   {
    "duration": 42,
    "start_time": "2023-08-26T11:52:52.880Z"
   },
   {
    "duration": 8,
    "start_time": "2023-08-26T11:52:52.924Z"
   },
   {
    "duration": 47,
    "start_time": "2023-08-26T11:52:52.933Z"
   },
   {
    "duration": 9,
    "start_time": "2023-08-26T11:52:52.982Z"
   },
   {
    "duration": 24,
    "start_time": "2023-08-26T11:52:52.992Z"
   },
   {
    "duration": 7,
    "start_time": "2023-08-26T11:52:53.017Z"
   },
   {
    "duration": 9,
    "start_time": "2023-08-26T11:52:53.025Z"
   },
   {
    "duration": 6,
    "start_time": "2023-08-26T11:52:53.035Z"
   },
   {
    "duration": 5,
    "start_time": "2023-08-26T11:52:53.057Z"
   },
   {
    "duration": 8,
    "start_time": "2023-08-26T11:52:53.074Z"
   },
   {
    "duration": 11,
    "start_time": "2023-08-26T11:52:53.085Z"
   },
   {
    "duration": 15,
    "start_time": "2023-08-26T11:52:53.097Z"
   },
   {
    "duration": 14,
    "start_time": "2023-08-26T11:52:53.114Z"
   },
   {
    "duration": 7,
    "start_time": "2023-08-26T11:52:53.130Z"
   },
   {
    "duration": 23,
    "start_time": "2023-08-26T11:52:53.139Z"
   },
   {
    "duration": 14,
    "start_time": "2023-08-26T11:52:53.163Z"
   },
   {
    "duration": 5,
    "start_time": "2023-08-26T11:52:53.179Z"
   },
   {
    "duration": 5,
    "start_time": "2023-08-26T11:52:53.186Z"
   },
   {
    "duration": 5,
    "start_time": "2023-08-26T11:52:53.193Z"
   },
   {
    "duration": 12,
    "start_time": "2023-08-26T11:52:53.200Z"
   },
   {
    "duration": 24,
    "start_time": "2023-08-26T11:52:53.214Z"
   },
   {
    "duration": 38,
    "start_time": "2023-08-26T11:52:53.240Z"
   },
   {
    "duration": 9,
    "start_time": "2023-08-26T11:52:53.280Z"
   },
   {
    "duration": 11,
    "start_time": "2023-08-26T11:52:53.291Z"
   },
   {
    "duration": 202,
    "start_time": "2023-08-26T11:52:53.304Z"
   },
   {
    "duration": 13,
    "start_time": "2023-08-26T11:52:53.508Z"
   },
   {
    "duration": 9,
    "start_time": "2023-08-26T11:52:53.523Z"
   },
   {
    "duration": 300,
    "start_time": "2023-08-26T11:52:53.556Z"
   },
   {
    "duration": 17,
    "start_time": "2023-08-26T11:52:53.860Z"
   },
   {
    "duration": 6,
    "start_time": "2023-08-26T11:52:53.879Z"
   },
   {
    "duration": 8,
    "start_time": "2023-08-26T11:52:53.887Z"
   },
   {
    "duration": 262,
    "start_time": "2023-08-26T11:52:53.897Z"
   },
   {
    "duration": 309,
    "start_time": "2023-08-26T11:52:54.161Z"
   },
   {
    "duration": 6,
    "start_time": "2023-08-26T11:52:54.473Z"
   },
   {
    "duration": 218,
    "start_time": "2023-08-26T11:52:54.480Z"
   },
   {
    "duration": 180,
    "start_time": "2023-08-26T11:52:54.699Z"
   },
   {
    "duration": 6,
    "start_time": "2023-08-26T11:52:54.881Z"
   },
   {
    "duration": 10,
    "start_time": "2023-08-26T11:52:54.888Z"
   },
   {
    "duration": 333,
    "start_time": "2023-08-26T11:52:54.900Z"
   },
   {
    "duration": 8,
    "start_time": "2023-08-26T11:52:55.235Z"
   },
   {
    "duration": 22,
    "start_time": "2023-08-26T11:52:55.244Z"
   },
   {
    "duration": 281,
    "start_time": "2023-08-26T11:52:55.268Z"
   },
   {
    "duration": 30,
    "start_time": "2023-08-26T11:52:55.550Z"
   },
   {
    "duration": 231,
    "start_time": "2023-08-26T11:52:55.582Z"
   },
   {
    "duration": 43,
    "start_time": "2023-08-26T11:52:55.815Z"
   },
   {
    "duration": 17,
    "start_time": "2023-08-26T11:52:55.860Z"
   },
   {
    "duration": 18,
    "start_time": "2023-08-26T11:52:55.879Z"
   },
   {
    "duration": 14,
    "start_time": "2023-08-26T11:52:58.515Z"
   },
   {
    "duration": 5,
    "start_time": "2023-08-26T11:52:59.502Z"
   },
   {
    "duration": 4,
    "start_time": "2023-08-26T11:53:15.226Z"
   },
   {
    "duration": 112,
    "start_time": "2023-08-26T11:54:19.740Z"
   },
   {
    "duration": 4,
    "start_time": "2023-08-26T12:25:02.194Z"
   },
   {
    "duration": 48,
    "start_time": "2023-08-26T12:25:02.200Z"
   },
   {
    "duration": 9,
    "start_time": "2023-08-26T12:25:02.249Z"
   },
   {
    "duration": 67,
    "start_time": "2023-08-26T12:25:02.259Z"
   },
   {
    "duration": 10,
    "start_time": "2023-08-26T12:25:02.329Z"
   },
   {
    "duration": 61,
    "start_time": "2023-08-26T12:25:02.341Z"
   },
   {
    "duration": 30,
    "start_time": "2023-08-26T12:25:02.404Z"
   },
   {
    "duration": 12,
    "start_time": "2023-08-26T12:25:02.436Z"
   },
   {
    "duration": 31,
    "start_time": "2023-08-26T12:25:02.450Z"
   },
   {
    "duration": 18,
    "start_time": "2023-08-26T12:25:02.483Z"
   },
   {
    "duration": 24,
    "start_time": "2023-08-26T12:25:02.505Z"
   },
   {
    "duration": 34,
    "start_time": "2023-08-26T12:25:02.532Z"
   },
   {
    "duration": 52,
    "start_time": "2023-08-26T12:25:02.569Z"
   },
   {
    "duration": 28,
    "start_time": "2023-08-26T12:25:02.623Z"
   },
   {
    "duration": 19,
    "start_time": "2023-08-26T12:25:02.653Z"
   },
   {
    "duration": 13,
    "start_time": "2023-08-26T12:25:02.674Z"
   },
   {
    "duration": 6,
    "start_time": "2023-08-26T12:25:02.689Z"
   },
   {
    "duration": 44,
    "start_time": "2023-08-26T12:25:02.696Z"
   },
   {
    "duration": 26,
    "start_time": "2023-08-26T12:25:02.742Z"
   },
   {
    "duration": 19,
    "start_time": "2023-08-26T12:25:02.771Z"
   },
   {
    "duration": 28,
    "start_time": "2023-08-26T12:25:02.792Z"
   },
   {
    "duration": 15,
    "start_time": "2023-08-26T12:25:02.821Z"
   },
   {
    "duration": 21,
    "start_time": "2023-08-26T12:25:02.837Z"
   },
   {
    "duration": 34,
    "start_time": "2023-08-26T12:25:02.859Z"
   },
   {
    "duration": 46,
    "start_time": "2023-08-26T12:25:02.895Z"
   },
   {
    "duration": 219,
    "start_time": "2023-08-26T12:25:02.943Z"
   },
   {
    "duration": 15,
    "start_time": "2023-08-26T12:25:03.164Z"
   },
   {
    "duration": 44,
    "start_time": "2023-08-26T12:25:03.180Z"
   },
   {
    "duration": 289,
    "start_time": "2023-08-26T12:25:03.227Z"
   },
   {
    "duration": 12,
    "start_time": "2023-08-26T12:25:03.518Z"
   },
   {
    "duration": 13,
    "start_time": "2023-08-26T12:25:03.531Z"
   },
   {
    "duration": 21,
    "start_time": "2023-08-26T12:25:03.545Z"
   },
   {
    "duration": 221,
    "start_time": "2023-08-26T12:25:03.568Z"
   },
   {
    "duration": 304,
    "start_time": "2023-08-26T12:25:03.791Z"
   },
   {
    "duration": 333,
    "start_time": "2023-08-26T12:25:07.756Z"
   },
   {
    "duration": 3,
    "start_time": "2023-08-26T12:25:31.926Z"
   },
   {
    "duration": 73,
    "start_time": "2023-08-26T12:25:31.931Z"
   },
   {
    "duration": 9,
    "start_time": "2023-08-26T12:25:32.007Z"
   },
   {
    "duration": 93,
    "start_time": "2023-08-26T12:25:32.018Z"
   },
   {
    "duration": 9,
    "start_time": "2023-08-26T12:25:32.113Z"
   },
   {
    "duration": 46,
    "start_time": "2023-08-26T12:25:32.123Z"
   },
   {
    "duration": 8,
    "start_time": "2023-08-26T12:25:32.171Z"
   },
   {
    "duration": 23,
    "start_time": "2023-08-26T12:25:32.181Z"
   },
   {
    "duration": 18,
    "start_time": "2023-08-26T12:25:32.205Z"
   },
   {
    "duration": 27,
    "start_time": "2023-08-26T12:25:32.225Z"
   },
   {
    "duration": 23,
    "start_time": "2023-08-26T12:25:32.254Z"
   },
   {
    "duration": 30,
    "start_time": "2023-08-26T12:25:32.279Z"
   },
   {
    "duration": 27,
    "start_time": "2023-08-26T12:25:32.311Z"
   },
   {
    "duration": 52,
    "start_time": "2023-08-26T12:25:32.340Z"
   },
   {
    "duration": 32,
    "start_time": "2023-08-26T12:25:32.394Z"
   },
   {
    "duration": 21,
    "start_time": "2023-08-26T12:25:32.428Z"
   },
   {
    "duration": 21,
    "start_time": "2023-08-26T12:25:32.452Z"
   },
   {
    "duration": 19,
    "start_time": "2023-08-26T12:25:32.475Z"
   },
   {
    "duration": 19,
    "start_time": "2023-08-26T12:25:32.496Z"
   },
   {
    "duration": 22,
    "start_time": "2023-08-26T12:25:32.517Z"
   },
   {
    "duration": 11,
    "start_time": "2023-08-26T12:25:32.541Z"
   },
   {
    "duration": 25,
    "start_time": "2023-08-26T12:25:32.554Z"
   },
   {
    "duration": 19,
    "start_time": "2023-08-26T12:25:32.581Z"
   },
   {
    "duration": 14,
    "start_time": "2023-08-26T12:25:32.602Z"
   },
   {
    "duration": 43,
    "start_time": "2023-08-26T12:25:32.617Z"
   },
   {
    "duration": 202,
    "start_time": "2023-08-26T12:25:32.662Z"
   },
   {
    "duration": 13,
    "start_time": "2023-08-26T12:25:32.866Z"
   },
   {
    "duration": 13,
    "start_time": "2023-08-26T12:25:32.882Z"
   },
   {
    "duration": 235,
    "start_time": "2023-08-26T12:25:32.899Z"
   },
   {
    "duration": 11,
    "start_time": "2023-08-26T12:25:33.136Z"
   },
   {
    "duration": 8,
    "start_time": "2023-08-26T12:25:33.161Z"
   },
   {
    "duration": 14,
    "start_time": "2023-08-26T12:25:33.171Z"
   },
   {
    "duration": 277,
    "start_time": "2023-08-26T12:25:33.187Z"
   },
   {
    "duration": 344,
    "start_time": "2023-08-26T12:25:33.466Z"
   },
   {
    "duration": 6,
    "start_time": "2023-08-26T12:25:33.812Z"
   },
   {
    "duration": 228,
    "start_time": "2023-08-26T12:25:33.820Z"
   },
   {
    "duration": 189,
    "start_time": "2023-08-26T12:25:34.050Z"
   },
   {
    "duration": 6,
    "start_time": "2023-08-26T12:25:58.293Z"
   },
   {
    "duration": 9,
    "start_time": "2023-08-26T12:25:58.417Z"
   },
   {
    "duration": 295,
    "start_time": "2023-08-26T12:25:59.170Z"
   },
   {
    "duration": 8,
    "start_time": "2023-08-26T12:25:59.744Z"
   },
   {
    "duration": 3,
    "start_time": "2023-08-26T12:26:24.620Z"
   },
   {
    "duration": 52,
    "start_time": "2023-08-26T12:26:24.625Z"
   },
   {
    "duration": 9,
    "start_time": "2023-08-26T12:26:24.679Z"
   },
   {
    "duration": 40,
    "start_time": "2023-08-26T12:26:24.690Z"
   },
   {
    "duration": 9,
    "start_time": "2023-08-26T12:26:24.733Z"
   },
   {
    "duration": 47,
    "start_time": "2023-08-26T12:26:24.744Z"
   },
   {
    "duration": 7,
    "start_time": "2023-08-26T12:26:24.793Z"
   },
   {
    "duration": 24,
    "start_time": "2023-08-26T12:26:24.802Z"
   },
   {
    "duration": 23,
    "start_time": "2023-08-26T12:26:24.828Z"
   },
   {
    "duration": 29,
    "start_time": "2023-08-26T12:26:24.853Z"
   },
   {
    "duration": 7,
    "start_time": "2023-08-26T12:26:24.985Z"
   },
   {
    "duration": 19,
    "start_time": "2023-08-26T12:26:24.993Z"
   },
   {
    "duration": 7,
    "start_time": "2023-08-26T12:26:25.013Z"
   },
   {
    "duration": 19,
    "start_time": "2023-08-26T12:26:25.021Z"
   },
   {
    "duration": 26,
    "start_time": "2023-08-26T12:26:25.042Z"
   },
   {
    "duration": 13,
    "start_time": "2023-08-26T12:26:25.070Z"
   },
   {
    "duration": 19,
    "start_time": "2023-08-26T12:26:25.085Z"
   },
   {
    "duration": 8,
    "start_time": "2023-08-26T12:26:25.105Z"
   },
   {
    "duration": 7,
    "start_time": "2023-08-26T12:26:25.114Z"
   },
   {
    "duration": 8,
    "start_time": "2023-08-26T12:26:25.123Z"
   },
   {
    "duration": 13,
    "start_time": "2023-08-26T12:26:25.132Z"
   },
   {
    "duration": 14,
    "start_time": "2023-08-26T12:26:25.147Z"
   },
   {
    "duration": 17,
    "start_time": "2023-08-26T12:26:25.162Z"
   },
   {
    "duration": 12,
    "start_time": "2023-08-26T12:26:25.181Z"
   },
   {
    "duration": 10,
    "start_time": "2023-08-26T12:26:25.194Z"
   },
   {
    "duration": 206,
    "start_time": "2023-08-26T12:26:25.206Z"
   },
   {
    "duration": 13,
    "start_time": "2023-08-26T12:26:25.414Z"
   },
   {
    "duration": 28,
    "start_time": "2023-08-26T12:26:25.429Z"
   },
   {
    "duration": 197,
    "start_time": "2023-08-26T12:26:25.461Z"
   },
   {
    "duration": 14,
    "start_time": "2023-08-26T12:26:25.660Z"
   },
   {
    "duration": 12,
    "start_time": "2023-08-26T12:26:25.676Z"
   },
   {
    "duration": 31,
    "start_time": "2023-08-26T12:26:25.690Z"
   },
   {
    "duration": 226,
    "start_time": "2023-08-26T12:26:25.723Z"
   },
   {
    "duration": 305,
    "start_time": "2023-08-26T12:26:25.951Z"
   },
   {
    "duration": 11,
    "start_time": "2023-08-26T12:26:26.258Z"
   },
   {
    "duration": 204,
    "start_time": "2023-08-26T12:26:26.271Z"
   },
   {
    "duration": 199,
    "start_time": "2023-08-26T12:26:26.477Z"
   },
   {
    "duration": 6,
    "start_time": "2023-08-26T12:26:26.680Z"
   },
   {
    "duration": 16,
    "start_time": "2023-08-26T12:26:26.687Z"
   },
   {
    "duration": 314,
    "start_time": "2023-08-26T12:26:26.705Z"
   },
   {
    "duration": 9,
    "start_time": "2023-08-26T12:26:27.020Z"
   },
   {
    "duration": 31,
    "start_time": "2023-08-26T12:26:27.031Z"
   },
   {
    "duration": 308,
    "start_time": "2023-08-26T12:26:27.065Z"
   },
   {
    "duration": 10,
    "start_time": "2023-08-26T12:26:27.375Z"
   },
   {
    "duration": 252,
    "start_time": "2023-08-26T12:26:27.387Z"
   },
   {
    "duration": 4,
    "start_time": "2023-08-26T12:28:36.459Z"
   },
   {
    "duration": 44,
    "start_time": "2023-08-26T12:28:36.478Z"
   },
   {
    "duration": 15,
    "start_time": "2023-08-26T12:28:36.525Z"
   },
   {
    "duration": 52,
    "start_time": "2023-08-26T12:28:36.542Z"
   },
   {
    "duration": 11,
    "start_time": "2023-08-26T12:28:36.597Z"
   },
   {
    "duration": 39,
    "start_time": "2023-08-26T12:28:36.611Z"
   },
   {
    "duration": 20,
    "start_time": "2023-08-26T12:28:36.652Z"
   },
   {
    "duration": 6,
    "start_time": "2023-08-26T12:28:36.674Z"
   },
   {
    "duration": 8,
    "start_time": "2023-08-26T12:28:36.682Z"
   },
   {
    "duration": 134,
    "start_time": "2023-08-26T12:28:36.693Z"
   },
   {
    "duration": 7,
    "start_time": "2023-08-26T12:28:36.829Z"
   },
   {
    "duration": 8,
    "start_time": "2023-08-26T12:28:36.838Z"
   },
   {
    "duration": 9,
    "start_time": "2023-08-26T12:28:36.857Z"
   },
   {
    "duration": 18,
    "start_time": "2023-08-26T12:28:36.868Z"
   },
   {
    "duration": 7,
    "start_time": "2023-08-26T12:28:36.889Z"
   },
   {
    "duration": 5,
    "start_time": "2023-08-26T12:28:36.897Z"
   },
   {
    "duration": 7,
    "start_time": "2023-08-26T12:28:36.904Z"
   },
   {
    "duration": 13,
    "start_time": "2023-08-26T12:28:36.913Z"
   },
   {
    "duration": 33,
    "start_time": "2023-08-26T12:28:36.928Z"
   },
   {
    "duration": 11,
    "start_time": "2023-08-26T12:28:36.964Z"
   },
   {
    "duration": 8,
    "start_time": "2023-08-26T12:28:36.976Z"
   },
   {
    "duration": 42,
    "start_time": "2023-08-26T12:28:36.986Z"
   },
   {
    "duration": 12,
    "start_time": "2023-08-26T12:28:37.030Z"
   },
   {
    "duration": 20,
    "start_time": "2023-08-26T12:28:37.044Z"
   },
   {
    "duration": 16,
    "start_time": "2023-08-26T12:28:37.066Z"
   },
   {
    "duration": 223,
    "start_time": "2023-08-26T12:28:37.084Z"
   },
   {
    "duration": 14,
    "start_time": "2023-08-26T12:28:37.309Z"
   },
   {
    "duration": 31,
    "start_time": "2023-08-26T12:28:37.325Z"
   },
   {
    "duration": 209,
    "start_time": "2023-08-26T12:28:37.359Z"
   },
   {
    "duration": 14,
    "start_time": "2023-08-26T12:28:37.570Z"
   },
   {
    "duration": 7,
    "start_time": "2023-08-26T12:28:37.585Z"
   },
   {
    "duration": 12,
    "start_time": "2023-08-26T12:28:37.594Z"
   },
   {
    "duration": 254,
    "start_time": "2023-08-26T12:28:37.608Z"
   },
   {
    "duration": 306,
    "start_time": "2023-08-26T12:28:37.864Z"
   },
   {
    "duration": 7,
    "start_time": "2023-08-26T12:28:38.172Z"
   },
   {
    "duration": 232,
    "start_time": "2023-08-26T12:28:38.181Z"
   },
   {
    "duration": 198,
    "start_time": "2023-08-26T12:28:38.415Z"
   },
   {
    "duration": 9,
    "start_time": "2023-08-26T12:28:38.615Z"
   },
   {
    "duration": 16,
    "start_time": "2023-08-26T12:28:38.626Z"
   },
   {
    "duration": 383,
    "start_time": "2023-08-26T12:28:38.644Z"
   },
   {
    "duration": 11,
    "start_time": "2023-08-26T12:28:39.029Z"
   },
   {
    "duration": 10,
    "start_time": "2023-08-26T12:28:39.057Z"
   },
   {
    "duration": 343,
    "start_time": "2023-08-26T12:28:39.069Z"
   },
   {
    "duration": 10,
    "start_time": "2023-08-26T12:28:39.413Z"
   },
   {
    "duration": 256,
    "start_time": "2023-08-26T12:28:39.424Z"
   },
   {
    "duration": 24,
    "start_time": "2023-08-26T12:28:39.682Z"
   },
   {
    "duration": 12,
    "start_time": "2023-08-26T12:28:39.708Z"
   },
   {
    "duration": 38,
    "start_time": "2023-08-26T12:28:39.721Z"
   },
   {
    "duration": 5,
    "start_time": "2023-08-26T12:28:39.762Z"
   },
   {
    "duration": 16,
    "start_time": "2023-08-26T12:28:39.769Z"
   },
   {
    "duration": 10,
    "start_time": "2023-08-26T12:28:39.787Z"
   },
   {
    "duration": 18,
    "start_time": "2023-08-26T12:28:39.799Z"
   },
   {
    "duration": 409,
    "start_time": "2023-08-26T12:28:39.819Z"
   },
   {
    "duration": 247,
    "start_time": "2023-08-26T12:28:40.230Z"
   },
   {
    "duration": 18,
    "start_time": "2023-08-26T12:28:40.479Z"
   },
   {
    "duration": 296,
    "start_time": "2023-08-26T12:28:40.498Z"
   },
   {
    "duration": 240,
    "start_time": "2023-08-26T12:28:40.796Z"
   },
   {
    "duration": 228,
    "start_time": "2023-08-26T12:28:52.586Z"
   },
   {
    "duration": 376,
    "start_time": "2023-08-26T12:35:16.944Z"
   },
   {
    "duration": 577,
    "start_time": "2023-08-26T12:35:42.714Z"
   },
   {
    "duration": 475,
    "start_time": "2023-08-26T12:36:51.836Z"
   },
   {
    "duration": 304,
    "start_time": "2023-08-26T12:38:29.455Z"
   },
   {
    "duration": 287,
    "start_time": "2023-08-26T12:38:53.910Z"
   },
   {
    "duration": 356,
    "start_time": "2023-08-26T12:39:19.337Z"
   },
   {
    "duration": 362,
    "start_time": "2023-08-26T12:39:38.360Z"
   },
   {
    "duration": 445,
    "start_time": "2023-08-26T12:39:53.076Z"
   },
   {
    "duration": 342,
    "start_time": "2023-08-26T13:28:34.204Z"
   },
   {
    "duration": 395,
    "start_time": "2023-08-26T13:29:03.106Z"
   },
   {
    "duration": 335,
    "start_time": "2023-08-26T13:29:46.810Z"
   },
   {
    "duration": 293,
    "start_time": "2023-08-26T13:30:50.442Z"
   },
   {
    "duration": 349,
    "start_time": "2023-08-26T13:31:38.225Z"
   },
   {
    "duration": 5,
    "start_time": "2023-08-26T13:32:19.058Z"
   },
   {
    "duration": 51,
    "start_time": "2023-08-26T13:32:19.066Z"
   },
   {
    "duration": 13,
    "start_time": "2023-08-26T13:32:19.119Z"
   },
   {
    "duration": 47,
    "start_time": "2023-08-26T13:32:19.135Z"
   },
   {
    "duration": 13,
    "start_time": "2023-08-26T13:32:19.184Z"
   },
   {
    "duration": 35,
    "start_time": "2023-08-26T13:32:19.199Z"
   },
   {
    "duration": 25,
    "start_time": "2023-08-26T13:32:19.236Z"
   },
   {
    "duration": 28,
    "start_time": "2023-08-26T13:32:19.264Z"
   },
   {
    "duration": 16,
    "start_time": "2023-08-26T13:32:19.296Z"
   },
   {
    "duration": 32,
    "start_time": "2023-08-26T13:32:19.315Z"
   },
   {
    "duration": 20,
    "start_time": "2023-08-26T13:32:19.349Z"
   },
   {
    "duration": 21,
    "start_time": "2023-08-26T13:32:19.372Z"
   },
   {
    "duration": 18,
    "start_time": "2023-08-26T13:32:19.396Z"
   },
   {
    "duration": 47,
    "start_time": "2023-08-26T13:32:19.417Z"
   },
   {
    "duration": 34,
    "start_time": "2023-08-26T13:32:19.467Z"
   },
   {
    "duration": 22,
    "start_time": "2023-08-26T13:32:19.504Z"
   },
   {
    "duration": 10,
    "start_time": "2023-08-26T13:32:19.528Z"
   },
   {
    "duration": 33,
    "start_time": "2023-08-26T13:32:19.540Z"
   },
   {
    "duration": 19,
    "start_time": "2023-08-26T13:32:19.575Z"
   },
   {
    "duration": 16,
    "start_time": "2023-08-26T13:32:19.596Z"
   },
   {
    "duration": 12,
    "start_time": "2023-08-26T13:32:19.614Z"
   },
   {
    "duration": 12,
    "start_time": "2023-08-26T13:32:19.628Z"
   },
   {
    "duration": 27,
    "start_time": "2023-08-26T13:32:19.642Z"
   },
   {
    "duration": 9,
    "start_time": "2023-08-26T13:32:19.674Z"
   },
   {
    "duration": 28,
    "start_time": "2023-08-26T13:32:19.685Z"
   },
   {
    "duration": 271,
    "start_time": "2023-08-26T13:32:19.715Z"
   },
   {
    "duration": 14,
    "start_time": "2023-08-26T13:32:19.988Z"
   },
   {
    "duration": 11,
    "start_time": "2023-08-26T13:32:20.004Z"
   },
   {
    "duration": 216,
    "start_time": "2023-08-26T13:32:20.017Z"
   },
   {
    "duration": 19,
    "start_time": "2023-08-26T13:32:20.247Z"
   },
   {
    "duration": 40,
    "start_time": "2023-08-26T13:32:20.268Z"
   },
   {
    "duration": 22,
    "start_time": "2023-08-26T13:32:20.310Z"
   },
   {
    "duration": 358,
    "start_time": "2023-08-26T13:32:20.334Z"
   },
   {
    "duration": 305,
    "start_time": "2023-08-26T13:32:20.694Z"
   },
   {
    "duration": 6,
    "start_time": "2023-08-26T13:32:21.001Z"
   },
   {
    "duration": 210,
    "start_time": "2023-08-26T13:32:21.008Z"
   },
   {
    "duration": 182,
    "start_time": "2023-08-26T13:32:21.220Z"
   },
   {
    "duration": 6,
    "start_time": "2023-08-26T13:32:21.404Z"
   },
   {
    "duration": 21,
    "start_time": "2023-08-26T13:32:21.412Z"
   },
   {
    "duration": 339,
    "start_time": "2023-08-26T13:32:21.435Z"
   },
   {
    "duration": 9,
    "start_time": "2023-08-26T13:32:21.776Z"
   },
   {
    "duration": 16,
    "start_time": "2023-08-26T13:32:21.786Z"
   },
   {
    "duration": 292,
    "start_time": "2023-08-26T13:32:21.804Z"
   },
   {
    "duration": 10,
    "start_time": "2023-08-26T13:32:22.098Z"
   },
   {
    "duration": 265,
    "start_time": "2023-08-26T13:32:22.110Z"
   },
   {
    "duration": 26,
    "start_time": "2023-08-26T13:32:22.377Z"
   },
   {
    "duration": 45,
    "start_time": "2023-08-26T13:32:22.405Z"
   },
   {
    "duration": 54,
    "start_time": "2023-08-26T13:32:22.452Z"
   },
   {
    "duration": 40,
    "start_time": "2023-08-26T13:32:22.508Z"
   },
   {
    "duration": 32,
    "start_time": "2023-08-26T13:32:22.550Z"
   },
   {
    "duration": 29,
    "start_time": "2023-08-26T13:32:22.584Z"
   },
   {
    "duration": 32,
    "start_time": "2023-08-26T13:32:22.614Z"
   },
   {
    "duration": 248,
    "start_time": "2023-08-26T13:32:22.647Z"
   },
   {
    "duration": 248,
    "start_time": "2023-08-26T13:32:22.897Z"
   },
   {
    "duration": 16,
    "start_time": "2023-08-26T13:32:23.146Z"
   },
   {
    "duration": 398,
    "start_time": "2023-08-26T13:32:23.164Z"
   },
   {
    "duration": 227,
    "start_time": "2023-08-26T13:32:23.563Z"
   },
   {
    "duration": 388,
    "start_time": "2023-08-26T13:32:23.791Z"
   },
   {
    "duration": 324,
    "start_time": "2023-08-26T13:32:24.181Z"
   },
   {
    "duration": 41,
    "start_time": "2023-08-26T13:32:28.421Z"
   },
   {
    "duration": 31,
    "start_time": "2023-08-26T13:33:14.519Z"
   },
   {
    "duration": 61,
    "start_time": "2023-08-26T13:33:53.734Z"
   },
   {
    "duration": 38,
    "start_time": "2023-08-26T13:34:15.190Z"
   },
   {
    "duration": 33,
    "start_time": "2023-08-26T13:34:22.716Z"
   },
   {
    "duration": 38,
    "start_time": "2023-08-26T13:34:54.834Z"
   },
   {
    "duration": 4,
    "start_time": "2023-08-26T13:35:27.664Z"
   },
   {
    "duration": 365,
    "start_time": "2023-08-26T13:35:41.276Z"
   },
   {
    "duration": 31,
    "start_time": "2023-08-26T13:37:07.762Z"
   },
   {
    "duration": 41,
    "start_time": "2023-08-26T13:37:38.587Z"
   },
   {
    "duration": 4,
    "start_time": "2023-08-26T13:37:56.055Z"
   },
   {
    "duration": 390,
    "start_time": "2023-08-26T13:38:00.579Z"
   },
   {
    "duration": 433,
    "start_time": "2023-08-26T13:39:34.189Z"
   },
   {
    "duration": 241,
    "start_time": "2023-08-26T13:40:05.323Z"
   },
   {
    "duration": 332,
    "start_time": "2023-08-26T13:41:38.612Z"
   },
   {
    "duration": 392,
    "start_time": "2023-08-26T13:47:24.546Z"
   },
   {
    "duration": 1476,
    "start_time": "2023-08-26T18:04:23.884Z"
   },
   {
    "duration": 104,
    "start_time": "2023-08-26T18:04:25.365Z"
   },
   {
    "duration": 15,
    "start_time": "2023-08-26T18:04:25.471Z"
   },
   {
    "duration": 399,
    "start_time": "2023-08-26T18:04:25.488Z"
   },
   {
    "duration": 9,
    "start_time": "2023-08-26T18:04:25.889Z"
   },
   {
    "duration": 85,
    "start_time": "2023-08-26T18:04:25.900Z"
   },
   {
    "duration": 6,
    "start_time": "2023-08-26T18:04:25.988Z"
   },
   {
    "duration": 13,
    "start_time": "2023-08-26T18:04:25.996Z"
   },
   {
    "duration": 8,
    "start_time": "2023-08-26T18:04:26.012Z"
   },
   {
    "duration": 10,
    "start_time": "2023-08-26T18:04:26.022Z"
   },
   {
    "duration": 9,
    "start_time": "2023-08-26T18:04:26.034Z"
   },
   {
    "duration": 5,
    "start_time": "2023-08-26T18:04:26.045Z"
   },
   {
    "duration": 23,
    "start_time": "2023-08-26T18:04:26.052Z"
   },
   {
    "duration": 15,
    "start_time": "2023-08-26T18:04:26.086Z"
   },
   {
    "duration": 8,
    "start_time": "2023-08-26T18:04:26.102Z"
   },
   {
    "duration": 7,
    "start_time": "2023-08-26T18:04:26.112Z"
   },
   {
    "duration": 14,
    "start_time": "2023-08-26T18:04:26.120Z"
   },
   {
    "duration": 10,
    "start_time": "2023-08-26T18:04:26.136Z"
   },
   {
    "duration": 29,
    "start_time": "2023-08-26T18:04:26.148Z"
   },
   {
    "duration": 8,
    "start_time": "2023-08-26T18:04:26.179Z"
   },
   {
    "duration": 11,
    "start_time": "2023-08-26T18:04:26.189Z"
   },
   {
    "duration": 6,
    "start_time": "2023-08-26T18:04:26.201Z"
   },
   {
    "duration": 12,
    "start_time": "2023-08-26T18:04:26.209Z"
   },
   {
    "duration": 6,
    "start_time": "2023-08-26T18:04:26.223Z"
   },
   {
    "duration": 7,
    "start_time": "2023-08-26T18:04:26.231Z"
   },
   {
    "duration": 224,
    "start_time": "2023-08-26T18:04:26.240Z"
   },
   {
    "duration": 22,
    "start_time": "2023-08-26T18:04:26.472Z"
   },
   {
    "duration": 9,
    "start_time": "2023-08-26T18:04:26.497Z"
   },
   {
    "duration": 202,
    "start_time": "2023-08-26T18:04:26.508Z"
   },
   {
    "duration": 11,
    "start_time": "2023-08-26T18:04:26.712Z"
   },
   {
    "duration": 5,
    "start_time": "2023-08-26T18:04:26.724Z"
   },
   {
    "duration": 8,
    "start_time": "2023-08-26T18:04:26.731Z"
   },
   {
    "duration": 241,
    "start_time": "2023-08-26T18:04:26.759Z"
   },
   {
    "duration": 320,
    "start_time": "2023-08-26T18:04:27.002Z"
   },
   {
    "duration": 13,
    "start_time": "2023-08-26T18:04:27.324Z"
   },
   {
    "duration": 234,
    "start_time": "2023-08-26T18:04:27.339Z"
   },
   {
    "duration": 181,
    "start_time": "2023-08-26T18:04:27.575Z"
   },
   {
    "duration": 17,
    "start_time": "2023-08-26T18:04:27.758Z"
   },
   {
    "duration": 20,
    "start_time": "2023-08-26T18:04:27.777Z"
   },
   {
    "duration": 315,
    "start_time": "2023-08-26T18:04:27.799Z"
   },
   {
    "duration": 8,
    "start_time": "2023-08-26T18:04:28.119Z"
   },
   {
    "duration": 14,
    "start_time": "2023-08-26T18:04:28.129Z"
   },
   {
    "duration": 273,
    "start_time": "2023-08-26T18:04:28.158Z"
   },
   {
    "duration": 10,
    "start_time": "2023-08-26T18:04:28.433Z"
   },
   {
    "duration": 317,
    "start_time": "2023-08-26T18:04:28.459Z"
   },
   {
    "duration": 29,
    "start_time": "2023-08-26T18:04:28.778Z"
   },
   {
    "duration": 34,
    "start_time": "2023-08-26T18:04:28.809Z"
   },
   {
    "duration": 37,
    "start_time": "2023-08-26T18:04:28.845Z"
   },
   {
    "duration": 6,
    "start_time": "2023-08-26T18:04:28.884Z"
   },
   {
    "duration": 21,
    "start_time": "2023-08-26T18:04:28.892Z"
   },
   {
    "duration": 8,
    "start_time": "2023-08-26T18:04:28.914Z"
   },
   {
    "duration": 25,
    "start_time": "2023-08-26T18:04:28.924Z"
   },
   {
    "duration": 289,
    "start_time": "2023-08-26T18:04:28.951Z"
   },
   {
    "duration": 298,
    "start_time": "2023-08-26T18:04:29.242Z"
   },
   {
    "duration": 38,
    "start_time": "2023-08-26T18:04:29.541Z"
   },
   {
    "duration": 264,
    "start_time": "2023-08-26T18:04:29.587Z"
   },
   {
    "duration": 244,
    "start_time": "2023-08-26T18:04:29.853Z"
   },
   {
    "duration": 373,
    "start_time": "2023-08-26T18:04:30.098Z"
   },
   {
    "duration": 315,
    "start_time": "2023-08-26T18:04:30.476Z"
   },
   {
    "duration": 34,
    "start_time": "2023-08-26T18:04:30.793Z"
   },
   {
    "duration": 49,
    "start_time": "2023-08-26T18:04:30.829Z"
   },
   {
    "duration": 552,
    "start_time": "2023-08-26T18:04:30.880Z"
   },
   {
    "duration": 577,
    "start_time": "2023-08-26T18:04:31.434Z"
   },
   {
    "duration": 6,
    "start_time": "2023-08-26T18:04:32.013Z"
   },
   {
    "duration": 19,
    "start_time": "2023-08-26T18:04:32.020Z"
   },
   {
    "duration": 47,
    "start_time": "2023-08-26T18:04:32.041Z"
   },
   {
    "duration": 24,
    "start_time": "2023-08-26T18:04:32.090Z"
   },
   {
    "duration": 559,
    "start_time": "2023-08-26T18:04:32.116Z"
   },
   {
    "duration": 270,
    "start_time": "2023-08-26T18:04:32.677Z"
   },
   {
    "duration": 140,
    "start_time": "2023-08-26T18:06:40.323Z"
   },
   {
    "duration": 1230,
    "start_time": "2023-08-26T18:06:57.398Z"
   },
   {
    "duration": 47,
    "start_time": "2023-08-26T18:06:58.631Z"
   },
   {
    "duration": 11,
    "start_time": "2023-08-26T18:06:58.683Z"
   },
   {
    "duration": 48,
    "start_time": "2023-08-26T18:06:58.696Z"
   },
   {
    "duration": 10,
    "start_time": "2023-08-26T18:06:58.746Z"
   },
   {
    "duration": 50,
    "start_time": "2023-08-26T18:06:58.758Z"
   },
   {
    "duration": 7,
    "start_time": "2023-08-26T18:06:58.809Z"
   },
   {
    "duration": 33,
    "start_time": "2023-08-26T18:06:58.818Z"
   },
   {
    "duration": 26,
    "start_time": "2023-08-26T18:06:58.853Z"
   },
   {
    "duration": 5,
    "start_time": "2023-08-26T18:06:58.881Z"
   },
   {
    "duration": 14,
    "start_time": "2023-08-26T18:06:58.888Z"
   },
   {
    "duration": 37,
    "start_time": "2023-08-26T18:06:58.904Z"
   },
   {
    "duration": 16,
    "start_time": "2023-08-26T18:06:58.942Z"
   },
   {
    "duration": 18,
    "start_time": "2023-08-26T18:06:58.964Z"
   },
   {
    "duration": 8,
    "start_time": "2023-08-26T18:06:58.984Z"
   },
   {
    "duration": 10,
    "start_time": "2023-08-26T18:06:58.994Z"
   },
   {
    "duration": 27,
    "start_time": "2023-08-26T18:06:59.007Z"
   },
   {
    "duration": 37,
    "start_time": "2023-08-26T18:06:59.035Z"
   },
   {
    "duration": 26,
    "start_time": "2023-08-26T18:06:59.074Z"
   },
   {
    "duration": 18,
    "start_time": "2023-08-26T18:06:59.101Z"
   },
   {
    "duration": 10,
    "start_time": "2023-08-26T18:06:59.121Z"
   },
   {
    "duration": 7,
    "start_time": "2023-08-26T18:06:59.133Z"
   },
   {
    "duration": 11,
    "start_time": "2023-08-26T18:06:59.142Z"
   },
   {
    "duration": 30,
    "start_time": "2023-08-26T18:06:59.154Z"
   },
   {
    "duration": 9,
    "start_time": "2023-08-26T18:06:59.186Z"
   },
   {
    "duration": 216,
    "start_time": "2023-08-26T18:06:59.197Z"
   },
   {
    "duration": 12,
    "start_time": "2023-08-26T18:06:59.415Z"
   },
   {
    "duration": 10,
    "start_time": "2023-08-26T18:06:59.428Z"
   },
   {
    "duration": 211,
    "start_time": "2023-08-26T18:06:59.440Z"
   },
   {
    "duration": 25,
    "start_time": "2023-08-26T18:06:59.653Z"
   },
   {
    "duration": 8,
    "start_time": "2023-08-26T18:06:59.680Z"
   },
   {
    "duration": 16,
    "start_time": "2023-08-26T18:06:59.689Z"
   },
   {
    "duration": 237,
    "start_time": "2023-08-26T18:06:59.707Z"
   },
   {
    "duration": 342,
    "start_time": "2023-08-26T18:06:59.946Z"
   },
   {
    "duration": 6,
    "start_time": "2023-08-26T18:07:00.290Z"
   },
   {
    "duration": 285,
    "start_time": "2023-08-26T18:07:00.297Z"
   },
   {
    "duration": 201,
    "start_time": "2023-08-26T18:07:00.585Z"
   },
   {
    "duration": 7,
    "start_time": "2023-08-26T18:07:00.787Z"
   },
   {
    "duration": 60,
    "start_time": "2023-08-26T18:07:00.795Z"
   },
   {
    "duration": 338,
    "start_time": "2023-08-26T18:07:00.857Z"
   },
   {
    "duration": 7,
    "start_time": "2023-08-26T18:07:01.200Z"
   },
   {
    "duration": 37,
    "start_time": "2023-08-26T18:07:01.209Z"
   },
   {
    "duration": 377,
    "start_time": "2023-08-26T18:07:01.248Z"
   },
   {
    "duration": 10,
    "start_time": "2023-08-26T18:07:01.627Z"
   },
   {
    "duration": 364,
    "start_time": "2023-08-26T18:07:01.638Z"
   },
   {
    "duration": 26,
    "start_time": "2023-08-26T18:07:02.004Z"
   },
   {
    "duration": 43,
    "start_time": "2023-08-26T18:07:02.032Z"
   },
   {
    "duration": 82,
    "start_time": "2023-08-26T18:07:02.076Z"
   },
   {
    "duration": 36,
    "start_time": "2023-08-26T18:07:02.160Z"
   },
   {
    "duration": 20,
    "start_time": "2023-08-26T18:07:02.198Z"
   },
   {
    "duration": 26,
    "start_time": "2023-08-26T18:07:02.220Z"
   },
   {
    "duration": 42,
    "start_time": "2023-08-26T18:07:02.248Z"
   },
   {
    "duration": 289,
    "start_time": "2023-08-26T18:07:02.292Z"
   },
   {
    "duration": 232,
    "start_time": "2023-08-26T18:07:02.585Z"
   },
   {
    "duration": 17,
    "start_time": "2023-08-26T18:07:02.819Z"
   },
   {
    "duration": 290,
    "start_time": "2023-08-26T18:07:02.838Z"
   },
   {
    "duration": 276,
    "start_time": "2023-08-26T18:07:03.131Z"
   },
   {
    "duration": 396,
    "start_time": "2023-08-26T18:07:03.409Z"
   },
   {
    "duration": 364,
    "start_time": "2023-08-26T18:07:03.806Z"
   },
   {
    "duration": 58,
    "start_time": "2023-08-26T18:07:04.173Z"
   },
   {
    "duration": 6,
    "start_time": "2023-08-26T18:07:04.233Z"
   },
   {
    "duration": 579,
    "start_time": "2023-08-26T18:07:04.241Z"
   },
   {
    "duration": 515,
    "start_time": "2023-08-26T18:07:04.822Z"
   },
   {
    "duration": 9,
    "start_time": "2023-08-26T18:07:05.339Z"
   },
   {
    "duration": 14,
    "start_time": "2023-08-26T18:07:05.363Z"
   },
   {
    "duration": 24,
    "start_time": "2023-08-26T18:07:05.382Z"
   },
   {
    "duration": 26,
    "start_time": "2023-08-26T18:07:05.408Z"
   },
   {
    "duration": 544,
    "start_time": "2023-08-26T18:07:05.436Z"
   },
   {
    "duration": 329,
    "start_time": "2023-08-26T18:07:05.994Z"
   },
   {
    "duration": 1369,
    "start_time": "2023-08-27T13:32:55.381Z"
   },
   {
    "duration": 85,
    "start_time": "2023-08-27T13:32:56.752Z"
   },
   {
    "duration": 11,
    "start_time": "2023-08-27T13:32:56.838Z"
   },
   {
    "duration": 77,
    "start_time": "2023-08-27T13:32:56.851Z"
   },
   {
    "duration": 9,
    "start_time": "2023-08-27T13:32:56.929Z"
   },
   {
    "duration": 60,
    "start_time": "2023-08-27T13:32:56.939Z"
   },
   {
    "duration": 6,
    "start_time": "2023-08-27T13:32:57.001Z"
   },
   {
    "duration": 5,
    "start_time": "2023-08-27T13:32:57.008Z"
   },
   {
    "duration": 6,
    "start_time": "2023-08-27T13:32:57.014Z"
   },
   {
    "duration": 8,
    "start_time": "2023-08-27T13:32:57.022Z"
   },
   {
    "duration": 8,
    "start_time": "2023-08-27T13:32:57.031Z"
   },
   {
    "duration": 5,
    "start_time": "2023-08-27T13:32:57.040Z"
   },
   {
    "duration": 7,
    "start_time": "2023-08-27T13:32:57.046Z"
   },
   {
    "duration": 17,
    "start_time": "2023-08-27T13:32:57.054Z"
   },
   {
    "duration": 18,
    "start_time": "2023-08-27T13:32:57.073Z"
   },
   {
    "duration": 5,
    "start_time": "2023-08-27T13:32:57.093Z"
   },
   {
    "duration": 28,
    "start_time": "2023-08-27T13:32:57.099Z"
   },
   {
    "duration": 11,
    "start_time": "2023-08-27T13:32:57.128Z"
   },
   {
    "duration": 6,
    "start_time": "2023-08-27T13:32:57.141Z"
   },
   {
    "duration": 11,
    "start_time": "2023-08-27T13:32:57.148Z"
   },
   {
    "duration": 22,
    "start_time": "2023-08-27T13:32:57.160Z"
   },
   {
    "duration": 7,
    "start_time": "2023-08-27T13:32:57.183Z"
   },
   {
    "duration": 10,
    "start_time": "2023-08-27T13:32:57.192Z"
   },
   {
    "duration": 6,
    "start_time": "2023-08-27T13:32:57.203Z"
   },
   {
    "duration": 15,
    "start_time": "2023-08-27T13:32:57.210Z"
   },
   {
    "duration": 182,
    "start_time": "2023-08-27T13:32:57.226Z"
   },
   {
    "duration": 19,
    "start_time": "2023-08-27T13:32:57.410Z"
   },
   {
    "duration": 15,
    "start_time": "2023-08-27T13:32:57.432Z"
   },
   {
    "duration": 167,
    "start_time": "2023-08-27T13:32:57.448Z"
   },
   {
    "duration": 14,
    "start_time": "2023-08-27T13:32:57.616Z"
   },
   {
    "duration": 23,
    "start_time": "2023-08-27T13:32:57.631Z"
   },
   {
    "duration": 10,
    "start_time": "2023-08-27T13:32:57.656Z"
   },
   {
    "duration": 190,
    "start_time": "2023-08-27T13:32:57.667Z"
   },
   {
    "duration": 266,
    "start_time": "2023-08-27T13:32:57.859Z"
   },
   {
    "duration": 5,
    "start_time": "2023-08-27T13:32:58.126Z"
   },
   {
    "duration": 178,
    "start_time": "2023-08-27T13:32:58.133Z"
   },
   {
    "duration": 154,
    "start_time": "2023-08-27T13:32:58.312Z"
   },
   {
    "duration": 5,
    "start_time": "2023-08-27T13:32:58.467Z"
   },
   {
    "duration": 11,
    "start_time": "2023-08-27T13:32:58.474Z"
   },
   {
    "duration": 265,
    "start_time": "2023-08-27T13:32:58.486Z"
   },
   {
    "duration": 6,
    "start_time": "2023-08-27T13:32:58.752Z"
   },
   {
    "duration": 9,
    "start_time": "2023-08-27T13:32:58.760Z"
   },
   {
    "duration": 244,
    "start_time": "2023-08-27T13:32:58.771Z"
   },
   {
    "duration": 14,
    "start_time": "2023-08-27T13:32:59.017Z"
   },
   {
    "duration": 281,
    "start_time": "2023-08-27T13:32:59.033Z"
   },
   {
    "duration": 26,
    "start_time": "2023-08-27T13:32:59.317Z"
   },
   {
    "duration": 9,
    "start_time": "2023-08-27T13:32:59.345Z"
   },
   {
    "duration": 50,
    "start_time": "2023-08-27T13:32:59.356Z"
   },
   {
    "duration": 9,
    "start_time": "2023-08-27T13:32:59.408Z"
   },
   {
    "duration": 21,
    "start_time": "2023-08-27T13:32:59.419Z"
   },
   {
    "duration": 8,
    "start_time": "2023-08-27T13:32:59.442Z"
   },
   {
    "duration": 18,
    "start_time": "2023-08-27T13:32:59.452Z"
   },
   {
    "duration": 242,
    "start_time": "2023-08-27T13:32:59.472Z"
   },
   {
    "duration": 201,
    "start_time": "2023-08-27T13:32:59.716Z"
   },
   {
    "duration": 18,
    "start_time": "2023-08-27T13:32:59.918Z"
   },
   {
    "duration": 247,
    "start_time": "2023-08-27T13:32:59.937Z"
   },
   {
    "duration": 238,
    "start_time": "2023-08-27T13:33:00.186Z"
   },
   {
    "duration": 323,
    "start_time": "2023-08-27T13:33:00.426Z"
   },
   {
    "duration": 268,
    "start_time": "2023-08-27T13:33:00.751Z"
   },
   {
    "duration": 31,
    "start_time": "2023-08-27T13:33:01.023Z"
   },
   {
    "duration": 14,
    "start_time": "2023-08-27T13:33:01.056Z"
   },
   {
    "duration": 415,
    "start_time": "2023-08-27T13:33:01.072Z"
   },
   {
    "duration": 549,
    "start_time": "2023-08-27T13:33:01.488Z"
   },
   {
    "duration": 5,
    "start_time": "2023-08-27T13:33:02.039Z"
   },
   {
    "duration": 29,
    "start_time": "2023-08-27T13:33:02.046Z"
   },
   {
    "duration": 35,
    "start_time": "2023-08-27T13:33:02.077Z"
   },
   {
    "duration": 5,
    "start_time": "2023-08-27T13:33:02.114Z"
   },
   {
    "duration": 455,
    "start_time": "2023-08-27T13:33:02.121Z"
   },
   {
    "duration": 235,
    "start_time": "2023-08-27T13:33:02.578Z"
   }
  ],
  "kernelspec": {
   "display_name": "Python 3 (ipykernel)",
   "language": "python",
   "name": "python3"
  },
  "language_info": {
   "codemirror_mode": {
    "name": "ipython",
    "version": 3
   },
   "file_extension": ".py",
   "mimetype": "text/x-python",
   "name": "python",
   "nbconvert_exporter": "python",
   "pygments_lexer": "ipython3",
   "version": "3.10.9"
  },
  "toc": {
   "base_numbering": 1,
   "nav_menu": {},
   "number_sections": true,
   "sideBar": true,
   "skip_h1_title": true,
   "title_cell": "Table of Contents",
   "title_sidebar": "Contents",
   "toc_cell": false,
   "toc_position": {},
   "toc_section_display": true,
   "toc_window_display": false
  },
  "varInspector": {
   "cols": {
    "lenName": 16,
    "lenType": 16,
    "lenVar": 40
   },
   "kernels_config": {
    "python": {
     "delete_cmd_postfix": "",
     "delete_cmd_prefix": "del ",
     "library": "var_list.py",
     "varRefreshCmd": "print(var_dic_list())"
    },
    "r": {
     "delete_cmd_postfix": ") ",
     "delete_cmd_prefix": "rm(",
     "library": "var_list.r",
     "varRefreshCmd": "cat(var_dic_list()) "
    }
   },
   "types_to_exclude": [
    "module",
    "function",
    "builtin_function_or_method",
    "instance",
    "_Feature"
   ],
   "window_display": false
  }
 },
 "nbformat": 4,
 "nbformat_minor": 5
}
